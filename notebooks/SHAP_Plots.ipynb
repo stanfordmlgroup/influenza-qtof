{
 "cells": [
  {
   "cell_type": "markdown",
   "metadata": {},
   "source": [
    "# Generate SHAP Plots "
   ]
  },
  {
   "cell_type": "code",
   "execution_count": 1,
   "metadata": {},
   "outputs": [],
   "source": [
    "%load_ext autoreload\n",
    "%autoreload 2"
   ]
  },
  {
   "cell_type": "code",
   "execution_count": 2,
   "metadata": {},
   "outputs": [],
   "source": [
    "import sys\n",
    "import os\n",
    "import numpy as np\n",
    "import pandas as pd\n",
    "import matplotlib.pyplot as plt\n",
    "%matplotlib inline\n",
    "sys.path.append('../src')"
   ]
  },
  {
   "cell_type": "code",
   "execution_count": 3,
   "metadata": {},
   "outputs": [],
   "source": [
    "import utils\n",
    "import model_selection\n",
    "import models\n",
    "import plotting \n",
    "import delong\n",
    "import shap_plots\n",
    "from sklearn.preprocessing import StandardScaler\n",
    "from sklearn.preprocessing import MinMaxScaler\n",
    "from sklearn.preprocessing import RobustScaler\n",
    "from sklearn.preprocessing import PowerTransformer"
   ]
  },
  {
   "cell_type": "code",
   "execution_count": 12,
   "metadata": {},
   "outputs": [],
   "source": [
    "# read data\n",
    "all_data = utils.load_unformatted_data('../data/retrospective_influenza_dataset/20191105 resp data no filter revised 1 2020.csv', '../data/retrospective_influenza_dataset/Sample_key_csv revised 1 2020.csv')\n",
    "all_data = utils.map_label_column(all_data)\n",
    "all_data, flu_mapping, subtype_mapping = utils.encode_labels(all_data)\n",
    "\n",
    "# drop zero cols\n",
    "all_data = all_data.loc[:, all_data.any()]\n",
    "col_names = all_data.columns[:-2]\n",
    "\n",
    "# train test split\n",
    "train, test = utils.train_test_split(all_data, test_size=50)"
   ]
  },
  {
   "cell_type": "code",
   "execution_count": 13,
   "metadata": {},
   "outputs": [
    {
     "data": {
      "text/plain": [
       "0    26\n",
       "1    24\n",
       "Name: flu, dtype: int64"
      ]
     },
     "execution_count": 13,
     "metadata": {},
     "output_type": "execute_result"
    }
   ],
   "source": [
    "test.flu.value_counts()"
   ]
  },
  {
   "cell_type": "code",
   "execution_count": 14,
   "metadata": {},
   "outputs": [
    {
     "data": {
      "text/plain": [
       "{'Flu': 1, 'negative': 0}"
      ]
     },
     "execution_count": 14,
     "metadata": {},
     "output_type": "execute_result"
    }
   ],
   "source": [
    "flu_mapping"
   ]
  },
  {
   "cell_type": "code",
   "execution_count": 15,
   "metadata": {},
   "outputs": [],
   "source": [
    "# split into data\n",
    "X_train, y_train = utils.df_to_array(train)\n",
    "X_test, y_test = utils.df_to_array(test)"
   ]
  },
  {
   "cell_type": "code",
   "execution_count": 16,
   "metadata": {},
   "outputs": [
    {
     "name": "stderr",
     "output_type": "stream",
     "text": [
      "n_quantiles (1000) is greater than the total number of samples (186). n_quantiles is set to n_samples.\n"
     ]
    }
   ],
   "source": [
    "#processor = utils.CustomPreprocessor(transforms = ['clip', 'noise', 'power'])\n",
    "#processor = utils.CustomPreprocessor(transforms = ['standard'])\n",
    "processor = utils.CustomPreprocessor(transforms = ['quantile'])\n",
    "processor.fit(X_train)\n",
    "norm_X_train = processor.transform(X_train)\n",
    "norm_X_test = processor.transform(X_test)"
   ]
  },
  {
   "cell_type": "markdown",
   "metadata": {},
   "source": [
    "# Load Trained Models"
   ]
  },
  {
   "cell_type": "code",
   "execution_count": 17,
   "metadata": {},
   "outputs": [],
   "source": [
    "import pickle\n",
    "with open('model_output_v3.pkl', 'rb') as f:\n",
    "    output = pickle.load(f)"
   ]
  },
  {
   "cell_type": "code",
   "execution_count": 18,
   "metadata": {},
   "outputs": [
    {
     "name": "stderr",
     "output_type": "stream",
     "text": [
      "Setting feature_perturbation = \"tree_path_dependent\" because no background data was given.\n",
      "LightGBM binary classifier with TreeExplainer shap values output has changed to a list of ndarray\n"
     ]
    }
   ],
   "source": [
    "# get top feature bar plot for LGBM model\n",
    "lgbm_model = output['LGBM']['model']\n",
    "shap_values = lgbm_model.cv_shap_values(norm_X_test, y_test)"
   ]
  },
  {
   "cell_type": "code",
   "execution_count": 19,
   "metadata": {},
   "outputs": [],
   "source": [
    "feature_importance, color, colnames = shap_plots.get_feature_importance(shap_values, norm_X_test, col_names, 20)"
   ]
  },
  {
   "cell_type": "code",
   "execution_count": 20,
   "metadata": {},
   "outputs": [
    {
     "data": {
      "text/plain": [
       "array([0.  , 0.  , 0.14, 0.5 , 0.  , 0.36, 0.  , 0.1 , 0.5 , 0.24, 0.32,\n",
       "       0.18, 0.16, 0.16, 0.36, 0.18, 0.  , 0.22, 0.32, 0.18])"
      ]
     },
     "execution_count": 20,
     "metadata": {},
     "output_type": "execute_result"
    }
   ],
   "source": [
    "color"
   ]
  },
  {
   "cell_type": "code",
   "execution_count": 21,
   "metadata": {},
   "outputs": [],
   "source": [
    "scaled_colors = (color - min(color)) / (max(color) - min(color))"
   ]
  },
  {
   "cell_type": "code",
   "execution_count": 22,
   "metadata": {},
   "outputs": [
    {
     "data": {
      "text/plain": [
       "Index(['0.81_130.0507m/z', '0.81_258.0761n', '10.37_477.9426m/z',\n",
       "       '4.74_715.6805m/z', '9.38_427.2656m/z', '10.94_648.4527m/z',\n",
       "       '9.31_548.3006m/z', '10.99_234.1245n', '8.02_407.6756m/z',\n",
       "       '1.78_133.0864m/z', '10.93_429.2593m/z', '8.47_69.0697m/z',\n",
       "       '10.26_537.8228n', '8.71_205.0837m/z', '1.31_360.2463m/z',\n",
       "       '10.35_399.9242m/z', '11.71_235.2577m/z', '2.13_106.0501m/z',\n",
       "       '7.00_1013.3385m/z', '3.25_619.1986m/z'],\n",
       "      dtype='object', name='Compound')"
      ]
     },
     "execution_count": 22,
     "metadata": {},
     "output_type": "execute_result"
    }
   ],
   "source": [
    "colnames"
   ]
  },
  {
   "cell_type": "code",
   "execution_count": 23,
   "metadata": {},
   "outputs": [],
   "source": [
    "names_to_replace = {\n",
    "    '956.3750n': '957.3750',\n",
    "    '349.0774n': '350.0774',\n",
    "    '352.2131n': '353.2131',\n",
    "    '144.0935n': '145.0935'\n",
    "}"
   ]
  },
  {
   "cell_type": "code",
   "execution_count": 24,
   "metadata": {},
   "outputs": [],
   "source": [
    "formatted_colnames = []\n",
    "for i in colnames:\n",
    "    j,k = i.split(\"_\")\n",
    "    k = k.replace(\"m/z\", \"\")\n",
    "    if k in names_to_replace:\n",
    "        k = names_to_replace[k]\n",
    "    value = \"{}@{}\".format(k, j)\n",
    "    formatted_colnames.append(value)"
   ]
  },
  {
   "cell_type": "code",
   "execution_count": 25,
   "metadata": {},
   "outputs": [],
   "source": [
    "shap_df = pd.DataFrame({''})"
   ]
  },
  {
   "cell_type": "code",
   "execution_count": 26,
   "metadata": {},
   "outputs": [],
   "source": [
    "from matplotlib.colors import LinearSegmentedColormap\n",
    "color_list = [(.263, .557, .749), (1, 1, 1), (.722, .059, .047)]  # B -> R\n",
    "cmap = LinearSegmentedColormap.from_list('plot_map', color_list, N=100)"
   ]
  },
  {
   "cell_type": "code",
   "execution_count": 27,
   "metadata": {},
   "outputs": [],
   "source": [
    "\n",
    "import matplotlib\n",
    "import matplotlib.pyplot as plt\n",
    "import matplotlib.colors as colors\n",
    "import numpy as np\n",
    "\n",
    "def truncate_colormap(cmap, minval=0.0, maxval=1.0, n=100):\n",
    "    new_cmap = colors.LinearSegmentedColormap.from_list(\n",
    "        'trunc({n},{a:.2f},{b:.2f})'.format(n=cmap.name, a=minval, b=maxval),\n",
    "        cmap(np.linspace(minval, maxval, n)))\n",
    "    return new_cmap\n",
    "\n",
    "legend_cmap = truncate_colormap(cmap, .1, .9)\n",
    "plot_cmap = truncate_colormap(cmap, 0, 1)"
   ]
  },
  {
   "cell_type": "code",
   "execution_count": 29,
   "metadata": {},
   "outputs": [
    {
     "data": {
      "image/png": "[encoded data removed]",
      "text/plain": [
       "<Figure size 720x576 with 2 Axes>"
      ]
     },
     "metadata": {},
     "output_type": "display_data"
    }
   ],
   "source": [
    "%matplotlib inline\n",
    "import seaborn as sns\n",
    "from matplotlib.patches import Patch\n",
    "from matplotlib.lines import Line2D\n",
    "import matplotlib as mpl\n",
    "import matplotlib.pyplot as plt\n",
    "from shap.plots.colors import red_blue\n",
    "from matplotlib.cm import coolwarm\n",
    "sns.set_style(\"dark\")\n",
    "sns.set_context(\"paper\")\n",
    "fig, ax = plt.subplots(1,1, figsize=(10,8))\n",
    "cmap = sns.cubehelix_palette(light=1)\n",
    "sns.barplot(x=feature_importance, y=formatted_colnames, ax=ax, palette=plot_cmap(scaled_colors), orient='h')\n",
    "ax.set_xlabel(\"Feature Importance (%)\")\n",
    "ax.set_ylabel(\"m/z @ RT\")\n",
    "\n",
    "\n",
    "import matplotlib.cm as cm\n",
    "m = cm.ScalarMappable(cmap=legend_cmap)\n",
    "m.set_array([0, 1])\n",
    "cb = plt.colorbar(m, ticks=[0, 1], aspect=1000)\n",
    "cb.set_ticklabels([\"Low\", \"High\"])\n",
    "cb.set_label(\"Feature Value\", size=12, labelpad=0)\n",
    "cb.ax.tick_params(labelsize=11, length=0)\n",
    "cb.set_alpha(1)\n",
    "cb.outline.set_visible(False)\n",
    "bbox = cb.ax.get_window_extent().transformed(plt.gcf().dpi_scale_trans.inverted())\n",
    "cb.ax.set_aspect((bbox.height - 0.9) * 20)\n",
    "\n",
    "plt.savefig(\"SHAP_all.svg\", bbox_inches='tight')"
   ]
  },
  {
   "cell_type": "code",
   "execution_count": 30,
   "metadata": {},
   "outputs": [
    {
     "data": {
      "text/plain": [
       "array([0.13897375, 0.06713678, 0.04766248, 0.03848226, 0.03171642,\n",
       "       0.02704218, 0.02162485, 0.01607201, 0.01373183, 0.01234606,\n",
       "       0.01105575, 0.01040437, 0.01005649, 0.00974021, 0.00931169,\n",
       "       0.00875103, 0.00864057, 0.00857587, 0.00804037, 0.00763636])"
      ]
     },
     "execution_count": 30,
     "metadata": {},
     "output_type": "execute_result"
    }
   ],
   "source": [
    "feature_importance[:20]"
   ]
  }
 ],
 "metadata": {
  "kernelspec": {
   "display_name": "Python 3",
   "language": "python",
   "name": "python3"
  },
  "language_info": {
   "codemirror_mode": {
    "name": "ipython",
    "version": 3
   },
   "file_extension": ".py",
   "mimetype": "text/x-python",
   "name": "python",
   "nbconvert_exporter": "python",
   "pygments_lexer": "ipython3",
   "version": "3.7.6"
  }
 },
 "nbformat": 4,
 "nbformat_minor": 4
}
