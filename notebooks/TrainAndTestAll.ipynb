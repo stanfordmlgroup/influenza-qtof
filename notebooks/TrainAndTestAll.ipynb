{
 "cells": [
  {
   "cell_type": "markdown",
   "metadata": {},
   "source": [
    "# Generate Table of Statistics for the Paper"
   ]
  },
  {
   "cell_type": "code",
   "execution_count": 1,
   "metadata": {},
   "outputs": [],
   "source": [
    "%load_ext autoreload\n",
    "%autoreload 2"
   ]
  },
  {
   "cell_type": "code",
   "execution_count": 2,
   "metadata": {},
   "outputs": [],
   "source": [
    "import sys\n",
    "import os\n",
    "import numpy as np\n",
    "import pandas as pd\n",
    "import matplotlib.pyplot as plt\n",
    "%matplotlib inline\n",
    "sys.path.append('../src')"
   ]
  },
  {
   "cell_type": "code",
   "execution_count": 3,
   "metadata": {},
   "outputs": [],
   "source": [
    "import utils\n",
    "import model_selection\n",
    "import models\n",
    "import plotting \n",
    "import delong\n",
    "from sklearn.preprocessing import StandardScaler\n",
    "from sklearn.preprocessing import MinMaxScaler\n",
    "from sklearn.preprocessing import RobustScaler\n",
    "from sklearn.preprocessing import PowerTransformer"
   ]
  },
  {
   "cell_type": "code",
   "execution_count": 4,
   "metadata": {},
   "outputs": [],
   "source": [
    "# read data\n",
    "all_data = utils.load_unformatted_data('../data/retrospective_influenza_dataset/20191105 resp data no filter revised 1 2020.csv', '../data/retrospective_influenza_dataset/Sample_key_csv revised 1 2020.csv')\n",
    "all_data = utils.map_label_column(all_data)\n",
    "all_data, flu_mapping, subtype_mapping = utils.encode_labels(all_data)\n",
    "\n",
    "# drop zero cols\n",
    "all_data = all_data.loc[:, all_data.any()]\n",
    "col_names = all_data.columns[:-2]\n",
    "\n",
    "# train test split\n",
    "train, test = utils.train_test_split(all_data, test_size=50)"
   ]
  },
  {
   "cell_type": "code",
   "execution_count": 5,
   "metadata": {},
   "outputs": [
    {
     "data": {
      "text/plain": [
       "3    118\n",
       "2     43\n",
       "1     39\n",
       "0     36\n",
       "Name: subtype, dtype: int64"
      ]
     },
     "execution_count": 5,
     "metadata": {},
     "output_type": "execute_result"
    }
   ],
   "source": [
    "all_data.subtype.value_counts()"
   ]
  },
  {
   "cell_type": "code",
   "execution_count": 6,
   "metadata": {},
   "outputs": [
    {
     "data": {
      "text/plain": [
       "236"
      ]
     },
     "execution_count": 6,
     "metadata": {},
     "output_type": "execute_result"
    }
   ],
   "source": [
    "len(all_data)"
   ]
  },
  {
   "cell_type": "code",
   "execution_count": 7,
   "metadata": {},
   "outputs": [
    {
     "data": {
      "text/plain": [
       "3368"
      ]
     },
     "execution_count": 7,
     "metadata": {},
     "output_type": "execute_result"
    }
   ],
   "source": [
    "len(all_data.columns)"
   ]
  },
  {
   "cell_type": "code",
   "execution_count": 8,
   "metadata": {},
   "outputs": [
    {
     "data": {
      "text/plain": [
       "50"
      ]
     },
     "execution_count": 8,
     "metadata": {},
     "output_type": "execute_result"
    }
   ],
   "source": [
    "len(test)"
   ]
  },
  {
   "cell_type": "code",
   "execution_count": 9,
   "metadata": {},
   "outputs": [
    {
     "data": {
      "text/plain": [
       "186"
      ]
     },
     "execution_count": 9,
     "metadata": {},
     "output_type": "execute_result"
    }
   ],
   "source": [
    "len(train)"
   ]
  },
  {
   "cell_type": "code",
   "execution_count": 10,
   "metadata": {},
   "outputs": [
    {
     "data": {
      "text/plain": [
       "1    94\n",
       "0    92\n",
       "Name: flu, dtype: int64"
      ]
     },
     "execution_count": 10,
     "metadata": {},
     "output_type": "execute_result"
    }
   ],
   "source": [
    "train.flu.value_counts()"
   ]
  },
  {
   "cell_type": "code",
   "execution_count": 11,
   "metadata": {},
   "outputs": [
    {
     "data": {
      "text/plain": [
       "0    26\n",
       "1    24\n",
       "Name: flu, dtype: int64"
      ]
     },
     "execution_count": 11,
     "metadata": {},
     "output_type": "execute_result"
    }
   ],
   "source": [
    "test.flu.value_counts()"
   ]
  },
  {
   "cell_type": "code",
   "execution_count": 12,
   "metadata": {},
   "outputs": [
    {
     "data": {
      "text/plain": [
       "{'Flu': 1, 'negative': 0}"
      ]
     },
     "execution_count": 12,
     "metadata": {},
     "output_type": "execute_result"
    }
   ],
   "source": [
    "flu_mapping"
   ]
  },
  {
   "cell_type": "code",
   "execution_count": 13,
   "metadata": {},
   "outputs": [],
   "source": [
    "# split into data\n",
    "X_train, y_train = utils.df_to_array(train)\n",
    "X_test, y_test = utils.df_to_array(test)\n"
   ]
  },
  {
   "cell_type": "code",
   "execution_count": 14,
   "metadata": {},
   "outputs": [
    {
     "name": "stderr",
     "output_type": "stream",
     "text": [
      "n_quantiles (1000) is greater than the total number of samples (186). n_quantiles is set to n_samples.\n"
     ]
    }
   ],
   "source": [
    "#processor = utils.CustomPreprocessor(transforms = ['clip', 'noise', 'power'])\n",
    "#processor = utils.CustomPreprocessor(transforms = ['standard'])\n",
    "processor = utils.CustomPreprocessor(transforms = ['quantile'])\n",
    "processor.fit(X_train)\n",
    "norm_X_train = processor.transform(X_train)\n",
    "norm_X_test = processor.transform(X_test)"
   ]
  },
  {
   "cell_type": "markdown",
   "metadata": {},
   "source": [
    "# Train all Models"
   ]
  },
  {
   "cell_type": "code",
   "execution_count": 15,
   "metadata": {
    "collapsed": true,
    "jupyter": {
     "outputs_hidden": true
    }
   },
   "outputs": [
    {
     "name": "stderr",
     "output_type": "stream",
     "text": [
      "Setting a random_state has no effect since shuffle is False. This will raise an error in 0.24. You should leave random_state to its default (None), or set shuffle=True.\n",
      "[Parallel(n_jobs=1)]: Using backend SequentialBackend with 1 concurrent workers.\n",
      "[Parallel(n_jobs=1)]: Done   1 out of   1 | elapsed:    0.0s remaining:    0.0s\n",
      "[Parallel(n_jobs=1)]: Done   2 out of   2 | elapsed:    0.0s remaining:    0.0s\n",
      "[Parallel(n_jobs=1)]: Done   3 out of   3 | elapsed:    0.1s remaining:    0.0s\n",
      "[Parallel(n_jobs=1)]: Done   4 out of   4 | elapsed:    0.1s remaining:    0.0s\n",
      "[Parallel(n_jobs=1)]: Done   5 out of   5 | elapsed:    0.1s remaining:    0.0s\n",
      "[Parallel(n_jobs=1)]: Done   6 out of   6 | elapsed:    0.1s remaining:    0.0s\n",
      "[Parallel(n_jobs=1)]: Done   7 out of   7 | elapsed:    0.2s remaining:    0.0s\n",
      "[Parallel(n_jobs=1)]: Done   8 out of   8 | elapsed:    0.2s remaining:    0.0s\n"
     ]
    },
    {
     "name": "stdout",
     "output_type": "stream",
     "text": [
      "Fitting 4 folds for each of 100 candidates, totalling 400 fits\n",
      "[CV] max_depth=2, min_samples_split=2, n_estimators=4 ................\n",
      "[CV]  max_depth=2, min_samples_split=2, n_estimators=4, score=0.638, total=   0.0s\n",
      "[CV] max_depth=2, min_samples_split=2, n_estimators=4 ................\n",
      "[CV]  max_depth=2, min_samples_split=2, n_estimators=4, score=0.745, total=   0.0s\n",
      "[CV] max_depth=2, min_samples_split=2, n_estimators=4 ................\n",
      "[CV]  max_depth=2, min_samples_split=2, n_estimators=4, score=0.783, total=   0.0s\n",
      "[CV] max_depth=2, min_samples_split=2, n_estimators=4 ................\n",
      "[CV]  max_depth=2, min_samples_split=2, n_estimators=4, score=0.783, total=   0.0s\n",
      "[CV] max_depth=2, min_samples_split=2, n_estimators=16 ...............\n",
      "[CV]  max_depth=2, min_samples_split=2, n_estimators=16, score=0.681, total=   0.0s\n",
      "[CV] max_depth=2, min_samples_split=2, n_estimators=16 ...............\n",
      "[CV]  max_depth=2, min_samples_split=2, n_estimators=16, score=0.745, total=   0.0s\n",
      "[CV] max_depth=2, min_samples_split=2, n_estimators=16 ...............\n",
      "[CV]  max_depth=2, min_samples_split=2, n_estimators=16, score=0.891, total=   0.0s\n",
      "[CV] max_depth=2, min_samples_split=2, n_estimators=16 ...............\n",
      "[CV]  max_depth=2, min_samples_split=2, n_estimators=16, score=0.891, total=   0.0s\n",
      "[CV] max_depth=2, min_samples_split=2, n_estimators=64 ...............\n",
      "[CV]  max_depth=2, min_samples_split=2, n_estimators=64, score=0.766, total=   0.1s\n",
      "[CV] max_depth=2, min_samples_split=2, n_estimators=64 ...............\n",
      "[CV]  max_depth=2, min_samples_split=2, n_estimators=64, score=0.851, total=   0.1s\n",
      "[CV] max_depth=2, min_samples_split=2, n_estimators=64 ...............\n"
     ]
    },
    {
     "name": "stderr",
     "output_type": "stream",
     "text": [
      "[Parallel(n_jobs=1)]: Done   9 out of   9 | elapsed:    0.3s remaining:    0.0s\n",
      "[Parallel(n_jobs=1)]: Done  10 out of  10 | elapsed:    0.4s remaining:    0.0s\n"
     ]
    },
    {
     "name": "stdout",
     "output_type": "stream",
     "text": [
      "[CV]  max_depth=2, min_samples_split=2, n_estimators=64, score=0.935, total=   0.1s\n",
      "[CV] max_depth=2, min_samples_split=2, n_estimators=64 ...............\n",
      "[CV]  max_depth=2, min_samples_split=2, n_estimators=64, score=0.913, total=   0.1s\n",
      "[CV] max_depth=2, min_samples_split=2, n_estimators=256 ..............\n"
     ]
    },
    {
     "name": "stderr",
     "output_type": "stream",
     "text": [
      "[Parallel(n_jobs=1)]: Done  11 out of  11 | elapsed:    0.5s remaining:    0.0s\n",
      "[Parallel(n_jobs=1)]: Done  12 out of  12 | elapsed:    0.6s remaining:    0.0s\n"
     ]
    },
    {
     "name": "stdout",
     "output_type": "stream",
     "text": [
      "[CV]  max_depth=2, min_samples_split=2, n_estimators=256, score=0.766, total=   0.4s\n",
      "[CV] max_depth=2, min_samples_split=2, n_estimators=256 ..............\n"
     ]
    },
    {
     "name": "stderr",
     "output_type": "stream",
     "text": [
      "[Parallel(n_jobs=1)]: Done  13 out of  13 | elapsed:    1.0s remaining:    0.0s\n"
     ]
    },
    {
     "name": "stdout",
     "output_type": "stream",
     "text": [
      "[CV]  max_depth=2, min_samples_split=2, n_estimators=256, score=0.851, total=   0.4s\n",
      "[CV] max_depth=2, min_samples_split=2, n_estimators=256 ..............\n"
     ]
    },
    {
     "name": "stderr",
     "output_type": "stream",
     "text": [
      "[Parallel(n_jobs=1)]: Done  14 out of  14 | elapsed:    1.4s remaining:    0.0s\n"
     ]
    },
    {
     "name": "stdout",
     "output_type": "stream",
     "text": [
      "[CV]  max_depth=2, min_samples_split=2, n_estimators=256, score=0.891, total=   0.4s\n",
      "[CV] max_depth=2, min_samples_split=2, n_estimators=256 ..............\n"
     ]
    },
    {
     "name": "stderr",
     "output_type": "stream",
     "text": [
      "[Parallel(n_jobs=1)]: Done  15 out of  15 | elapsed:    1.8s remaining:    0.0s\n"
     ]
    },
    {
     "name": "stdout",
     "output_type": "stream",
     "text": [
      "[CV]  max_depth=2, min_samples_split=2, n_estimators=256, score=0.891, total=   0.4s\n",
      "[CV] max_depth=2, min_samples_split=4, n_estimators=4 ................\n",
      "[CV]  max_depth=2, min_samples_split=4, n_estimators=4, score=0.787, total=   0.0s\n",
      "[CV] max_depth=2, min_samples_split=4, n_estimators=4 ................\n",
      "[CV]  max_depth=2, min_samples_split=4, n_estimators=4, score=0.851, total=   0.0s\n",
      "[CV] max_depth=2, min_samples_split=4, n_estimators=4 ................\n",
      "[CV]  max_depth=2, min_samples_split=4, n_estimators=4, score=0.848, total=   0.0s\n",
      "[CV] max_depth=2, min_samples_split=4, n_estimators=4 ................\n",
      "[CV]  max_depth=2, min_samples_split=4, n_estimators=4, score=0.848, total=   0.0s\n",
      "[CV] max_depth=2, min_samples_split=4, n_estimators=16 ...............\n",
      "[CV]  max_depth=2, min_samples_split=4, n_estimators=16, score=0.681, total=   0.0s\n",
      "[CV] max_depth=2, min_samples_split=4, n_estimators=16 ...............\n",
      "[CV]  max_depth=2, min_samples_split=4, n_estimators=16, score=0.830, total=   0.0s\n",
      "[CV] max_depth=2, min_samples_split=4, n_estimators=16 ...............\n",
      "[CV]  max_depth=2, min_samples_split=4, n_estimators=16, score=0.891, total=   0.0s\n",
      "[CV] max_depth=2, min_samples_split=4, n_estimators=16 ...............\n",
      "[CV]  max_depth=2, min_samples_split=4, n_estimators=16, score=0.848, total=   0.0s\n",
      "[CV] max_depth=2, min_samples_split=4, n_estimators=64 ...............\n"
     ]
    },
    {
     "name": "stderr",
     "output_type": "stream",
     "text": [
      "[Parallel(n_jobs=1)]: Done  16 out of  16 | elapsed:    2.3s remaining:    0.0s\n",
      "[Parallel(n_jobs=1)]: Done  17 out of  17 | elapsed:    2.3s remaining:    0.0s\n",
      "[Parallel(n_jobs=1)]: Done  18 out of  18 | elapsed:    2.3s remaining:    0.0s\n",
      "[Parallel(n_jobs=1)]: Done  19 out of  19 | elapsed:    2.3s remaining:    0.0s\n",
      "[Parallel(n_jobs=1)]: Done  20 out of  20 | elapsed:    2.3s remaining:    0.0s\n",
      "[Parallel(n_jobs=1)]: Done  21 out of  21 | elapsed:    2.3s remaining:    0.0s\n",
      "[Parallel(n_jobs=1)]: Done  22 out of  22 | elapsed:    2.4s remaining:    0.0s\n",
      "[Parallel(n_jobs=1)]: Done  23 out of  23 | elapsed:    2.4s remaining:    0.0s\n",
      "[Parallel(n_jobs=1)]: Done  24 out of  24 | elapsed:    2.4s remaining:    0.0s\n"
     ]
    },
    {
     "name": "stdout",
     "output_type": "stream",
     "text": [
      "[CV]  max_depth=2, min_samples_split=4, n_estimators=64, score=0.723, total=   0.1s\n",
      "[CV] max_depth=2, min_samples_split=4, n_estimators=64 ...............\n",
      "[CV]  max_depth=2, min_samples_split=4, n_estimators=64, score=0.809, total=   0.1s\n",
      "[CV] max_depth=2, min_samples_split=4, n_estimators=64 ...............\n"
     ]
    },
    {
     "name": "stderr",
     "output_type": "stream",
     "text": [
      "[Parallel(n_jobs=1)]: Done  25 out of  25 | elapsed:    2.5s remaining:    0.0s\n",
      "[Parallel(n_jobs=1)]: Done  26 out of  26 | elapsed:    2.6s remaining:    0.0s\n"
     ]
    },
    {
     "name": "stdout",
     "output_type": "stream",
     "text": [
      "[CV]  max_depth=2, min_samples_split=4, n_estimators=64, score=0.913, total=   0.1s\n",
      "[CV] max_depth=2, min_samples_split=4, n_estimators=64 ...............\n",
      "[CV]  max_depth=2, min_samples_split=4, n_estimators=64, score=0.891, total=   0.1s\n",
      "[CV] max_depth=2, min_samples_split=4, n_estimators=256 ..............\n"
     ]
    },
    {
     "name": "stderr",
     "output_type": "stream",
     "text": [
      "[Parallel(n_jobs=1)]: Done  27 out of  27 | elapsed:    2.7s remaining:    0.0s\n",
      "[Parallel(n_jobs=1)]: Done  28 out of  28 | elapsed:    2.8s remaining:    0.0s\n"
     ]
    },
    {
     "name": "stdout",
     "output_type": "stream",
     "text": [
      "[CV]  max_depth=2, min_samples_split=4, n_estimators=256, score=0.702, total=   0.4s\n",
      "[CV] max_depth=2, min_samples_split=4, n_estimators=256 ..............\n"
     ]
    },
    {
     "name": "stderr",
     "output_type": "stream",
     "text": [
      "[Parallel(n_jobs=1)]: Done  29 out of  29 | elapsed:    3.3s remaining:    0.0s\n"
     ]
    },
    {
     "name": "stdout",
     "output_type": "stream",
     "text": [
      "[CV]  max_depth=2, min_samples_split=4, n_estimators=256, score=0.830, total=   0.4s\n",
      "[CV] max_depth=2, min_samples_split=4, n_estimators=256 ..............\n"
     ]
    },
    {
     "name": "stderr",
     "output_type": "stream",
     "text": [
      "[Parallel(n_jobs=1)]: Done  30 out of  30 | elapsed:    3.6s remaining:    0.0s\n"
     ]
    },
    {
     "name": "stdout",
     "output_type": "stream",
     "text": [
      "[CV]  max_depth=2, min_samples_split=4, n_estimators=256, score=0.913, total=   0.4s\n",
      "[CV] max_depth=2, min_samples_split=4, n_estimators=256 ..............\n"
     ]
    },
    {
     "name": "stderr",
     "output_type": "stream",
     "text": [
      "[Parallel(n_jobs=1)]: Done  31 out of  31 | elapsed:    4.0s remaining:    0.0s\n"
     ]
    },
    {
     "name": "stdout",
     "output_type": "stream",
     "text": [
      "[CV]  max_depth=2, min_samples_split=4, n_estimators=256, score=0.891, total=   0.4s\n",
      "[CV] max_depth=2, min_samples_split=8, n_estimators=4 ................\n",
      "[CV]  max_depth=2, min_samples_split=8, n_estimators=4, score=0.638, total=   0.0s\n",
      "[CV] max_depth=2, min_samples_split=8, n_estimators=4 ................\n",
      "[CV]  max_depth=2, min_samples_split=8, n_estimators=4, score=0.723, total=   0.0s\n",
      "[CV] max_depth=2, min_samples_split=8, n_estimators=4 ................\n",
      "[CV]  max_depth=2, min_samples_split=8, n_estimators=4, score=0.652, total=   0.0s\n",
      "[CV] max_depth=2, min_samples_split=8, n_estimators=4 ................\n",
      "[CV]  max_depth=2, min_samples_split=8, n_estimators=4, score=0.739, total=   0.0s\n",
      "[CV] max_depth=2, min_samples_split=8, n_estimators=16 ...............\n",
      "[CV]  max_depth=2, min_samples_split=8, n_estimators=16, score=0.723, total=   0.0s\n",
      "[CV] max_depth=2, min_samples_split=8, n_estimators=16 ...............\n",
      "[CV]  max_depth=2, min_samples_split=8, n_estimators=16, score=0.851, total=   0.0s\n",
      "[CV] max_depth=2, min_samples_split=8, n_estimators=16 ...............\n",
      "[CV]  max_depth=2, min_samples_split=8, n_estimators=16, score=0.804, total=   0.0s\n",
      "[CV] max_depth=2, min_samples_split=8, n_estimators=16 ...............\n",
      "[CV]  max_depth=2, min_samples_split=8, n_estimators=16, score=0.826, total=   0.0s\n",
      "[CV] max_depth=2, min_samples_split=8, n_estimators=64 ...............\n"
     ]
    },
    {
     "name": "stderr",
     "output_type": "stream",
     "text": [
      "[Parallel(n_jobs=1)]: Done  32 out of  32 | elapsed:    4.4s remaining:    0.0s\n",
      "[Parallel(n_jobs=1)]: Done  33 out of  33 | elapsed:    4.4s remaining:    0.0s\n",
      "[Parallel(n_jobs=1)]: Done  34 out of  34 | elapsed:    4.5s remaining:    0.0s\n",
      "[Parallel(n_jobs=1)]: Done  35 out of  35 | elapsed:    4.5s remaining:    0.0s\n",
      "[Parallel(n_jobs=1)]: Done  36 out of  36 | elapsed:    4.5s remaining:    0.0s\n",
      "[Parallel(n_jobs=1)]: Done  37 out of  37 | elapsed:    4.5s remaining:    0.0s\n",
      "[Parallel(n_jobs=1)]: Done  38 out of  38 | elapsed:    4.5s remaining:    0.0s\n",
      "[Parallel(n_jobs=1)]: Done  39 out of  39 | elapsed:    4.6s remaining:    0.0s\n",
      "[Parallel(n_jobs=1)]: Done  40 out of  40 | elapsed:    4.6s remaining:    0.0s\n"
     ]
    },
    {
     "name": "stdout",
     "output_type": "stream",
     "text": [
      "[CV]  max_depth=2, min_samples_split=8, n_estimators=64, score=0.723, total=   0.1s\n",
      "[CV] max_depth=2, min_samples_split=8, n_estimators=64 ...............\n",
      "[CV]  max_depth=2, min_samples_split=8, n_estimators=64, score=0.809, total=   0.1s\n",
      "[CV] max_depth=2, min_samples_split=8, n_estimators=64 ...............\n"
     ]
    },
    {
     "name": "stderr",
     "output_type": "stream",
     "text": [
      "[Parallel(n_jobs=1)]: Done  41 out of  41 | elapsed:    4.7s remaining:    0.0s\n"
     ]
    },
    {
     "name": "stdout",
     "output_type": "stream",
     "text": [
      "[CV]  max_depth=2, min_samples_split=8, n_estimators=64, score=0.891, total=   0.1s\n",
      "[CV] max_depth=2, min_samples_split=8, n_estimators=64 ...............\n",
      "[CV]  max_depth=2, min_samples_split=8, n_estimators=64, score=0.891, total=   0.1s\n",
      "[CV] max_depth=2, min_samples_split=8, n_estimators=256 ..............\n",
      "[CV]  max_depth=2, min_samples_split=8, n_estimators=256, score=0.745, total=   0.4s\n",
      "[CV] max_depth=2, min_samples_split=8, n_estimators=256 ..............\n",
      "[CV]  max_depth=2, min_samples_split=8, n_estimators=256, score=0.830, total=   0.4s\n",
      "[CV] max_depth=2, min_samples_split=8, n_estimators=256 ..............\n",
      "[CV]  max_depth=2, min_samples_split=8, n_estimators=256, score=0.870, total=   0.4s\n",
      "[CV] max_depth=2, min_samples_split=8, n_estimators=256 ..............\n",
      "[CV]  max_depth=2, min_samples_split=8, n_estimators=256, score=0.913, total=   0.4s\n",
      "[CV] max_depth=2, min_samples_split=16, n_estimators=4 ...............\n",
      "[CV]  max_depth=2, min_samples_split=16, n_estimators=4, score=0.745, total=   0.0s\n",
      "[CV] max_depth=2, min_samples_split=16, n_estimators=4 ...............\n",
      "[CV]  max_depth=2, min_samples_split=16, n_estimators=4, score=0.787, total=   0.0s\n",
      "[CV] max_depth=2, min_samples_split=16, n_estimators=4 ...............\n",
      "[CV]  max_depth=2, min_samples_split=16, n_estimators=4, score=0.804, total=   0.0s\n",
      "[CV] max_depth=2, min_samples_split=16, n_estimators=4 ...............\n",
      "[CV]  max_depth=2, min_samples_split=16, n_estimators=4, score=0.826, total=   0.0s\n",
      "[CV] max_depth=2, min_samples_split=16, n_estimators=16 ..............\n",
      "[CV]  max_depth=2, min_samples_split=16, n_estimators=16, score=0.723, total=   0.0s\n",
      "[CV] max_depth=2, min_samples_split=16, n_estimators=16 ..............\n",
      "[CV]  max_depth=2, min_samples_split=16, n_estimators=16, score=0.787, total=   0.0s\n",
      "[CV] max_depth=2, min_samples_split=16, n_estimators=16 ..............\n",
      "[CV]  max_depth=2, min_samples_split=16, n_estimators=16, score=0.848, total=   0.0s\n",
      "[CV] max_depth=2, min_samples_split=16, n_estimators=16 ..............\n",
      "[CV]  max_depth=2, min_samples_split=16, n_estimators=16, score=0.913, total=   0.0s\n",
      "[CV] max_depth=2, min_samples_split=16, n_estimators=64 ..............\n",
      "[CV]  max_depth=2, min_samples_split=16, n_estimators=64, score=0.702, total=   0.1s\n",
      "[CV] max_depth=2, min_samples_split=16, n_estimators=64 ..............\n",
      "[CV]  max_depth=2, min_samples_split=16, n_estimators=64, score=0.851, total=   0.1s\n",
      "[CV] max_depth=2, min_samples_split=16, n_estimators=64 ..............\n",
      "[CV]  max_depth=2, min_samples_split=16, n_estimators=64, score=0.913, total=   0.1s\n",
      "[CV] max_depth=2, min_samples_split=16, n_estimators=64 ..............\n",
      "[CV]  max_depth=2, min_samples_split=16, n_estimators=64, score=0.891, total=   0.1s\n",
      "[CV] max_depth=2, min_samples_split=16, n_estimators=256 .............\n",
      "[CV]  max_depth=2, min_samples_split=16, n_estimators=256, score=0.766, total=   0.4s\n",
      "[CV] max_depth=2, min_samples_split=16, n_estimators=256 .............\n",
      "[CV]  max_depth=2, min_samples_split=16, n_estimators=256, score=0.851, total=   0.4s\n",
      "[CV] max_depth=2, min_samples_split=16, n_estimators=256 .............\n",
      "[CV]  max_depth=2, min_samples_split=16, n_estimators=256, score=0.913, total=   0.4s\n",
      "[CV] max_depth=2, min_samples_split=16, n_estimators=256 .............\n",
      "[CV]  max_depth=2, min_samples_split=16, n_estimators=256, score=0.913, total=   0.4s\n",
      "[CV] max_depth=2, min_samples_split=32, n_estimators=4 ...............\n",
      "[CV]  max_depth=2, min_samples_split=32, n_estimators=4, score=0.596, total=   0.0s\n",
      "[CV] max_depth=2, min_samples_split=32, n_estimators=4 ...............\n",
      "[CV]  max_depth=2, min_samples_split=32, n_estimators=4, score=0.681, total=   0.0s\n",
      "[CV] max_depth=2, min_samples_split=32, n_estimators=4 ...............\n",
      "[CV]  max_depth=2, min_samples_split=32, n_estimators=4, score=0.696, total=   0.0s\n",
      "[CV] max_depth=2, min_samples_split=32, n_estimators=4 ...............\n",
      "[CV]  max_depth=2, min_samples_split=32, n_estimators=4, score=0.826, total=   0.0s\n",
      "[CV] max_depth=2, min_samples_split=32, n_estimators=16 ..............\n",
      "[CV]  max_depth=2, min_samples_split=32, n_estimators=16, score=0.638, total=   0.0s\n",
      "[CV] max_depth=2, min_samples_split=32, n_estimators=16 ..............\n",
      "[CV]  max_depth=2, min_samples_split=32, n_estimators=16, score=0.809, total=   0.0s\n",
      "[CV] max_depth=2, min_samples_split=32, n_estimators=16 ..............\n",
      "[CV]  max_depth=2, min_samples_split=32, n_estimators=16, score=0.804, total=   0.0s\n",
      "[CV] max_depth=2, min_samples_split=32, n_estimators=16 ..............\n",
      "[CV]  max_depth=2, min_samples_split=32, n_estimators=16, score=0.891, total=   0.0s\n",
      "[CV] max_depth=2, min_samples_split=32, n_estimators=64 ..............\n",
      "[CV]  max_depth=2, min_samples_split=32, n_estimators=64, score=0.660, total=   0.1s\n",
      "[CV] max_depth=2, min_samples_split=32, n_estimators=64 ..............\n",
      "[CV]  max_depth=2, min_samples_split=32, n_estimators=64, score=0.872, total=   0.1s\n",
      "[CV] max_depth=2, min_samples_split=32, n_estimators=64 ..............\n",
      "[CV]  max_depth=2, min_samples_split=32, n_estimators=64, score=0.870, total=   0.1s\n",
      "[CV] max_depth=2, min_samples_split=32, n_estimators=64 ..............\n",
      "[CV]  max_depth=2, min_samples_split=32, n_estimators=64, score=0.891, total=   0.1s\n",
      "[CV] max_depth=2, min_samples_split=32, n_estimators=256 .............\n",
      "[CV]  max_depth=2, min_samples_split=32, n_estimators=256, score=0.723, total=   0.4s\n",
      "[CV] max_depth=2, min_samples_split=32, n_estimators=256 .............\n",
      "[CV]  max_depth=2, min_samples_split=32, n_estimators=256, score=0.872, total=   0.4s\n",
      "[CV] max_depth=2, min_samples_split=32, n_estimators=256 .............\n",
      "[CV]  max_depth=2, min_samples_split=32, n_estimators=256, score=0.913, total=   0.4s\n",
      "[CV] max_depth=2, min_samples_split=32, n_estimators=256 .............\n",
      "[CV]  max_depth=2, min_samples_split=32, n_estimators=256, score=0.891, total=   0.4s\n",
      "[CV] max_depth=4, min_samples_split=2, n_estimators=4 ................\n",
      "[CV]  max_depth=4, min_samples_split=2, n_estimators=4, score=0.617, total=   0.0s\n",
      "[CV] max_depth=4, min_samples_split=2, n_estimators=4 ................\n",
      "[CV]  max_depth=4, min_samples_split=2, n_estimators=4, score=0.745, total=   0.0s\n",
      "[CV] max_depth=4, min_samples_split=2, n_estimators=4 ................\n",
      "[CV]  max_depth=4, min_samples_split=2, n_estimators=4, score=0.804, total=   0.0s\n",
      "[CV] max_depth=4, min_samples_split=2, n_estimators=4 ................\n",
      "[CV]  max_depth=4, min_samples_split=2, n_estimators=4, score=0.717, total=   0.0s\n",
      "[CV] max_depth=4, min_samples_split=2, n_estimators=16 ...............\n",
      "[CV]  max_depth=4, min_samples_split=2, n_estimators=16, score=0.766, total=   0.0s\n",
      "[CV] max_depth=4, min_samples_split=2, n_estimators=16 ...............\n",
      "[CV]  max_depth=4, min_samples_split=2, n_estimators=16, score=0.745, total=   0.0s\n",
      "[CV] max_depth=4, min_samples_split=2, n_estimators=16 ...............\n",
      "[CV]  max_depth=4, min_samples_split=2, n_estimators=16, score=0.891, total=   0.0s\n",
      "[CV] max_depth=4, min_samples_split=2, n_estimators=16 ...............\n",
      "[CV]  max_depth=4, min_samples_split=2, n_estimators=16, score=0.826, total=   0.0s\n",
      "[CV] max_depth=4, min_samples_split=2, n_estimators=64 ...............\n",
      "[CV]  max_depth=4, min_samples_split=2, n_estimators=64, score=0.723, total=   0.1s\n",
      "[CV] max_depth=4, min_samples_split=2, n_estimators=64 ...............\n",
      "[CV]  max_depth=4, min_samples_split=2, n_estimators=64, score=0.851, total=   0.1s\n",
      "[CV] max_depth=4, min_samples_split=2, n_estimators=64 ...............\n",
      "[CV]  max_depth=4, min_samples_split=2, n_estimators=64, score=0.935, total=   0.1s\n",
      "[CV] max_depth=4, min_samples_split=2, n_estimators=64 ...............\n",
      "[CV]  max_depth=4, min_samples_split=2, n_estimators=64, score=0.913, total=   0.2s\n",
      "[CV] max_depth=4, min_samples_split=2, n_estimators=256 ..............\n",
      "[CV]  max_depth=4, min_samples_split=2, n_estimators=256, score=0.702, total=   0.6s\n",
      "[CV] max_depth=4, min_samples_split=2, n_estimators=256 ..............\n",
      "[CV]  max_depth=4, min_samples_split=2, n_estimators=256, score=0.872, total=   0.5s\n",
      "[CV] max_depth=4, min_samples_split=2, n_estimators=256 ..............\n",
      "[CV]  max_depth=4, min_samples_split=2, n_estimators=256, score=0.913, total=   0.5s\n",
      "[CV] max_depth=4, min_samples_split=2, n_estimators=256 ..............\n",
      "[CV]  max_depth=4, min_samples_split=2, n_estimators=256, score=0.891, total=   0.5s\n",
      "[CV] max_depth=4, min_samples_split=4, n_estimators=4 ................\n",
      "[CV]  max_depth=4, min_samples_split=4, n_estimators=4, score=0.660, total=   0.0s\n",
      "[CV] max_depth=4, min_samples_split=4, n_estimators=4 ................\n",
      "[CV]  max_depth=4, min_samples_split=4, n_estimators=4, score=0.787, total=   0.0s\n",
      "[CV] max_depth=4, min_samples_split=4, n_estimators=4 ................\n",
      "[CV]  max_depth=4, min_samples_split=4, n_estimators=4, score=0.674, total=   0.0s\n",
      "[CV] max_depth=4, min_samples_split=4, n_estimators=4 ................\n",
      "[CV]  max_depth=4, min_samples_split=4, n_estimators=4, score=0.674, total=   0.0s\n",
      "[CV] max_depth=4, min_samples_split=4, n_estimators=16 ...............\n",
      "[CV]  max_depth=4, min_samples_split=4, n_estimators=16, score=0.660, total=   0.0s\n",
      "[CV] max_depth=4, min_samples_split=4, n_estimators=16 ...............\n",
      "[CV]  max_depth=4, min_samples_split=4, n_estimators=16, score=0.766, total=   0.0s\n",
      "[CV] max_depth=4, min_samples_split=4, n_estimators=16 ...............\n",
      "[CV]  max_depth=4, min_samples_split=4, n_estimators=16, score=0.870, total=   0.0s\n",
      "[CV] max_depth=4, min_samples_split=4, n_estimators=16 ...............\n",
      "[CV]  max_depth=4, min_samples_split=4, n_estimators=16, score=0.848, total=   0.0s\n",
      "[CV] max_depth=4, min_samples_split=4, n_estimators=64 ...............\n",
      "[CV]  max_depth=4, min_samples_split=4, n_estimators=64, score=0.766, total=   0.1s\n",
      "[CV] max_depth=4, min_samples_split=4, n_estimators=64 ...............\n",
      "[CV]  max_depth=4, min_samples_split=4, n_estimators=64, score=0.809, total=   0.1s\n",
      "[CV] max_depth=4, min_samples_split=4, n_estimators=64 ...............\n",
      "[CV]  max_depth=4, min_samples_split=4, n_estimators=64, score=0.870, total=   0.1s\n",
      "[CV] max_depth=4, min_samples_split=4, n_estimators=64 ...............\n",
      "[CV]  max_depth=4, min_samples_split=4, n_estimators=64, score=0.848, total=   0.1s\n",
      "[CV] max_depth=4, min_samples_split=4, n_estimators=256 ..............\n",
      "[CV]  max_depth=4, min_samples_split=4, n_estimators=256, score=0.745, total=   0.5s\n",
      "[CV] max_depth=4, min_samples_split=4, n_estimators=256 ..............\n",
      "[CV]  max_depth=4, min_samples_split=4, n_estimators=256, score=0.830, total=   0.5s\n",
      "[CV] max_depth=4, min_samples_split=4, n_estimators=256 ..............\n",
      "[CV]  max_depth=4, min_samples_split=4, n_estimators=256, score=0.891, total=   0.5s\n",
      "[CV] max_depth=4, min_samples_split=4, n_estimators=256 ..............\n",
      "[CV]  max_depth=4, min_samples_split=4, n_estimators=256, score=0.870, total=   0.5s\n",
      "[CV] max_depth=4, min_samples_split=8, n_estimators=4 ................\n",
      "[CV]  max_depth=4, min_samples_split=8, n_estimators=4, score=0.660, total=   0.0s\n",
      "[CV] max_depth=4, min_samples_split=8, n_estimators=4 ................\n",
      "[CV]  max_depth=4, min_samples_split=8, n_estimators=4, score=0.745, total=   0.0s\n",
      "[CV] max_depth=4, min_samples_split=8, n_estimators=4 ................\n",
      "[CV]  max_depth=4, min_samples_split=8, n_estimators=4, score=0.913, total=   0.0s\n",
      "[CV] max_depth=4, min_samples_split=8, n_estimators=4 ................\n",
      "[CV]  max_depth=4, min_samples_split=8, n_estimators=4, score=0.674, total=   0.0s\n",
      "[CV] max_depth=4, min_samples_split=8, n_estimators=16 ...............\n",
      "[CV]  max_depth=4, min_samples_split=8, n_estimators=16, score=0.787, total=   0.0s\n",
      "[CV] max_depth=4, min_samples_split=8, n_estimators=16 ...............\n",
      "[CV]  max_depth=4, min_samples_split=8, n_estimators=16, score=0.851, total=   0.0s\n",
      "[CV] max_depth=4, min_samples_split=8, n_estimators=16 ...............\n",
      "[CV]  max_depth=4, min_samples_split=8, n_estimators=16, score=0.870, total=   0.0s\n",
      "[CV] max_depth=4, min_samples_split=8, n_estimators=16 ...............\n",
      "[CV]  max_depth=4, min_samples_split=8, n_estimators=16, score=0.848, total=   0.0s\n",
      "[CV] max_depth=4, min_samples_split=8, n_estimators=64 ...............\n",
      "[CV]  max_depth=4, min_samples_split=8, n_estimators=64, score=0.787, total=   0.1s\n",
      "[CV] max_depth=4, min_samples_split=8, n_estimators=64 ...............\n",
      "[CV]  max_depth=4, min_samples_split=8, n_estimators=64, score=0.830, total=   0.1s\n",
      "[CV] max_depth=4, min_samples_split=8, n_estimators=64 ...............\n",
      "[CV]  max_depth=4, min_samples_split=8, n_estimators=64, score=0.913, total=   0.1s\n",
      "[CV] max_depth=4, min_samples_split=8, n_estimators=64 ...............\n",
      "[CV]  max_depth=4, min_samples_split=8, n_estimators=64, score=0.848, total=   0.1s\n",
      "[CV] max_depth=4, min_samples_split=8, n_estimators=256 ..............\n",
      "[CV]  max_depth=4, min_samples_split=8, n_estimators=256, score=0.723, total=   0.5s\n",
      "[CV] max_depth=4, min_samples_split=8, n_estimators=256 ..............\n",
      "[CV]  max_depth=4, min_samples_split=8, n_estimators=256, score=0.851, total=   0.5s\n",
      "[CV] max_depth=4, min_samples_split=8, n_estimators=256 ..............\n",
      "[CV]  max_depth=4, min_samples_split=8, n_estimators=256, score=0.891, total=   0.5s\n",
      "[CV] max_depth=4, min_samples_split=8, n_estimators=256 ..............\n",
      "[CV]  max_depth=4, min_samples_split=8, n_estimators=256, score=0.913, total=   0.5s\n",
      "[CV] max_depth=4, min_samples_split=16, n_estimators=4 ...............\n",
      "[CV]  max_depth=4, min_samples_split=16, n_estimators=4, score=0.723, total=   0.0s\n",
      "[CV] max_depth=4, min_samples_split=16, n_estimators=4 ...............\n",
      "[CV]  max_depth=4, min_samples_split=16, n_estimators=4, score=0.638, total=   0.0s\n",
      "[CV] max_depth=4, min_samples_split=16, n_estimators=4 ...............\n",
      "[CV]  max_depth=4, min_samples_split=16, n_estimators=4, score=0.891, total=   0.0s\n",
      "[CV] max_depth=4, min_samples_split=16, n_estimators=4 ...............\n",
      "[CV]  max_depth=4, min_samples_split=16, n_estimators=4, score=0.870, total=   0.0s\n",
      "[CV] max_depth=4, min_samples_split=16, n_estimators=16 ..............\n",
      "[CV]  max_depth=4, min_samples_split=16, n_estimators=16, score=0.681, total=   0.0s\n",
      "[CV] max_depth=4, min_samples_split=16, n_estimators=16 ..............\n",
      "[CV]  max_depth=4, min_samples_split=16, n_estimators=16, score=0.766, total=   0.0s\n",
      "[CV] max_depth=4, min_samples_split=16, n_estimators=16 ..............\n",
      "[CV]  max_depth=4, min_samples_split=16, n_estimators=16, score=0.848, total=   0.0s\n",
      "[CV] max_depth=4, min_samples_split=16, n_estimators=16 ..............\n",
      "[CV]  max_depth=4, min_samples_split=16, n_estimators=16, score=0.804, total=   0.0s\n",
      "[CV] max_depth=4, min_samples_split=16, n_estimators=64 ..............\n",
      "[CV]  max_depth=4, min_samples_split=16, n_estimators=64, score=0.723, total=   0.1s\n",
      "[CV] max_depth=4, min_samples_split=16, n_estimators=64 ..............\n",
      "[CV]  max_depth=4, min_samples_split=16, n_estimators=64, score=0.830, total=   0.1s\n",
      "[CV] max_depth=4, min_samples_split=16, n_estimators=64 ..............\n",
      "[CV]  max_depth=4, min_samples_split=16, n_estimators=64, score=0.870, total=   0.1s\n",
      "[CV] max_depth=4, min_samples_split=16, n_estimators=64 ..............\n",
      "[CV]  max_depth=4, min_samples_split=16, n_estimators=64, score=0.848, total=   0.1s\n",
      "[CV] max_depth=4, min_samples_split=16, n_estimators=256 .............\n",
      "[CV]  max_depth=4, min_samples_split=16, n_estimators=256, score=0.766, total=   0.5s\n",
      "[CV] max_depth=4, min_samples_split=16, n_estimators=256 .............\n",
      "[CV]  max_depth=4, min_samples_split=16, n_estimators=256, score=0.830, total=   0.5s\n",
      "[CV] max_depth=4, min_samples_split=16, n_estimators=256 .............\n",
      "[CV]  max_depth=4, min_samples_split=16, n_estimators=256, score=0.935, total=   0.5s\n",
      "[CV] max_depth=4, min_samples_split=16, n_estimators=256 .............\n",
      "[CV]  max_depth=4, min_samples_split=16, n_estimators=256, score=0.891, total=   0.5s\n",
      "[CV] max_depth=4, min_samples_split=32, n_estimators=4 ...............\n",
      "[CV]  max_depth=4, min_samples_split=32, n_estimators=4, score=0.660, total=   0.0s\n",
      "[CV] max_depth=4, min_samples_split=32, n_estimators=4 ...............\n",
      "[CV]  max_depth=4, min_samples_split=32, n_estimators=4, score=0.702, total=   0.0s\n",
      "[CV] max_depth=4, min_samples_split=32, n_estimators=4 ...............\n",
      "[CV]  max_depth=4, min_samples_split=32, n_estimators=4, score=0.783, total=   0.0s\n",
      "[CV] max_depth=4, min_samples_split=32, n_estimators=4 ...............\n",
      "[CV]  max_depth=4, min_samples_split=32, n_estimators=4, score=0.848, total=   0.0s\n",
      "[CV] max_depth=4, min_samples_split=32, n_estimators=16 ..............\n",
      "[CV]  max_depth=4, min_samples_split=32, n_estimators=16, score=0.681, total=   0.0s\n",
      "[CV] max_depth=4, min_samples_split=32, n_estimators=16 ..............\n",
      "[CV]  max_depth=4, min_samples_split=32, n_estimators=16, score=0.830, total=   0.0s\n",
      "[CV] max_depth=4, min_samples_split=32, n_estimators=16 ..............\n",
      "[CV]  max_depth=4, min_samples_split=32, n_estimators=16, score=0.935, total=   0.0s\n",
      "[CV] max_depth=4, min_samples_split=32, n_estimators=16 ..............\n",
      "[CV]  max_depth=4, min_samples_split=32, n_estimators=16, score=0.848, total=   0.0s\n",
      "[CV] max_depth=4, min_samples_split=32, n_estimators=64 ..............\n",
      "[CV]  max_depth=4, min_samples_split=32, n_estimators=64, score=0.745, total=   0.1s\n",
      "[CV] max_depth=4, min_samples_split=32, n_estimators=64 ..............\n",
      "[CV]  max_depth=4, min_samples_split=32, n_estimators=64, score=0.872, total=   0.1s\n",
      "[CV] max_depth=4, min_samples_split=32, n_estimators=64 ..............\n",
      "[CV]  max_depth=4, min_samples_split=32, n_estimators=64, score=0.891, total=   0.1s\n",
      "[CV] max_depth=4, min_samples_split=32, n_estimators=64 ..............\n",
      "[CV]  max_depth=4, min_samples_split=32, n_estimators=64, score=0.891, total=   0.1s\n",
      "[CV] max_depth=4, min_samples_split=32, n_estimators=256 .............\n",
      "[CV]  max_depth=4, min_samples_split=32, n_estimators=256, score=0.745, total=   0.4s\n",
      "[CV] max_depth=4, min_samples_split=32, n_estimators=256 .............\n",
      "[CV]  max_depth=4, min_samples_split=32, n_estimators=256, score=0.830, total=   0.4s\n",
      "[CV] max_depth=4, min_samples_split=32, n_estimators=256 .............\n",
      "[CV]  max_depth=4, min_samples_split=32, n_estimators=256, score=0.935, total=   0.4s\n",
      "[CV] max_depth=4, min_samples_split=32, n_estimators=256 .............\n",
      "[CV]  max_depth=4, min_samples_split=32, n_estimators=256, score=0.891, total=   0.4s\n",
      "[CV] max_depth=8, min_samples_split=2, n_estimators=4 ................\n",
      "[CV]  max_depth=8, min_samples_split=2, n_estimators=4, score=0.638, total=   0.0s\n",
      "[CV] max_depth=8, min_samples_split=2, n_estimators=4 ................\n",
      "[CV]  max_depth=8, min_samples_split=2, n_estimators=4, score=0.787, total=   0.0s\n",
      "[CV] max_depth=8, min_samples_split=2, n_estimators=4 ................\n",
      "[CV]  max_depth=8, min_samples_split=2, n_estimators=4, score=0.804, total=   0.0s\n",
      "[CV] max_depth=8, min_samples_split=2, n_estimators=4 ................\n",
      "[CV]  max_depth=8, min_samples_split=2, n_estimators=4, score=0.761, total=   0.0s\n",
      "[CV] max_depth=8, min_samples_split=2, n_estimators=16 ...............\n",
      "[CV]  max_depth=8, min_samples_split=2, n_estimators=16, score=0.702, total=   0.0s\n",
      "[CV] max_depth=8, min_samples_split=2, n_estimators=16 ...............\n",
      "[CV]  max_depth=8, min_samples_split=2, n_estimators=16, score=0.787, total=   0.0s\n",
      "[CV] max_depth=8, min_samples_split=2, n_estimators=16 ...............\n",
      "[CV]  max_depth=8, min_samples_split=2, n_estimators=16, score=0.913, total=   0.0s\n",
      "[CV] max_depth=8, min_samples_split=2, n_estimators=16 ...............\n",
      "[CV]  max_depth=8, min_samples_split=2, n_estimators=16, score=0.826, total=   0.0s\n",
      "[CV] max_depth=8, min_samples_split=2, n_estimators=64 ...............\n",
      "[CV]  max_depth=8, min_samples_split=2, n_estimators=64, score=0.723, total=   0.1s\n",
      "[CV] max_depth=8, min_samples_split=2, n_estimators=64 ...............\n",
      "[CV]  max_depth=8, min_samples_split=2, n_estimators=64, score=0.830, total=   0.1s\n",
      "[CV] max_depth=8, min_samples_split=2, n_estimators=64 ...............\n",
      "[CV]  max_depth=8, min_samples_split=2, n_estimators=64, score=0.957, total=   0.1s\n",
      "[CV] max_depth=8, min_samples_split=2, n_estimators=64 ...............\n",
      "[CV]  max_depth=8, min_samples_split=2, n_estimators=64, score=0.870, total=   0.1s\n",
      "[CV] max_depth=8, min_samples_split=2, n_estimators=256 ..............\n",
      "[CV]  max_depth=8, min_samples_split=2, n_estimators=256, score=0.745, total=   0.5s\n",
      "[CV] max_depth=8, min_samples_split=2, n_estimators=256 ..............\n",
      "[CV]  max_depth=8, min_samples_split=2, n_estimators=256, score=0.851, total=   0.5s\n",
      "[CV] max_depth=8, min_samples_split=2, n_estimators=256 ..............\n",
      "[CV]  max_depth=8, min_samples_split=2, n_estimators=256, score=0.935, total=   0.5s\n",
      "[CV] max_depth=8, min_samples_split=2, n_estimators=256 ..............\n",
      "[CV]  max_depth=8, min_samples_split=2, n_estimators=256, score=0.848, total=   0.5s\n",
      "[CV] max_depth=8, min_samples_split=4, n_estimators=4 ................\n",
      "[CV]  max_depth=8, min_samples_split=4, n_estimators=4, score=0.596, total=   0.0s\n",
      "[CV] max_depth=8, min_samples_split=4, n_estimators=4 ................\n",
      "[CV]  max_depth=8, min_samples_split=4, n_estimators=4, score=0.681, total=   0.0s\n",
      "[CV] max_depth=8, min_samples_split=4, n_estimators=4 ................\n",
      "[CV]  max_depth=8, min_samples_split=4, n_estimators=4, score=0.739, total=   0.0s\n",
      "[CV] max_depth=8, min_samples_split=4, n_estimators=4 ................\n",
      "[CV]  max_depth=8, min_samples_split=4, n_estimators=4, score=0.848, total=   0.0s\n",
      "[CV] max_depth=8, min_samples_split=4, n_estimators=16 ...............\n",
      "[CV]  max_depth=8, min_samples_split=4, n_estimators=16, score=0.745, total=   0.0s\n",
      "[CV] max_depth=8, min_samples_split=4, n_estimators=16 ...............\n",
      "[CV]  max_depth=8, min_samples_split=4, n_estimators=16, score=0.766, total=   0.0s\n",
      "[CV] max_depth=8, min_samples_split=4, n_estimators=16 ...............\n",
      "[CV]  max_depth=8, min_samples_split=4, n_estimators=16, score=0.848, total=   0.0s\n",
      "[CV] max_depth=8, min_samples_split=4, n_estimators=16 ...............\n",
      "[CV]  max_depth=8, min_samples_split=4, n_estimators=16, score=0.804, total=   0.0s\n",
      "[CV] max_depth=8, min_samples_split=4, n_estimators=64 ...............\n",
      "[CV]  max_depth=8, min_samples_split=4, n_estimators=64, score=0.766, total=   0.1s\n",
      "[CV] max_depth=8, min_samples_split=4, n_estimators=64 ...............\n",
      "[CV]  max_depth=8, min_samples_split=4, n_estimators=64, score=0.894, total=   0.1s\n",
      "[CV] max_depth=8, min_samples_split=4, n_estimators=64 ...............\n",
      "[CV]  max_depth=8, min_samples_split=4, n_estimators=64, score=0.891, total=   0.1s\n",
      "[CV] max_depth=8, min_samples_split=4, n_estimators=64 ...............\n",
      "[CV]  max_depth=8, min_samples_split=4, n_estimators=64, score=0.891, total=   0.1s\n",
      "[CV] max_depth=8, min_samples_split=4, n_estimators=256 ..............\n",
      "[CV]  max_depth=8, min_samples_split=4, n_estimators=256, score=0.766, total=   0.5s\n",
      "[CV] max_depth=8, min_samples_split=4, n_estimators=256 ..............\n",
      "[CV]  max_depth=8, min_samples_split=4, n_estimators=256, score=0.809, total=   0.5s\n",
      "[CV] max_depth=8, min_samples_split=4, n_estimators=256 ..............\n",
      "[CV]  max_depth=8, min_samples_split=4, n_estimators=256, score=0.935, total=   0.5s\n",
      "[CV] max_depth=8, min_samples_split=4, n_estimators=256 ..............\n",
      "[CV]  max_depth=8, min_samples_split=4, n_estimators=256, score=0.870, total=   0.5s\n",
      "[CV] max_depth=8, min_samples_split=8, n_estimators=4 ................\n",
      "[CV]  max_depth=8, min_samples_split=8, n_estimators=4, score=0.702, total=   0.0s\n",
      "[CV] max_depth=8, min_samples_split=8, n_estimators=4 ................\n",
      "[CV]  max_depth=8, min_samples_split=8, n_estimators=4, score=0.830, total=   0.0s\n",
      "[CV] max_depth=8, min_samples_split=8, n_estimators=4 ................\n",
      "[CV]  max_depth=8, min_samples_split=8, n_estimators=4, score=0.804, total=   0.0s\n",
      "[CV] max_depth=8, min_samples_split=8, n_estimators=4 ................\n",
      "[CV]  max_depth=8, min_samples_split=8, n_estimators=4, score=0.652, total=   0.0s\n",
      "[CV] max_depth=8, min_samples_split=8, n_estimators=16 ...............\n",
      "[CV]  max_depth=8, min_samples_split=8, n_estimators=16, score=0.745, total=   0.0s\n",
      "[CV] max_depth=8, min_samples_split=8, n_estimators=16 ...............\n",
      "[CV]  max_depth=8, min_samples_split=8, n_estimators=16, score=0.809, total=   0.0s\n",
      "[CV] max_depth=8, min_samples_split=8, n_estimators=16 ...............\n",
      "[CV]  max_depth=8, min_samples_split=8, n_estimators=16, score=0.935, total=   0.0s\n",
      "[CV] max_depth=8, min_samples_split=8, n_estimators=16 ...............\n",
      "[CV]  max_depth=8, min_samples_split=8, n_estimators=16, score=0.826, total=   0.0s\n",
      "[CV] max_depth=8, min_samples_split=8, n_estimators=64 ...............\n",
      "[CV]  max_depth=8, min_samples_split=8, n_estimators=64, score=0.723, total=   0.1s\n",
      "[CV] max_depth=8, min_samples_split=8, n_estimators=64 ...............\n",
      "[CV]  max_depth=8, min_samples_split=8, n_estimators=64, score=0.809, total=   0.1s\n",
      "[CV] max_depth=8, min_samples_split=8, n_estimators=64 ...............\n",
      "[CV]  max_depth=8, min_samples_split=8, n_estimators=64, score=0.935, total=   0.1s\n",
      "[CV] max_depth=8, min_samples_split=8, n_estimators=64 ...............\n",
      "[CV]  max_depth=8, min_samples_split=8, n_estimators=64, score=0.891, total=   0.1s\n",
      "[CV] max_depth=8, min_samples_split=8, n_estimators=256 ..............\n",
      "[CV]  max_depth=8, min_samples_split=8, n_estimators=256, score=0.723, total=   0.5s\n",
      "[CV] max_depth=8, min_samples_split=8, n_estimators=256 ..............\n",
      "[CV]  max_depth=8, min_samples_split=8, n_estimators=256, score=0.872, total=   0.5s\n",
      "[CV] max_depth=8, min_samples_split=8, n_estimators=256 ..............\n",
      "[CV]  max_depth=8, min_samples_split=8, n_estimators=256, score=0.913, total=   0.5s\n",
      "[CV] max_depth=8, min_samples_split=8, n_estimators=256 ..............\n",
      "[CV]  max_depth=8, min_samples_split=8, n_estimators=256, score=0.891, total=   0.5s\n",
      "[CV] max_depth=8, min_samples_split=16, n_estimators=4 ...............\n",
      "[CV]  max_depth=8, min_samples_split=16, n_estimators=4, score=0.787, total=   0.0s\n",
      "[CV] max_depth=8, min_samples_split=16, n_estimators=4 ...............\n",
      "[CV]  max_depth=8, min_samples_split=16, n_estimators=4, score=0.787, total=   0.0s\n",
      "[CV] max_depth=8, min_samples_split=16, n_estimators=4 ...............\n",
      "[CV]  max_depth=8, min_samples_split=16, n_estimators=4, score=0.783, total=   0.0s\n",
      "[CV] max_depth=8, min_samples_split=16, n_estimators=4 ...............\n",
      "[CV]  max_depth=8, min_samples_split=16, n_estimators=4, score=0.804, total=   0.0s\n",
      "[CV] max_depth=8, min_samples_split=16, n_estimators=16 ..............\n",
      "[CV]  max_depth=8, min_samples_split=16, n_estimators=16, score=0.702, total=   0.0s\n",
      "[CV] max_depth=8, min_samples_split=16, n_estimators=16 ..............\n",
      "[CV]  max_depth=8, min_samples_split=16, n_estimators=16, score=0.745, total=   0.0s\n",
      "[CV] max_depth=8, min_samples_split=16, n_estimators=16 ..............\n",
      "[CV]  max_depth=8, min_samples_split=16, n_estimators=16, score=0.804, total=   0.0s\n",
      "[CV] max_depth=8, min_samples_split=16, n_estimators=16 ..............\n",
      "[CV]  max_depth=8, min_samples_split=16, n_estimators=16, score=0.891, total=   0.0s\n",
      "[CV] max_depth=8, min_samples_split=16, n_estimators=64 ..............\n",
      "[CV]  max_depth=8, min_samples_split=16, n_estimators=64, score=0.702, total=   0.1s\n",
      "[CV] max_depth=8, min_samples_split=16, n_estimators=64 ..............\n",
      "[CV]  max_depth=8, min_samples_split=16, n_estimators=64, score=0.809, total=   0.1s\n",
      "[CV] max_depth=8, min_samples_split=16, n_estimators=64 ..............\n",
      "[CV]  max_depth=8, min_samples_split=16, n_estimators=64, score=0.848, total=   0.1s\n",
      "[CV] max_depth=8, min_samples_split=16, n_estimators=64 ..............\n",
      "[CV]  max_depth=8, min_samples_split=16, n_estimators=64, score=0.848, total=   0.1s\n",
      "[CV] max_depth=8, min_samples_split=16, n_estimators=256 .............\n",
      "[CV]  max_depth=8, min_samples_split=16, n_estimators=256, score=0.745, total=   0.5s\n",
      "[CV] max_depth=8, min_samples_split=16, n_estimators=256 .............\n",
      "[CV]  max_depth=8, min_samples_split=16, n_estimators=256, score=0.851, total=   0.5s\n",
      "[CV] max_depth=8, min_samples_split=16, n_estimators=256 .............\n",
      "[CV]  max_depth=8, min_samples_split=16, n_estimators=256, score=0.957, total=   0.5s\n",
      "[CV] max_depth=8, min_samples_split=16, n_estimators=256 .............\n",
      "[CV]  max_depth=8, min_samples_split=16, n_estimators=256, score=0.913, total=   0.5s\n",
      "[CV] max_depth=8, min_samples_split=32, n_estimators=4 ...............\n",
      "[CV]  max_depth=8, min_samples_split=32, n_estimators=4, score=0.532, total=   0.0s\n",
      "[CV] max_depth=8, min_samples_split=32, n_estimators=4 ...............\n",
      "[CV]  max_depth=8, min_samples_split=32, n_estimators=4, score=0.766, total=   0.0s\n",
      "[CV] max_depth=8, min_samples_split=32, n_estimators=4 ...............\n",
      "[CV]  max_depth=8, min_samples_split=32, n_estimators=4, score=0.848, total=   0.0s\n",
      "[CV] max_depth=8, min_samples_split=32, n_estimators=4 ...............\n",
      "[CV]  max_depth=8, min_samples_split=32, n_estimators=4, score=0.804, total=   0.0s\n",
      "[CV] max_depth=8, min_samples_split=32, n_estimators=16 ..............\n",
      "[CV]  max_depth=8, min_samples_split=32, n_estimators=16, score=0.745, total=   0.0s\n",
      "[CV] max_depth=8, min_samples_split=32, n_estimators=16 ..............\n",
      "[CV]  max_depth=8, min_samples_split=32, n_estimators=16, score=0.766, total=   0.0s\n",
      "[CV] max_depth=8, min_samples_split=32, n_estimators=16 ..............\n",
      "[CV]  max_depth=8, min_samples_split=32, n_estimators=16, score=0.848, total=   0.0s\n",
      "[CV] max_depth=8, min_samples_split=32, n_estimators=16 ..............\n",
      "[CV]  max_depth=8, min_samples_split=32, n_estimators=16, score=0.870, total=   0.0s\n",
      "[CV] max_depth=8, min_samples_split=32, n_estimators=64 ..............\n",
      "[CV]  max_depth=8, min_samples_split=32, n_estimators=64, score=0.681, total=   0.1s\n",
      "[CV] max_depth=8, min_samples_split=32, n_estimators=64 ..............\n",
      "[CV]  max_depth=8, min_samples_split=32, n_estimators=64, score=0.830, total=   0.1s\n",
      "[CV] max_depth=8, min_samples_split=32, n_estimators=64 ..............\n",
      "[CV]  max_depth=8, min_samples_split=32, n_estimators=64, score=0.935, total=   0.1s\n",
      "[CV] max_depth=8, min_samples_split=32, n_estimators=64 ..............\n",
      "[CV]  max_depth=8, min_samples_split=32, n_estimators=64, score=0.891, total=   0.1s\n",
      "[CV] max_depth=8, min_samples_split=32, n_estimators=256 .............\n",
      "[CV]  max_depth=8, min_samples_split=32, n_estimators=256, score=0.745, total=   0.5s\n",
      "[CV] max_depth=8, min_samples_split=32, n_estimators=256 .............\n",
      "[CV]  max_depth=8, min_samples_split=32, n_estimators=256, score=0.830, total=   0.5s\n",
      "[CV] max_depth=8, min_samples_split=32, n_estimators=256 .............\n",
      "[CV]  max_depth=8, min_samples_split=32, n_estimators=256, score=0.957, total=   0.5s\n",
      "[CV] max_depth=8, min_samples_split=32, n_estimators=256 .............\n",
      "[CV]  max_depth=8, min_samples_split=32, n_estimators=256, score=0.891, total=   0.5s\n",
      "[CV] max_depth=16, min_samples_split=2, n_estimators=4 ...............\n",
      "[CV]  max_depth=16, min_samples_split=2, n_estimators=4, score=0.702, total=   0.0s\n",
      "[CV] max_depth=16, min_samples_split=2, n_estimators=4 ...............\n",
      "[CV]  max_depth=16, min_samples_split=2, n_estimators=4, score=0.702, total=   0.0s\n",
      "[CV] max_depth=16, min_samples_split=2, n_estimators=4 ...............\n",
      "[CV]  max_depth=16, min_samples_split=2, n_estimators=4, score=0.630, total=   0.0s\n",
      "[CV] max_depth=16, min_samples_split=2, n_estimators=4 ...............\n",
      "[CV]  max_depth=16, min_samples_split=2, n_estimators=4, score=0.696, total=   0.0s\n",
      "[CV] max_depth=16, min_samples_split=2, n_estimators=16 ..............\n",
      "[CV]  max_depth=16, min_samples_split=2, n_estimators=16, score=0.702, total=   0.0s\n",
      "[CV] max_depth=16, min_samples_split=2, n_estimators=16 ..............\n",
      "[CV]  max_depth=16, min_samples_split=2, n_estimators=16, score=0.766, total=   0.0s\n",
      "[CV] max_depth=16, min_samples_split=2, n_estimators=16 ..............\n",
      "[CV]  max_depth=16, min_samples_split=2, n_estimators=16, score=0.848, total=   0.0s\n",
      "[CV] max_depth=16, min_samples_split=2, n_estimators=16 ..............\n",
      "[CV]  max_depth=16, min_samples_split=2, n_estimators=16, score=0.783, total=   0.0s\n",
      "[CV] max_depth=16, min_samples_split=2, n_estimators=64 ..............\n",
      "[CV]  max_depth=16, min_samples_split=2, n_estimators=64, score=0.723, total=   0.1s\n",
      "[CV] max_depth=16, min_samples_split=2, n_estimators=64 ..............\n",
      "[CV]  max_depth=16, min_samples_split=2, n_estimators=64, score=0.809, total=   0.1s\n",
      "[CV] max_depth=16, min_samples_split=2, n_estimators=64 ..............\n",
      "[CV]  max_depth=16, min_samples_split=2, n_estimators=64, score=0.913, total=   0.1s\n",
      "[CV] max_depth=16, min_samples_split=2, n_estimators=64 ..............\n",
      "[CV]  max_depth=16, min_samples_split=2, n_estimators=64, score=0.783, total=   0.1s\n",
      "[CV] max_depth=16, min_samples_split=2, n_estimators=256 .............\n",
      "[CV]  max_depth=16, min_samples_split=2, n_estimators=256, score=0.702, total=   0.5s\n",
      "[CV] max_depth=16, min_samples_split=2, n_estimators=256 .............\n",
      "[CV]  max_depth=16, min_samples_split=2, n_estimators=256, score=0.851, total=   0.5s\n",
      "[CV] max_depth=16, min_samples_split=2, n_estimators=256 .............\n",
      "[CV]  max_depth=16, min_samples_split=2, n_estimators=256, score=0.957, total=   0.5s\n",
      "[CV] max_depth=16, min_samples_split=2, n_estimators=256 .............\n",
      "[CV]  max_depth=16, min_samples_split=2, n_estimators=256, score=0.870, total=   0.5s\n",
      "[CV] max_depth=16, min_samples_split=4, n_estimators=4 ...............\n",
      "[CV]  max_depth=16, min_samples_split=4, n_estimators=4, score=0.660, total=   0.0s\n",
      "[CV] max_depth=16, min_samples_split=4, n_estimators=4 ...............\n",
      "[CV]  max_depth=16, min_samples_split=4, n_estimators=4, score=0.830, total=   0.0s\n",
      "[CV] max_depth=16, min_samples_split=4, n_estimators=4 ...............\n",
      "[CV]  max_depth=16, min_samples_split=4, n_estimators=4, score=0.739, total=   0.0s\n",
      "[CV] max_depth=16, min_samples_split=4, n_estimators=4 ...............\n",
      "[CV]  max_depth=16, min_samples_split=4, n_estimators=4, score=0.848, total=   0.0s\n",
      "[CV] max_depth=16, min_samples_split=4, n_estimators=16 ..............\n",
      "[CV]  max_depth=16, min_samples_split=4, n_estimators=16, score=0.745, total=   0.0s\n",
      "[CV] max_depth=16, min_samples_split=4, n_estimators=16 ..............\n",
      "[CV]  max_depth=16, min_samples_split=4, n_estimators=16, score=0.787, total=   0.0s\n",
      "[CV] max_depth=16, min_samples_split=4, n_estimators=16 ..............\n",
      "[CV]  max_depth=16, min_samples_split=4, n_estimators=16, score=0.804, total=   0.0s\n",
      "[CV] max_depth=16, min_samples_split=4, n_estimators=16 ..............\n",
      "[CV]  max_depth=16, min_samples_split=4, n_estimators=16, score=0.848, total=   0.0s\n",
      "[CV] max_depth=16, min_samples_split=4, n_estimators=64 ..............\n",
      "[CV]  max_depth=16, min_samples_split=4, n_estimators=64, score=0.787, total=   0.1s\n",
      "[CV] max_depth=16, min_samples_split=4, n_estimators=64 ..............\n",
      "[CV]  max_depth=16, min_samples_split=4, n_estimators=64, score=0.872, total=   0.1s\n",
      "[CV] max_depth=16, min_samples_split=4, n_estimators=64 ..............\n",
      "[CV]  max_depth=16, min_samples_split=4, n_estimators=64, score=0.913, total=   0.1s\n",
      "[CV] max_depth=16, min_samples_split=4, n_estimators=64 ..............\n",
      "[CV]  max_depth=16, min_samples_split=4, n_estimators=64, score=0.870, total=   0.1s\n",
      "[CV] max_depth=16, min_samples_split=4, n_estimators=256 .............\n",
      "[CV]  max_depth=16, min_samples_split=4, n_estimators=256, score=0.787, total=   0.5s\n",
      "[CV] max_depth=16, min_samples_split=4, n_estimators=256 .............\n",
      "[CV]  max_depth=16, min_samples_split=4, n_estimators=256, score=0.830, total=   0.5s\n",
      "[CV] max_depth=16, min_samples_split=4, n_estimators=256 .............\n",
      "[CV]  max_depth=16, min_samples_split=4, n_estimators=256, score=0.935, total=   0.5s\n",
      "[CV] max_depth=16, min_samples_split=4, n_estimators=256 .............\n",
      "[CV]  max_depth=16, min_samples_split=4, n_estimators=256, score=0.848, total=   0.5s\n",
      "[CV] max_depth=16, min_samples_split=8, n_estimators=4 ...............\n",
      "[CV]  max_depth=16, min_samples_split=8, n_estimators=4, score=0.702, total=   0.0s\n",
      "[CV] max_depth=16, min_samples_split=8, n_estimators=4 ...............\n",
      "[CV]  max_depth=16, min_samples_split=8, n_estimators=4, score=0.809, total=   0.0s\n",
      "[CV] max_depth=16, min_samples_split=8, n_estimators=4 ...............\n",
      "[CV]  max_depth=16, min_samples_split=8, n_estimators=4, score=0.804, total=   0.0s\n",
      "[CV] max_depth=16, min_samples_split=8, n_estimators=4 ...............\n",
      "[CV]  max_depth=16, min_samples_split=8, n_estimators=4, score=0.826, total=   0.0s\n",
      "[CV] max_depth=16, min_samples_split=8, n_estimators=16 ..............\n",
      "[CV]  max_depth=16, min_samples_split=8, n_estimators=16, score=0.766, total=   0.0s\n",
      "[CV] max_depth=16, min_samples_split=8, n_estimators=16 ..............\n",
      "[CV]  max_depth=16, min_samples_split=8, n_estimators=16, score=0.872, total=   0.0s\n",
      "[CV] max_depth=16, min_samples_split=8, n_estimators=16 ..............\n",
      "[CV]  max_depth=16, min_samples_split=8, n_estimators=16, score=0.891, total=   0.0s\n",
      "[CV] max_depth=16, min_samples_split=8, n_estimators=16 ..............\n",
      "[CV]  max_depth=16, min_samples_split=8, n_estimators=16, score=0.848, total=   0.0s\n",
      "[CV] max_depth=16, min_samples_split=8, n_estimators=64 ..............\n",
      "[CV]  max_depth=16, min_samples_split=8, n_estimators=64, score=0.766, total=   0.1s\n",
      "[CV] max_depth=16, min_samples_split=8, n_estimators=64 ..............\n",
      "[CV]  max_depth=16, min_samples_split=8, n_estimators=64, score=0.809, total=   0.1s\n",
      "[CV] max_depth=16, min_samples_split=8, n_estimators=64 ..............\n",
      "[CV]  max_depth=16, min_samples_split=8, n_estimators=64, score=0.891, total=   0.1s\n",
      "[CV] max_depth=16, min_samples_split=8, n_estimators=64 ..............\n",
      "[CV]  max_depth=16, min_samples_split=8, n_estimators=64, score=0.891, total=   0.1s\n",
      "[CV] max_depth=16, min_samples_split=8, n_estimators=256 .............\n",
      "[CV]  max_depth=16, min_samples_split=8, n_estimators=256, score=0.745, total=   0.5s\n",
      "[CV] max_depth=16, min_samples_split=8, n_estimators=256 .............\n",
      "[CV]  max_depth=16, min_samples_split=8, n_estimators=256, score=0.851, total=   0.5s\n",
      "[CV] max_depth=16, min_samples_split=8, n_estimators=256 .............\n",
      "[CV]  max_depth=16, min_samples_split=8, n_estimators=256, score=0.891, total=   0.5s\n",
      "[CV] max_depth=16, min_samples_split=8, n_estimators=256 .............\n",
      "[CV]  max_depth=16, min_samples_split=8, n_estimators=256, score=0.891, total=   0.5s\n",
      "[CV] max_depth=16, min_samples_split=16, n_estimators=4 ..............\n",
      "[CV]  max_depth=16, min_samples_split=16, n_estimators=4, score=0.532, total=   0.0s\n",
      "[CV] max_depth=16, min_samples_split=16, n_estimators=4 ..............\n",
      "[CV]  max_depth=16, min_samples_split=16, n_estimators=4, score=0.766, total=   0.0s\n",
      "[CV] max_depth=16, min_samples_split=16, n_estimators=4 ..............\n",
      "[CV]  max_depth=16, min_samples_split=16, n_estimators=4, score=0.804, total=   0.0s\n",
      "[CV] max_depth=16, min_samples_split=16, n_estimators=4 ..............\n",
      "[CV]  max_depth=16, min_samples_split=16, n_estimators=4, score=0.783, total=   0.0s\n",
      "[CV] max_depth=16, min_samples_split=16, n_estimators=16 .............\n",
      "[CV]  max_depth=16, min_samples_split=16, n_estimators=16, score=0.809, total=   0.0s\n",
      "[CV] max_depth=16, min_samples_split=16, n_estimators=16 .............\n",
      "[CV]  max_depth=16, min_samples_split=16, n_estimators=16, score=0.766, total=   0.0s\n",
      "[CV] max_depth=16, min_samples_split=16, n_estimators=16 .............\n",
      "[CV]  max_depth=16, min_samples_split=16, n_estimators=16, score=0.913, total=   0.0s\n",
      "[CV] max_depth=16, min_samples_split=16, n_estimators=16 .............\n",
      "[CV]  max_depth=16, min_samples_split=16, n_estimators=16, score=0.761, total=   0.0s\n",
      "[CV] max_depth=16, min_samples_split=16, n_estimators=64 .............\n",
      "[CV]  max_depth=16, min_samples_split=16, n_estimators=64, score=0.745, total=   0.1s\n",
      "[CV] max_depth=16, min_samples_split=16, n_estimators=64 .............\n",
      "[CV]  max_depth=16, min_samples_split=16, n_estimators=64, score=0.830, total=   0.1s\n",
      "[CV] max_depth=16, min_samples_split=16, n_estimators=64 .............\n",
      "[CV]  max_depth=16, min_samples_split=16, n_estimators=64, score=0.935, total=   0.1s\n",
      "[CV] max_depth=16, min_samples_split=16, n_estimators=64 .............\n",
      "[CV]  max_depth=16, min_samples_split=16, n_estimators=64, score=0.848, total=   0.1s\n",
      "[CV] max_depth=16, min_samples_split=16, n_estimators=256 ............\n",
      "[CV]  max_depth=16, min_samples_split=16, n_estimators=256, score=0.745, total=   0.5s\n",
      "[CV] max_depth=16, min_samples_split=16, n_estimators=256 ............\n",
      "[CV]  max_depth=16, min_samples_split=16, n_estimators=256, score=0.851, total=   0.5s\n",
      "[CV] max_depth=16, min_samples_split=16, n_estimators=256 ............\n",
      "[CV]  max_depth=16, min_samples_split=16, n_estimators=256, score=0.913, total=   0.5s\n",
      "[CV] max_depth=16, min_samples_split=16, n_estimators=256 ............\n",
      "[CV]  max_depth=16, min_samples_split=16, n_estimators=256, score=0.891, total=   0.5s\n",
      "[CV] max_depth=16, min_samples_split=32, n_estimators=4 ..............\n",
      "[CV]  max_depth=16, min_samples_split=32, n_estimators=4, score=0.766, total=   0.0s\n",
      "[CV] max_depth=16, min_samples_split=32, n_estimators=4 ..............\n",
      "[CV]  max_depth=16, min_samples_split=32, n_estimators=4, score=0.851, total=   0.0s\n",
      "[CV] max_depth=16, min_samples_split=32, n_estimators=4 ..............\n",
      "[CV]  max_depth=16, min_samples_split=32, n_estimators=4, score=0.826, total=   0.0s\n",
      "[CV] max_depth=16, min_samples_split=32, n_estimators=4 ..............\n",
      "[CV]  max_depth=16, min_samples_split=32, n_estimators=4, score=0.804, total=   0.0s\n",
      "[CV] max_depth=16, min_samples_split=32, n_estimators=16 .............\n",
      "[CV]  max_depth=16, min_samples_split=32, n_estimators=16, score=0.681, total=   0.0s\n",
      "[CV] max_depth=16, min_samples_split=32, n_estimators=16 .............\n",
      "[CV]  max_depth=16, min_samples_split=32, n_estimators=16, score=0.830, total=   0.0s\n",
      "[CV] max_depth=16, min_samples_split=32, n_estimators=16 .............\n",
      "[CV]  max_depth=16, min_samples_split=32, n_estimators=16, score=0.848, total=   0.0s\n",
      "[CV] max_depth=16, min_samples_split=32, n_estimators=16 .............\n",
      "[CV]  max_depth=16, min_samples_split=32, n_estimators=16, score=0.848, total=   0.0s\n",
      "[CV] max_depth=16, min_samples_split=32, n_estimators=64 .............\n",
      "[CV]  max_depth=16, min_samples_split=32, n_estimators=64, score=0.745, total=   0.1s\n",
      "[CV] max_depth=16, min_samples_split=32, n_estimators=64 .............\n",
      "[CV]  max_depth=16, min_samples_split=32, n_estimators=64, score=0.830, total=   0.1s\n",
      "[CV] max_depth=16, min_samples_split=32, n_estimators=64 .............\n",
      "[CV]  max_depth=16, min_samples_split=32, n_estimators=64, score=0.978, total=   0.1s\n",
      "[CV] max_depth=16, min_samples_split=32, n_estimators=64 .............\n",
      "[CV]  max_depth=16, min_samples_split=32, n_estimators=64, score=0.891, total=   0.1s\n",
      "[CV] max_depth=16, min_samples_split=32, n_estimators=256 ............\n",
      "[CV]  max_depth=16, min_samples_split=32, n_estimators=256, score=0.702, total=   0.5s\n",
      "[CV] max_depth=16, min_samples_split=32, n_estimators=256 ............\n",
      "[CV]  max_depth=16, min_samples_split=32, n_estimators=256, score=0.851, total=   0.5s\n",
      "[CV] max_depth=16, min_samples_split=32, n_estimators=256 ............\n",
      "[CV]  max_depth=16, min_samples_split=32, n_estimators=256, score=0.957, total=   0.5s\n",
      "[CV] max_depth=16, min_samples_split=32, n_estimators=256 ............\n",
      "[CV]  max_depth=16, min_samples_split=32, n_estimators=256, score=0.913, total=   0.5s\n",
      "[CV] max_depth=32, min_samples_split=2, n_estimators=4 ...............\n",
      "[CV]  max_depth=32, min_samples_split=2, n_estimators=4, score=0.681, total=   0.0s\n",
      "[CV] max_depth=32, min_samples_split=2, n_estimators=4 ...............\n",
      "[CV]  max_depth=32, min_samples_split=2, n_estimators=4, score=0.702, total=   0.0s\n",
      "[CV] max_depth=32, min_samples_split=2, n_estimators=4 ...............\n",
      "[CV]  max_depth=32, min_samples_split=2, n_estimators=4, score=0.717, total=   0.0s\n",
      "[CV] max_depth=32, min_samples_split=2, n_estimators=4 ...............\n",
      "[CV]  max_depth=32, min_samples_split=2, n_estimators=4, score=0.739, total=   0.0s\n",
      "[CV] max_depth=32, min_samples_split=2, n_estimators=16 ..............\n",
      "[CV]  max_depth=32, min_samples_split=2, n_estimators=16, score=0.745, total=   0.0s\n",
      "[CV] max_depth=32, min_samples_split=2, n_estimators=16 ..............\n",
      "[CV]  max_depth=32, min_samples_split=2, n_estimators=16, score=0.723, total=   0.0s\n",
      "[CV] max_depth=32, min_samples_split=2, n_estimators=16 ..............\n",
      "[CV]  max_depth=32, min_samples_split=2, n_estimators=16, score=0.935, total=   0.0s\n",
      "[CV] max_depth=32, min_samples_split=2, n_estimators=16 ..............\n",
      "[CV]  max_depth=32, min_samples_split=2, n_estimators=16, score=0.761, total=   0.0s\n",
      "[CV] max_depth=32, min_samples_split=2, n_estimators=64 ..............\n",
      "[CV]  max_depth=32, min_samples_split=2, n_estimators=64, score=0.745, total=   0.1s\n",
      "[CV] max_depth=32, min_samples_split=2, n_estimators=64 ..............\n",
      "[CV]  max_depth=32, min_samples_split=2, n_estimators=64, score=0.787, total=   0.1s\n",
      "[CV] max_depth=32, min_samples_split=2, n_estimators=64 ..............\n",
      "[CV]  max_depth=32, min_samples_split=2, n_estimators=64, score=0.891, total=   0.1s\n",
      "[CV] max_depth=32, min_samples_split=2, n_estimators=64 ..............\n",
      "[CV]  max_depth=32, min_samples_split=2, n_estimators=64, score=0.848, total=   0.1s\n",
      "[CV] max_depth=32, min_samples_split=2, n_estimators=256 .............\n",
      "[CV]  max_depth=32, min_samples_split=2, n_estimators=256, score=0.766, total=   0.5s\n",
      "[CV] max_depth=32, min_samples_split=2, n_estimators=256 .............\n",
      "[CV]  max_depth=32, min_samples_split=2, n_estimators=256, score=0.872, total=   0.5s\n",
      "[CV] max_depth=32, min_samples_split=2, n_estimators=256 .............\n",
      "[CV]  max_depth=32, min_samples_split=2, n_estimators=256, score=0.913, total=   0.5s\n",
      "[CV] max_depth=32, min_samples_split=2, n_estimators=256 .............\n",
      "[CV]  max_depth=32, min_samples_split=2, n_estimators=256, score=0.870, total=   0.5s\n",
      "[CV] max_depth=32, min_samples_split=4, n_estimators=4 ...............\n",
      "[CV]  max_depth=32, min_samples_split=4, n_estimators=4, score=0.809, total=   0.0s\n",
      "[CV] max_depth=32, min_samples_split=4, n_estimators=4 ...............\n",
      "[CV]  max_depth=32, min_samples_split=4, n_estimators=4, score=0.702, total=   0.0s\n",
      "[CV] max_depth=32, min_samples_split=4, n_estimators=4 ...............\n",
      "[CV]  max_depth=32, min_samples_split=4, n_estimators=4, score=0.848, total=   0.0s\n",
      "[CV] max_depth=32, min_samples_split=4, n_estimators=4 ...............\n",
      "[CV]  max_depth=32, min_samples_split=4, n_estimators=4, score=0.696, total=   0.0s\n",
      "[CV] max_depth=32, min_samples_split=4, n_estimators=16 ..............\n",
      "[CV]  max_depth=32, min_samples_split=4, n_estimators=16, score=0.809, total=   0.0s\n",
      "[CV] max_depth=32, min_samples_split=4, n_estimators=16 ..............\n",
      "[CV]  max_depth=32, min_samples_split=4, n_estimators=16, score=0.787, total=   0.0s\n",
      "[CV] max_depth=32, min_samples_split=4, n_estimators=16 ..............\n",
      "[CV]  max_depth=32, min_samples_split=4, n_estimators=16, score=0.826, total=   0.0s\n",
      "[CV] max_depth=32, min_samples_split=4, n_estimators=16 ..............\n",
      "[CV]  max_depth=32, min_samples_split=4, n_estimators=16, score=0.848, total=   0.0s\n",
      "[CV] max_depth=32, min_samples_split=4, n_estimators=64 ..............\n",
      "[CV]  max_depth=32, min_samples_split=4, n_estimators=64, score=0.702, total=   0.1s\n",
      "[CV] max_depth=32, min_samples_split=4, n_estimators=64 ..............\n",
      "[CV]  max_depth=32, min_samples_split=4, n_estimators=64, score=0.872, total=   0.1s\n",
      "[CV] max_depth=32, min_samples_split=4, n_estimators=64 ..............\n",
      "[CV]  max_depth=32, min_samples_split=4, n_estimators=64, score=0.935, total=   0.1s\n",
      "[CV] max_depth=32, min_samples_split=4, n_estimators=64 ..............\n",
      "[CV]  max_depth=32, min_samples_split=4, n_estimators=64, score=0.804, total=   0.1s\n",
      "[CV] max_depth=32, min_samples_split=4, n_estimators=256 .............\n",
      "[CV]  max_depth=32, min_samples_split=4, n_estimators=256, score=0.723, total=   0.5s\n",
      "[CV] max_depth=32, min_samples_split=4, n_estimators=256 .............\n",
      "[CV]  max_depth=32, min_samples_split=4, n_estimators=256, score=0.851, total=   0.5s\n",
      "[CV] max_depth=32, min_samples_split=4, n_estimators=256 .............\n",
      "[CV]  max_depth=32, min_samples_split=4, n_estimators=256, score=0.935, total=   0.5s\n",
      "[CV] max_depth=32, min_samples_split=4, n_estimators=256 .............\n",
      "[CV]  max_depth=32, min_samples_split=4, n_estimators=256, score=0.891, total=   0.5s\n",
      "[CV] max_depth=32, min_samples_split=8, n_estimators=4 ...............\n",
      "[CV]  max_depth=32, min_samples_split=8, n_estimators=4, score=0.745, total=   0.0s\n",
      "[CV] max_depth=32, min_samples_split=8, n_estimators=4 ...............\n",
      "[CV]  max_depth=32, min_samples_split=8, n_estimators=4, score=0.851, total=   0.0s\n",
      "[CV] max_depth=32, min_samples_split=8, n_estimators=4 ...............\n",
      "[CV]  max_depth=32, min_samples_split=8, n_estimators=4, score=0.804, total=   0.0s\n",
      "[CV] max_depth=32, min_samples_split=8, n_estimators=4 ...............\n",
      "[CV]  max_depth=32, min_samples_split=8, n_estimators=4, score=0.761, total=   0.0s\n",
      "[CV] max_depth=32, min_samples_split=8, n_estimators=16 ..............\n",
      "[CV]  max_depth=32, min_samples_split=8, n_estimators=16, score=0.681, total=   0.0s\n",
      "[CV] max_depth=32, min_samples_split=8, n_estimators=16 ..............\n",
      "[CV]  max_depth=32, min_samples_split=8, n_estimators=16, score=0.766, total=   0.0s\n",
      "[CV] max_depth=32, min_samples_split=8, n_estimators=16 ..............\n",
      "[CV]  max_depth=32, min_samples_split=8, n_estimators=16, score=0.717, total=   0.0s\n",
      "[CV] max_depth=32, min_samples_split=8, n_estimators=16 ..............\n",
      "[CV]  max_depth=32, min_samples_split=8, n_estimators=16, score=0.826, total=   0.0s\n",
      "[CV] max_depth=32, min_samples_split=8, n_estimators=64 ..............\n",
      "[CV]  max_depth=32, min_samples_split=8, n_estimators=64, score=0.745, total=   0.1s\n",
      "[CV] max_depth=32, min_samples_split=8, n_estimators=64 ..............\n",
      "[CV]  max_depth=32, min_samples_split=8, n_estimators=64, score=0.809, total=   0.1s\n",
      "[CV] max_depth=32, min_samples_split=8, n_estimators=64 ..............\n",
      "[CV]  max_depth=32, min_samples_split=8, n_estimators=64, score=0.913, total=   0.1s\n",
      "[CV] max_depth=32, min_samples_split=8, n_estimators=64 ..............\n",
      "[CV]  max_depth=32, min_samples_split=8, n_estimators=64, score=0.826, total=   0.1s\n",
      "[CV] max_depth=32, min_samples_split=8, n_estimators=256 .............\n",
      "[CV]  max_depth=32, min_samples_split=8, n_estimators=256, score=0.723, total=   0.5s\n",
      "[CV] max_depth=32, min_samples_split=8, n_estimators=256 .............\n",
      "[CV]  max_depth=32, min_samples_split=8, n_estimators=256, score=0.830, total=   0.5s\n",
      "[CV] max_depth=32, min_samples_split=8, n_estimators=256 .............\n",
      "[CV]  max_depth=32, min_samples_split=8, n_estimators=256, score=0.870, total=   0.5s\n",
      "[CV] max_depth=32, min_samples_split=8, n_estimators=256 .............\n",
      "[CV]  max_depth=32, min_samples_split=8, n_estimators=256, score=0.913, total=   0.5s\n",
      "[CV] max_depth=32, min_samples_split=16, n_estimators=4 ..............\n",
      "[CV]  max_depth=32, min_samples_split=16, n_estimators=4, score=0.723, total=   0.0s\n",
      "[CV] max_depth=32, min_samples_split=16, n_estimators=4 ..............\n",
      "[CV]  max_depth=32, min_samples_split=16, n_estimators=4, score=0.723, total=   0.0s\n",
      "[CV] max_depth=32, min_samples_split=16, n_estimators=4 ..............\n",
      "[CV]  max_depth=32, min_samples_split=16, n_estimators=4, score=0.804, total=   0.0s\n",
      "[CV] max_depth=32, min_samples_split=16, n_estimators=4 ..............\n",
      "[CV]  max_depth=32, min_samples_split=16, n_estimators=4, score=0.826, total=   0.0s\n",
      "[CV] max_depth=32, min_samples_split=16, n_estimators=16 .............\n",
      "[CV]  max_depth=32, min_samples_split=16, n_estimators=16, score=0.702, total=   0.0s\n",
      "[CV] max_depth=32, min_samples_split=16, n_estimators=16 .............\n",
      "[CV]  max_depth=32, min_samples_split=16, n_estimators=16, score=0.809, total=   0.0s\n",
      "[CV] max_depth=32, min_samples_split=16, n_estimators=16 .............\n",
      "[CV]  max_depth=32, min_samples_split=16, n_estimators=16, score=0.913, total=   0.0s\n",
      "[CV] max_depth=32, min_samples_split=16, n_estimators=16 .............\n",
      "[CV]  max_depth=32, min_samples_split=16, n_estimators=16, score=0.761, total=   0.0s\n",
      "[CV] max_depth=32, min_samples_split=16, n_estimators=64 .............\n",
      "[CV]  max_depth=32, min_samples_split=16, n_estimators=64, score=0.745, total=   0.1s\n",
      "[CV] max_depth=32, min_samples_split=16, n_estimators=64 .............\n",
      "[CV]  max_depth=32, min_samples_split=16, n_estimators=64, score=0.851, total=   0.1s\n",
      "[CV] max_depth=32, min_samples_split=16, n_estimators=64 .............\n",
      "[CV]  max_depth=32, min_samples_split=16, n_estimators=64, score=0.913, total=   0.1s\n",
      "[CV] max_depth=32, min_samples_split=16, n_estimators=64 .............\n",
      "[CV]  max_depth=32, min_samples_split=16, n_estimators=64, score=0.913, total=   0.1s\n",
      "[CV] max_depth=32, min_samples_split=16, n_estimators=256 ............\n",
      "[CV]  max_depth=32, min_samples_split=16, n_estimators=256, score=0.766, total=   0.5s\n",
      "[CV] max_depth=32, min_samples_split=16, n_estimators=256 ............\n",
      "[CV]  max_depth=32, min_samples_split=16, n_estimators=256, score=0.851, total=   0.5s\n",
      "[CV] max_depth=32, min_samples_split=16, n_estimators=256 ............\n",
      "[CV]  max_depth=32, min_samples_split=16, n_estimators=256, score=0.935, total=   0.5s\n",
      "[CV] max_depth=32, min_samples_split=16, n_estimators=256 ............\n",
      "[CV]  max_depth=32, min_samples_split=16, n_estimators=256, score=0.848, total=   0.5s\n",
      "[CV] max_depth=32, min_samples_split=32, n_estimators=4 ..............\n",
      "[CV]  max_depth=32, min_samples_split=32, n_estimators=4, score=0.617, total=   0.0s\n",
      "[CV] max_depth=32, min_samples_split=32, n_estimators=4 ..............\n",
      "[CV]  max_depth=32, min_samples_split=32, n_estimators=4, score=0.745, total=   0.0s\n",
      "[CV] max_depth=32, min_samples_split=32, n_estimators=4 ..............\n",
      "[CV]  max_depth=32, min_samples_split=32, n_estimators=4, score=0.870, total=   0.0s\n",
      "[CV] max_depth=32, min_samples_split=32, n_estimators=4 ..............\n",
      "[CV]  max_depth=32, min_samples_split=32, n_estimators=4, score=0.804, total=   0.0s\n",
      "[CV] max_depth=32, min_samples_split=32, n_estimators=16 .............\n",
      "[CV]  max_depth=32, min_samples_split=32, n_estimators=16, score=0.766, total=   0.0s\n",
      "[CV] max_depth=32, min_samples_split=32, n_estimators=16 .............\n",
      "[CV]  max_depth=32, min_samples_split=32, n_estimators=16, score=0.830, total=   0.0s\n",
      "[CV] max_depth=32, min_samples_split=32, n_estimators=16 .............\n",
      "[CV]  max_depth=32, min_samples_split=32, n_estimators=16, score=0.826, total=   0.0s\n",
      "[CV] max_depth=32, min_samples_split=32, n_estimators=16 .............\n",
      "[CV]  max_depth=32, min_samples_split=32, n_estimators=16, score=0.848, total=   0.0s\n",
      "[CV] max_depth=32, min_samples_split=32, n_estimators=64 .............\n",
      "[CV]  max_depth=32, min_samples_split=32, n_estimators=64, score=0.766, total=   0.1s\n",
      "[CV] max_depth=32, min_samples_split=32, n_estimators=64 .............\n",
      "[CV]  max_depth=32, min_samples_split=32, n_estimators=64, score=0.809, total=   0.1s\n",
      "[CV] max_depth=32, min_samples_split=32, n_estimators=64 .............\n",
      "[CV]  max_depth=32, min_samples_split=32, n_estimators=64, score=0.957, total=   0.1s\n",
      "[CV] max_depth=32, min_samples_split=32, n_estimators=64 .............\n",
      "[CV]  max_depth=32, min_samples_split=32, n_estimators=64, score=0.870, total=   0.1s\n",
      "[CV] max_depth=32, min_samples_split=32, n_estimators=256 ............\n",
      "[CV]  max_depth=32, min_samples_split=32, n_estimators=256, score=0.702, total=   0.5s\n",
      "[CV] max_depth=32, min_samples_split=32, n_estimators=256 ............\n",
      "[CV]  max_depth=32, min_samples_split=32, n_estimators=256, score=0.809, total=   0.5s\n",
      "[CV] max_depth=32, min_samples_split=32, n_estimators=256 ............\n",
      "[CV]  max_depth=32, min_samples_split=32, n_estimators=256, score=0.935, total=   0.5s\n",
      "[CV] max_depth=32, min_samples_split=32, n_estimators=256 ............\n",
      "[CV]  max_depth=32, min_samples_split=32, n_estimators=256, score=0.891, total=   0.5s\n"
     ]
    },
    {
     "name": "stderr",
     "output_type": "stream",
     "text": [
      "[Parallel(n_jobs=1)]: Done 400 out of 400 | elapsed:  1.1min finished\n",
      "Setting a random_state has no effect since shuffle is False. This will raise an error in 0.24. You should leave random_state to its default (None), or set shuffle=True.\n",
      "Setting a random_state has no effect since shuffle is False. This will raise an error in 0.24. You should leave random_state to its default (None), or set shuffle=True.\n",
      "[Parallel(n_jobs=1)]: Using backend SequentialBackend with 1 concurrent workers.\n"
     ]
    },
    {
     "name": "stdout",
     "output_type": "stream",
     "text": [
      "Fitting 4 folds for each of 90 candidates, totalling 360 fits\n",
      "[CV] max_depth=2, min_data_in_leaf=2, num_leaves=4 ...................\n",
      "[CV]  max_depth=2, min_data_in_leaf=2, num_leaves=4, score=0.745, total=   0.3s\n",
      "[CV] max_depth=2, min_data_in_leaf=2, num_leaves=4 ...................\n"
     ]
    },
    {
     "name": "stderr",
     "output_type": "stream",
     "text": [
      "[Parallel(n_jobs=1)]: Done   1 out of   1 | elapsed:    0.3s remaining:    0.0s\n"
     ]
    },
    {
     "name": "stdout",
     "output_type": "stream",
     "text": [
      "[CV]  max_depth=2, min_data_in_leaf=2, num_leaves=4, score=0.915, total=   0.3s\n",
      "[CV] max_depth=2, min_data_in_leaf=2, num_leaves=4 ...................\n"
     ]
    },
    {
     "name": "stderr",
     "output_type": "stream",
     "text": [
      "[Parallel(n_jobs=1)]: Done   2 out of   2 | elapsed:    0.6s remaining:    0.0s\n"
     ]
    },
    {
     "name": "stdout",
     "output_type": "stream",
     "text": [
      "[CV]  max_depth=2, min_data_in_leaf=2, num_leaves=4, score=0.913, total=   0.3s\n",
      "[CV] max_depth=2, min_data_in_leaf=2, num_leaves=4 ...................\n"
     ]
    },
    {
     "name": "stderr",
     "output_type": "stream",
     "text": [
      "[Parallel(n_jobs=1)]: Done   3 out of   3 | elapsed:    0.9s remaining:    0.0s\n"
     ]
    },
    {
     "name": "stdout",
     "output_type": "stream",
     "text": [
      "[CV]  max_depth=2, min_data_in_leaf=2, num_leaves=4, score=0.891, total=   0.3s\n",
      "[CV] max_depth=2, min_data_in_leaf=2, num_leaves=8 ...................\n"
     ]
    },
    {
     "name": "stderr",
     "output_type": "stream",
     "text": [
      "[Parallel(n_jobs=1)]: Done   4 out of   4 | elapsed:    1.2s remaining:    0.0s\n"
     ]
    },
    {
     "name": "stdout",
     "output_type": "stream",
     "text": [
      "[CV]  max_depth=2, min_data_in_leaf=2, num_leaves=8, score=0.745, total=   0.3s\n",
      "[CV] max_depth=2, min_data_in_leaf=2, num_leaves=8 ...................\n"
     ]
    },
    {
     "name": "stderr",
     "output_type": "stream",
     "text": [
      "[Parallel(n_jobs=1)]: Done   5 out of   5 | elapsed:    1.4s remaining:    0.0s\n"
     ]
    },
    {
     "name": "stdout",
     "output_type": "stream",
     "text": [
      "[CV]  max_depth=2, min_data_in_leaf=2, num_leaves=8, score=0.915, total=   0.3s\n",
      "[CV] max_depth=2, min_data_in_leaf=2, num_leaves=8 ...................\n"
     ]
    },
    {
     "name": "stderr",
     "output_type": "stream",
     "text": [
      "[Parallel(n_jobs=1)]: Done   6 out of   6 | elapsed:    1.7s remaining:    0.0s\n"
     ]
    },
    {
     "name": "stdout",
     "output_type": "stream",
     "text": [
      "[CV]  max_depth=2, min_data_in_leaf=2, num_leaves=8, score=0.913, total=   0.3s\n",
      "[CV] max_depth=2, min_data_in_leaf=2, num_leaves=8 ...................\n"
     ]
    },
    {
     "name": "stderr",
     "output_type": "stream",
     "text": [
      "[Parallel(n_jobs=1)]: Done   7 out of   7 | elapsed:    2.0s remaining:    0.0s\n"
     ]
    },
    {
     "name": "stdout",
     "output_type": "stream",
     "text": [
      "[CV]  max_depth=2, min_data_in_leaf=2, num_leaves=8, score=0.891, total=   0.3s\n",
      "[CV] max_depth=2, min_data_in_leaf=2, num_leaves=16 ..................\n"
     ]
    },
    {
     "name": "stderr",
     "output_type": "stream",
     "text": [
      "[Parallel(n_jobs=1)]: Done   8 out of   8 | elapsed:    2.2s remaining:    0.0s\n"
     ]
    },
    {
     "name": "stdout",
     "output_type": "stream",
     "text": [
      "[CV]  max_depth=2, min_data_in_leaf=2, num_leaves=16, score=0.745, total=   0.3s\n",
      "[CV] max_depth=2, min_data_in_leaf=2, num_leaves=16 ..................\n"
     ]
    },
    {
     "name": "stderr",
     "output_type": "stream",
     "text": [
      "[Parallel(n_jobs=1)]: Done   9 out of   9 | elapsed:    2.5s remaining:    0.0s\n"
     ]
    },
    {
     "name": "stdout",
     "output_type": "stream",
     "text": [
      "[CV]  max_depth=2, min_data_in_leaf=2, num_leaves=16, score=0.915, total=   0.3s\n",
      "[CV] max_depth=2, min_data_in_leaf=2, num_leaves=16 ..................\n"
     ]
    },
    {
     "name": "stderr",
     "output_type": "stream",
     "text": [
      "[Parallel(n_jobs=1)]: Done  10 out of  10 | elapsed:    2.8s remaining:    0.0s\n"
     ]
    },
    {
     "name": "stdout",
     "output_type": "stream",
     "text": [
      "[CV]  max_depth=2, min_data_in_leaf=2, num_leaves=16, score=0.913, total=   0.3s\n",
      "[CV] max_depth=2, min_data_in_leaf=2, num_leaves=16 ..................\n"
     ]
    },
    {
     "name": "stderr",
     "output_type": "stream",
     "text": [
      "[Parallel(n_jobs=1)]: Done  11 out of  11 | elapsed:    3.0s remaining:    0.0s\n"
     ]
    },
    {
     "name": "stdout",
     "output_type": "stream",
     "text": [
      "[CV]  max_depth=2, min_data_in_leaf=2, num_leaves=16, score=0.891, total=   0.3s\n",
      "[CV] max_depth=2, min_data_in_leaf=2, num_leaves=32 ..................\n"
     ]
    },
    {
     "name": "stderr",
     "output_type": "stream",
     "text": [
      "[Parallel(n_jobs=1)]: Done  12 out of  12 | elapsed:    3.3s remaining:    0.0s\n"
     ]
    },
    {
     "name": "stdout",
     "output_type": "stream",
     "text": [
      "[CV]  max_depth=2, min_data_in_leaf=2, num_leaves=32, score=0.745, total=   0.3s\n",
      "[CV] max_depth=2, min_data_in_leaf=2, num_leaves=32 ..................\n"
     ]
    },
    {
     "name": "stderr",
     "output_type": "stream",
     "text": [
      "[Parallel(n_jobs=1)]: Done  13 out of  13 | elapsed:    3.6s remaining:    0.0s\n"
     ]
    },
    {
     "name": "stdout",
     "output_type": "stream",
     "text": [
      "[CV]  max_depth=2, min_data_in_leaf=2, num_leaves=32, score=0.915, total=   0.3s\n",
      "[CV] max_depth=2, min_data_in_leaf=2, num_leaves=32 ..................\n"
     ]
    },
    {
     "name": "stderr",
     "output_type": "stream",
     "text": [
      "[Parallel(n_jobs=1)]: Done  14 out of  14 | elapsed:    3.8s remaining:    0.0s\n"
     ]
    },
    {
     "name": "stdout",
     "output_type": "stream",
     "text": [
      "[CV]  max_depth=2, min_data_in_leaf=2, num_leaves=32, score=0.913, total=   0.3s\n",
      "[CV] max_depth=2, min_data_in_leaf=2, num_leaves=32 ..................\n"
     ]
    },
    {
     "name": "stderr",
     "output_type": "stream",
     "text": [
      "[Parallel(n_jobs=1)]: Done  15 out of  15 | elapsed:    4.1s remaining:    0.0s\n"
     ]
    },
    {
     "name": "stdout",
     "output_type": "stream",
     "text": [
      "[CV]  max_depth=2, min_data_in_leaf=2, num_leaves=32, score=0.891, total=   0.3s\n",
      "[CV] max_depth=2, min_data_in_leaf=2, num_leaves=64 ..................\n"
     ]
    },
    {
     "name": "stderr",
     "output_type": "stream",
     "text": [
      "[Parallel(n_jobs=1)]: Done  16 out of  16 | elapsed:    4.4s remaining:    0.0s\n"
     ]
    },
    {
     "name": "stdout",
     "output_type": "stream",
     "text": [
      "[CV]  max_depth=2, min_data_in_leaf=2, num_leaves=64, score=0.745, total=   0.3s\n",
      "[CV] max_depth=2, min_data_in_leaf=2, num_leaves=64 ..................\n"
     ]
    },
    {
     "name": "stderr",
     "output_type": "stream",
     "text": [
      "[Parallel(n_jobs=1)]: Done  17 out of  17 | elapsed:    4.7s remaining:    0.0s\n"
     ]
    },
    {
     "name": "stdout",
     "output_type": "stream",
     "text": [
      "[CV]  max_depth=2, min_data_in_leaf=2, num_leaves=64, score=0.915, total=   0.3s\n",
      "[CV] max_depth=2, min_data_in_leaf=2, num_leaves=64 ..................\n"
     ]
    },
    {
     "name": "stderr",
     "output_type": "stream",
     "text": [
      "[Parallel(n_jobs=1)]: Done  18 out of  18 | elapsed:    4.9s remaining:    0.0s\n"
     ]
    },
    {
     "name": "stdout",
     "output_type": "stream",
     "text": [
      "[CV]  max_depth=2, min_data_in_leaf=2, num_leaves=64, score=0.913, total=   0.3s\n",
      "[CV] max_depth=2, min_data_in_leaf=2, num_leaves=64 ..................\n"
     ]
    },
    {
     "name": "stderr",
     "output_type": "stream",
     "text": [
      "[Parallel(n_jobs=1)]: Done  19 out of  19 | elapsed:    5.2s remaining:    0.0s\n"
     ]
    },
    {
     "name": "stdout",
     "output_type": "stream",
     "text": [
      "[CV]  max_depth=2, min_data_in_leaf=2, num_leaves=64, score=0.891, total=   0.3s\n",
      "[CV] max_depth=2, min_data_in_leaf=2, num_leaves=128 .................\n"
     ]
    },
    {
     "name": "stderr",
     "output_type": "stream",
     "text": [
      "[Parallel(n_jobs=1)]: Done  20 out of  20 | elapsed:    5.5s remaining:    0.0s\n"
     ]
    },
    {
     "name": "stdout",
     "output_type": "stream",
     "text": [
      "[CV]  max_depth=2, min_data_in_leaf=2, num_leaves=128, score=0.745, total=   0.3s\n",
      "[CV] max_depth=2, min_data_in_leaf=2, num_leaves=128 .................\n"
     ]
    },
    {
     "name": "stderr",
     "output_type": "stream",
     "text": [
      "[Parallel(n_jobs=1)]: Done  21 out of  21 | elapsed:    5.8s remaining:    0.0s\n"
     ]
    },
    {
     "name": "stdout",
     "output_type": "stream",
     "text": [
      "[CV]  max_depth=2, min_data_in_leaf=2, num_leaves=128, score=0.915, total=   0.3s\n",
      "[CV] max_depth=2, min_data_in_leaf=2, num_leaves=128 .................\n"
     ]
    },
    {
     "name": "stderr",
     "output_type": "stream",
     "text": [
      "[Parallel(n_jobs=1)]: Done  22 out of  22 | elapsed:    6.0s remaining:    0.0s\n"
     ]
    },
    {
     "name": "stdout",
     "output_type": "stream",
     "text": [
      "[CV]  max_depth=2, min_data_in_leaf=2, num_leaves=128, score=0.913, total=   0.3s\n",
      "[CV] max_depth=2, min_data_in_leaf=2, num_leaves=128 .................\n"
     ]
    },
    {
     "name": "stderr",
     "output_type": "stream",
     "text": [
      "[Parallel(n_jobs=1)]: Done  23 out of  23 | elapsed:    6.3s remaining:    0.0s\n"
     ]
    },
    {
     "name": "stdout",
     "output_type": "stream",
     "text": [
      "[CV]  max_depth=2, min_data_in_leaf=2, num_leaves=128, score=0.891, total=   0.3s\n",
      "[CV] max_depth=2, min_data_in_leaf=4, num_leaves=4 ...................\n"
     ]
    },
    {
     "name": "stderr",
     "output_type": "stream",
     "text": [
      "[Parallel(n_jobs=1)]: Done  24 out of  24 | elapsed:    6.6s remaining:    0.0s\n"
     ]
    },
    {
     "name": "stdout",
     "output_type": "stream",
     "text": [
      "[CV]  max_depth=2, min_data_in_leaf=4, num_leaves=4, score=0.787, total=   0.2s\n",
      "[CV] max_depth=2, min_data_in_leaf=4, num_leaves=4 ...................\n"
     ]
    },
    {
     "name": "stderr",
     "output_type": "stream",
     "text": [
      "[Parallel(n_jobs=1)]: Done  25 out of  25 | elapsed:    6.8s remaining:    0.0s\n"
     ]
    },
    {
     "name": "stdout",
     "output_type": "stream",
     "text": [
      "[CV]  max_depth=2, min_data_in_leaf=4, num_leaves=4, score=0.915, total=   0.2s\n",
      "[CV] max_depth=2, min_data_in_leaf=4, num_leaves=4 ...................\n"
     ]
    },
    {
     "name": "stderr",
     "output_type": "stream",
     "text": [
      "[Parallel(n_jobs=1)]: Done  26 out of  26 | elapsed:    7.1s remaining:    0.0s\n"
     ]
    },
    {
     "name": "stdout",
     "output_type": "stream",
     "text": [
      "[CV]  max_depth=2, min_data_in_leaf=4, num_leaves=4, score=0.913, total=   0.2s\n",
      "[CV] max_depth=2, min_data_in_leaf=4, num_leaves=4 ...................\n"
     ]
    },
    {
     "name": "stderr",
     "output_type": "stream",
     "text": [
      "[Parallel(n_jobs=1)]: Done  27 out of  27 | elapsed:    7.3s remaining:    0.0s\n"
     ]
    },
    {
     "name": "stdout",
     "output_type": "stream",
     "text": [
      "[CV]  max_depth=2, min_data_in_leaf=4, num_leaves=4, score=0.848, total=   0.2s\n",
      "[CV] max_depth=2, min_data_in_leaf=4, num_leaves=8 ...................\n"
     ]
    },
    {
     "name": "stderr",
     "output_type": "stream",
     "text": [
      "[Parallel(n_jobs=1)]: Done  28 out of  28 | elapsed:    7.5s remaining:    0.0s\n"
     ]
    },
    {
     "name": "stdout",
     "output_type": "stream",
     "text": [
      "[CV]  max_depth=2, min_data_in_leaf=4, num_leaves=8, score=0.787, total=   0.2s\n",
      "[CV] max_depth=2, min_data_in_leaf=4, num_leaves=8 ...................\n"
     ]
    },
    {
     "name": "stderr",
     "output_type": "stream",
     "text": [
      "[Parallel(n_jobs=1)]: Done  29 out of  29 | elapsed:    7.8s remaining:    0.0s\n"
     ]
    },
    {
     "name": "stdout",
     "output_type": "stream",
     "text": [
      "[CV]  max_depth=2, min_data_in_leaf=4, num_leaves=8, score=0.915, total=   0.2s\n",
      "[CV] max_depth=2, min_data_in_leaf=4, num_leaves=8 ...................\n"
     ]
    },
    {
     "name": "stderr",
     "output_type": "stream",
     "text": [
      "[Parallel(n_jobs=1)]: Done  30 out of  30 | elapsed:    8.0s remaining:    0.0s\n"
     ]
    },
    {
     "name": "stdout",
     "output_type": "stream",
     "text": [
      "[CV]  max_depth=2, min_data_in_leaf=4, num_leaves=8, score=0.913, total=   0.2s\n",
      "[CV] max_depth=2, min_data_in_leaf=4, num_leaves=8 ...................\n"
     ]
    },
    {
     "name": "stderr",
     "output_type": "stream",
     "text": [
      "[Parallel(n_jobs=1)]: Done  31 out of  31 | elapsed:    8.3s remaining:    0.0s\n"
     ]
    },
    {
     "name": "stdout",
     "output_type": "stream",
     "text": [
      "[CV]  max_depth=2, min_data_in_leaf=4, num_leaves=8, score=0.848, total=   0.3s\n",
      "[CV] max_depth=2, min_data_in_leaf=4, num_leaves=16 ..................\n"
     ]
    },
    {
     "name": "stderr",
     "output_type": "stream",
     "text": [
      "[Parallel(n_jobs=1)]: Done  32 out of  32 | elapsed:    8.5s remaining:    0.0s\n"
     ]
    },
    {
     "name": "stdout",
     "output_type": "stream",
     "text": [
      "[CV]  max_depth=2, min_data_in_leaf=4, num_leaves=16, score=0.787, total=   0.2s\n",
      "[CV] max_depth=2, min_data_in_leaf=4, num_leaves=16 ..................\n"
     ]
    },
    {
     "name": "stderr",
     "output_type": "stream",
     "text": [
      "[Parallel(n_jobs=1)]: Done  33 out of  33 | elapsed:    8.8s remaining:    0.0s\n"
     ]
    },
    {
     "name": "stdout",
     "output_type": "stream",
     "text": [
      "[CV]  max_depth=2, min_data_in_leaf=4, num_leaves=16, score=0.915, total=   0.2s\n",
      "[CV] max_depth=2, min_data_in_leaf=4, num_leaves=16 ..................\n"
     ]
    },
    {
     "name": "stderr",
     "output_type": "stream",
     "text": [
      "[Parallel(n_jobs=1)]: Done  34 out of  34 | elapsed:    9.0s remaining:    0.0s\n"
     ]
    },
    {
     "name": "stdout",
     "output_type": "stream",
     "text": [
      "[CV]  max_depth=2, min_data_in_leaf=4, num_leaves=16, score=0.913, total=   0.2s\n",
      "[CV] max_depth=2, min_data_in_leaf=4, num_leaves=16 ..................\n"
     ]
    },
    {
     "name": "stderr",
     "output_type": "stream",
     "text": [
      "[Parallel(n_jobs=1)]: Done  35 out of  35 | elapsed:    9.3s remaining:    0.0s\n"
     ]
    },
    {
     "name": "stdout",
     "output_type": "stream",
     "text": [
      "[CV]  max_depth=2, min_data_in_leaf=4, num_leaves=16, score=0.848, total=   0.2s\n",
      "[CV] max_depth=2, min_data_in_leaf=4, num_leaves=32 ..................\n"
     ]
    },
    {
     "name": "stderr",
     "output_type": "stream",
     "text": [
      "[Parallel(n_jobs=1)]: Done  36 out of  36 | elapsed:    9.5s remaining:    0.0s\n"
     ]
    },
    {
     "name": "stdout",
     "output_type": "stream",
     "text": [
      "[CV]  max_depth=2, min_data_in_leaf=4, num_leaves=32, score=0.787, total=   0.2s\n",
      "[CV] max_depth=2, min_data_in_leaf=4, num_leaves=32 ..................\n"
     ]
    },
    {
     "name": "stderr",
     "output_type": "stream",
     "text": [
      "[Parallel(n_jobs=1)]: Done  37 out of  37 | elapsed:    9.7s remaining:    0.0s\n"
     ]
    },
    {
     "name": "stdout",
     "output_type": "stream",
     "text": [
      "[CV]  max_depth=2, min_data_in_leaf=4, num_leaves=32, score=0.915, total=   0.2s\n",
      "[CV] max_depth=2, min_data_in_leaf=4, num_leaves=32 ..................\n"
     ]
    },
    {
     "name": "stderr",
     "output_type": "stream",
     "text": [
      "[Parallel(n_jobs=1)]: Done  38 out of  38 | elapsed:   10.0s remaining:    0.0s\n"
     ]
    },
    {
     "name": "stdout",
     "output_type": "stream",
     "text": [
      "[CV]  max_depth=2, min_data_in_leaf=4, num_leaves=32, score=0.913, total=   0.3s\n",
      "[CV] max_depth=2, min_data_in_leaf=4, num_leaves=32 ..................\n"
     ]
    },
    {
     "name": "stderr",
     "output_type": "stream",
     "text": [
      "[Parallel(n_jobs=1)]: Done  39 out of  39 | elapsed:   10.3s remaining:    0.0s\n"
     ]
    },
    {
     "name": "stdout",
     "output_type": "stream",
     "text": [
      "[CV]  max_depth=2, min_data_in_leaf=4, num_leaves=32, score=0.848, total=   0.3s\n",
      "[CV] max_depth=2, min_data_in_leaf=4, num_leaves=64 ..................\n"
     ]
    },
    {
     "name": "stderr",
     "output_type": "stream",
     "text": [
      "[Parallel(n_jobs=1)]: Done  40 out of  40 | elapsed:   10.5s remaining:    0.0s\n"
     ]
    },
    {
     "name": "stdout",
     "output_type": "stream",
     "text": [
      "[CV]  max_depth=2, min_data_in_leaf=4, num_leaves=64, score=0.787, total=   0.2s\n",
      "[CV] max_depth=2, min_data_in_leaf=4, num_leaves=64 ..................\n"
     ]
    },
    {
     "name": "stderr",
     "output_type": "stream",
     "text": [
      "[Parallel(n_jobs=1)]: Done  41 out of  41 | elapsed:   10.8s remaining:    0.0s\n"
     ]
    },
    {
     "name": "stdout",
     "output_type": "stream",
     "text": [
      "[CV]  max_depth=2, min_data_in_leaf=4, num_leaves=64, score=0.915, total=   0.2s\n",
      "[CV] max_depth=2, min_data_in_leaf=4, num_leaves=64 ..................\n",
      "[CV]  max_depth=2, min_data_in_leaf=4, num_leaves=64, score=0.913, total=   0.2s\n",
      "[CV] max_depth=2, min_data_in_leaf=4, num_leaves=64 ..................\n",
      "[CV]  max_depth=2, min_data_in_leaf=4, num_leaves=64, score=0.848, total=   0.2s\n",
      "[CV] max_depth=2, min_data_in_leaf=4, num_leaves=128 .................\n",
      "[CV]  max_depth=2, min_data_in_leaf=4, num_leaves=128, score=0.787, total=   0.3s\n",
      "[CV] max_depth=2, min_data_in_leaf=4, num_leaves=128 .................\n",
      "[CV]  max_depth=2, min_data_in_leaf=4, num_leaves=128, score=0.915, total=   0.3s\n",
      "[CV] max_depth=2, min_data_in_leaf=4, num_leaves=128 .................\n",
      "[CV]  max_depth=2, min_data_in_leaf=4, num_leaves=128, score=0.913, total=   0.2s\n",
      "[CV] max_depth=2, min_data_in_leaf=4, num_leaves=128 .................\n",
      "[CV]  max_depth=2, min_data_in_leaf=4, num_leaves=128, score=0.848, total=   0.3s\n",
      "[CV] max_depth=2, min_data_in_leaf=8, num_leaves=4 ...................\n",
      "[CV]  max_depth=2, min_data_in_leaf=8, num_leaves=4, score=0.787, total=   0.2s\n",
      "[CV] max_depth=2, min_data_in_leaf=8, num_leaves=4 ...................\n",
      "[CV]  max_depth=2, min_data_in_leaf=8, num_leaves=4, score=0.872, total=   0.2s\n",
      "[CV] max_depth=2, min_data_in_leaf=8, num_leaves=4 ...................\n",
      "[CV]  max_depth=2, min_data_in_leaf=8, num_leaves=4, score=0.891, total=   0.2s\n",
      "[CV] max_depth=2, min_data_in_leaf=8, num_leaves=4 ...................\n",
      "[CV]  max_depth=2, min_data_in_leaf=8, num_leaves=4, score=0.870, total=   0.2s\n",
      "[CV] max_depth=2, min_data_in_leaf=8, num_leaves=8 ...................\n",
      "[CV]  max_depth=2, min_data_in_leaf=8, num_leaves=8, score=0.787, total=   0.2s\n",
      "[CV] max_depth=2, min_data_in_leaf=8, num_leaves=8 ...................\n",
      "[CV]  max_depth=2, min_data_in_leaf=8, num_leaves=8, score=0.872, total=   0.2s\n",
      "[CV] max_depth=2, min_data_in_leaf=8, num_leaves=8 ...................\n",
      "[CV]  max_depth=2, min_data_in_leaf=8, num_leaves=8, score=0.891, total=   0.2s\n",
      "[CV] max_depth=2, min_data_in_leaf=8, num_leaves=8 ...................\n",
      "[CV]  max_depth=2, min_data_in_leaf=8, num_leaves=8, score=0.870, total=   0.2s\n",
      "[CV] max_depth=2, min_data_in_leaf=8, num_leaves=16 ..................\n",
      "[CV]  max_depth=2, min_data_in_leaf=8, num_leaves=16, score=0.787, total=   0.4s\n",
      "[CV] max_depth=2, min_data_in_leaf=8, num_leaves=16 ..................\n",
      "[CV]  max_depth=2, min_data_in_leaf=8, num_leaves=16, score=0.872, total=   0.2s\n",
      "[CV] max_depth=2, min_data_in_leaf=8, num_leaves=16 ..................\n",
      "[CV]  max_depth=2, min_data_in_leaf=8, num_leaves=16, score=0.891, total=   0.2s\n",
      "[CV] max_depth=2, min_data_in_leaf=8, num_leaves=16 ..................\n",
      "[CV]  max_depth=2, min_data_in_leaf=8, num_leaves=16, score=0.870, total=   0.2s\n",
      "[CV] max_depth=2, min_data_in_leaf=8, num_leaves=32 ..................\n",
      "[CV]  max_depth=2, min_data_in_leaf=8, num_leaves=32, score=0.787, total=   0.2s\n",
      "[CV] max_depth=2, min_data_in_leaf=8, num_leaves=32 ..................\n",
      "[CV]  max_depth=2, min_data_in_leaf=8, num_leaves=32, score=0.872, total=   0.3s\n",
      "[CV] max_depth=2, min_data_in_leaf=8, num_leaves=32 ..................\n",
      "[CV]  max_depth=2, min_data_in_leaf=8, num_leaves=32, score=0.891, total=   0.2s\n",
      "[CV] max_depth=2, min_data_in_leaf=8, num_leaves=32 ..................\n",
      "[CV]  max_depth=2, min_data_in_leaf=8, num_leaves=32, score=0.870, total=   0.2s\n",
      "[CV] max_depth=2, min_data_in_leaf=8, num_leaves=64 ..................\n",
      "[CV]  max_depth=2, min_data_in_leaf=8, num_leaves=64, score=0.787, total=   0.2s\n",
      "[CV] max_depth=2, min_data_in_leaf=8, num_leaves=64 ..................\n",
      "[CV]  max_depth=2, min_data_in_leaf=8, num_leaves=64, score=0.872, total=   0.2s\n",
      "[CV] max_depth=2, min_data_in_leaf=8, num_leaves=64 ..................\n",
      "[CV]  max_depth=2, min_data_in_leaf=8, num_leaves=64, score=0.891, total=   0.2s\n",
      "[CV] max_depth=2, min_data_in_leaf=8, num_leaves=64 ..................\n",
      "[CV]  max_depth=2, min_data_in_leaf=8, num_leaves=64, score=0.870, total=   0.2s\n",
      "[CV] max_depth=2, min_data_in_leaf=8, num_leaves=128 .................\n",
      "[CV]  max_depth=2, min_data_in_leaf=8, num_leaves=128, score=0.787, total=   0.2s\n",
      "[CV] max_depth=2, min_data_in_leaf=8, num_leaves=128 .................\n",
      "[CV]  max_depth=2, min_data_in_leaf=8, num_leaves=128, score=0.872, total=   0.2s\n",
      "[CV] max_depth=2, min_data_in_leaf=8, num_leaves=128 .................\n",
      "[CV]  max_depth=2, min_data_in_leaf=8, num_leaves=128, score=0.891, total=   0.2s\n",
      "[CV] max_depth=2, min_data_in_leaf=8, num_leaves=128 .................\n",
      "[CV]  max_depth=2, min_data_in_leaf=8, num_leaves=128, score=0.870, total=   0.2s\n",
      "[CV] max_depth=2, min_data_in_leaf=16, num_leaves=4 ..................\n",
      "[CV]  max_depth=2, min_data_in_leaf=16, num_leaves=4, score=0.809, total=   0.3s\n",
      "[CV] max_depth=2, min_data_in_leaf=16, num_leaves=4 ..................\n",
      "[CV]  max_depth=2, min_data_in_leaf=16, num_leaves=4, score=0.872, total=   0.2s\n",
      "[CV] max_depth=2, min_data_in_leaf=16, num_leaves=4 ..................\n",
      "[CV]  max_depth=2, min_data_in_leaf=16, num_leaves=4, score=0.957, total=   0.2s\n",
      "[CV] max_depth=2, min_data_in_leaf=16, num_leaves=4 ..................\n",
      "[CV]  max_depth=2, min_data_in_leaf=16, num_leaves=4, score=0.870, total=   0.2s\n",
      "[CV] max_depth=2, min_data_in_leaf=16, num_leaves=8 ..................\n",
      "[CV]  max_depth=2, min_data_in_leaf=16, num_leaves=8, score=0.809, total=   0.2s\n",
      "[CV] max_depth=2, min_data_in_leaf=16, num_leaves=8 ..................\n",
      "[CV]  max_depth=2, min_data_in_leaf=16, num_leaves=8, score=0.872, total=   0.2s\n",
      "[CV] max_depth=2, min_data_in_leaf=16, num_leaves=8 ..................\n",
      "[CV]  max_depth=2, min_data_in_leaf=16, num_leaves=8, score=0.957, total=   0.2s\n",
      "[CV] max_depth=2, min_data_in_leaf=16, num_leaves=8 ..................\n",
      "[CV]  max_depth=2, min_data_in_leaf=16, num_leaves=8, score=0.870, total=   0.2s\n",
      "[CV] max_depth=2, min_data_in_leaf=16, num_leaves=16 .................\n",
      "[CV]  max_depth=2, min_data_in_leaf=16, num_leaves=16, score=0.809, total=   0.2s\n",
      "[CV] max_depth=2, min_data_in_leaf=16, num_leaves=16 .................\n",
      "[CV]  max_depth=2, min_data_in_leaf=16, num_leaves=16, score=0.872, total=   0.2s\n",
      "[CV] max_depth=2, min_data_in_leaf=16, num_leaves=16 .................\n",
      "[CV]  max_depth=2, min_data_in_leaf=16, num_leaves=16, score=0.957, total=   0.2s\n",
      "[CV] max_depth=2, min_data_in_leaf=16, num_leaves=16 .................\n",
      "[CV]  max_depth=2, min_data_in_leaf=16, num_leaves=16, score=0.870, total=   0.2s\n",
      "[CV] max_depth=2, min_data_in_leaf=16, num_leaves=32 .................\n",
      "[CV]  max_depth=2, min_data_in_leaf=16, num_leaves=32, score=0.809, total=   0.2s\n",
      "[CV] max_depth=2, min_data_in_leaf=16, num_leaves=32 .................\n",
      "[CV]  max_depth=2, min_data_in_leaf=16, num_leaves=32, score=0.872, total=   0.2s\n",
      "[CV] max_depth=2, min_data_in_leaf=16, num_leaves=32 .................\n",
      "[CV]  max_depth=2, min_data_in_leaf=16, num_leaves=32, score=0.957, total=   0.2s\n",
      "[CV] max_depth=2, min_data_in_leaf=16, num_leaves=32 .................\n",
      "[CV]  max_depth=2, min_data_in_leaf=16, num_leaves=32, score=0.870, total=   0.2s\n",
      "[CV] max_depth=2, min_data_in_leaf=16, num_leaves=64 .................\n",
      "[CV]  max_depth=2, min_data_in_leaf=16, num_leaves=64, score=0.809, total=   0.2s\n",
      "[CV] max_depth=2, min_data_in_leaf=16, num_leaves=64 .................\n",
      "[CV]  max_depth=2, min_data_in_leaf=16, num_leaves=64, score=0.872, total=   0.2s\n",
      "[CV] max_depth=2, min_data_in_leaf=16, num_leaves=64 .................\n",
      "[CV]  max_depth=2, min_data_in_leaf=16, num_leaves=64, score=0.957, total=   0.2s\n",
      "[CV] max_depth=2, min_data_in_leaf=16, num_leaves=64 .................\n",
      "[CV]  max_depth=2, min_data_in_leaf=16, num_leaves=64, score=0.870, total=   0.2s\n",
      "[CV] max_depth=2, min_data_in_leaf=16, num_leaves=128 ................\n",
      "[CV]  max_depth=2, min_data_in_leaf=16, num_leaves=128, score=0.809, total=   0.2s\n",
      "[CV] max_depth=2, min_data_in_leaf=16, num_leaves=128 ................\n",
      "[CV]  max_depth=2, min_data_in_leaf=16, num_leaves=128, score=0.872, total=   0.2s\n",
      "[CV] max_depth=2, min_data_in_leaf=16, num_leaves=128 ................\n",
      "[CV]  max_depth=2, min_data_in_leaf=16, num_leaves=128, score=0.957, total=   0.2s\n",
      "[CV] max_depth=2, min_data_in_leaf=16, num_leaves=128 ................\n",
      "[CV]  max_depth=2, min_data_in_leaf=16, num_leaves=128, score=0.870, total=   0.2s\n",
      "[CV] max_depth=2, min_data_in_leaf=32, num_leaves=4 ..................\n",
      "[CV]  max_depth=2, min_data_in_leaf=32, num_leaves=4, score=0.766, total=   0.2s\n",
      "[CV] max_depth=2, min_data_in_leaf=32, num_leaves=4 ..................\n",
      "[CV]  max_depth=2, min_data_in_leaf=32, num_leaves=4, score=0.872, total=   0.2s\n",
      "[CV] max_depth=2, min_data_in_leaf=32, num_leaves=4 ..................\n",
      "[CV]  max_depth=2, min_data_in_leaf=32, num_leaves=4, score=0.913, total=   0.2s\n",
      "[CV] max_depth=2, min_data_in_leaf=32, num_leaves=4 ..................\n",
      "[CV]  max_depth=2, min_data_in_leaf=32, num_leaves=4, score=0.848, total=   0.2s\n",
      "[CV] max_depth=2, min_data_in_leaf=32, num_leaves=8 ..................\n",
      "[CV]  max_depth=2, min_data_in_leaf=32, num_leaves=8, score=0.766, total=   0.2s\n",
      "[CV] max_depth=2, min_data_in_leaf=32, num_leaves=8 ..................\n",
      "[CV]  max_depth=2, min_data_in_leaf=32, num_leaves=8, score=0.872, total=   0.2s\n",
      "[CV] max_depth=2, min_data_in_leaf=32, num_leaves=8 ..................\n",
      "[CV]  max_depth=2, min_data_in_leaf=32, num_leaves=8, score=0.913, total=   0.2s\n",
      "[CV] max_depth=2, min_data_in_leaf=32, num_leaves=8 ..................\n",
      "[CV]  max_depth=2, min_data_in_leaf=32, num_leaves=8, score=0.848, total=   0.2s\n",
      "[CV] max_depth=2, min_data_in_leaf=32, num_leaves=16 .................\n",
      "[CV]  max_depth=2, min_data_in_leaf=32, num_leaves=16, score=0.766, total=   0.2s\n",
      "[CV] max_depth=2, min_data_in_leaf=32, num_leaves=16 .................\n",
      "[CV]  max_depth=2, min_data_in_leaf=32, num_leaves=16, score=0.872, total=   0.2s\n",
      "[CV] max_depth=2, min_data_in_leaf=32, num_leaves=16 .................\n",
      "[CV]  max_depth=2, min_data_in_leaf=32, num_leaves=16, score=0.913, total=   0.2s\n",
      "[CV] max_depth=2, min_data_in_leaf=32, num_leaves=16 .................\n",
      "[CV]  max_depth=2, min_data_in_leaf=32, num_leaves=16, score=0.848, total=   0.2s\n",
      "[CV] max_depth=2, min_data_in_leaf=32, num_leaves=32 .................\n",
      "[CV]  max_depth=2, min_data_in_leaf=32, num_leaves=32, score=0.766, total=   0.2s\n",
      "[CV] max_depth=2, min_data_in_leaf=32, num_leaves=32 .................\n",
      "[CV]  max_depth=2, min_data_in_leaf=32, num_leaves=32, score=0.872, total=   0.2s\n",
      "[CV] max_depth=2, min_data_in_leaf=32, num_leaves=32 .................\n",
      "[CV]  max_depth=2, min_data_in_leaf=32, num_leaves=32, score=0.913, total=   0.2s\n",
      "[CV] max_depth=2, min_data_in_leaf=32, num_leaves=32 .................\n",
      "[CV]  max_depth=2, min_data_in_leaf=32, num_leaves=32, score=0.848, total=   0.2s\n",
      "[CV] max_depth=2, min_data_in_leaf=32, num_leaves=64 .................\n",
      "[CV]  max_depth=2, min_data_in_leaf=32, num_leaves=64, score=0.766, total=   0.2s\n",
      "[CV] max_depth=2, min_data_in_leaf=32, num_leaves=64 .................\n",
      "[CV]  max_depth=2, min_data_in_leaf=32, num_leaves=64, score=0.872, total=   0.2s\n",
      "[CV] max_depth=2, min_data_in_leaf=32, num_leaves=64 .................\n",
      "[CV]  max_depth=2, min_data_in_leaf=32, num_leaves=64, score=0.913, total=   0.2s\n",
      "[CV] max_depth=2, min_data_in_leaf=32, num_leaves=64 .................\n",
      "[CV]  max_depth=2, min_data_in_leaf=32, num_leaves=64, score=0.848, total=   0.2s\n",
      "[CV] max_depth=2, min_data_in_leaf=32, num_leaves=128 ................\n",
      "[CV]  max_depth=2, min_data_in_leaf=32, num_leaves=128, score=0.766, total=   0.2s\n",
      "[CV] max_depth=2, min_data_in_leaf=32, num_leaves=128 ................\n",
      "[CV]  max_depth=2, min_data_in_leaf=32, num_leaves=128, score=0.872, total=   0.2s\n",
      "[CV] max_depth=2, min_data_in_leaf=32, num_leaves=128 ................\n",
      "[CV]  max_depth=2, min_data_in_leaf=32, num_leaves=128, score=0.913, total=   0.2s\n",
      "[CV] max_depth=2, min_data_in_leaf=32, num_leaves=128 ................\n",
      "[CV]  max_depth=2, min_data_in_leaf=32, num_leaves=128, score=0.848, total=   0.2s\n",
      "[CV] max_depth=4, min_data_in_leaf=2, num_leaves=4 ...................\n",
      "[CV]  max_depth=4, min_data_in_leaf=2, num_leaves=4, score=0.787, total=   0.4s\n",
      "[CV] max_depth=4, min_data_in_leaf=2, num_leaves=4 ...................\n",
      "[CV]  max_depth=4, min_data_in_leaf=2, num_leaves=4, score=0.894, total=   0.4s\n",
      "[CV] max_depth=4, min_data_in_leaf=2, num_leaves=4 ...................\n",
      "[CV]  max_depth=4, min_data_in_leaf=2, num_leaves=4, score=0.913, total=   0.4s\n",
      "[CV] max_depth=4, min_data_in_leaf=2, num_leaves=4 ...................\n",
      "[CV]  max_depth=4, min_data_in_leaf=2, num_leaves=4, score=0.870, total=   0.4s\n",
      "[CV] max_depth=4, min_data_in_leaf=2, num_leaves=8 ...................\n",
      "[CV]  max_depth=4, min_data_in_leaf=2, num_leaves=8, score=0.766, total=   0.6s\n",
      "[CV] max_depth=4, min_data_in_leaf=2, num_leaves=8 ...................\n",
      "[CV]  max_depth=4, min_data_in_leaf=2, num_leaves=8, score=0.936, total=   0.8s\n",
      "[CV] max_depth=4, min_data_in_leaf=2, num_leaves=8 ...................\n",
      "[CV]  max_depth=4, min_data_in_leaf=2, num_leaves=8, score=0.913, total=   0.7s\n",
      "[CV] max_depth=4, min_data_in_leaf=2, num_leaves=8 ...................\n",
      "[CV]  max_depth=4, min_data_in_leaf=2, num_leaves=8, score=0.826, total=   0.7s\n",
      "[CV] max_depth=4, min_data_in_leaf=2, num_leaves=16 ..................\n",
      "[CV]  max_depth=4, min_data_in_leaf=2, num_leaves=16, score=0.745, total=   0.8s\n",
      "[CV] max_depth=4, min_data_in_leaf=2, num_leaves=16 ..................\n",
      "[CV]  max_depth=4, min_data_in_leaf=2, num_leaves=16, score=0.851, total=   0.8s\n",
      "[CV] max_depth=4, min_data_in_leaf=2, num_leaves=16 ..................\n",
      "[CV]  max_depth=4, min_data_in_leaf=2, num_leaves=16, score=0.935, total=   0.8s\n",
      "[CV] max_depth=4, min_data_in_leaf=2, num_leaves=16 ..................\n",
      "[CV]  max_depth=4, min_data_in_leaf=2, num_leaves=16, score=0.848, total=   0.7s\n",
      "[CV] max_depth=4, min_data_in_leaf=2, num_leaves=32 ..................\n",
      "[CV]  max_depth=4, min_data_in_leaf=2, num_leaves=32, score=0.745, total=   0.8s\n",
      "[CV] max_depth=4, min_data_in_leaf=2, num_leaves=32 ..................\n",
      "[CV]  max_depth=4, min_data_in_leaf=2, num_leaves=32, score=0.851, total=   0.8s\n",
      "[CV] max_depth=4, min_data_in_leaf=2, num_leaves=32 ..................\n",
      "[CV]  max_depth=4, min_data_in_leaf=2, num_leaves=32, score=0.935, total=   0.8s\n",
      "[CV] max_depth=4, min_data_in_leaf=2, num_leaves=32 ..................\n",
      "[CV]  max_depth=4, min_data_in_leaf=2, num_leaves=32, score=0.848, total=   0.7s\n",
      "[CV] max_depth=4, min_data_in_leaf=2, num_leaves=64 ..................\n",
      "[CV]  max_depth=4, min_data_in_leaf=2, num_leaves=64, score=0.745, total=   0.8s\n",
      "[CV] max_depth=4, min_data_in_leaf=2, num_leaves=64 ..................\n",
      "[CV]  max_depth=4, min_data_in_leaf=2, num_leaves=64, score=0.851, total=   0.8s\n",
      "[CV] max_depth=4, min_data_in_leaf=2, num_leaves=64 ..................\n",
      "[CV]  max_depth=4, min_data_in_leaf=2, num_leaves=64, score=0.935, total=   0.9s\n",
      "[CV] max_depth=4, min_data_in_leaf=2, num_leaves=64 ..................\n",
      "[CV]  max_depth=4, min_data_in_leaf=2, num_leaves=64, score=0.848, total=   0.8s\n",
      "[CV] max_depth=4, min_data_in_leaf=2, num_leaves=128 .................\n",
      "[CV]  max_depth=4, min_data_in_leaf=2, num_leaves=128, score=0.745, total=   0.8s\n",
      "[CV] max_depth=4, min_data_in_leaf=2, num_leaves=128 .................\n",
      "[CV]  max_depth=4, min_data_in_leaf=2, num_leaves=128, score=0.851, total=   0.9s\n",
      "[CV] max_depth=4, min_data_in_leaf=2, num_leaves=128 .................\n",
      "[CV]  max_depth=4, min_data_in_leaf=2, num_leaves=128, score=0.935, total=   0.9s\n",
      "[CV] max_depth=4, min_data_in_leaf=2, num_leaves=128 .................\n",
      "[CV]  max_depth=4, min_data_in_leaf=2, num_leaves=128, score=0.848, total=   0.8s\n",
      "[CV] max_depth=4, min_data_in_leaf=4, num_leaves=4 ...................\n",
      "[CV]  max_depth=4, min_data_in_leaf=4, num_leaves=4, score=0.787, total=   0.4s\n",
      "[CV] max_depth=4, min_data_in_leaf=4, num_leaves=4 ...................\n",
      "[CV]  max_depth=4, min_data_in_leaf=4, num_leaves=4, score=0.872, total=   0.4s\n",
      "[CV] max_depth=4, min_data_in_leaf=4, num_leaves=4 ...................\n",
      "[CV]  max_depth=4, min_data_in_leaf=4, num_leaves=4, score=0.935, total=   0.4s\n",
      "[CV] max_depth=4, min_data_in_leaf=4, num_leaves=4 ...................\n",
      "[CV]  max_depth=4, min_data_in_leaf=4, num_leaves=4, score=0.870, total=   0.4s\n",
      "[CV] max_depth=4, min_data_in_leaf=4, num_leaves=8 ...................\n",
      "[CV]  max_depth=4, min_data_in_leaf=4, num_leaves=8, score=0.723, total=   0.6s\n",
      "[CV] max_depth=4, min_data_in_leaf=4, num_leaves=8 ...................\n",
      "[CV]  max_depth=4, min_data_in_leaf=4, num_leaves=8, score=0.936, total=   0.7s\n",
      "[CV] max_depth=4, min_data_in_leaf=4, num_leaves=8 ...................\n",
      "[CV]  max_depth=4, min_data_in_leaf=4, num_leaves=8, score=0.935, total=   0.8s\n",
      "[CV] max_depth=4, min_data_in_leaf=4, num_leaves=8 ...................\n",
      "[CV]  max_depth=4, min_data_in_leaf=4, num_leaves=8, score=0.848, total=   0.7s\n",
      "[CV] max_depth=4, min_data_in_leaf=4, num_leaves=16 ..................\n",
      "[CV]  max_depth=4, min_data_in_leaf=4, num_leaves=16, score=0.723, total=   0.7s\n",
      "[CV] max_depth=4, min_data_in_leaf=4, num_leaves=16 ..................\n",
      "[CV]  max_depth=4, min_data_in_leaf=4, num_leaves=16, score=0.915, total=   0.8s\n",
      "[CV] max_depth=4, min_data_in_leaf=4, num_leaves=16 ..................\n",
      "[CV]  max_depth=4, min_data_in_leaf=4, num_leaves=16, score=0.935, total=   0.8s\n",
      "[CV] max_depth=4, min_data_in_leaf=4, num_leaves=16 ..................\n",
      "[CV]  max_depth=4, min_data_in_leaf=4, num_leaves=16, score=0.826, total=   0.8s\n",
      "[CV] max_depth=4, min_data_in_leaf=4, num_leaves=32 ..................\n",
      "[CV]  max_depth=4, min_data_in_leaf=4, num_leaves=32, score=0.723, total=   0.8s\n",
      "[CV] max_depth=4, min_data_in_leaf=4, num_leaves=32 ..................\n",
      "[CV]  max_depth=4, min_data_in_leaf=4, num_leaves=32, score=0.915, total=   0.8s\n",
      "[CV] max_depth=4, min_data_in_leaf=4, num_leaves=32 ..................\n",
      "[CV]  max_depth=4, min_data_in_leaf=4, num_leaves=32, score=0.935, total=   0.8s\n",
      "[CV] max_depth=4, min_data_in_leaf=4, num_leaves=32 ..................\n",
      "[CV]  max_depth=4, min_data_in_leaf=4, num_leaves=32, score=0.826, total=   0.9s\n",
      "[CV] max_depth=4, min_data_in_leaf=4, num_leaves=64 ..................\n",
      "[CV]  max_depth=4, min_data_in_leaf=4, num_leaves=64, score=0.723, total=   0.7s\n",
      "[CV] max_depth=4, min_data_in_leaf=4, num_leaves=64 ..................\n",
      "[CV]  max_depth=4, min_data_in_leaf=4, num_leaves=64, score=0.915, total=   0.8s\n",
      "[CV] max_depth=4, min_data_in_leaf=4, num_leaves=64 ..................\n",
      "[CV]  max_depth=4, min_data_in_leaf=4, num_leaves=64, score=0.935, total=   0.8s\n",
      "[CV] max_depth=4, min_data_in_leaf=4, num_leaves=64 ..................\n",
      "[CV]  max_depth=4, min_data_in_leaf=4, num_leaves=64, score=0.826, total=   0.8s\n",
      "[CV] max_depth=4, min_data_in_leaf=4, num_leaves=128 .................\n",
      "[CV]  max_depth=4, min_data_in_leaf=4, num_leaves=128, score=0.723, total=   0.8s\n",
      "[CV] max_depth=4, min_data_in_leaf=4, num_leaves=128 .................\n",
      "[CV]  max_depth=4, min_data_in_leaf=4, num_leaves=128, score=0.915, total=   0.8s\n",
      "[CV] max_depth=4, min_data_in_leaf=4, num_leaves=128 .................\n",
      "[CV]  max_depth=4, min_data_in_leaf=4, num_leaves=128, score=0.935, total=   0.8s\n",
      "[CV] max_depth=4, min_data_in_leaf=4, num_leaves=128 .................\n",
      "[CV]  max_depth=4, min_data_in_leaf=4, num_leaves=128, score=0.826, total=   0.8s\n",
      "[CV] max_depth=4, min_data_in_leaf=8, num_leaves=4 ...................\n",
      "[CV]  max_depth=4, min_data_in_leaf=8, num_leaves=4, score=0.809, total=   0.4s\n",
      "[CV] max_depth=4, min_data_in_leaf=8, num_leaves=4 ...................\n",
      "[CV]  max_depth=4, min_data_in_leaf=8, num_leaves=4, score=0.851, total=   0.4s\n",
      "[CV] max_depth=4, min_data_in_leaf=8, num_leaves=4 ...................\n",
      "[CV]  max_depth=4, min_data_in_leaf=8, num_leaves=4, score=0.935, total=   0.4s\n",
      "[CV] max_depth=4, min_data_in_leaf=8, num_leaves=4 ...................\n",
      "[CV]  max_depth=4, min_data_in_leaf=8, num_leaves=4, score=0.870, total=   0.4s\n",
      "[CV] max_depth=4, min_data_in_leaf=8, num_leaves=8 ...................\n",
      "[CV]  max_depth=4, min_data_in_leaf=8, num_leaves=8, score=0.787, total=   0.6s\n",
      "[CV] max_depth=4, min_data_in_leaf=8, num_leaves=8 ...................\n",
      "[CV]  max_depth=4, min_data_in_leaf=8, num_leaves=8, score=0.894, total=   0.6s\n",
      "[CV] max_depth=4, min_data_in_leaf=8, num_leaves=8 ...................\n",
      "[CV]  max_depth=4, min_data_in_leaf=8, num_leaves=8, score=0.870, total=   0.6s\n",
      "[CV] max_depth=4, min_data_in_leaf=8, num_leaves=8 ...................\n",
      "[CV]  max_depth=4, min_data_in_leaf=8, num_leaves=8, score=0.870, total=   0.6s\n",
      "[CV] max_depth=4, min_data_in_leaf=8, num_leaves=16 ..................\n",
      "[CV]  max_depth=4, min_data_in_leaf=8, num_leaves=16, score=0.787, total=   0.7s\n",
      "[CV] max_depth=4, min_data_in_leaf=8, num_leaves=16 ..................\n",
      "[CV]  max_depth=4, min_data_in_leaf=8, num_leaves=16, score=0.894, total=   0.6s\n",
      "[CV] max_depth=4, min_data_in_leaf=8, num_leaves=16 ..................\n",
      "[CV]  max_depth=4, min_data_in_leaf=8, num_leaves=16, score=0.935, total=   0.6s\n",
      "[CV] max_depth=4, min_data_in_leaf=8, num_leaves=16 ..................\n",
      "[CV]  max_depth=4, min_data_in_leaf=8, num_leaves=16, score=0.870, total=   0.6s\n",
      "[CV] max_depth=4, min_data_in_leaf=8, num_leaves=32 ..................\n",
      "[CV]  max_depth=4, min_data_in_leaf=8, num_leaves=32, score=0.787, total=   0.7s\n",
      "[CV] max_depth=4, min_data_in_leaf=8, num_leaves=32 ..................\n",
      "[CV]  max_depth=4, min_data_in_leaf=8, num_leaves=32, score=0.894, total=   0.6s\n",
      "[CV] max_depth=4, min_data_in_leaf=8, num_leaves=32 ..................\n",
      "[CV]  max_depth=4, min_data_in_leaf=8, num_leaves=32, score=0.935, total=   0.8s\n",
      "[CV] max_depth=4, min_data_in_leaf=8, num_leaves=32 ..................\n",
      "[CV]  max_depth=4, min_data_in_leaf=8, num_leaves=32, score=0.870, total=   0.6s\n",
      "[CV] max_depth=4, min_data_in_leaf=8, num_leaves=64 ..................\n",
      "[CV]  max_depth=4, min_data_in_leaf=8, num_leaves=64, score=0.787, total=   0.6s\n",
      "[CV] max_depth=4, min_data_in_leaf=8, num_leaves=64 ..................\n",
      "[CV]  max_depth=4, min_data_in_leaf=8, num_leaves=64, score=0.894, total=   0.6s\n",
      "[CV] max_depth=4, min_data_in_leaf=8, num_leaves=64 ..................\n",
      "[CV]  max_depth=4, min_data_in_leaf=8, num_leaves=64, score=0.935, total=   0.6s\n",
      "[CV] max_depth=4, min_data_in_leaf=8, num_leaves=64 ..................\n",
      "[CV]  max_depth=4, min_data_in_leaf=8, num_leaves=64, score=0.870, total=   0.6s\n",
      "[CV] max_depth=4, min_data_in_leaf=8, num_leaves=128 .................\n",
      "[CV]  max_depth=4, min_data_in_leaf=8, num_leaves=128, score=0.787, total=   0.6s\n",
      "[CV] max_depth=4, min_data_in_leaf=8, num_leaves=128 .................\n",
      "[CV]  max_depth=4, min_data_in_leaf=8, num_leaves=128, score=0.894, total=   0.6s\n",
      "[CV] max_depth=4, min_data_in_leaf=8, num_leaves=128 .................\n",
      "[CV]  max_depth=4, min_data_in_leaf=8, num_leaves=128, score=0.935, total=   0.6s\n",
      "[CV] max_depth=4, min_data_in_leaf=8, num_leaves=128 .................\n",
      "[CV]  max_depth=4, min_data_in_leaf=8, num_leaves=128, score=0.870, total=   0.6s\n",
      "[CV] max_depth=4, min_data_in_leaf=16, num_leaves=4 ..................\n",
      "[CV]  max_depth=4, min_data_in_leaf=16, num_leaves=4, score=0.787, total=   0.4s\n",
      "[CV] max_depth=4, min_data_in_leaf=16, num_leaves=4 ..................\n",
      "[CV]  max_depth=4, min_data_in_leaf=16, num_leaves=4, score=0.872, total=   0.3s\n",
      "[CV] max_depth=4, min_data_in_leaf=16, num_leaves=4 ..................\n",
      "[CV]  max_depth=4, min_data_in_leaf=16, num_leaves=4, score=0.913, total=   0.3s\n",
      "[CV] max_depth=4, min_data_in_leaf=16, num_leaves=4 ..................\n",
      "[CV]  max_depth=4, min_data_in_leaf=16, num_leaves=4, score=0.870, total=   0.3s\n",
      "[CV] max_depth=4, min_data_in_leaf=16, num_leaves=8 ..................\n",
      "[CV]  max_depth=4, min_data_in_leaf=16, num_leaves=8, score=0.787, total=   0.4s\n",
      "[CV] max_depth=4, min_data_in_leaf=16, num_leaves=8 ..................\n",
      "[CV]  max_depth=4, min_data_in_leaf=16, num_leaves=8, score=0.894, total=   0.4s\n",
      "[CV] max_depth=4, min_data_in_leaf=16, num_leaves=8 ..................\n",
      "[CV]  max_depth=4, min_data_in_leaf=16, num_leaves=8, score=0.978, total=   0.4s\n",
      "[CV] max_depth=4, min_data_in_leaf=16, num_leaves=8 ..................\n",
      "[CV]  max_depth=4, min_data_in_leaf=16, num_leaves=8, score=0.870, total=   0.4s\n",
      "[CV] max_depth=4, min_data_in_leaf=16, num_leaves=16 .................\n",
      "[CV]  max_depth=4, min_data_in_leaf=16, num_leaves=16, score=0.787, total=   0.4s\n",
      "[CV] max_depth=4, min_data_in_leaf=16, num_leaves=16 .................\n",
      "[CV]  max_depth=4, min_data_in_leaf=16, num_leaves=16, score=0.894, total=   0.4s\n",
      "[CV] max_depth=4, min_data_in_leaf=16, num_leaves=16 .................\n",
      "[CV]  max_depth=4, min_data_in_leaf=16, num_leaves=16, score=0.978, total=   0.4s\n",
      "[CV] max_depth=4, min_data_in_leaf=16, num_leaves=16 .................\n",
      "[CV]  max_depth=4, min_data_in_leaf=16, num_leaves=16, score=0.870, total=   0.4s\n",
      "[CV] max_depth=4, min_data_in_leaf=16, num_leaves=32 .................\n",
      "[CV]  max_depth=4, min_data_in_leaf=16, num_leaves=32, score=0.787, total=   0.4s\n",
      "[CV] max_depth=4, min_data_in_leaf=16, num_leaves=32 .................\n",
      "[CV]  max_depth=4, min_data_in_leaf=16, num_leaves=32, score=0.894, total=   0.4s\n",
      "[CV] max_depth=4, min_data_in_leaf=16, num_leaves=32 .................\n",
      "[CV]  max_depth=4, min_data_in_leaf=16, num_leaves=32, score=0.978, total=   0.4s\n",
      "[CV] max_depth=4, min_data_in_leaf=16, num_leaves=32 .................\n",
      "[CV]  max_depth=4, min_data_in_leaf=16, num_leaves=32, score=0.870, total=   0.4s\n",
      "[CV] max_depth=4, min_data_in_leaf=16, num_leaves=64 .................\n",
      "[CV]  max_depth=4, min_data_in_leaf=16, num_leaves=64, score=0.787, total=   0.4s\n",
      "[CV] max_depth=4, min_data_in_leaf=16, num_leaves=64 .................\n",
      "[CV]  max_depth=4, min_data_in_leaf=16, num_leaves=64, score=0.894, total=   0.4s\n",
      "[CV] max_depth=4, min_data_in_leaf=16, num_leaves=64 .................\n",
      "[CV]  max_depth=4, min_data_in_leaf=16, num_leaves=64, score=0.978, total=   0.4s\n",
      "[CV] max_depth=4, min_data_in_leaf=16, num_leaves=64 .................\n",
      "[CV]  max_depth=4, min_data_in_leaf=16, num_leaves=64, score=0.870, total=   0.4s\n",
      "[CV] max_depth=4, min_data_in_leaf=16, num_leaves=128 ................\n",
      "[CV]  max_depth=4, min_data_in_leaf=16, num_leaves=128, score=0.787, total=   0.4s\n",
      "[CV] max_depth=4, min_data_in_leaf=16, num_leaves=128 ................\n",
      "[CV]  max_depth=4, min_data_in_leaf=16, num_leaves=128, score=0.894, total=   0.4s\n",
      "[CV] max_depth=4, min_data_in_leaf=16, num_leaves=128 ................\n",
      "[CV]  max_depth=4, min_data_in_leaf=16, num_leaves=128, score=0.978, total=   0.5s\n",
      "[CV] max_depth=4, min_data_in_leaf=16, num_leaves=128 ................\n",
      "[CV]  max_depth=4, min_data_in_leaf=16, num_leaves=128, score=0.870, total=   0.4s\n",
      "[CV] max_depth=4, min_data_in_leaf=32, num_leaves=4 ..................\n",
      "[CV]  max_depth=4, min_data_in_leaf=32, num_leaves=4, score=0.766, total=   0.2s\n",
      "[CV] max_depth=4, min_data_in_leaf=32, num_leaves=4 ..................\n",
      "[CV]  max_depth=4, min_data_in_leaf=32, num_leaves=4, score=0.851, total=   0.2s\n",
      "[CV] max_depth=4, min_data_in_leaf=32, num_leaves=4 ..................\n",
      "[CV]  max_depth=4, min_data_in_leaf=32, num_leaves=4, score=0.891, total=   0.2s\n",
      "[CV] max_depth=4, min_data_in_leaf=32, num_leaves=4 ..................\n",
      "[CV]  max_depth=4, min_data_in_leaf=32, num_leaves=4, score=0.848, total=   0.2s\n",
      "[CV] max_depth=4, min_data_in_leaf=32, num_leaves=8 ..................\n",
      "[CV]  max_depth=4, min_data_in_leaf=32, num_leaves=8, score=0.766, total=   0.2s\n",
      "[CV] max_depth=4, min_data_in_leaf=32, num_leaves=8 ..................\n",
      "[CV]  max_depth=4, min_data_in_leaf=32, num_leaves=8, score=0.851, total=   0.2s\n",
      "[CV] max_depth=4, min_data_in_leaf=32, num_leaves=8 ..................\n",
      "[CV]  max_depth=4, min_data_in_leaf=32, num_leaves=8, score=0.891, total=   0.2s\n",
      "[CV] max_depth=4, min_data_in_leaf=32, num_leaves=8 ..................\n",
      "[CV]  max_depth=4, min_data_in_leaf=32, num_leaves=8, score=0.848, total=   0.2s\n",
      "[CV] max_depth=4, min_data_in_leaf=32, num_leaves=16 .................\n",
      "[CV]  max_depth=4, min_data_in_leaf=32, num_leaves=16, score=0.766, total=   0.2s\n",
      "[CV] max_depth=4, min_data_in_leaf=32, num_leaves=16 .................\n",
      "[CV]  max_depth=4, min_data_in_leaf=32, num_leaves=16, score=0.851, total=   0.2s\n",
      "[CV] max_depth=4, min_data_in_leaf=32, num_leaves=16 .................\n",
      "[CV]  max_depth=4, min_data_in_leaf=32, num_leaves=16, score=0.891, total=   0.2s\n",
      "[CV] max_depth=4, min_data_in_leaf=32, num_leaves=16 .................\n",
      "[CV]  max_depth=4, min_data_in_leaf=32, num_leaves=16, score=0.848, total=   0.2s\n",
      "[CV] max_depth=4, min_data_in_leaf=32, num_leaves=32 .................\n",
      "[CV]  max_depth=4, min_data_in_leaf=32, num_leaves=32, score=0.766, total=   0.2s\n",
      "[CV] max_depth=4, min_data_in_leaf=32, num_leaves=32 .................\n",
      "[CV]  max_depth=4, min_data_in_leaf=32, num_leaves=32, score=0.851, total=   0.2s\n",
      "[CV] max_depth=4, min_data_in_leaf=32, num_leaves=32 .................\n",
      "[CV]  max_depth=4, min_data_in_leaf=32, num_leaves=32, score=0.891, total=   0.2s\n",
      "[CV] max_depth=4, min_data_in_leaf=32, num_leaves=32 .................\n",
      "[CV]  max_depth=4, min_data_in_leaf=32, num_leaves=32, score=0.848, total=   0.2s\n",
      "[CV] max_depth=4, min_data_in_leaf=32, num_leaves=64 .................\n",
      "[CV]  max_depth=4, min_data_in_leaf=32, num_leaves=64, score=0.766, total=   0.2s\n",
      "[CV] max_depth=4, min_data_in_leaf=32, num_leaves=64 .................\n",
      "[CV]  max_depth=4, min_data_in_leaf=32, num_leaves=64, score=0.851, total=   0.2s\n",
      "[CV] max_depth=4, min_data_in_leaf=32, num_leaves=64 .................\n",
      "[CV]  max_depth=4, min_data_in_leaf=32, num_leaves=64, score=0.891, total=   0.2s\n",
      "[CV] max_depth=4, min_data_in_leaf=32, num_leaves=64 .................\n",
      "[CV]  max_depth=4, min_data_in_leaf=32, num_leaves=64, score=0.848, total=   0.2s\n",
      "[CV] max_depth=4, min_data_in_leaf=32, num_leaves=128 ................\n",
      "[CV]  max_depth=4, min_data_in_leaf=32, num_leaves=128, score=0.766, total=   0.2s\n",
      "[CV] max_depth=4, min_data_in_leaf=32, num_leaves=128 ................\n",
      "[CV]  max_depth=4, min_data_in_leaf=32, num_leaves=128, score=0.851, total=   0.2s\n",
      "[CV] max_depth=4, min_data_in_leaf=32, num_leaves=128 ................\n",
      "[CV]  max_depth=4, min_data_in_leaf=32, num_leaves=128, score=0.891, total=   0.2s\n",
      "[CV] max_depth=4, min_data_in_leaf=32, num_leaves=128 ................\n",
      "[CV]  max_depth=4, min_data_in_leaf=32, num_leaves=128, score=0.848, total=   0.2s\n",
      "[CV] max_depth=8, min_data_in_leaf=2, num_leaves=4 ...................\n",
      "[CV]  max_depth=8, min_data_in_leaf=2, num_leaves=4, score=0.787, total=   0.4s\n",
      "[CV] max_depth=8, min_data_in_leaf=2, num_leaves=4 ...................\n",
      "[CV]  max_depth=8, min_data_in_leaf=2, num_leaves=4, score=0.894, total=   0.4s\n",
      "[CV] max_depth=8, min_data_in_leaf=2, num_leaves=4 ...................\n",
      "[CV]  max_depth=8, min_data_in_leaf=2, num_leaves=4, score=0.913, total=   0.4s\n",
      "[CV] max_depth=8, min_data_in_leaf=2, num_leaves=4 ...................\n",
      "[CV]  max_depth=8, min_data_in_leaf=2, num_leaves=4, score=0.870, total=   0.4s\n",
      "[CV] max_depth=8, min_data_in_leaf=2, num_leaves=8 ...................\n",
      "[CV]  max_depth=8, min_data_in_leaf=2, num_leaves=8, score=0.723, total=   0.8s\n",
      "[CV] max_depth=8, min_data_in_leaf=2, num_leaves=8 ...................\n",
      "[CV]  max_depth=8, min_data_in_leaf=2, num_leaves=8, score=0.872, total=   0.8s\n",
      "[CV] max_depth=8, min_data_in_leaf=2, num_leaves=8 ...................\n",
      "[CV]  max_depth=8, min_data_in_leaf=2, num_leaves=8, score=0.935, total=   0.9s\n",
      "[CV] max_depth=8, min_data_in_leaf=2, num_leaves=8 ...................\n",
      "[CV]  max_depth=8, min_data_in_leaf=2, num_leaves=8, score=0.826, total=   0.8s\n",
      "[CV] max_depth=8, min_data_in_leaf=2, num_leaves=16 ..................\n",
      "[CV]  max_depth=8, min_data_in_leaf=2, num_leaves=16, score=0.787, total=   1.2s\n",
      "[CV] max_depth=8, min_data_in_leaf=2, num_leaves=16 ..................\n",
      "[CV]  max_depth=8, min_data_in_leaf=2, num_leaves=16, score=0.830, total=   1.3s\n",
      "[CV] max_depth=8, min_data_in_leaf=2, num_leaves=16 ..................\n",
      "[CV]  max_depth=8, min_data_in_leaf=2, num_leaves=16, score=0.848, total=   1.3s\n",
      "[CV] max_depth=8, min_data_in_leaf=2, num_leaves=16 ..................\n",
      "[CV]  max_depth=8, min_data_in_leaf=2, num_leaves=16, score=0.826, total=   1.4s\n",
      "[CV] max_depth=8, min_data_in_leaf=2, num_leaves=32 ..................\n",
      "[CV]  max_depth=8, min_data_in_leaf=2, num_leaves=32, score=0.766, total=   1.7s\n",
      "[CV] max_depth=8, min_data_in_leaf=2, num_leaves=32 ..................\n",
      "[CV]  max_depth=8, min_data_in_leaf=2, num_leaves=32, score=0.851, total=   1.8s\n",
      "[CV] max_depth=8, min_data_in_leaf=2, num_leaves=32 ..................\n",
      "[CV]  max_depth=8, min_data_in_leaf=2, num_leaves=32, score=0.848, total=   1.6s\n",
      "[CV] max_depth=8, min_data_in_leaf=2, num_leaves=32 ..................\n",
      "[CV]  max_depth=8, min_data_in_leaf=2, num_leaves=32, score=0.804, total=   1.8s\n",
      "[CV] max_depth=8, min_data_in_leaf=2, num_leaves=64 ..................\n",
      "[CV]  max_depth=8, min_data_in_leaf=2, num_leaves=64, score=0.766, total=   1.8s\n",
      "[CV] max_depth=8, min_data_in_leaf=2, num_leaves=64 ..................\n",
      "[CV]  max_depth=8, min_data_in_leaf=2, num_leaves=64, score=0.851, total=   1.8s\n",
      "[CV] max_depth=8, min_data_in_leaf=2, num_leaves=64 ..................\n",
      "[CV]  max_depth=8, min_data_in_leaf=2, num_leaves=64, score=0.848, total=   1.7s\n",
      "[CV] max_depth=8, min_data_in_leaf=2, num_leaves=64 ..................\n",
      "[CV]  max_depth=8, min_data_in_leaf=2, num_leaves=64, score=0.804, total=   1.8s\n",
      "[CV] max_depth=8, min_data_in_leaf=2, num_leaves=128 .................\n",
      "[CV]  max_depth=8, min_data_in_leaf=2, num_leaves=128, score=0.766, total=   2.1s\n",
      "[CV] max_depth=8, min_data_in_leaf=2, num_leaves=128 .................\n",
      "[CV]  max_depth=8, min_data_in_leaf=2, num_leaves=128, score=0.851, total=   2.0s\n",
      "[CV] max_depth=8, min_data_in_leaf=2, num_leaves=128 .................\n",
      "[CV]  max_depth=8, min_data_in_leaf=2, num_leaves=128, score=0.848, total=   2.1s\n",
      "[CV] max_depth=8, min_data_in_leaf=2, num_leaves=128 .................\n",
      "[CV]  max_depth=8, min_data_in_leaf=2, num_leaves=128, score=0.804, total=   2.1s\n",
      "[CV] max_depth=8, min_data_in_leaf=4, num_leaves=4 ...................\n",
      "[CV]  max_depth=8, min_data_in_leaf=4, num_leaves=4, score=0.787, total=   0.4s\n",
      "[CV] max_depth=8, min_data_in_leaf=4, num_leaves=4 ...................\n",
      "[CV]  max_depth=8, min_data_in_leaf=4, num_leaves=4, score=0.872, total=   0.5s\n",
      "[CV] max_depth=8, min_data_in_leaf=4, num_leaves=4 ...................\n",
      "[CV]  max_depth=8, min_data_in_leaf=4, num_leaves=4, score=0.935, total=   0.5s\n",
      "[CV] max_depth=8, min_data_in_leaf=4, num_leaves=4 ...................\n",
      "[CV]  max_depth=8, min_data_in_leaf=4, num_leaves=4, score=0.870, total=   0.4s\n",
      "[CV] max_depth=8, min_data_in_leaf=4, num_leaves=8 ...................\n",
      "[CV]  max_depth=8, min_data_in_leaf=4, num_leaves=8, score=0.723, total=   0.7s\n",
      "[CV] max_depth=8, min_data_in_leaf=4, num_leaves=8 ...................\n",
      "[CV]  max_depth=8, min_data_in_leaf=4, num_leaves=8, score=0.894, total=   0.7s\n",
      "[CV] max_depth=8, min_data_in_leaf=4, num_leaves=8 ...................\n",
      "[CV]  max_depth=8, min_data_in_leaf=4, num_leaves=8, score=0.935, total=   0.7s\n",
      "[CV] max_depth=8, min_data_in_leaf=4, num_leaves=8 ...................\n",
      "[CV]  max_depth=8, min_data_in_leaf=4, num_leaves=8, score=0.848, total=   0.7s\n",
      "[CV] max_depth=8, min_data_in_leaf=4, num_leaves=16 ..................\n",
      "[CV]  max_depth=8, min_data_in_leaf=4, num_leaves=16, score=0.766, total=   1.2s\n",
      "[CV] max_depth=8, min_data_in_leaf=4, num_leaves=16 ..................\n",
      "[CV]  max_depth=8, min_data_in_leaf=4, num_leaves=16, score=0.915, total=   1.2s\n",
      "[CV] max_depth=8, min_data_in_leaf=4, num_leaves=16 ..................\n",
      "[CV]  max_depth=8, min_data_in_leaf=4, num_leaves=16, score=0.891, total=   1.3s\n",
      "[CV] max_depth=8, min_data_in_leaf=4, num_leaves=16 ..................\n",
      "[CV]  max_depth=8, min_data_in_leaf=4, num_leaves=16, score=0.826, total=   1.2s\n",
      "[CV] max_depth=8, min_data_in_leaf=4, num_leaves=32 ..................\n",
      "[CV]  max_depth=8, min_data_in_leaf=4, num_leaves=32, score=0.787, total=   1.4s\n",
      "[CV] max_depth=8, min_data_in_leaf=4, num_leaves=32 ..................\n",
      "[CV]  max_depth=8, min_data_in_leaf=4, num_leaves=32, score=0.915, total=   1.5s\n",
      "[CV] max_depth=8, min_data_in_leaf=4, num_leaves=32 ..................\n",
      "[CV]  max_depth=8, min_data_in_leaf=4, num_leaves=32, score=0.870, total=   1.6s\n",
      "[CV] max_depth=8, min_data_in_leaf=4, num_leaves=32 ..................\n",
      "[CV]  max_depth=8, min_data_in_leaf=4, num_leaves=32, score=0.848, total=   1.5s\n",
      "[CV] max_depth=8, min_data_in_leaf=4, num_leaves=64 ..................\n",
      "[CV]  max_depth=8, min_data_in_leaf=4, num_leaves=64, score=0.787, total=   1.4s\n",
      "[CV] max_depth=8, min_data_in_leaf=4, num_leaves=64 ..................\n",
      "[CV]  max_depth=8, min_data_in_leaf=4, num_leaves=64, score=0.915, total=   1.5s\n",
      "[CV] max_depth=8, min_data_in_leaf=4, num_leaves=64 ..................\n",
      "[CV]  max_depth=8, min_data_in_leaf=4, num_leaves=64, score=0.870, total=   1.6s\n",
      "[CV] max_depth=8, min_data_in_leaf=4, num_leaves=64 ..................\n",
      "[CV]  max_depth=8, min_data_in_leaf=4, num_leaves=64, score=0.848, total=   1.6s\n",
      "[CV] max_depth=8, min_data_in_leaf=4, num_leaves=128 .................\n",
      "[CV]  max_depth=8, min_data_in_leaf=4, num_leaves=128, score=0.787, total=   1.5s\n",
      "[CV] max_depth=8, min_data_in_leaf=4, num_leaves=128 .................\n",
      "[CV]  max_depth=8, min_data_in_leaf=4, num_leaves=128, score=0.915, total=   1.5s\n",
      "[CV] max_depth=8, min_data_in_leaf=4, num_leaves=128 .................\n",
      "[CV]  max_depth=8, min_data_in_leaf=4, num_leaves=128, score=0.870, total=   1.6s\n",
      "[CV] max_depth=8, min_data_in_leaf=4, num_leaves=128 .................\n",
      "[CV]  max_depth=8, min_data_in_leaf=4, num_leaves=128, score=0.848, total=   1.7s\n",
      "[CV] max_depth=8, min_data_in_leaf=8, num_leaves=4 ...................\n",
      "[CV]  max_depth=8, min_data_in_leaf=8, num_leaves=4, score=0.809, total=   0.4s\n",
      "[CV] max_depth=8, min_data_in_leaf=8, num_leaves=4 ...................\n",
      "[CV]  max_depth=8, min_data_in_leaf=8, num_leaves=4, score=0.851, total=   0.3s\n",
      "[CV] max_depth=8, min_data_in_leaf=8, num_leaves=4 ...................\n",
      "[CV]  max_depth=8, min_data_in_leaf=8, num_leaves=4, score=0.935, total=   0.4s\n",
      "[CV] max_depth=8, min_data_in_leaf=8, num_leaves=4 ...................\n",
      "[CV]  max_depth=8, min_data_in_leaf=8, num_leaves=4, score=0.870, total=   0.4s\n",
      "[CV] max_depth=8, min_data_in_leaf=8, num_leaves=8 ...................\n",
      "[CV]  max_depth=8, min_data_in_leaf=8, num_leaves=8, score=0.787, total=   0.6s\n",
      "[CV] max_depth=8, min_data_in_leaf=8, num_leaves=8 ...................\n",
      "[CV]  max_depth=8, min_data_in_leaf=8, num_leaves=8, score=0.894, total=   0.6s\n",
      "[CV] max_depth=8, min_data_in_leaf=8, num_leaves=8 ...................\n",
      "[CV]  max_depth=8, min_data_in_leaf=8, num_leaves=8, score=0.935, total=   0.6s\n",
      "[CV] max_depth=8, min_data_in_leaf=8, num_leaves=8 ...................\n",
      "[CV]  max_depth=8, min_data_in_leaf=8, num_leaves=8, score=0.848, total=   0.6s\n",
      "[CV] max_depth=8, min_data_in_leaf=8, num_leaves=16 ..................\n",
      "[CV]  max_depth=8, min_data_in_leaf=8, num_leaves=16, score=0.787, total=   0.9s\n",
      "[CV] max_depth=8, min_data_in_leaf=8, num_leaves=16 ..................\n",
      "[CV]  max_depth=8, min_data_in_leaf=8, num_leaves=16, score=0.894, total=   0.9s\n",
      "[CV] max_depth=8, min_data_in_leaf=8, num_leaves=16 ..................\n",
      "[CV]  max_depth=8, min_data_in_leaf=8, num_leaves=16, score=0.935, total=   0.9s\n",
      "[CV] max_depth=8, min_data_in_leaf=8, num_leaves=16 ..................\n",
      "[CV]  max_depth=8, min_data_in_leaf=8, num_leaves=16, score=0.848, total=   0.9s\n",
      "[CV] max_depth=8, min_data_in_leaf=8, num_leaves=32 ..................\n",
      "[CV]  max_depth=8, min_data_in_leaf=8, num_leaves=32, score=0.787, total=   0.9s\n",
      "[CV] max_depth=8, min_data_in_leaf=8, num_leaves=32 ..................\n",
      "[CV]  max_depth=8, min_data_in_leaf=8, num_leaves=32, score=0.894, total=   0.9s\n",
      "[CV] max_depth=8, min_data_in_leaf=8, num_leaves=32 ..................\n",
      "[CV]  max_depth=8, min_data_in_leaf=8, num_leaves=32, score=0.935, total=   1.0s\n",
      "[CV] max_depth=8, min_data_in_leaf=8, num_leaves=32 ..................\n",
      "[CV]  max_depth=8, min_data_in_leaf=8, num_leaves=32, score=0.848, total=   1.0s\n",
      "[CV] max_depth=8, min_data_in_leaf=8, num_leaves=64 ..................\n",
      "[CV]  max_depth=8, min_data_in_leaf=8, num_leaves=64, score=0.787, total=   0.9s\n",
      "[CV] max_depth=8, min_data_in_leaf=8, num_leaves=64 ..................\n",
      "[CV]  max_depth=8, min_data_in_leaf=8, num_leaves=64, score=0.894, total=   1.0s\n",
      "[CV] max_depth=8, min_data_in_leaf=8, num_leaves=64 ..................\n",
      "[CV]  max_depth=8, min_data_in_leaf=8, num_leaves=64, score=0.935, total=   0.9s\n",
      "[CV] max_depth=8, min_data_in_leaf=8, num_leaves=64 ..................\n",
      "[CV]  max_depth=8, min_data_in_leaf=8, num_leaves=64, score=0.848, total=   0.9s\n",
      "[CV] max_depth=8, min_data_in_leaf=8, num_leaves=128 .................\n",
      "[CV]  max_depth=8, min_data_in_leaf=8, num_leaves=128, score=0.787, total=   1.0s\n",
      "[CV] max_depth=8, min_data_in_leaf=8, num_leaves=128 .................\n",
      "[CV]  max_depth=8, min_data_in_leaf=8, num_leaves=128, score=0.894, total=   1.0s\n",
      "[CV] max_depth=8, min_data_in_leaf=8, num_leaves=128 .................\n",
      "[CV]  max_depth=8, min_data_in_leaf=8, num_leaves=128, score=0.935, total=   1.0s\n",
      "[CV] max_depth=8, min_data_in_leaf=8, num_leaves=128 .................\n",
      "[CV]  max_depth=8, min_data_in_leaf=8, num_leaves=128, score=0.848, total=   1.0s\n",
      "[CV] max_depth=8, min_data_in_leaf=16, num_leaves=4 ..................\n",
      "[CV]  max_depth=8, min_data_in_leaf=16, num_leaves=4, score=0.787, total=   0.3s\n",
      "[CV] max_depth=8, min_data_in_leaf=16, num_leaves=4 ..................\n",
      "[CV]  max_depth=8, min_data_in_leaf=16, num_leaves=4, score=0.872, total=   0.3s\n",
      "[CV] max_depth=8, min_data_in_leaf=16, num_leaves=4 ..................\n",
      "[CV]  max_depth=8, min_data_in_leaf=16, num_leaves=4, score=0.913, total=   0.3s\n",
      "[CV] max_depth=8, min_data_in_leaf=16, num_leaves=4 ..................\n",
      "[CV]  max_depth=8, min_data_in_leaf=16, num_leaves=4, score=0.870, total=   0.3s\n",
      "[CV] max_depth=8, min_data_in_leaf=16, num_leaves=8 ..................\n",
      "[CV]  max_depth=8, min_data_in_leaf=16, num_leaves=8, score=0.787, total=   0.4s\n",
      "[CV] max_depth=8, min_data_in_leaf=16, num_leaves=8 ..................\n",
      "[CV]  max_depth=8, min_data_in_leaf=16, num_leaves=8, score=0.894, total=   0.4s\n",
      "[CV] max_depth=8, min_data_in_leaf=16, num_leaves=8 ..................\n",
      "[CV]  max_depth=8, min_data_in_leaf=16, num_leaves=8, score=0.935, total=   0.4s\n",
      "[CV] max_depth=8, min_data_in_leaf=16, num_leaves=8 ..................\n",
      "[CV]  max_depth=8, min_data_in_leaf=16, num_leaves=8, score=0.870, total=   0.4s\n",
      "[CV] max_depth=8, min_data_in_leaf=16, num_leaves=16 .................\n",
      "[CV]  max_depth=8, min_data_in_leaf=16, num_leaves=16, score=0.787, total=   0.4s\n",
      "[CV] max_depth=8, min_data_in_leaf=16, num_leaves=16 .................\n",
      "[CV]  max_depth=8, min_data_in_leaf=16, num_leaves=16, score=0.894, total=   0.5s\n",
      "[CV] max_depth=8, min_data_in_leaf=16, num_leaves=16 .................\n",
      "[CV]  max_depth=8, min_data_in_leaf=16, num_leaves=16, score=0.935, total=   0.4s\n",
      "[CV] max_depth=8, min_data_in_leaf=16, num_leaves=16 .................\n",
      "[CV]  max_depth=8, min_data_in_leaf=16, num_leaves=16, score=0.870, total=   0.4s\n",
      "[CV] max_depth=8, min_data_in_leaf=16, num_leaves=32 .................\n",
      "[CV]  max_depth=8, min_data_in_leaf=16, num_leaves=32, score=0.787, total=   0.4s\n",
      "[CV] max_depth=8, min_data_in_leaf=16, num_leaves=32 .................\n",
      "[CV]  max_depth=8, min_data_in_leaf=16, num_leaves=32, score=0.894, total=   0.4s\n",
      "[CV] max_depth=8, min_data_in_leaf=16, num_leaves=32 .................\n",
      "[CV]  max_depth=8, min_data_in_leaf=16, num_leaves=32, score=0.935, total=   0.4s\n",
      "[CV] max_depth=8, min_data_in_leaf=16, num_leaves=32 .................\n",
      "[CV]  max_depth=8, min_data_in_leaf=16, num_leaves=32, score=0.870, total=   0.4s\n",
      "[CV] max_depth=8, min_data_in_leaf=16, num_leaves=64 .................\n",
      "[CV]  max_depth=8, min_data_in_leaf=16, num_leaves=64, score=0.787, total=   0.5s\n",
      "[CV] max_depth=8, min_data_in_leaf=16, num_leaves=64 .................\n",
      "[CV]  max_depth=8, min_data_in_leaf=16, num_leaves=64, score=0.894, total=   0.5s\n",
      "[CV] max_depth=8, min_data_in_leaf=16, num_leaves=64 .................\n",
      "[CV]  max_depth=8, min_data_in_leaf=16, num_leaves=64, score=0.935, total=   0.5s\n",
      "[CV] max_depth=8, min_data_in_leaf=16, num_leaves=64 .................\n",
      "[CV]  max_depth=8, min_data_in_leaf=16, num_leaves=64, score=0.870, total=   0.5s\n",
      "[CV] max_depth=8, min_data_in_leaf=16, num_leaves=128 ................\n",
      "[CV]  max_depth=8, min_data_in_leaf=16, num_leaves=128, score=0.787, total=   0.5s\n",
      "[CV] max_depth=8, min_data_in_leaf=16, num_leaves=128 ................\n",
      "[CV]  max_depth=8, min_data_in_leaf=16, num_leaves=128, score=0.894, total=   0.5s\n",
      "[CV] max_depth=8, min_data_in_leaf=16, num_leaves=128 ................\n",
      "[CV]  max_depth=8, min_data_in_leaf=16, num_leaves=128, score=0.935, total=   0.6s\n",
      "[CV] max_depth=8, min_data_in_leaf=16, num_leaves=128 ................\n",
      "[CV]  max_depth=8, min_data_in_leaf=16, num_leaves=128, score=0.870, total=   0.5s\n",
      "[CV] max_depth=8, min_data_in_leaf=32, num_leaves=4 ..................\n",
      "[CV]  max_depth=8, min_data_in_leaf=32, num_leaves=4, score=0.766, total=   0.2s\n",
      "[CV] max_depth=8, min_data_in_leaf=32, num_leaves=4 ..................\n",
      "[CV]  max_depth=8, min_data_in_leaf=32, num_leaves=4, score=0.851, total=   0.2s\n",
      "[CV] max_depth=8, min_data_in_leaf=32, num_leaves=4 ..................\n",
      "[CV]  max_depth=8, min_data_in_leaf=32, num_leaves=4, score=0.891, total=   0.2s\n",
      "[CV] max_depth=8, min_data_in_leaf=32, num_leaves=4 ..................\n",
      "[CV]  max_depth=8, min_data_in_leaf=32, num_leaves=4, score=0.848, total=   0.2s\n",
      "[CV] max_depth=8, min_data_in_leaf=32, num_leaves=8 ..................\n",
      "[CV]  max_depth=8, min_data_in_leaf=32, num_leaves=8, score=0.766, total=   0.2s\n",
      "[CV] max_depth=8, min_data_in_leaf=32, num_leaves=8 ..................\n",
      "[CV]  max_depth=8, min_data_in_leaf=32, num_leaves=8, score=0.851, total=   0.2s\n",
      "[CV] max_depth=8, min_data_in_leaf=32, num_leaves=8 ..................\n",
      "[CV]  max_depth=8, min_data_in_leaf=32, num_leaves=8, score=0.891, total=   0.2s\n",
      "[CV] max_depth=8, min_data_in_leaf=32, num_leaves=8 ..................\n",
      "[CV]  max_depth=8, min_data_in_leaf=32, num_leaves=8, score=0.848, total=   0.2s\n",
      "[CV] max_depth=8, min_data_in_leaf=32, num_leaves=16 .................\n",
      "[CV]  max_depth=8, min_data_in_leaf=32, num_leaves=16, score=0.766, total=   0.2s\n",
      "[CV] max_depth=8, min_data_in_leaf=32, num_leaves=16 .................\n",
      "[CV]  max_depth=8, min_data_in_leaf=32, num_leaves=16, score=0.851, total=   0.2s\n",
      "[CV] max_depth=8, min_data_in_leaf=32, num_leaves=16 .................\n",
      "[CV]  max_depth=8, min_data_in_leaf=32, num_leaves=16, score=0.891, total=   0.3s\n",
      "[CV] max_depth=8, min_data_in_leaf=32, num_leaves=16 .................\n",
      "[CV]  max_depth=8, min_data_in_leaf=32, num_leaves=16, score=0.848, total=   0.2s\n",
      "[CV] max_depth=8, min_data_in_leaf=32, num_leaves=32 .................\n",
      "[CV]  max_depth=8, min_data_in_leaf=32, num_leaves=32, score=0.766, total=   0.2s\n",
      "[CV] max_depth=8, min_data_in_leaf=32, num_leaves=32 .................\n",
      "[CV]  max_depth=8, min_data_in_leaf=32, num_leaves=32, score=0.851, total=   0.2s\n",
      "[CV] max_depth=8, min_data_in_leaf=32, num_leaves=32 .................\n",
      "[CV]  max_depth=8, min_data_in_leaf=32, num_leaves=32, score=0.891, total=   0.2s\n",
      "[CV] max_depth=8, min_data_in_leaf=32, num_leaves=32 .................\n",
      "[CV]  max_depth=8, min_data_in_leaf=32, num_leaves=32, score=0.848, total=   0.2s\n",
      "[CV] max_depth=8, min_data_in_leaf=32, num_leaves=64 .................\n",
      "[CV]  max_depth=8, min_data_in_leaf=32, num_leaves=64, score=0.766, total=   0.2s\n",
      "[CV] max_depth=8, min_data_in_leaf=32, num_leaves=64 .................\n",
      "[CV]  max_depth=8, min_data_in_leaf=32, num_leaves=64, score=0.851, total=   0.2s\n",
      "[CV] max_depth=8, min_data_in_leaf=32, num_leaves=64 .................\n",
      "[CV]  max_depth=8, min_data_in_leaf=32, num_leaves=64, score=0.891, total=   0.2s\n",
      "[CV] max_depth=8, min_data_in_leaf=32, num_leaves=64 .................\n",
      "[CV]  max_depth=8, min_data_in_leaf=32, num_leaves=64, score=0.848, total=   0.2s\n",
      "[CV] max_depth=8, min_data_in_leaf=32, num_leaves=128 ................\n",
      "[CV]  max_depth=8, min_data_in_leaf=32, num_leaves=128, score=0.766, total=   0.3s\n",
      "[CV] max_depth=8, min_data_in_leaf=32, num_leaves=128 ................\n",
      "[CV]  max_depth=8, min_data_in_leaf=32, num_leaves=128, score=0.851, total=   0.3s\n",
      "[CV] max_depth=8, min_data_in_leaf=32, num_leaves=128 ................\n",
      "[CV]  max_depth=8, min_data_in_leaf=32, num_leaves=128, score=0.891, total=   0.3s\n",
      "[CV] max_depth=8, min_data_in_leaf=32, num_leaves=128 ................\n",
      "[CV]  max_depth=8, min_data_in_leaf=32, num_leaves=128, score=0.848, total=   0.3s\n"
     ]
    },
    {
     "name": "stderr",
     "output_type": "stream",
     "text": [
      "[Parallel(n_jobs=1)]: Done 360 out of 360 | elapsed:  3.1min finished\n",
      "Setting a random_state has no effect since shuffle is False. This will raise an error in 0.24. You should leave random_state to its default (None), or set shuffle=True.\n",
      "Setting a random_state has no effect since shuffle is False. This will raise an error in 0.24. You should leave random_state to its default (None), or set shuffle=True.\n",
      "Setting a random_state has no effect since shuffle is False. This will raise an error in 0.24. You should leave random_state to its default (None), or set shuffle=True.\n",
      "Setting a random_state has no effect since shuffle is False. This will raise an error in 0.24. You should leave random_state to its default (None), or set shuffle=True.\n",
      "lbfgs failed to converge (status=1):\n",
      "STOP: TOTAL NO. of ITERATIONS REACHED LIMIT.\n",
      "\n",
      "Increase the number of iterations (max_iter) or scale the data as shown in:\n",
      "    https://scikit-learn.org/stable/modules/preprocessing.html\n",
      "Please also refer to the documentation for alternative solver options:\n",
      "    https://scikit-learn.org/stable/modules/linear_model.html#logistic-regression\n",
      "lbfgs failed to converge (status=1):\n",
      "STOP: TOTAL NO. of ITERATIONS REACHED LIMIT.\n",
      "\n",
      "Increase the number of iterations (max_iter) or scale the data as shown in:\n",
      "    https://scikit-learn.org/stable/modules/preprocessing.html\n",
      "Please also refer to the documentation for alternative solver options:\n",
      "    https://scikit-learn.org/stable/modules/linear_model.html#logistic-regression\n",
      "lbfgs failed to converge (status=1):\n",
      "STOP: TOTAL NO. of ITERATIONS REACHED LIMIT.\n",
      "\n",
      "Increase the number of iterations (max_iter) or scale the data as shown in:\n",
      "    https://scikit-learn.org/stable/modules/preprocessing.html\n",
      "Please also refer to the documentation for alternative solver options:\n",
      "    https://scikit-learn.org/stable/modules/linear_model.html#logistic-regression\n",
      "lbfgs failed to converge (status=1):\n",
      "STOP: TOTAL NO. of ITERATIONS REACHED LIMIT.\n",
      "\n",
      "Increase the number of iterations (max_iter) or scale the data as shown in:\n",
      "    https://scikit-learn.org/stable/modules/preprocessing.html\n",
      "Please also refer to the documentation for alternative solver options:\n",
      "    https://scikit-learn.org/stable/modules/linear_model.html#logistic-regression\n",
      "lbfgs failed to converge (status=1):\n",
      "STOP: TOTAL NO. of ITERATIONS REACHED LIMIT.\n",
      "\n",
      "Increase the number of iterations (max_iter) or scale the data as shown in:\n",
      "    https://scikit-learn.org/stable/modules/preprocessing.html\n",
      "Please also refer to the documentation for alternative solver options:\n",
      "    https://scikit-learn.org/stable/modules/linear_model.html#logistic-regression\n",
      "lbfgs failed to converge (status=1):\n",
      "STOP: TOTAL NO. of ITERATIONS REACHED LIMIT.\n",
      "\n",
      "Increase the number of iterations (max_iter) or scale the data as shown in:\n",
      "    https://scikit-learn.org/stable/modules/preprocessing.html\n",
      "Please also refer to the documentation for alternative solver options:\n",
      "    https://scikit-learn.org/stable/modules/linear_model.html#logistic-regression\n",
      "lbfgs failed to converge (status=1):\n",
      "STOP: TOTAL NO. of ITERATIONS REACHED LIMIT.\n",
      "\n",
      "Increase the number of iterations (max_iter) or scale the data as shown in:\n",
      "    https://scikit-learn.org/stable/modules/preprocessing.html\n",
      "Please also refer to the documentation for alternative solver options:\n",
      "    https://scikit-learn.org/stable/modules/linear_model.html#logistic-regression\n",
      "lbfgs failed to converge (status=1):\n",
      "STOP: TOTAL NO. of ITERATIONS REACHED LIMIT.\n",
      "\n",
      "Increase the number of iterations (max_iter) or scale the data as shown in:\n",
      "    https://scikit-learn.org/stable/modules/preprocessing.html\n",
      "Please also refer to the documentation for alternative solver options:\n",
      "    https://scikit-learn.org/stable/modules/linear_model.html#logistic-regression\n",
      "lbfgs failed to converge (status=1):\n",
      "STOP: TOTAL NO. of ITERATIONS REACHED LIMIT.\n",
      "\n",
      "Increase the number of iterations (max_iter) or scale the data as shown in:\n",
      "    https://scikit-learn.org/stable/modules/preprocessing.html\n",
      "Please also refer to the documentation for alternative solver options:\n",
      "    https://scikit-learn.org/stable/modules/linear_model.html#logistic-regression\n",
      "lbfgs failed to converge (status=1):\n",
      "STOP: TOTAL NO. of ITERATIONS REACHED LIMIT.\n",
      "\n",
      "Increase the number of iterations (max_iter) or scale the data as shown in:\n",
      "    https://scikit-learn.org/stable/modules/preprocessing.html\n",
      "Please also refer to the documentation for alternative solver options:\n",
      "    https://scikit-learn.org/stable/modules/linear_model.html#logistic-regression\n",
      "lbfgs failed to converge (status=1):\n",
      "STOP: TOTAL NO. of ITERATIONS REACHED LIMIT.\n",
      "\n",
      "Increase the number of iterations (max_iter) or scale the data as shown in:\n",
      "    https://scikit-learn.org/stable/modules/preprocessing.html\n",
      "Please also refer to the documentation for alternative solver options:\n",
      "    https://scikit-learn.org/stable/modules/linear_model.html#logistic-regression\n",
      "lbfgs failed to converge (status=1):\n",
      "STOP: TOTAL NO. of ITERATIONS REACHED LIMIT.\n",
      "\n",
      "Increase the number of iterations (max_iter) or scale the data as shown in:\n",
      "    https://scikit-learn.org/stable/modules/preprocessing.html\n",
      "Please also refer to the documentation for alternative solver options:\n",
      "    https://scikit-learn.org/stable/modules/linear_model.html#logistic-regression\n",
      "lbfgs failed to converge (status=1):\n",
      "STOP: TOTAL NO. of ITERATIONS REACHED LIMIT.\n",
      "\n",
      "Increase the number of iterations (max_iter) or scale the data as shown in:\n",
      "    https://scikit-learn.org/stable/modules/preprocessing.html\n",
      "Please also refer to the documentation for alternative solver options:\n",
      "    https://scikit-learn.org/stable/modules/linear_model.html#logistic-regression\n",
      "lbfgs failed to converge (status=1):\n",
      "STOP: TOTAL NO. of ITERATIONS REACHED LIMIT.\n",
      "\n",
      "Increase the number of iterations (max_iter) or scale the data as shown in:\n",
      "    https://scikit-learn.org/stable/modules/preprocessing.html\n",
      "Please also refer to the documentation for alternative solver options:\n",
      "    https://scikit-learn.org/stable/modules/linear_model.html#logistic-regression\n",
      "lbfgs failed to converge (status=1):\n",
      "STOP: TOTAL NO. of ITERATIONS REACHED LIMIT.\n",
      "\n",
      "Increase the number of iterations (max_iter) or scale the data as shown in:\n",
      "    https://scikit-learn.org/stable/modules/preprocessing.html\n",
      "Please also refer to the documentation for alternative solver options:\n",
      "    https://scikit-learn.org/stable/modules/linear_model.html#logistic-regression\n",
      "lbfgs failed to converge (status=1):\n",
      "STOP: TOTAL NO. of ITERATIONS REACHED LIMIT.\n",
      "\n",
      "Increase the number of iterations (max_iter) or scale the data as shown in:\n",
      "    https://scikit-learn.org/stable/modules/preprocessing.html\n",
      "Please also refer to the documentation for alternative solver options:\n",
      "    https://scikit-learn.org/stable/modules/linear_model.html#logistic-regression\n",
      "lbfgs failed to converge (status=1):\n",
      "STOP: TOTAL NO. of ITERATIONS REACHED LIMIT.\n",
      "\n",
      "Increase the number of iterations (max_iter) or scale the data as shown in:\n",
      "    https://scikit-learn.org/stable/modules/preprocessing.html\n",
      "Please also refer to the documentation for alternative solver options:\n",
      "    https://scikit-learn.org/stable/modules/linear_model.html#logistic-regression\n",
      "lbfgs failed to converge (status=1):\n",
      "STOP: TOTAL NO. of ITERATIONS REACHED LIMIT.\n",
      "\n",
      "Increase the number of iterations (max_iter) or scale the data as shown in:\n",
      "    https://scikit-learn.org/stable/modules/preprocessing.html\n",
      "Please also refer to the documentation for alternative solver options:\n",
      "    https://scikit-learn.org/stable/modules/linear_model.html#logistic-regression\n",
      "lbfgs failed to converge (status=1):\n",
      "STOP: TOTAL NO. of ITERATIONS REACHED LIMIT.\n",
      "\n",
      "Increase the number of iterations (max_iter) or scale the data as shown in:\n",
      "    https://scikit-learn.org/stable/modules/preprocessing.html\n",
      "Please also refer to the documentation for alternative solver options:\n",
      "    https://scikit-learn.org/stable/modules/linear_model.html#logistic-regression\n",
      "lbfgs failed to converge (status=1):\n",
      "STOP: TOTAL NO. of ITERATIONS REACHED LIMIT.\n",
      "\n",
      "Increase the number of iterations (max_iter) or scale the data as shown in:\n",
      "    https://scikit-learn.org/stable/modules/preprocessing.html\n",
      "Please also refer to the documentation for alternative solver options:\n",
      "    https://scikit-learn.org/stable/modules/linear_model.html#logistic-regression\n",
      "lbfgs failed to converge (status=1):\n",
      "STOP: TOTAL NO. of ITERATIONS REACHED LIMIT.\n",
      "\n",
      "Increase the number of iterations (max_iter) or scale the data as shown in:\n",
      "    https://scikit-learn.org/stable/modules/preprocessing.html\n",
      "Please also refer to the documentation for alternative solver options:\n",
      "    https://scikit-learn.org/stable/modules/linear_model.html#logistic-regression\n",
      "lbfgs failed to converge (status=1):\n",
      "STOP: TOTAL NO. of ITERATIONS REACHED LIMIT.\n",
      "\n",
      "Increase the number of iterations (max_iter) or scale the data as shown in:\n",
      "    https://scikit-learn.org/stable/modules/preprocessing.html\n",
      "Please also refer to the documentation for alternative solver options:\n",
      "    https://scikit-learn.org/stable/modules/linear_model.html#logistic-regression\n",
      "lbfgs failed to converge (status=1):\n",
      "STOP: TOTAL NO. of ITERATIONS REACHED LIMIT.\n",
      "\n",
      "Increase the number of iterations (max_iter) or scale the data as shown in:\n",
      "    https://scikit-learn.org/stable/modules/preprocessing.html\n",
      "Please also refer to the documentation for alternative solver options:\n",
      "    https://scikit-learn.org/stable/modules/linear_model.html#logistic-regression\n",
      "lbfgs failed to converge (status=1):\n",
      "STOP: TOTAL NO. of ITERATIONS REACHED LIMIT.\n",
      "\n",
      "Increase the number of iterations (max_iter) or scale the data as shown in:\n",
      "    https://scikit-learn.org/stable/modules/preprocessing.html\n",
      "Please also refer to the documentation for alternative solver options:\n",
      "    https://scikit-learn.org/stable/modules/linear_model.html#logistic-regression\n",
      "lbfgs failed to converge (status=1):\n",
      "STOP: TOTAL NO. of ITERATIONS REACHED LIMIT.\n",
      "\n",
      "Increase the number of iterations (max_iter) or scale the data as shown in:\n",
      "    https://scikit-learn.org/stable/modules/preprocessing.html\n",
      "Please also refer to the documentation for alternative solver options:\n",
      "    https://scikit-learn.org/stable/modules/linear_model.html#logistic-regression\n",
      "lbfgs failed to converge (status=1):\n",
      "STOP: TOTAL NO. of ITERATIONS REACHED LIMIT.\n",
      "\n",
      "Increase the number of iterations (max_iter) or scale the data as shown in:\n",
      "    https://scikit-learn.org/stable/modules/preprocessing.html\n",
      "Please also refer to the documentation for alternative solver options:\n",
      "    https://scikit-learn.org/stable/modules/linear_model.html#logistic-regression\n",
      "lbfgs failed to converge (status=1):\n",
      "STOP: TOTAL NO. of ITERATIONS REACHED LIMIT.\n",
      "\n",
      "Increase the number of iterations (max_iter) or scale the data as shown in:\n",
      "    https://scikit-learn.org/stable/modules/preprocessing.html\n",
      "Please also refer to the documentation for alternative solver options:\n",
      "    https://scikit-learn.org/stable/modules/linear_model.html#logistic-regression\n",
      "lbfgs failed to converge (status=1):\n",
      "STOP: TOTAL NO. of ITERATIONS REACHED LIMIT.\n",
      "\n",
      "Increase the number of iterations (max_iter) or scale the data as shown in:\n",
      "    https://scikit-learn.org/stable/modules/preprocessing.html\n",
      "Please also refer to the documentation for alternative solver options:\n",
      "    https://scikit-learn.org/stable/modules/linear_model.html#logistic-regression\n",
      "lbfgs failed to converge (status=1):\n",
      "STOP: TOTAL NO. of ITERATIONS REACHED LIMIT.\n",
      "\n",
      "Increase the number of iterations (max_iter) or scale the data as shown in:\n",
      "    https://scikit-learn.org/stable/modules/preprocessing.html\n",
      "Please also refer to the documentation for alternative solver options:\n",
      "    https://scikit-learn.org/stable/modules/linear_model.html#logistic-regression\n",
      "lbfgs failed to converge (status=1):\n",
      "STOP: TOTAL NO. of ITERATIONS REACHED LIMIT.\n",
      "\n",
      "Increase the number of iterations (max_iter) or scale the data as shown in:\n",
      "    https://scikit-learn.org/stable/modules/preprocessing.html\n",
      "Please also refer to the documentation for alternative solver options:\n",
      "    https://scikit-learn.org/stable/modules/linear_model.html#logistic-regression\n",
      "lbfgs failed to converge (status=1):\n",
      "STOP: TOTAL NO. of ITERATIONS REACHED LIMIT.\n",
      "\n",
      "Increase the number of iterations (max_iter) or scale the data as shown in:\n",
      "    https://scikit-learn.org/stable/modules/preprocessing.html\n",
      "Please also refer to the documentation for alternative solver options:\n",
      "    https://scikit-learn.org/stable/modules/linear_model.html#logistic-regression\n",
      "lbfgs failed to converge (status=1):\n",
      "STOP: TOTAL NO. of ITERATIONS REACHED LIMIT.\n",
      "\n",
      "Increase the number of iterations (max_iter) or scale the data as shown in:\n",
      "    https://scikit-learn.org/stable/modules/preprocessing.html\n",
      "Please also refer to the documentation for alternative solver options:\n",
      "    https://scikit-learn.org/stable/modules/linear_model.html#logistic-regression\n",
      "lbfgs failed to converge (status=1):\n",
      "STOP: TOTAL NO. of ITERATIONS REACHED LIMIT.\n",
      "\n",
      "Increase the number of iterations (max_iter) or scale the data as shown in:\n",
      "    https://scikit-learn.org/stable/modules/preprocessing.html\n",
      "Please also refer to the documentation for alternative solver options:\n",
      "    https://scikit-learn.org/stable/modules/linear_model.html#logistic-regression\n",
      "lbfgs failed to converge (status=1):\n",
      "STOP: TOTAL NO. of ITERATIONS REACHED LIMIT.\n",
      "\n",
      "Increase the number of iterations (max_iter) or scale the data as shown in:\n",
      "    https://scikit-learn.org/stable/modules/preprocessing.html\n",
      "Please also refer to the documentation for alternative solver options:\n",
      "    https://scikit-learn.org/stable/modules/linear_model.html#logistic-regression\n",
      "lbfgs failed to converge (status=1):\n",
      "STOP: TOTAL NO. of ITERATIONS REACHED LIMIT.\n",
      "\n",
      "Increase the number of iterations (max_iter) or scale the data as shown in:\n",
      "    https://scikit-learn.org/stable/modules/preprocessing.html\n",
      "Please also refer to the documentation for alternative solver options:\n",
      "    https://scikit-learn.org/stable/modules/linear_model.html#logistic-regression\n",
      "lbfgs failed to converge (status=1):\n",
      "STOP: TOTAL NO. of ITERATIONS REACHED LIMIT.\n",
      "\n",
      "Increase the number of iterations (max_iter) or scale the data as shown in:\n",
      "    https://scikit-learn.org/stable/modules/preprocessing.html\n",
      "Please also refer to the documentation for alternative solver options:\n",
      "    https://scikit-learn.org/stable/modules/linear_model.html#logistic-regression\n",
      "lbfgs failed to converge (status=1):\n",
      "STOP: TOTAL NO. of ITERATIONS REACHED LIMIT.\n",
      "\n",
      "Increase the number of iterations (max_iter) or scale the data as shown in:\n",
      "    https://scikit-learn.org/stable/modules/preprocessing.html\n",
      "Please also refer to the documentation for alternative solver options:\n",
      "    https://scikit-learn.org/stable/modules/linear_model.html#logistic-regression\n",
      "lbfgs failed to converge (status=1):\n",
      "STOP: TOTAL NO. of ITERATIONS REACHED LIMIT.\n",
      "\n",
      "Increase the number of iterations (max_iter) or scale the data as shown in:\n",
      "    https://scikit-learn.org/stable/modules/preprocessing.html\n",
      "Please also refer to the documentation for alternative solver options:\n",
      "    https://scikit-learn.org/stable/modules/linear_model.html#logistic-regression\n",
      "lbfgs failed to converge (status=1):\n",
      "STOP: TOTAL NO. of ITERATIONS REACHED LIMIT.\n",
      "\n",
      "Increase the number of iterations (max_iter) or scale the data as shown in:\n",
      "    https://scikit-learn.org/stable/modules/preprocessing.html\n",
      "Please also refer to the documentation for alternative solver options:\n",
      "    https://scikit-learn.org/stable/modules/linear_model.html#logistic-regression\n",
      "lbfgs failed to converge (status=1):\n",
      "STOP: TOTAL NO. of ITERATIONS REACHED LIMIT.\n",
      "\n",
      "Increase the number of iterations (max_iter) or scale the data as shown in:\n",
      "    https://scikit-learn.org/stable/modules/preprocessing.html\n",
      "Please also refer to the documentation for alternative solver options:\n",
      "    https://scikit-learn.org/stable/modules/linear_model.html#logistic-regression\n",
      "lbfgs failed to converge (status=1):\n",
      "STOP: TOTAL NO. of ITERATIONS REACHED LIMIT.\n",
      "\n",
      "Increase the number of iterations (max_iter) or scale the data as shown in:\n",
      "    https://scikit-learn.org/stable/modules/preprocessing.html\n",
      "Please also refer to the documentation for alternative solver options:\n",
      "    https://scikit-learn.org/stable/modules/linear_model.html#logistic-regression\n",
      "lbfgs failed to converge (status=1):\n",
      "STOP: TOTAL NO. of ITERATIONS REACHED LIMIT.\n",
      "\n",
      "Increase the number of iterations (max_iter) or scale the data as shown in:\n",
      "    https://scikit-learn.org/stable/modules/preprocessing.html\n",
      "Please also refer to the documentation for alternative solver options:\n",
      "    https://scikit-learn.org/stable/modules/linear_model.html#logistic-regression\n",
      "lbfgs failed to converge (status=1):\n",
      "STOP: TOTAL NO. of ITERATIONS REACHED LIMIT.\n",
      "\n",
      "Increase the number of iterations (max_iter) or scale the data as shown in:\n",
      "    https://scikit-learn.org/stable/modules/preprocessing.html\n",
      "Please also refer to the documentation for alternative solver options:\n",
      "    https://scikit-learn.org/stable/modules/linear_model.html#logistic-regression\n",
      "lbfgs failed to converge (status=1):\n",
      "STOP: TOTAL NO. of ITERATIONS REACHED LIMIT.\n",
      "\n",
      "Increase the number of iterations (max_iter) or scale the data as shown in:\n",
      "    https://scikit-learn.org/stable/modules/preprocessing.html\n",
      "Please also refer to the documentation for alternative solver options:\n",
      "    https://scikit-learn.org/stable/modules/linear_model.html#logistic-regression\n",
      "lbfgs failed to converge (status=1):\n",
      "STOP: TOTAL NO. of ITERATIONS REACHED LIMIT.\n",
      "\n",
      "Increase the number of iterations (max_iter) or scale the data as shown in:\n",
      "    https://scikit-learn.org/stable/modules/preprocessing.html\n",
      "Please also refer to the documentation for alternative solver options:\n",
      "    https://scikit-learn.org/stable/modules/linear_model.html#logistic-regression\n",
      "lbfgs failed to converge (status=1):\n",
      "STOP: TOTAL NO. of ITERATIONS REACHED LIMIT.\n",
      "\n",
      "Increase the number of iterations (max_iter) or scale the data as shown in:\n",
      "    https://scikit-learn.org/stable/modules/preprocessing.html\n",
      "Please also refer to the documentation for alternative solver options:\n",
      "    https://scikit-learn.org/stable/modules/linear_model.html#logistic-regression\n",
      "lbfgs failed to converge (status=1):\n",
      "STOP: TOTAL NO. of ITERATIONS REACHED LIMIT.\n",
      "\n",
      "Increase the number of iterations (max_iter) or scale the data as shown in:\n",
      "    https://scikit-learn.org/stable/modules/preprocessing.html\n",
      "Please also refer to the documentation for alternative solver options:\n",
      "    https://scikit-learn.org/stable/modules/linear_model.html#logistic-regression\n",
      "lbfgs failed to converge (status=1):\n",
      "STOP: TOTAL NO. of ITERATIONS REACHED LIMIT.\n",
      "\n",
      "Increase the number of iterations (max_iter) or scale the data as shown in:\n",
      "    https://scikit-learn.org/stable/modules/preprocessing.html\n",
      "Please also refer to the documentation for alternative solver options:\n",
      "    https://scikit-learn.org/stable/modules/linear_model.html#logistic-regression\n",
      "lbfgs failed to converge (status=1):\n",
      "STOP: TOTAL NO. of ITERATIONS REACHED LIMIT.\n",
      "\n",
      "Increase the number of iterations (max_iter) or scale the data as shown in:\n",
      "    https://scikit-learn.org/stable/modules/preprocessing.html\n",
      "Please also refer to the documentation for alternative solver options:\n",
      "    https://scikit-learn.org/stable/modules/linear_model.html#logistic-regression\n",
      "lbfgs failed to converge (status=1):\n",
      "STOP: TOTAL NO. of ITERATIONS REACHED LIMIT.\n",
      "\n",
      "Increase the number of iterations (max_iter) or scale the data as shown in:\n",
      "    https://scikit-learn.org/stable/modules/preprocessing.html\n",
      "Please also refer to the documentation for alternative solver options:\n",
      "    https://scikit-learn.org/stable/modules/linear_model.html#logistic-regression\n",
      "lbfgs failed to converge (status=1):\n",
      "STOP: TOTAL NO. of ITERATIONS REACHED LIMIT.\n",
      "\n",
      "Increase the number of iterations (max_iter) or scale the data as shown in:\n",
      "    https://scikit-learn.org/stable/modules/preprocessing.html\n",
      "Please also refer to the documentation for alternative solver options:\n",
      "    https://scikit-learn.org/stable/modules/linear_model.html#logistic-regression\n",
      "lbfgs failed to converge (status=1):\n",
      "STOP: TOTAL NO. of ITERATIONS REACHED LIMIT.\n",
      "\n",
      "Increase the number of iterations (max_iter) or scale the data as shown in:\n",
      "    https://scikit-learn.org/stable/modules/preprocessing.html\n",
      "Please also refer to the documentation for alternative solver options:\n",
      "    https://scikit-learn.org/stable/modules/linear_model.html#logistic-regression\n",
      "lbfgs failed to converge (status=1):\n",
      "STOP: TOTAL NO. of ITERATIONS REACHED LIMIT.\n",
      "\n",
      "Increase the number of iterations (max_iter) or scale the data as shown in:\n",
      "    https://scikit-learn.org/stable/modules/preprocessing.html\n",
      "Please also refer to the documentation for alternative solver options:\n",
      "    https://scikit-learn.org/stable/modules/linear_model.html#logistic-regression\n",
      "lbfgs failed to converge (status=1):\n",
      "STOP: TOTAL NO. of ITERATIONS REACHED LIMIT.\n",
      "\n",
      "Increase the number of iterations (max_iter) or scale the data as shown in:\n",
      "    https://scikit-learn.org/stable/modules/preprocessing.html\n",
      "Please also refer to the documentation for alternative solver options:\n",
      "    https://scikit-learn.org/stable/modules/linear_model.html#logistic-regression\n",
      "lbfgs failed to converge (status=1):\n",
      "STOP: TOTAL NO. of ITERATIONS REACHED LIMIT.\n",
      "\n",
      "Increase the number of iterations (max_iter) or scale the data as shown in:\n",
      "    https://scikit-learn.org/stable/modules/preprocessing.html\n",
      "Please also refer to the documentation for alternative solver options:\n",
      "    https://scikit-learn.org/stable/modules/linear_model.html#logistic-regression\n",
      "lbfgs failed to converge (status=1):\n",
      "STOP: TOTAL NO. of ITERATIONS REACHED LIMIT.\n",
      "\n",
      "Increase the number of iterations (max_iter) or scale the data as shown in:\n",
      "    https://scikit-learn.org/stable/modules/preprocessing.html\n",
      "Please also refer to the documentation for alternative solver options:\n",
      "    https://scikit-learn.org/stable/modules/linear_model.html#logistic-regression\n",
      "lbfgs failed to converge (status=1):\n",
      "STOP: TOTAL NO. of ITERATIONS REACHED LIMIT.\n",
      "\n",
      "Increase the number of iterations (max_iter) or scale the data as shown in:\n",
      "    https://scikit-learn.org/stable/modules/preprocessing.html\n",
      "Please also refer to the documentation for alternative solver options:\n",
      "    https://scikit-learn.org/stable/modules/linear_model.html#logistic-regression\n",
      "lbfgs failed to converge (status=1):\n",
      "STOP: TOTAL NO. of ITERATIONS REACHED LIMIT.\n",
      "\n",
      "Increase the number of iterations (max_iter) or scale the data as shown in:\n",
      "    https://scikit-learn.org/stable/modules/preprocessing.html\n",
      "Please also refer to the documentation for alternative solver options:\n",
      "    https://scikit-learn.org/stable/modules/linear_model.html#logistic-regression\n",
      "lbfgs failed to converge (status=1):\n",
      "STOP: TOTAL NO. of ITERATIONS REACHED LIMIT.\n",
      "\n",
      "Increase the number of iterations (max_iter) or scale the data as shown in:\n",
      "    https://scikit-learn.org/stable/modules/preprocessing.html\n",
      "Please also refer to the documentation for alternative solver options:\n",
      "    https://scikit-learn.org/stable/modules/linear_model.html#logistic-regression\n",
      "lbfgs failed to converge (status=1):\n",
      "STOP: TOTAL NO. of ITERATIONS REACHED LIMIT.\n",
      "\n",
      "Increase the number of iterations (max_iter) or scale the data as shown in:\n",
      "    https://scikit-learn.org/stable/modules/preprocessing.html\n",
      "Please also refer to the documentation for alternative solver options:\n",
      "    https://scikit-learn.org/stable/modules/linear_model.html#logistic-regression\n",
      "lbfgs failed to converge (status=1):\n",
      "STOP: TOTAL NO. of ITERATIONS REACHED LIMIT.\n",
      "\n",
      "Increase the number of iterations (max_iter) or scale the data as shown in:\n",
      "    https://scikit-learn.org/stable/modules/preprocessing.html\n",
      "Please also refer to the documentation for alternative solver options:\n",
      "    https://scikit-learn.org/stable/modules/linear_model.html#logistic-regression\n",
      "lbfgs failed to converge (status=1):\n",
      "STOP: TOTAL NO. of ITERATIONS REACHED LIMIT.\n",
      "\n",
      "Increase the number of iterations (max_iter) or scale the data as shown in:\n",
      "    https://scikit-learn.org/stable/modules/preprocessing.html\n",
      "Please also refer to the documentation for alternative solver options:\n",
      "    https://scikit-learn.org/stable/modules/linear_model.html#logistic-regression\n",
      "lbfgs failed to converge (status=1):\n",
      "STOP: TOTAL NO. of ITERATIONS REACHED LIMIT.\n",
      "\n",
      "Increase the number of iterations (max_iter) or scale the data as shown in:\n",
      "    https://scikit-learn.org/stable/modules/preprocessing.html\n",
      "Please also refer to the documentation for alternative solver options:\n",
      "    https://scikit-learn.org/stable/modules/linear_model.html#logistic-regression\n",
      "lbfgs failed to converge (status=1):\n",
      "STOP: TOTAL NO. of ITERATIONS REACHED LIMIT.\n",
      "\n",
      "Increase the number of iterations (max_iter) or scale the data as shown in:\n",
      "    https://scikit-learn.org/stable/modules/preprocessing.html\n",
      "Please also refer to the documentation for alternative solver options:\n",
      "    https://scikit-learn.org/stable/modules/linear_model.html#logistic-regression\n",
      "lbfgs failed to converge (status=1):\n",
      "STOP: TOTAL NO. of ITERATIONS REACHED LIMIT.\n",
      "\n",
      "Increase the number of iterations (max_iter) or scale the data as shown in:\n",
      "    https://scikit-learn.org/stable/modules/preprocessing.html\n",
      "Please also refer to the documentation for alternative solver options:\n",
      "    https://scikit-learn.org/stable/modules/linear_model.html#logistic-regression\n",
      "lbfgs failed to converge (status=1):\n",
      "STOP: TOTAL NO. of ITERATIONS REACHED LIMIT.\n",
      "\n",
      "Increase the number of iterations (max_iter) or scale the data as shown in:\n",
      "    https://scikit-learn.org/stable/modules/preprocessing.html\n",
      "Please also refer to the documentation for alternative solver options:\n",
      "    https://scikit-learn.org/stable/modules/linear_model.html#logistic-regression\n",
      "lbfgs failed to converge (status=1):\n",
      "STOP: TOTAL NO. of ITERATIONS REACHED LIMIT.\n",
      "\n",
      "Increase the number of iterations (max_iter) or scale the data as shown in:\n",
      "    https://scikit-learn.org/stable/modules/preprocessing.html\n",
      "Please also refer to the documentation for alternative solver options:\n",
      "    https://scikit-learn.org/stable/modules/linear_model.html#logistic-regression\n",
      "lbfgs failed to converge (status=1):\n",
      "STOP: TOTAL NO. of ITERATIONS REACHED LIMIT.\n",
      "\n",
      "Increase the number of iterations (max_iter) or scale the data as shown in:\n",
      "    https://scikit-learn.org/stable/modules/preprocessing.html\n",
      "Please also refer to the documentation for alternative solver options:\n",
      "    https://scikit-learn.org/stable/modules/linear_model.html#logistic-regression\n",
      "Setting a random_state has no effect since shuffle is False. This will raise an error in 0.24. You should leave random_state to its default (None), or set shuffle=True.\n",
      "lbfgs failed to converge (status=1):\n",
      "STOP: TOTAL NO. of ITERATIONS REACHED LIMIT.\n",
      "\n",
      "Increase the number of iterations (max_iter) or scale the data as shown in:\n",
      "    https://scikit-learn.org/stable/modules/preprocessing.html\n",
      "Please also refer to the documentation for alternative solver options:\n",
      "    https://scikit-learn.org/stable/modules/linear_model.html#logistic-regression\n",
      "lbfgs failed to converge (status=1):\n",
      "STOP: TOTAL NO. of ITERATIONS REACHED LIMIT.\n",
      "\n",
      "Increase the number of iterations (max_iter) or scale the data as shown in:\n",
      "    https://scikit-learn.org/stable/modules/preprocessing.html\n",
      "Please also refer to the documentation for alternative solver options:\n",
      "    https://scikit-learn.org/stable/modules/linear_model.html#logistic-regression\n",
      "lbfgs failed to converge (status=1):\n",
      "STOP: TOTAL NO. of ITERATIONS REACHED LIMIT.\n",
      "\n",
      "Increase the number of iterations (max_iter) or scale the data as shown in:\n",
      "    https://scikit-learn.org/stable/modules/preprocessing.html\n",
      "Please also refer to the documentation for alternative solver options:\n",
      "    https://scikit-learn.org/stable/modules/linear_model.html#logistic-regression\n",
      "lbfgs failed to converge (status=1):\n",
      "STOP: TOTAL NO. of ITERATIONS REACHED LIMIT.\n",
      "\n",
      "Increase the number of iterations (max_iter) or scale the data as shown in:\n",
      "    https://scikit-learn.org/stable/modules/preprocessing.html\n",
      "Please also refer to the documentation for alternative solver options:\n",
      "    https://scikit-learn.org/stable/modules/linear_model.html#logistic-regression\n"
     ]
    },
    {
     "data": {
      "image/png": "[encoded data removed]",
      "text/plain": [
       "<Figure size 576x432 with 1 Axes>"
      ]
     },
     "metadata": {
      "needs_background": "light"
     },
     "output_type": "display_data"
    }
   ],
   "source": [
    "from models import RandomForest\n",
    "from models import LGBM\n",
    "from models import LinearModel\n",
    "\n",
    "# random forest\n",
    "rf_model = RandomForest('RF',  {})\n",
    "best_params = rf_model.random_search(4, norm_X_train, y_train)\n",
    "rf_model = RandomForest('RF', best_params)\n",
    "rf_model.run_cv(norm_X_train, y_train, 4)\n",
    "\n",
    "# LGBM\n",
    "lgbm_model = LGBM('LGBM', {'n_jobs': -1})\n",
    "best_params = lgbm_model.random_search(4, norm_X_train, y_train)\n",
    "lgbm_model = LGBM('LGBM', best_params)\n",
    "lgbm_model.run_cv(norm_X_train, y_train, 4)\n",
    "\n",
    "# lasso\n",
    "lasso = LinearModel('lasso', {'penalty' : 'l1', 'solver' : 'liblinear'})\n",
    "best_params = lasso.grid_search(4, norm_X_train, y_train, visualize=False)\n",
    "lasso = LinearModel('lasso', dict({'penalty' : 'l1', 'solver' : 'liblinear'}, **best_params))\n",
    "lasso.run_cv(norm_X_train, y_train, 4)\n",
    "\n",
    "# logistic\n",
    "logistic = LinearModel('logistic', {'solver' : 'lbfgs'})\n",
    "best_params = logistic.grid_search(4, norm_X_train, y_train, visualize=True)\n",
    "logistic = LinearModel('logistic', dict({'solver' : 'lbfgs'}, **best_params))\n",
    "logistic.run_cv(norm_X_train, y_train, 4)"
   ]
  },
  {
   "cell_type": "markdown",
   "metadata": {},
   "source": [
    "# Get Predictions on Test Set"
   ]
  },
  {
   "cell_type": "code",
   "execution_count": 16,
   "metadata": {},
   "outputs": [
    {
     "name": "stdout",
     "output_type": "stream",
     "text": [
      "RF\n",
      "0\n",
      "LGBM\n",
      "0\n",
      "lasso\n",
      "0\n",
      "logistic\n",
      "0\n"
     ]
    }
   ],
   "source": [
    "output = {}\n",
    "all_models = [rf_model, lgbm_model, lasso, logistic]\n",
    "for model in all_models:\n",
    "    print(model.model_name)\n",
    "    y_train_prob = model.avgd_folds_decision_function(norm_X_train)\n",
    "    print(np.sum(np.isnan(norm_X_test)))\n",
    "    y_pred_prob = model.avgd_folds_decision_function(norm_X_test)\n",
    "    \n",
    "    \n",
    "        \n",
    "    # get best threshold\n",
    "    # Average acr\n",
    "    best_threshold = utils.get_optimal_threshold(y_train, y_train_prob)    \n",
    "    \n",
    "    output[model.model_name] = {'model': model, 'best_threshold': best_threshold,'y_pred_prob': y_pred_prob, 'y_test': y_test}\n",
    "                    "
   ]
  },
  {
   "cell_type": "code",
   "execution_count": 17,
   "metadata": {},
   "outputs": [],
   "source": [
    "import pickle\n",
    "with open('model_output_v3.pkl', 'wb') as f:\n",
    "    pickle.dump(output, f)"
   ]
  },
  {
   "cell_type": "markdown",
   "metadata": {},
   "source": [
    "# Load Model Data, Find Operating Points\n",
    "- Two Operating Points: \n",
    "    - High senstivity (TPR > .9)\n",
    "    - Maximize TPR + (1 - FPR)"
   ]
  },
  {
   "cell_type": "code",
   "execution_count": 18,
   "metadata": {},
   "outputs": [],
   "source": [
    "import pickle \n",
    "from sklearn.metrics import roc_auc_score, confusion_matrix"
   ]
  },
  {
   "cell_type": "code",
   "execution_count": 19,
   "metadata": {},
   "outputs": [],
   "source": [
    "with open('model_output_v3.pkl', 'rb') as f:\n",
    "    output = pickle.load(f)"
   ]
  },
  {
   "cell_type": "code",
   "execution_count": 20,
   "metadata": {},
   "outputs": [],
   "source": [
    "def get_optimal_operating_point(y_true, y_pred):\n",
    "    thresholds = []\n",
    "    sens_plus_spec = []\n",
    "    for threshold in np.arange(0, 1, .01):\n",
    "        preds = [1 if p > threshold else 0 for p in y_pred]\n",
    "        tn, fp, fn, tp = confusion_matrix(y_true, preds).ravel()\n",
    "        specificity = tn / (tn + fp)\n",
    "        sensitivity = tp / (tp + fn)\n",
    "        thresholds.append(threshold)\n",
    "        sens_plus_spec.append(sensitivity + specificity)\n",
    "    max_idx = np.argmax(sens_plus_spec)\n",
    "    return thresholds[max_idx]"
   ]
  },
  {
   "cell_type": "code",
   "execution_count": 21,
   "metadata": {},
   "outputs": [],
   "source": [
    "def get_high_sensitivity_operating_point(y_true, y_pred, target=.9):\n",
    "    thresholds = []\n",
    "    sensitivities = []\n",
    "    for threshold in np.arange(0, 1, .01):\n",
    "        preds = [1 if p > threshold else 0 for p in y_pred]\n",
    "        tn, fp, fn ,tp = confusion_matrix(y_true, preds).ravel()\n",
    "        sensitivity = tp / (tp + fn)\n",
    "        thresholds.append(threshold)\n",
    "        sensitivities.append(sensitivity)\n",
    "        \n",
    "    for idx, s in enumerate(sensitivities):\n",
    "        if s <= target:\n",
    "            return thresholds[idx-1]"
   ]
  },
  {
   "cell_type": "code",
   "execution_count": 22,
   "metadata": {},
   "outputs": [
    {
     "name": "stdout",
     "output_type": "stream",
     "text": [
      "RF\n",
      "High Sensitivity Thresholds:\n",
      "[0.35000000000000003, 0.44, 0.49, 0.53]\n",
      "Optimal Thresholds:\n",
      "[0.5700000000000001, 0.6, 0.46, 0.53]\n",
      "\n",
      "LGBM\n",
      "High Sensitivity Thresholds:\n",
      "[0.0, 0.12, 0.67, 0.52]\n",
      "Optimal Thresholds:\n",
      "[0.08, 0.36, 0.47000000000000003, 0.29]\n",
      "\n",
      "lasso\n",
      "High Sensitivity Thresholds:\n",
      "[0.0, 0.89, 0.18, 0.02]\n",
      "Optimal Thresholds:\n",
      "[0.8200000000000001, 0.68, 0.12, 0.88]\n",
      "\n",
      "logistic\n",
      "High Sensitivity Thresholds:\n",
      "[0.0, 0.29, 0.07, 0.38]\n",
      "Optimal Thresholds:\n",
      "[0.08, 0.13, 0.01, 0.27]\n",
      "\n"
     ]
    }
   ],
   "source": [
    "for model_name, data in output.items():\n",
    "    model = data['model']\n",
    "\n",
    "    y_fold_preds = model.cv_storage.y_pred\n",
    "    y_validations = model.cv_storage.y_test  \n",
    "    \n",
    "    optimal_thresholds = []\n",
    "    high_sens_thresholds = []\n",
    "    for y_pred, y_val in zip(y_fold_preds, y_validations):\n",
    "        optimal_thresholds.append(get_optimal_operating_point(y_val, y_pred))\n",
    "        high_sens_thresholds.append(get_high_sensitivity_operating_point(y_val, y_pred))\n",
    "        \n",
    "    print(model_name)\n",
    "    print(\"High Sensitivity Thresholds:\")\n",
    "    print(high_sens_thresholds)\n",
    "    print(\"Optimal Thresholds:\")\n",
    "    print(optimal_thresholds)\n",
    "    print()\n",
    "    output[model_name]['high_sensitivity_threshold'] = np.mean(high_sens_thresholds)\n",
    "    output[model_name]['optimal_thresholds'] = np.mean(optimal_thresholds)"
   ]
  },
  {
   "cell_type": "markdown",
   "metadata": {},
   "source": [
    "# Plot all predictions"
   ]
  },
  {
   "cell_type": "code",
   "execution_count": 24,
   "metadata": {},
   "outputs": [
    {
     "data": {
      "image/png": "[encoded data removed]",
      "text/plain": [
       "<Figure size 432x432 with 1 Axes>"
      ]
     },
     "metadata": {
      "needs_background": "light"
     },
     "output_type": "display_data"
    }
   ],
   "source": [
    "plt.figure(figsize=(6,6))\n",
    "\n",
    "for model_name, data in output.items():\n",
    "    model = data['model']\n",
    "    y_test = data['y_test']\n",
    "    y_pred_prob = data['y_pred_prob']\n",
    "    fpr, tpr, a = model.get_prediction_stats(y_test, y_pred_prob)\n",
    "    plt.plot(fpr, tpr, lw=2, label=model_name + ' ROC curve - (area = %0.2f)' % a)\n",
    "plt.plot([0, 1], [0, 1], color='navy', lw=2, linestyle='--')\n",
    "plt.xlim([0.0, 1.0])\n",
    "plt.ylim([0.0, 1.05])\n",
    "plt.xlabel('False Positive Rate')\n",
    "plt.ylabel('True Positive Rate')\n",
    "plt.title('Linear ROC - Test Set')\n",
    "plt.legend(loc=\"lower right\")\n",
    "plt.show()"
   ]
  },
  {
   "cell_type": "markdown",
   "metadata": {},
   "source": [
    "# Compute AUC and CI using Delong's Method"
   ]
  },
  {
   "cell_type": "code",
   "execution_count": 25,
   "metadata": {},
   "outputs": [
    {
     "name": "stdout",
     "output_type": "stream",
     "text": [
      "RF\n",
      "AUC: 0.9262820512820513\n",
      "AUC COV: 0.0013718627619129292\n",
      "95% AUC CI: [0.8536876 0.9988765]\n",
      "[0.8536876 0.9988765]\n",
      "\n",
      "LGBM\n",
      "AUC: 0.9983974358974359\n",
      "AUC COV: 5.136423405654168e-06\n",
      "95% AUC CI: [0.99395544 1.        ]\n",
      "[0.99395544 1.        ]\n",
      "\n",
      "lasso\n",
      "AUC: 0.9407051282051282\n",
      "AUC COV: 0.0008888692364862937\n",
      "95% AUC CI: [0.88227094 0.99913932]\n",
      "[0.88227094 0.99913932]\n",
      "\n",
      "logistic\n",
      "AUC: 0.921474358974359\n",
      "AUC COV: 0.0014109442443472546\n",
      "95% AUC CI: [0.84785314 0.99509558]\n",
      "[0.84785314 0.99509558]\n",
      "\n"
     ]
    }
   ],
   "source": [
    "for model_name, data in output.items():\n",
    "    print(model_name)\n",
    "    y_test = data['y_test']\n",
    "    y_pred_prob = data['y_pred_prob']\n",
    "    model = data['model']\n",
    "    fpr, tpr, auc = model.get_prediction_stats(y_test, y_pred_prob)\n",
    "    print(delong.compute_stats(.95, y_pred_prob, y_test))\n",
    "    print()"
   ]
  },
  {
   "cell_type": "markdown",
   "metadata": {},
   "source": [
    "# Compute Sensitivity and Specificity and CI using Wilson's Method"
   ]
  },
  {
   "cell_type": "code",
   "execution_count": 26,
   "metadata": {},
   "outputs": [],
   "source": [
    "import math\n",
    "\n",
    "def binconf(p, n, c=0.95):\n",
    "    '''\n",
    "    Calculate binomial confidence interval based on the number of positive and\n",
    "    negative events observed.  Uses Wilson score and approximations to inverse\n",
    "    of normal cumulative density function.\n",
    "\n",
    "    Parameters\n",
    "    ----------\n",
    "    p: int\n",
    "      number of positive events observed\n",
    "    n: int\n",
    "      number of negative events observed\n",
    "    c : optional, [0,1]\n",
    "      confidence percentage. e.g. 0.95 means 95% confident the probability of\n",
    "      success lies between the 2 returned values\n",
    "\n",
    "    Returns\n",
    "    -------\n",
    "    theta_low  : float\n",
    "      lower bound on confidence interval\n",
    "    theta_high : float\n",
    "      upper bound on confidence interval\n",
    "    '''\n",
    "    p, n = float(p), float(n)\n",
    "    N    = p + n\n",
    "\n",
    "    if N == 0.0: return (0.0, 1.0)\n",
    "\n",
    "    p = p / N\n",
    "    z = normcdfi(1 - 0.5 * (1-c))\n",
    "\n",
    "    a1 = 1.0 / (1.0 + z * z / N)\n",
    "    a2 = p + z * z / (2 * N)\n",
    "    a3 = z * math.sqrt(p * (1-p) / N + z * z / (4 * N * N))\n",
    "\n",
    "    return (a1 * (a2 - a3), a1 * (a2 + a3))\n",
    "\n",
    "\n",
    "def erfi(x):\n",
    "    \"\"\"Approximation to inverse error function\"\"\"\n",
    "    a  = 0.147  # MAGIC!!!\n",
    "    a1 = math.log(1 - x * x)\n",
    "    a2 = (\n",
    "    2.0 / (math.pi * a)\n",
    "    + a1 / 2.0\n",
    "    )\n",
    "\n",
    "    return (\n",
    "    sign(x) *\n",
    "    math.sqrt( math.sqrt(a2 * a2 - a1 / a) - a2 )\n",
    "    )\n",
    "\n",
    "\n",
    "def sign(x):\n",
    "    if x  < 0: return -1\n",
    "    if x == 0: return  0\n",
    "    if x  > 0: return  1\n",
    "\n",
    "\n",
    "def normcdfi(p, mu=0.0, sigma2=1.0):\n",
    "    \"\"\"Inverse CDF of normal distribution\"\"\"\n",
    "    if mu == 0.0 and sigma2 == 1.0:\n",
    "        return math.sqrt(2) * erfi(2 * p - 1)\n",
    "    else:\n",
    "        return mu + math.sqrt(sigma2) * normcdfi(p)"
   ]
  },
  {
   "cell_type": "markdown",
   "metadata": {},
   "source": [
    "# Compute for High Sensitivity Threshold"
   ]
  },
  {
   "cell_type": "code",
   "execution_count": 27,
   "metadata": {},
   "outputs": [
    {
     "name": "stdout",
     "output_type": "stream",
     "text": [
      "RF\n",
      "    Sensitivity:     0.8750\n",
      "    Sensitivity 95% CI:  (0.6900645596725103, 0.9565365713514448)\n",
      "    Specificity:            0.8846\n",
      "    Specificity 95% CI:  (0.7103400196232628, 0.9599490513578658)\n",
      "\n",
      "[[23  3]\n",
      " [ 3 21]]\n",
      "\n",
      "LGBM\n",
      "    Sensitivity:     1.0000\n",
      "    Sensitivity 95% CI:  (0.8621348413652735, 1.0000000000000002)\n",
      "    Specificity:            0.9615\n",
      "    Specificity 95% CI:  (0.811173344287871, 0.9931735408894832)\n",
      "\n",
      "[[25  1]\n",
      " [ 0 24]]\n",
      "\n",
      "lasso\n",
      "    Sensitivity:     0.8750\n",
      "    Sensitivity 95% CI:  (0.6900645596725103, 0.9565365713514448)\n",
      "    Specificity:            0.8462\n",
      "    Specificity 95% CI:  (0.664785844637114, 0.9384743192459015)\n",
      "\n",
      "[[22  4]\n",
      " [ 3 21]]\n",
      "\n",
      "logistic\n",
      "    Sensitivity:     0.9583\n",
      "    Sensitivity 95% CI:  (0.7976885775828355, 0.9926016936686651)\n",
      "    Specificity:            0.8077\n",
      "    Specificity 95% CI:  (0.6213337300160995, 0.9148975267688034)\n",
      "\n",
      "[[21  5]\n",
      " [ 1 23]]\n",
      "\n"
     ]
    }
   ],
   "source": [
    "from sklearn.metrics import confusion_matrix\n",
    "\n",
    "for model_name, data in output.items():\n",
    "    threshold = data['high_sensitivity_threshold']\n",
    "    preds = [1 if i>threshold else 0 for i in data['y_pred_prob']]\n",
    "    y_test = data['y_test']\n",
    "    tn, fp, fn, tp = confusion_matrix(y_test, preds).ravel()\n",
    "    print(model_name)\n",
    "    print('    Sensitivity: {:10.4f}'.format(tp / (tp + fn)))\n",
    "    print('    Sensitivity 95% CI: ', binconf(tp, fn))\n",
    "    print('    Specificity:        {:10.4f}'.format(tn / (tn + fp)))\n",
    "    print('    Specificity 95% CI: ', binconf(tn, fp))\n",
    "    print()\n",
    "    print(confusion_matrix(y_test, preds))\n",
    "    print()"
   ]
  },
  {
   "cell_type": "markdown",
   "metadata": {},
   "source": [
    "# Compute for Optimal (Sens + (1 - FPR)) Threshold"
   ]
  },
  {
   "cell_type": "code",
   "execution_count": 28,
   "metadata": {},
   "outputs": [
    {
     "name": "stdout",
     "output_type": "stream",
     "text": [
      "RF\n",
      "    Sensitivity:     0.6667\n",
      "    Sensitivity 95% CI:  (0.467153963449407, 0.820224317005684)\n",
      "    Specificity:            0.9615\n",
      "    Specificity 95% CI:  (0.811173344287871, 0.9931735408894832)\n",
      "\n",
      "[[25  1]\n",
      " [ 8 16]]\n",
      "\n",
      "LGBM\n",
      "    Sensitivity:     1.0000\n",
      "    Sensitivity 95% CI:  (0.8621348413652735, 1.0000000000000002)\n",
      "    Specificity:            0.9615\n",
      "    Specificity 95% CI:  (0.811173344287871, 0.9931735408894832)\n",
      "\n",
      "[[25  1]\n",
      " [ 0 24]]\n",
      "\n",
      "lasso\n",
      "    Sensitivity:     0.7500\n",
      "    Sensitivity 95% CI:  (0.5511024409098402, 0.8799649797727965)\n",
      "    Specificity:            0.9231\n",
      "    Specificity 95% CI:  (0.7586844857067275, 0.978633492372514)\n",
      "\n",
      "[[24  2]\n",
      " [ 6 18]]\n",
      "\n",
      "logistic\n",
      "    Sensitivity:     0.9583\n",
      "    Sensitivity 95% CI:  (0.7976885775828355, 0.9926016936686651)\n",
      "    Specificity:            0.8077\n",
      "    Specificity 95% CI:  (0.6213337300160995, 0.9148975267688034)\n",
      "\n",
      "[[21  5]\n",
      " [ 1 23]]\n",
      "\n"
     ]
    }
   ],
   "source": [
    "from sklearn.metrics import confusion_matrix\n",
    "\n",
    "for model_name, data in output.items():\n",
    "    threshold = data['optimal_thresholds']\n",
    "    preds = [1 if i>threshold else 0 for i in data['y_pred_prob']]\n",
    "    y_test = data['y_test']\n",
    "    tn, fp, fn, tp = confusion_matrix(y_test, preds).ravel()\n",
    "    print(model_name)\n",
    "    print('    Sensitivity: {:10.4f}'.format(tp / (tp + fn)))\n",
    "    print('    Sensitivity 95% CI: ', binconf(tp, fn))\n",
    "    print('    Specificity:        {:10.4f}'.format(tn / (tn + fp)))\n",
    "    print('    Specificity 95% CI: ', binconf(tn, fp))\n",
    "    print()\n",
    "    print(confusion_matrix(y_test, preds))\n",
    "    print()"
   ]
  }
 ],
 "metadata": {
  "kernelspec": {
   "display_name": "Python 3",
   "language": "python",
   "name": "python3"
  },
  "language_info": {
   "codemirror_mode": {
    "name": "ipython",
    "version": 3
   },
   "file_extension": ".py",
   "mimetype": "text/x-python",
   "name": "python",
   "nbconvert_exporter": "python",
   "pygments_lexer": "ipython3",
   "version": "3.7.6"
  }
 },
 "nbformat": 4,
 "nbformat_minor": 4
}
