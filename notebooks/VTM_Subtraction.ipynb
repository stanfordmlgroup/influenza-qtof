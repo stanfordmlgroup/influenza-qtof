{
 "cells": [
  {
   "cell_type": "markdown",
   "metadata": {},
   "source": [
    "# Investigate VTM Variability, Subtract from Dataset, Measure Performance and Feature Importance after Subtraction "
   ]
  },
  {
   "cell_type": "code",
   "execution_count": 1,
   "metadata": {},
   "outputs": [],
   "source": [
    "%load_ext autoreload\n",
    "%autoreload 2"
   ]
  },
  {
   "cell_type": "code",
   "execution_count": 2,
   "metadata": {},
   "outputs": [],
   "source": [
    "import sys\n",
    "import os\n",
    "import numpy as np\n",
    "import pandas as pd\n",
    "import matplotlib.pyplot as plt\n",
    "%matplotlib inline\n",
    "sys.path.append('../src')"
   ]
  },
  {
   "cell_type": "code",
   "execution_count": 3,
   "metadata": {},
   "outputs": [],
   "source": [
    "import models\n",
    "from models import LinearModel\n",
    "from models import LGBM\n",
    "import utils\n",
    "import plotting\n",
    "import delong\n",
    "from sklearn.preprocessing import StandardScaler"
   ]
  },
  {
   "cell_type": "markdown",
   "metadata": {},
   "source": [
    "# Load and Process VTM"
   ]
  },
  {
   "cell_type": "code",
   "execution_count": 4,
   "metadata": {},
   "outputs": [],
   "source": [
    "# load VTM data\n",
    "vtm_path = '../data/VTM_data/VTM_only.csv'\n",
    "vtm_df = pd.read_csv(vtm_path, skiprows=1, index_col=0).transpose()"
   ]
  },
  {
   "cell_type": "code",
   "execution_count": 5,
   "metadata": {},
   "outputs": [],
   "source": [
    "var = vtm_df.var()"
   ]
  },
  {
   "cell_type": "code",
   "execution_count": 6,
   "metadata": {},
   "outputs": [],
   "source": [
    "std = vtm_df.std()\n",
    "mean = vtm_df.mean()"
   ]
  },
  {
   "cell_type": "code",
   "execution_count": 7,
   "metadata": {},
   "outputs": [],
   "source": [
    "cv = std / mean"
   ]
  },
  {
   "cell_type": "code",
   "execution_count": 8,
   "metadata": {},
   "outputs": [
    {
     "name": "stderr",
     "output_type": "stream",
     "text": [
      "Passing a negative integer is deprecated in version 1.0 and will not be supported in future version. Instead, use None to not limit the column width.\n"
     ]
    }
   ],
   "source": [
    "pd.set_option('display.max_colwidth', -1)"
   ]
  },
  {
   "cell_type": "code",
   "execution_count": 9,
   "metadata": {},
   "outputs": [
    {
     "name": "stdout",
     "output_type": "stream",
     "text": [
      "Compound\n",
      "2.73_161.0241m/z     0.032646\n",
      "1.88_115.0367m/z     0.032722\n",
      "6.43_238.1417n       0.033603\n",
      "7.42_282.1689n       0.034207\n",
      "10.18_308.2202n      0.037486\n",
      "10.03_765.7963n      0.041713\n",
      "11.72_613.2820m/z    0.042008\n",
      "17.39_604.7907m/z    0.042172\n",
      "6.00_1041.1873m/z    0.042818\n",
      "10.09_845.1854n      0.043382\n",
      "10.03_753.7716n      0.043630\n",
      "10.18_767.1715n      0.044975\n",
      "10.04_746.1170n      0.046447\n",
      "10.11_934.5516m/z    0.049829\n",
      "8.70_370.3182n       0.051047\n",
      "11.75_235.1846m/z    0.052493\n",
      "10.02_250.1782n      0.054386\n",
      "10.10_895.5277m/z    0.060034\n",
      "16.09_175.1450m/z    0.066019\n",
      "5.29_226.1689n       0.139785\n",
      "9.29_521.2862m/z     0.142693\n",
      "9.60_352.1139n       0.143077\n",
      "10.39_204.1234m/z    0.155131\n",
      "10.96_118.1230m/z    0.321619\n",
      "7.90_106.0866m/z     0.355703\n",
      "dtype: float64\n"
     ]
    }
   ],
   "source": [
    "with pd.option_context('display.max_rows', None, 'display.max_columns', None):  # more options can be specified also\n",
    "    top_cv = cv.fillna(0).sort_values()[-25:]\n",
    "    print(top_cv)"
   ]
  },
  {
   "cell_type": "code",
   "execution_count": 10,
   "metadata": {},
   "outputs": [
    {
     "data": {
      "text/html": [
       "<div>\n",
       "<style scoped>\n",
       "    .dataframe tbody tr th:only-of-type {\n",
       "        vertical-align: middle;\n",
       "    }\n",
       "\n",
       "    .dataframe tbody tr th {\n",
       "        vertical-align: top;\n",
       "    }\n",
       "\n",
       "    .dataframe thead th {\n",
       "        text-align: right;\n",
       "    }\n",
       "</style>\n",
       "<table border=\"1\" class=\"dataframe\">\n",
       "  <thead>\n",
       "    <tr style=\"text-align: right;\">\n",
       "      <th>Compound</th>\n",
       "      <th>2.73_161.0241m/z</th>\n",
       "      <th>1.88_115.0367m/z</th>\n",
       "      <th>6.43_238.1417n</th>\n",
       "      <th>7.42_282.1689n</th>\n",
       "      <th>10.18_308.2202n</th>\n",
       "      <th>10.03_765.7963n</th>\n",
       "      <th>11.72_613.2820m/z</th>\n",
       "      <th>17.39_604.7907m/z</th>\n",
       "      <th>6.00_1041.1873m/z</th>\n",
       "      <th>10.09_845.1854n</th>\n",
       "      <th>...</th>\n",
       "      <th>11.75_235.1846m/z</th>\n",
       "      <th>10.02_250.1782n</th>\n",
       "      <th>10.10_895.5277m/z</th>\n",
       "      <th>16.09_175.1450m/z</th>\n",
       "      <th>5.29_226.1689n</th>\n",
       "      <th>9.29_521.2862m/z</th>\n",
       "      <th>9.60_352.1139n</th>\n",
       "      <th>10.39_204.1234m/z</th>\n",
       "      <th>10.96_118.1230m/z</th>\n",
       "      <th>7.90_106.0866m/z</th>\n",
       "    </tr>\n",
       "  </thead>\n",
       "  <tbody>\n",
       "    <tr>\n",
       "      <th>20191022 126 VTM BLANK-r001</th>\n",
       "      <td>8810.582998</td>\n",
       "      <td>20403.60211</td>\n",
       "      <td>2203.802048</td>\n",
       "      <td>53848.23426</td>\n",
       "      <td>10721.22389</td>\n",
       "      <td>20146.95428</td>\n",
       "      <td>4188.663480</td>\n",
       "      <td>9881.070737</td>\n",
       "      <td>4597.802489</td>\n",
       "      <td>12358.00240</td>\n",
       "      <td>...</td>\n",
       "      <td>3416.937060</td>\n",
       "      <td>2577.515238</td>\n",
       "      <td>24846.50723</td>\n",
       "      <td>1907.501534</td>\n",
       "      <td>701.273096</td>\n",
       "      <td>50663.48493</td>\n",
       "      <td>86.415431</td>\n",
       "      <td>452.025535</td>\n",
       "      <td>53.187355</td>\n",
       "      <td>147.028318</td>\n",
       "    </tr>\n",
       "    <tr>\n",
       "      <th>20191022 126 VTM BLANK-r002</th>\n",
       "      <td>8926.883770</td>\n",
       "      <td>19665.67350</td>\n",
       "      <td>2314.547498</td>\n",
       "      <td>51413.82799</td>\n",
       "      <td>10893.38419</td>\n",
       "      <td>18534.22814</td>\n",
       "      <td>4548.337283</td>\n",
       "      <td>10606.253730</td>\n",
       "      <td>5005.996695</td>\n",
       "      <td>12609.77659</td>\n",
       "      <td>...</td>\n",
       "      <td>3556.191480</td>\n",
       "      <td>2341.162000</td>\n",
       "      <td>25372.94891</td>\n",
       "      <td>2127.832302</td>\n",
       "      <td>678.842151</td>\n",
       "      <td>49160.52053</td>\n",
       "      <td>75.909857</td>\n",
       "      <td>505.862946</td>\n",
       "      <td>98.643124</td>\n",
       "      <td>148.893151</td>\n",
       "    </tr>\n",
       "    <tr>\n",
       "      <th>20191022 126 VTM BLANK-r003</th>\n",
       "      <td>9369.622810</td>\n",
       "      <td>19117.09000</td>\n",
       "      <td>2351.727333</td>\n",
       "      <td>50393.81181</td>\n",
       "      <td>10136.50337</td>\n",
       "      <td>19429.00653</td>\n",
       "      <td>4439.982113</td>\n",
       "      <td>9854.600371</td>\n",
       "      <td>4854.727306</td>\n",
       "      <td>13420.33714</td>\n",
       "      <td>...</td>\n",
       "      <td>3202.720906</td>\n",
       "      <td>2357.818019</td>\n",
       "      <td>22626.33975</td>\n",
       "      <td>2156.563069</td>\n",
       "      <td>870.664761</td>\n",
       "      <td>38583.98732</td>\n",
       "      <td>64.758356</td>\n",
       "      <td>369.573708</td>\n",
       "      <td>66.345509</td>\n",
       "      <td>72.348220</td>\n",
       "    </tr>\n",
       "  </tbody>\n",
       "</table>\n",
       "<p>3 rows × 25 columns</p>\n",
       "</div>"
      ],
      "text/plain": [
       "Compound                     2.73_161.0241m/z  1.88_115.0367m/z  \\\n",
       "20191022 126 VTM BLANK-r001  8810.582998       20403.60211        \n",
       "20191022 126 VTM BLANK-r002  8926.883770       19665.67350        \n",
       "20191022 126 VTM BLANK-r003  9369.622810       19117.09000        \n",
       "\n",
       "Compound                     6.43_238.1417n  7.42_282.1689n  10.18_308.2202n  \\\n",
       "20191022 126 VTM BLANK-r001  2203.802048     53848.23426     10721.22389       \n",
       "20191022 126 VTM BLANK-r002  2314.547498     51413.82799     10893.38419       \n",
       "20191022 126 VTM BLANK-r003  2351.727333     50393.81181     10136.50337       \n",
       "\n",
       "Compound                     10.03_765.7963n  11.72_613.2820m/z  \\\n",
       "20191022 126 VTM BLANK-r001  20146.95428      4188.663480         \n",
       "20191022 126 VTM BLANK-r002  18534.22814      4548.337283         \n",
       "20191022 126 VTM BLANK-r003  19429.00653      4439.982113         \n",
       "\n",
       "Compound                     17.39_604.7907m/z  6.00_1041.1873m/z  \\\n",
       "20191022 126 VTM BLANK-r001  9881.070737        4597.802489         \n",
       "20191022 126 VTM BLANK-r002  10606.253730       5005.996695         \n",
       "20191022 126 VTM BLANK-r003  9854.600371        4854.727306         \n",
       "\n",
       "Compound                     10.09_845.1854n  ...  11.75_235.1846m/z  \\\n",
       "20191022 126 VTM BLANK-r001  12358.00240      ...  3416.937060         \n",
       "20191022 126 VTM BLANK-r002  12609.77659      ...  3556.191480         \n",
       "20191022 126 VTM BLANK-r003  13420.33714      ...  3202.720906         \n",
       "\n",
       "Compound                     10.02_250.1782n  10.10_895.5277m/z  \\\n",
       "20191022 126 VTM BLANK-r001  2577.515238      24846.50723         \n",
       "20191022 126 VTM BLANK-r002  2341.162000      25372.94891         \n",
       "20191022 126 VTM BLANK-r003  2357.818019      22626.33975         \n",
       "\n",
       "Compound                     16.09_175.1450m/z  5.29_226.1689n  \\\n",
       "20191022 126 VTM BLANK-r001  1907.501534        701.273096       \n",
       "20191022 126 VTM BLANK-r002  2127.832302        678.842151       \n",
       "20191022 126 VTM BLANK-r003  2156.563069        870.664761       \n",
       "\n",
       "Compound                     9.29_521.2862m/z  9.60_352.1139n  \\\n",
       "20191022 126 VTM BLANK-r001  50663.48493       86.415431        \n",
       "20191022 126 VTM BLANK-r002  49160.52053       75.909857        \n",
       "20191022 126 VTM BLANK-r003  38583.98732       64.758356        \n",
       "\n",
       "Compound                     10.39_204.1234m/z  10.96_118.1230m/z  \\\n",
       "20191022 126 VTM BLANK-r001  452.025535         53.187355           \n",
       "20191022 126 VTM BLANK-r002  505.862946         98.643124           \n",
       "20191022 126 VTM BLANK-r003  369.573708         66.345509           \n",
       "\n",
       "Compound                     7.90_106.0866m/z  \n",
       "20191022 126 VTM BLANK-r001  147.028318        \n",
       "20191022 126 VTM BLANK-r002  148.893151        \n",
       "20191022 126 VTM BLANK-r003  72.348220         \n",
       "\n",
       "[3 rows x 25 columns]"
      ]
     },
     "execution_count": 10,
     "metadata": {},
     "output_type": "execute_result"
    }
   ],
   "source": [
    "vtm_df.loc[:, list(top_cv.keys())]"
   ]
  },
  {
   "cell_type": "markdown",
   "metadata": {},
   "source": [
    "# Subtract Mean VTM from the Dataset"
   ]
  },
  {
   "cell_type": "code",
   "execution_count": 11,
   "metadata": {},
   "outputs": [],
   "source": [
    "# read data\n",
    "all_data = utils.load_unformatted_data('../data/retrospective_influenza_dataset/20191105 resp data no filter revised 1 2020.csv', '../data/retrospective_influenza_dataset/Sample_key_csv revised 1 2020.csv')\n",
    "all_data = utils.map_label_column(all_data)\n",
    "all_data, flu_mapping, subtype_mapping = utils.encode_labels(all_data)\n",
    "\n",
    "# drop zero cols\n",
    "all_data = all_data.loc[:, all_data.any()]\n",
    "col_names = all_data.columns[:-2]"
   ]
  },
  {
   "cell_type": "code",
   "execution_count": 13,
   "metadata": {},
   "outputs": [],
   "source": [
    "def get_vtm_subtraction(data_df, vtm_df):\n",
    "    \"\"\" Iterate over columns in the data_df.\n",
    "    If the column m/z value is found in the vtm_df, \n",
    "    add that value to the vtm_subtraction array. \n",
    "    Else, append 0.\n",
    "    Track the vtm_df columns that are found in the data_df.\n",
    "    \"\"\"\n",
    "    vtm_cols = set(vtm_df.columns)\n",
    "    match = set()\n",
    "    vtm_subtraction = []\n",
    "    \n",
    "    for col in data_df.columns:\n",
    "        if col in vtm_cols:\n",
    "            vtm_subtraction.append(vtm_df[col].mean())\n",
    "            match.add(col)\n",
    "        else:\n",
    "            vtm_subtraction.append(0)\n",
    "            \n",
    "    return vtm_subtraction, match            "
   ]
  },
  {
   "cell_type": "code",
   "execution_count": 14,
   "metadata": {},
   "outputs": [],
   "source": [
    "vtm_subtraction, match = get_vtm_subtraction(all_data, vtm_df)"
   ]
  },
  {
   "cell_type": "markdown",
   "metadata": {},
   "source": [
    "# Train and Evaluate model using VTM Subtracted Data"
   ]
  },
  {
   "cell_type": "code",
   "execution_count": 15,
   "metadata": {},
   "outputs": [],
   "source": [
    "# train test split\n",
    "train, test = utils.train_test_split(all_data, test_size=50)\n",
    "\n",
    "# subtract VTM from the test data\n",
    "test = test - vtm_subtraction"
   ]
  },
  {
   "cell_type": "code",
   "execution_count": 17,
   "metadata": {},
   "outputs": [
    {
     "data": {
      "text/plain": [
       "0.0    26\n",
       "1.0    24\n",
       "Name: flu, dtype: int64"
      ]
     },
     "execution_count": 17,
     "metadata": {},
     "output_type": "execute_result"
    }
   ],
   "source": [
    "test.flu.value_counts()"
   ]
  },
  {
   "cell_type": "code",
   "execution_count": 18,
   "metadata": {},
   "outputs": [],
   "source": [
    "# split into data\n",
    "X_train, y_train = utils.df_to_array(train)\n",
    "X_test, y_test = utils.df_to_array(test)"
   ]
  },
  {
   "cell_type": "code",
   "execution_count": 19,
   "metadata": {},
   "outputs": [
    {
     "name": "stderr",
     "output_type": "stream",
     "text": [
      "n_quantiles (1000) is greater than the total number of samples (186). n_quantiles is set to n_samples.\n"
     ]
    }
   ],
   "source": [
    "#processor = utils.CustomPreprocessor(transforms = ['clip', 'noise', 'power'])\n",
    "#processor = utils.CustomPreprocessor(transforms = ['standard'])\n",
    "processor = utils.CustomPreprocessor(transforms = ['quantile'])\n",
    "processor.fit(X_train)\n",
    "norm_X_train = processor.transform(X_train)\n",
    "norm_X_test = processor.transform(X_test)"
   ]
  },
  {
   "cell_type": "markdown",
   "metadata": {},
   "source": [
    "# Random Forest Hyperparameter Optimization"
   ]
  },
  {
   "cell_type": "code",
   "execution_count": 20,
   "metadata": {
    "collapsed": true,
    "jupyter": {
     "outputs_hidden": true
    }
   },
   "outputs": [
    {
     "name": "stdout",
     "output_type": "stream",
     "text": [
      "Fitting 4 folds for each of 100 candidates, totalling 400 fits\n",
      "[CV] max_depth=2, min_samples_split=2, n_estimators=4 ................\n",
      "[CV]  max_depth=2, min_samples_split=2, n_estimators=4, score=0.766, total=   0.0s\n",
      "[CV] max_depth=2, min_samples_split=2, n_estimators=4 ................\n",
      "[CV]  max_depth=2, min_samples_split=2, n_estimators=4, score=0.723, total=   0.0s\n",
      "[CV] max_depth=2, min_samples_split=2, n_estimators=4 ................\n",
      "[CV]  max_depth=2, min_samples_split=2, n_estimators=4, score=0.913, total=   0.0s\n",
      "[CV] max_depth=2, min_samples_split=2, n_estimators=4 ................\n",
      "[CV]  max_depth=2, min_samples_split=2, n_estimators=4, score=0.804, total=   0.0s\n",
      "[CV] max_depth=2, min_samples_split=2, n_estimators=16 ...............\n",
      "[CV]  max_depth=2, min_samples_split=2, n_estimators=16, score=0.766, total=   0.0s\n",
      "[CV] max_depth=2, min_samples_split=2, n_estimators=16 ...............\n",
      "[CV]  max_depth=2, min_samples_split=2, n_estimators=16, score=0.787, total=   0.0s\n",
      "[CV] max_depth=2, min_samples_split=2, n_estimators=16 ...............\n",
      "[CV]  max_depth=2, min_samples_split=2, n_estimators=16, score=0.913, total=   0.0s\n",
      "[CV] max_depth=2, min_samples_split=2, n_estimators=16 ...............\n",
      "[CV]  max_depth=2, min_samples_split=2, n_estimators=16, score=0.804, total=   0.0s\n",
      "[CV] max_depth=2, min_samples_split=2, n_estimators=64 ...............\n"
     ]
    },
    {
     "name": "stderr",
     "output_type": "stream",
     "text": [
      "[Parallel(n_jobs=1)]: Using backend SequentialBackend with 1 concurrent workers.\n",
      "[Parallel(n_jobs=1)]: Done   1 out of   1 | elapsed:    0.0s remaining:    0.0s\n",
      "[Parallel(n_jobs=1)]: Done   2 out of   2 | elapsed:    0.0s remaining:    0.0s\n",
      "[Parallel(n_jobs=1)]: Done   3 out of   3 | elapsed:    0.0s remaining:    0.0s\n",
      "[Parallel(n_jobs=1)]: Done   4 out of   4 | elapsed:    0.1s remaining:    0.0s\n",
      "[Parallel(n_jobs=1)]: Done   5 out of   5 | elapsed:    0.1s remaining:    0.0s\n",
      "[Parallel(n_jobs=1)]: Done   6 out of   6 | elapsed:    0.1s remaining:    0.0s\n",
      "[Parallel(n_jobs=1)]: Done   7 out of   7 | elapsed:    0.2s remaining:    0.0s\n",
      "[Parallel(n_jobs=1)]: Done   8 out of   8 | elapsed:    0.2s remaining:    0.0s\n"
     ]
    },
    {
     "name": "stdout",
     "output_type": "stream",
     "text": [
      "[CV]  max_depth=2, min_samples_split=2, n_estimators=64, score=0.766, total=   0.1s\n",
      "[CV] max_depth=2, min_samples_split=2, n_estimators=64 ...............\n",
      "[CV]  max_depth=2, min_samples_split=2, n_estimators=64, score=0.830, total=   0.1s\n",
      "[CV] max_depth=2, min_samples_split=2, n_estimators=64 ...............\n"
     ]
    },
    {
     "name": "stderr",
     "output_type": "stream",
     "text": [
      "[Parallel(n_jobs=1)]: Done   9 out of   9 | elapsed:    0.3s remaining:    0.0s\n",
      "[Parallel(n_jobs=1)]: Done  10 out of  10 | elapsed:    0.4s remaining:    0.0s\n"
     ]
    },
    {
     "name": "stdout",
     "output_type": "stream",
     "text": [
      "[CV]  max_depth=2, min_samples_split=2, n_estimators=64, score=0.913, total=   0.1s\n",
      "[CV] max_depth=2, min_samples_split=2, n_estimators=64 ...............\n",
      "[CV]  max_depth=2, min_samples_split=2, n_estimators=64, score=0.891, total=   0.1s\n",
      "[CV] max_depth=2, min_samples_split=2, n_estimators=256 ..............\n"
     ]
    },
    {
     "name": "stderr",
     "output_type": "stream",
     "text": [
      "[Parallel(n_jobs=1)]: Done  11 out of  11 | elapsed:    0.6s remaining:    0.0s\n",
      "[Parallel(n_jobs=1)]: Done  12 out of  12 | elapsed:    0.7s remaining:    0.0s\n"
     ]
    },
    {
     "name": "stdout",
     "output_type": "stream",
     "text": [
      "[CV]  max_depth=2, min_samples_split=2, n_estimators=256, score=0.745, total=   0.5s\n",
      "[CV] max_depth=2, min_samples_split=2, n_estimators=256 ..............\n"
     ]
    },
    {
     "name": "stderr",
     "output_type": "stream",
     "text": [
      "[Parallel(n_jobs=1)]: Done  13 out of  13 | elapsed:    1.2s remaining:    0.0s\n"
     ]
    },
    {
     "name": "stdout",
     "output_type": "stream",
     "text": [
      "[CV]  max_depth=2, min_samples_split=2, n_estimators=256, score=0.851, total=   0.5s\n",
      "[CV] max_depth=2, min_samples_split=2, n_estimators=256 ..............\n"
     ]
    },
    {
     "name": "stderr",
     "output_type": "stream",
     "text": [
      "[Parallel(n_jobs=1)]: Done  14 out of  14 | elapsed:    1.7s remaining:    0.0s\n"
     ]
    },
    {
     "name": "stdout",
     "output_type": "stream",
     "text": [
      "[CV]  max_depth=2, min_samples_split=2, n_estimators=256, score=0.913, total=   0.5s\n",
      "[CV] max_depth=2, min_samples_split=2, n_estimators=256 ..............\n"
     ]
    },
    {
     "name": "stderr",
     "output_type": "stream",
     "text": [
      "[Parallel(n_jobs=1)]: Done  15 out of  15 | elapsed:    2.2s remaining:    0.0s\n"
     ]
    },
    {
     "name": "stdout",
     "output_type": "stream",
     "text": [
      "[CV]  max_depth=2, min_samples_split=2, n_estimators=256, score=0.891, total=   0.5s\n",
      "[CV] max_depth=2, min_samples_split=4, n_estimators=4 ................\n",
      "[CV]  max_depth=2, min_samples_split=4, n_estimators=4, score=0.702, total=   0.0s\n",
      "[CV] max_depth=2, min_samples_split=4, n_estimators=4 ................\n",
      "[CV]  max_depth=2, min_samples_split=4, n_estimators=4, score=0.787, total=   0.0s\n",
      "[CV] max_depth=2, min_samples_split=4, n_estimators=4 ................\n",
      "[CV]  max_depth=2, min_samples_split=4, n_estimators=4, score=0.870, total=   0.0s\n",
      "[CV] max_depth=2, min_samples_split=4, n_estimators=4 ................\n",
      "[CV]  max_depth=2, min_samples_split=4, n_estimators=4, score=0.761, total=   0.0s\n",
      "[CV] max_depth=2, min_samples_split=4, n_estimators=16 ...............\n",
      "[CV]  max_depth=2, min_samples_split=4, n_estimators=16, score=0.681, total=   0.0s\n",
      "[CV] max_depth=2, min_samples_split=4, n_estimators=16 ...............\n",
      "[CV]  max_depth=2, min_samples_split=4, n_estimators=16, score=0.851, total=   0.0s\n",
      "[CV] max_depth=2, min_samples_split=4, n_estimators=16 ...............\n",
      "[CV]  max_depth=2, min_samples_split=4, n_estimators=16, score=0.870, total=   0.0s\n",
      "[CV] max_depth=2, min_samples_split=4, n_estimators=16 ...............\n",
      "[CV]  max_depth=2, min_samples_split=4, n_estimators=16, score=0.870, total=   0.0s\n",
      "[CV] max_depth=2, min_samples_split=4, n_estimators=64 ...............\n"
     ]
    },
    {
     "name": "stderr",
     "output_type": "stream",
     "text": [
      "[Parallel(n_jobs=1)]: Done  16 out of  16 | elapsed:    2.7s remaining:    0.0s\n",
      "[Parallel(n_jobs=1)]: Done  17 out of  17 | elapsed:    2.7s remaining:    0.0s\n",
      "[Parallel(n_jobs=1)]: Done  18 out of  18 | elapsed:    2.7s remaining:    0.0s\n",
      "[Parallel(n_jobs=1)]: Done  19 out of  19 | elapsed:    2.7s remaining:    0.0s\n",
      "[Parallel(n_jobs=1)]: Done  20 out of  20 | elapsed:    2.7s remaining:    0.0s\n",
      "[Parallel(n_jobs=1)]: Done  21 out of  21 | elapsed:    2.8s remaining:    0.0s\n",
      "[Parallel(n_jobs=1)]: Done  22 out of  22 | elapsed:    2.8s remaining:    0.0s\n",
      "[Parallel(n_jobs=1)]: Done  23 out of  23 | elapsed:    2.8s remaining:    0.0s\n",
      "[Parallel(n_jobs=1)]: Done  24 out of  24 | elapsed:    2.9s remaining:    0.0s\n"
     ]
    },
    {
     "name": "stdout",
     "output_type": "stream",
     "text": [
      "[CV]  max_depth=2, min_samples_split=4, n_estimators=64, score=0.723, total=   0.1s\n",
      "[CV] max_depth=2, min_samples_split=4, n_estimators=64 ...............\n",
      "[CV]  max_depth=2, min_samples_split=4, n_estimators=64, score=0.851, total=   0.1s\n",
      "[CV] max_depth=2, min_samples_split=4, n_estimators=64 ...............\n"
     ]
    },
    {
     "name": "stderr",
     "output_type": "stream",
     "text": [
      "[Parallel(n_jobs=1)]: Done  25 out of  25 | elapsed:    3.0s remaining:    0.0s\n",
      "[Parallel(n_jobs=1)]: Done  26 out of  26 | elapsed:    3.1s remaining:    0.0s\n"
     ]
    },
    {
     "name": "stdout",
     "output_type": "stream",
     "text": [
      "[CV]  max_depth=2, min_samples_split=4, n_estimators=64, score=0.870, total=   0.1s\n",
      "[CV] max_depth=2, min_samples_split=4, n_estimators=64 ...............\n",
      "[CV]  max_depth=2, min_samples_split=4, n_estimators=64, score=0.891, total=   0.1s\n",
      "[CV] max_depth=2, min_samples_split=4, n_estimators=256 ..............\n"
     ]
    },
    {
     "name": "stderr",
     "output_type": "stream",
     "text": [
      "[Parallel(n_jobs=1)]: Done  27 out of  27 | elapsed:    3.2s remaining:    0.0s\n",
      "[Parallel(n_jobs=1)]: Done  28 out of  28 | elapsed:    3.4s remaining:    0.0s\n"
     ]
    },
    {
     "name": "stdout",
     "output_type": "stream",
     "text": [
      "[CV]  max_depth=2, min_samples_split=4, n_estimators=256, score=0.723, total=   0.5s\n",
      "[CV] max_depth=2, min_samples_split=4, n_estimators=256 ..............\n"
     ]
    },
    {
     "name": "stderr",
     "output_type": "stream",
     "text": [
      "[Parallel(n_jobs=1)]: Done  29 out of  29 | elapsed:    3.9s remaining:    0.0s\n"
     ]
    },
    {
     "name": "stdout",
     "output_type": "stream",
     "text": [
      "[CV]  max_depth=2, min_samples_split=4, n_estimators=256, score=0.851, total=   0.5s\n",
      "[CV] max_depth=2, min_samples_split=4, n_estimators=256 ..............\n"
     ]
    },
    {
     "name": "stderr",
     "output_type": "stream",
     "text": [
      "[Parallel(n_jobs=1)]: Done  30 out of  30 | elapsed:    4.3s remaining:    0.0s\n"
     ]
    },
    {
     "name": "stdout",
     "output_type": "stream",
     "text": [
      "[CV]  max_depth=2, min_samples_split=4, n_estimators=256, score=0.913, total=   0.5s\n",
      "[CV] max_depth=2, min_samples_split=4, n_estimators=256 ..............\n"
     ]
    },
    {
     "name": "stderr",
     "output_type": "stream",
     "text": [
      "[Parallel(n_jobs=1)]: Done  31 out of  31 | elapsed:    4.8s remaining:    0.0s\n"
     ]
    },
    {
     "name": "stdout",
     "output_type": "stream",
     "text": [
      "[CV]  max_depth=2, min_samples_split=4, n_estimators=256, score=0.891, total=   0.5s\n",
      "[CV] max_depth=2, min_samples_split=8, n_estimators=4 ................\n",
      "[CV]  max_depth=2, min_samples_split=8, n_estimators=4, score=0.638, total=   0.0s\n",
      "[CV] max_depth=2, min_samples_split=8, n_estimators=4 ................\n",
      "[CV]  max_depth=2, min_samples_split=8, n_estimators=4, score=0.766, total=   0.0s\n",
      "[CV] max_depth=2, min_samples_split=8, n_estimators=4 ................\n",
      "[CV]  max_depth=2, min_samples_split=8, n_estimators=4, score=0.783, total=   0.0s\n",
      "[CV] max_depth=2, min_samples_split=8, n_estimators=4 ................\n",
      "[CV]  max_depth=2, min_samples_split=8, n_estimators=4, score=0.717, total=   0.0s\n",
      "[CV] max_depth=2, min_samples_split=8, n_estimators=16 ...............\n",
      "[CV]  max_depth=2, min_samples_split=8, n_estimators=16, score=0.660, total=   0.0s\n",
      "[CV] max_depth=2, min_samples_split=8, n_estimators=16 ...............\n",
      "[CV]  max_depth=2, min_samples_split=8, n_estimators=16, score=0.809, total=   0.0s\n",
      "[CV] max_depth=2, min_samples_split=8, n_estimators=16 ...............\n",
      "[CV]  max_depth=2, min_samples_split=8, n_estimators=16, score=0.870, total=   0.0s\n",
      "[CV] max_depth=2, min_samples_split=8, n_estimators=16 ...............\n",
      "[CV]  max_depth=2, min_samples_split=8, n_estimators=16, score=0.870, total=   0.0s\n",
      "[CV] max_depth=2, min_samples_split=8, n_estimators=64 ...............\n"
     ]
    },
    {
     "name": "stderr",
     "output_type": "stream",
     "text": [
      "[Parallel(n_jobs=1)]: Done  32 out of  32 | elapsed:    5.3s remaining:    0.0s\n",
      "[Parallel(n_jobs=1)]: Done  33 out of  33 | elapsed:    5.3s remaining:    0.0s\n",
      "[Parallel(n_jobs=1)]: Done  34 out of  34 | elapsed:    5.3s remaining:    0.0s\n",
      "[Parallel(n_jobs=1)]: Done  35 out of  35 | elapsed:    5.3s remaining:    0.0s\n",
      "[Parallel(n_jobs=1)]: Done  36 out of  36 | elapsed:    5.3s remaining:    0.0s\n",
      "[Parallel(n_jobs=1)]: Done  37 out of  37 | elapsed:    5.4s remaining:    0.0s\n",
      "[Parallel(n_jobs=1)]: Done  38 out of  38 | elapsed:    5.4s remaining:    0.0s\n",
      "[Parallel(n_jobs=1)]: Done  39 out of  39 | elapsed:    5.5s remaining:    0.0s\n",
      "[Parallel(n_jobs=1)]: Done  40 out of  40 | elapsed:    5.5s remaining:    0.0s\n"
     ]
    },
    {
     "name": "stdout",
     "output_type": "stream",
     "text": [
      "[CV]  max_depth=2, min_samples_split=8, n_estimators=64, score=0.723, total=   0.1s\n",
      "[CV] max_depth=2, min_samples_split=8, n_estimators=64 ...............\n",
      "[CV]  max_depth=2, min_samples_split=8, n_estimators=64, score=0.872, total=   0.1s\n",
      "[CV] max_depth=2, min_samples_split=8, n_estimators=64 ...............\n"
     ]
    },
    {
     "name": "stderr",
     "output_type": "stream",
     "text": [
      "[Parallel(n_jobs=1)]: Done  41 out of  41 | elapsed:    5.6s remaining:    0.0s\n"
     ]
    },
    {
     "name": "stdout",
     "output_type": "stream",
     "text": [
      "[CV]  max_depth=2, min_samples_split=8, n_estimators=64, score=0.913, total=   0.1s\n",
      "[CV] max_depth=2, min_samples_split=8, n_estimators=64 ...............\n",
      "[CV]  max_depth=2, min_samples_split=8, n_estimators=64, score=0.913, total=   0.1s\n",
      "[CV] max_depth=2, min_samples_split=8, n_estimators=256 ..............\n",
      "[CV]  max_depth=2, min_samples_split=8, n_estimators=256, score=0.745, total=   0.5s\n",
      "[CV] max_depth=2, min_samples_split=8, n_estimators=256 ..............\n",
      "[CV]  max_depth=2, min_samples_split=8, n_estimators=256, score=0.851, total=   0.5s\n",
      "[CV] max_depth=2, min_samples_split=8, n_estimators=256 ..............\n",
      "[CV]  max_depth=2, min_samples_split=8, n_estimators=256, score=0.913, total=   0.5s\n",
      "[CV] max_depth=2, min_samples_split=8, n_estimators=256 ..............\n",
      "[CV]  max_depth=2, min_samples_split=8, n_estimators=256, score=0.891, total=   0.5s\n",
      "[CV] max_depth=2, min_samples_split=16, n_estimators=4 ...............\n",
      "[CV]  max_depth=2, min_samples_split=16, n_estimators=4, score=0.596, total=   0.0s\n",
      "[CV] max_depth=2, min_samples_split=16, n_estimators=4 ...............\n",
      "[CV]  max_depth=2, min_samples_split=16, n_estimators=4, score=0.830, total=   0.0s\n",
      "[CV] max_depth=2, min_samples_split=16, n_estimators=4 ...............\n",
      "[CV]  max_depth=2, min_samples_split=16, n_estimators=4, score=0.848, total=   0.0s\n",
      "[CV] max_depth=2, min_samples_split=16, n_estimators=4 ...............\n",
      "[CV]  max_depth=2, min_samples_split=16, n_estimators=4, score=0.783, total=   0.0s\n",
      "[CV] max_depth=2, min_samples_split=16, n_estimators=16 ..............\n",
      "[CV]  max_depth=2, min_samples_split=16, n_estimators=16, score=0.660, total=   0.0s\n",
      "[CV] max_depth=2, min_samples_split=16, n_estimators=16 ..............\n",
      "[CV]  max_depth=2, min_samples_split=16, n_estimators=16, score=0.787, total=   0.0s\n",
      "[CV] max_depth=2, min_samples_split=16, n_estimators=16 ..............\n",
      "[CV]  max_depth=2, min_samples_split=16, n_estimators=16, score=0.826, total=   0.0s\n",
      "[CV] max_depth=2, min_samples_split=16, n_estimators=16 ..............\n",
      "[CV]  max_depth=2, min_samples_split=16, n_estimators=16, score=0.848, total=   0.0s\n",
      "[CV] max_depth=2, min_samples_split=16, n_estimators=64 ..............\n",
      "[CV]  max_depth=2, min_samples_split=16, n_estimators=64, score=0.702, total=   0.1s\n",
      "[CV] max_depth=2, min_samples_split=16, n_estimators=64 ..............\n",
      "[CV]  max_depth=2, min_samples_split=16, n_estimators=64, score=0.851, total=   0.1s\n",
      "[CV] max_depth=2, min_samples_split=16, n_estimators=64 ..............\n",
      "[CV]  max_depth=2, min_samples_split=16, n_estimators=64, score=0.913, total=   0.1s\n",
      "[CV] max_depth=2, min_samples_split=16, n_estimators=64 ..............\n",
      "[CV]  max_depth=2, min_samples_split=16, n_estimators=64, score=0.913, total=   0.1s\n",
      "[CV] max_depth=2, min_samples_split=16, n_estimators=256 .............\n",
      "[CV]  max_depth=2, min_samples_split=16, n_estimators=256, score=0.766, total=   0.5s\n",
      "[CV] max_depth=2, min_samples_split=16, n_estimators=256 .............\n",
      "[CV]  max_depth=2, min_samples_split=16, n_estimators=256, score=0.851, total=   0.5s\n",
      "[CV] max_depth=2, min_samples_split=16, n_estimators=256 .............\n",
      "[CV]  max_depth=2, min_samples_split=16, n_estimators=256, score=0.891, total=   0.5s\n",
      "[CV] max_depth=2, min_samples_split=16, n_estimators=256 .............\n",
      "[CV]  max_depth=2, min_samples_split=16, n_estimators=256, score=0.913, total=   0.5s\n",
      "[CV] max_depth=2, min_samples_split=32, n_estimators=4 ...............\n",
      "[CV]  max_depth=2, min_samples_split=32, n_estimators=4, score=0.660, total=   0.0s\n",
      "[CV] max_depth=2, min_samples_split=32, n_estimators=4 ...............\n",
      "[CV]  max_depth=2, min_samples_split=32, n_estimators=4, score=0.702, total=   0.0s\n",
      "[CV] max_depth=2, min_samples_split=32, n_estimators=4 ...............\n",
      "[CV]  max_depth=2, min_samples_split=32, n_estimators=4, score=0.783, total=   0.0s\n",
      "[CV] max_depth=2, min_samples_split=32, n_estimators=4 ...............\n",
      "[CV]  max_depth=2, min_samples_split=32, n_estimators=4, score=0.717, total=   0.0s\n",
      "[CV] max_depth=2, min_samples_split=32, n_estimators=16 ..............\n",
      "[CV]  max_depth=2, min_samples_split=32, n_estimators=16, score=0.596, total=   0.0s\n",
      "[CV] max_depth=2, min_samples_split=32, n_estimators=16 ..............\n",
      "[CV]  max_depth=2, min_samples_split=32, n_estimators=16, score=0.851, total=   0.0s\n",
      "[CV] max_depth=2, min_samples_split=32, n_estimators=16 ..............\n",
      "[CV]  max_depth=2, min_samples_split=32, n_estimators=16, score=0.870, total=   0.0s\n",
      "[CV] max_depth=2, min_samples_split=32, n_estimators=16 ..............\n",
      "[CV]  max_depth=2, min_samples_split=32, n_estimators=16, score=0.891, total=   0.0s\n",
      "[CV] max_depth=2, min_samples_split=32, n_estimators=64 ..............\n",
      "[CV]  max_depth=2, min_samples_split=32, n_estimators=64, score=0.745, total=   0.1s\n",
      "[CV] max_depth=2, min_samples_split=32, n_estimators=64 ..............\n",
      "[CV]  max_depth=2, min_samples_split=32, n_estimators=64, score=0.830, total=   0.1s\n",
      "[CV] max_depth=2, min_samples_split=32, n_estimators=64 ..............\n",
      "[CV]  max_depth=2, min_samples_split=32, n_estimators=64, score=0.935, total=   0.1s\n",
      "[CV] max_depth=2, min_samples_split=32, n_estimators=64 ..............\n",
      "[CV]  max_depth=2, min_samples_split=32, n_estimators=64, score=0.870, total=   0.1s\n",
      "[CV] max_depth=2, min_samples_split=32, n_estimators=256 .............\n",
      "[CV]  max_depth=2, min_samples_split=32, n_estimators=256, score=0.723, total=   0.5s\n",
      "[CV] max_depth=2, min_samples_split=32, n_estimators=256 .............\n",
      "[CV]  max_depth=2, min_samples_split=32, n_estimators=256, score=0.851, total=   0.5s\n",
      "[CV] max_depth=2, min_samples_split=32, n_estimators=256 .............\n",
      "[CV]  max_depth=2, min_samples_split=32, n_estimators=256, score=0.891, total=   0.5s\n",
      "[CV] max_depth=2, min_samples_split=32, n_estimators=256 .............\n",
      "[CV]  max_depth=2, min_samples_split=32, n_estimators=256, score=0.891, total=   0.5s\n",
      "[CV] max_depth=4, min_samples_split=2, n_estimators=4 ................\n",
      "[CV]  max_depth=4, min_samples_split=2, n_estimators=4, score=0.681, total=   0.0s\n",
      "[CV] max_depth=4, min_samples_split=2, n_estimators=4 ................\n",
      "[CV]  max_depth=4, min_samples_split=2, n_estimators=4, score=0.723, total=   0.0s\n",
      "[CV] max_depth=4, min_samples_split=2, n_estimators=4 ................\n",
      "[CV]  max_depth=4, min_samples_split=2, n_estimators=4, score=0.717, total=   0.0s\n",
      "[CV] max_depth=4, min_samples_split=2, n_estimators=4 ................\n",
      "[CV]  max_depth=4, min_samples_split=2, n_estimators=4, score=0.826, total=   0.0s\n",
      "[CV] max_depth=4, min_samples_split=2, n_estimators=16 ...............\n",
      "[CV]  max_depth=4, min_samples_split=2, n_estimators=16, score=0.723, total=   0.0s\n",
      "[CV] max_depth=4, min_samples_split=2, n_estimators=16 ...............\n",
      "[CV]  max_depth=4, min_samples_split=2, n_estimators=16, score=0.787, total=   0.0s\n",
      "[CV] max_depth=4, min_samples_split=2, n_estimators=16 ...............\n",
      "[CV]  max_depth=4, min_samples_split=2, n_estimators=16, score=0.913, total=   0.0s\n",
      "[CV] max_depth=4, min_samples_split=2, n_estimators=16 ...............\n",
      "[CV]  max_depth=4, min_samples_split=2, n_estimators=16, score=0.783, total=   0.0s\n",
      "[CV] max_depth=4, min_samples_split=2, n_estimators=64 ...............\n",
      "[CV]  max_depth=4, min_samples_split=2, n_estimators=64, score=0.681, total=   0.1s\n",
      "[CV] max_depth=4, min_samples_split=2, n_estimators=64 ...............\n",
      "[CV]  max_depth=4, min_samples_split=2, n_estimators=64, score=0.830, total=   0.1s\n",
      "[CV] max_depth=4, min_samples_split=2, n_estimators=64 ...............\n",
      "[CV]  max_depth=4, min_samples_split=2, n_estimators=64, score=0.978, total=   0.1s\n",
      "[CV] max_depth=4, min_samples_split=2, n_estimators=64 ...............\n",
      "[CV]  max_depth=4, min_samples_split=2, n_estimators=64, score=0.848, total=   0.1s\n",
      "[CV] max_depth=4, min_samples_split=2, n_estimators=256 ..............\n",
      "[CV]  max_depth=4, min_samples_split=2, n_estimators=256, score=0.723, total=   0.6s\n",
      "[CV] max_depth=4, min_samples_split=2, n_estimators=256 ..............\n",
      "[CV]  max_depth=4, min_samples_split=2, n_estimators=256, score=0.851, total=   0.6s\n",
      "[CV] max_depth=4, min_samples_split=2, n_estimators=256 ..............\n",
      "[CV]  max_depth=4, min_samples_split=2, n_estimators=256, score=0.935, total=   0.6s\n",
      "[CV] max_depth=4, min_samples_split=2, n_estimators=256 ..............\n",
      "[CV]  max_depth=4, min_samples_split=2, n_estimators=256, score=0.913, total=   0.6s\n",
      "[CV] max_depth=4, min_samples_split=4, n_estimators=4 ................\n",
      "[CV]  max_depth=4, min_samples_split=4, n_estimators=4, score=0.745, total=   0.0s\n",
      "[CV] max_depth=4, min_samples_split=4, n_estimators=4 ................\n",
      "[CV]  max_depth=4, min_samples_split=4, n_estimators=4, score=0.851, total=   0.0s\n",
      "[CV] max_depth=4, min_samples_split=4, n_estimators=4 ................\n",
      "[CV]  max_depth=4, min_samples_split=4, n_estimators=4, score=0.826, total=   0.0s\n",
      "[CV] max_depth=4, min_samples_split=4, n_estimators=4 ................\n",
      "[CV]  max_depth=4, min_samples_split=4, n_estimators=4, score=0.739, total=   0.0s\n",
      "[CV] max_depth=4, min_samples_split=4, n_estimators=16 ...............\n",
      "[CV]  max_depth=4, min_samples_split=4, n_estimators=16, score=0.702, total=   0.0s\n",
      "[CV] max_depth=4, min_samples_split=4, n_estimators=16 ...............\n",
      "[CV]  max_depth=4, min_samples_split=4, n_estimators=16, score=0.894, total=   0.0s\n",
      "[CV] max_depth=4, min_samples_split=4, n_estimators=16 ...............\n",
      "[CV]  max_depth=4, min_samples_split=4, n_estimators=16, score=0.826, total=   0.0s\n",
      "[CV] max_depth=4, min_samples_split=4, n_estimators=16 ...............\n",
      "[CV]  max_depth=4, min_samples_split=4, n_estimators=16, score=0.826, total=   0.0s\n",
      "[CV] max_depth=4, min_samples_split=4, n_estimators=64 ...............\n",
      "[CV]  max_depth=4, min_samples_split=4, n_estimators=64, score=0.723, total=   0.1s\n",
      "[CV] max_depth=4, min_samples_split=4, n_estimators=64 ...............\n",
      "[CV]  max_depth=4, min_samples_split=4, n_estimators=64, score=0.872, total=   0.1s\n",
      "[CV] max_depth=4, min_samples_split=4, n_estimators=64 ...............\n",
      "[CV]  max_depth=4, min_samples_split=4, n_estimators=64, score=0.935, total=   0.1s\n",
      "[CV] max_depth=4, min_samples_split=4, n_estimators=64 ...............\n",
      "[CV]  max_depth=4, min_samples_split=4, n_estimators=64, score=0.913, total=   0.1s\n",
      "[CV] max_depth=4, min_samples_split=4, n_estimators=256 ..............\n",
      "[CV]  max_depth=4, min_samples_split=4, n_estimators=256, score=0.745, total=   0.6s\n",
      "[CV] max_depth=4, min_samples_split=4, n_estimators=256 ..............\n",
      "[CV]  max_depth=4, min_samples_split=4, n_estimators=256, score=0.830, total=   0.6s\n",
      "[CV] max_depth=4, min_samples_split=4, n_estimators=256 ..............\n",
      "[CV]  max_depth=4, min_samples_split=4, n_estimators=256, score=0.891, total=   0.6s\n",
      "[CV] max_depth=4, min_samples_split=4, n_estimators=256 ..............\n",
      "[CV]  max_depth=4, min_samples_split=4, n_estimators=256, score=0.913, total=   0.6s\n",
      "[CV] max_depth=4, min_samples_split=8, n_estimators=4 ................\n",
      "[CV]  max_depth=4, min_samples_split=8, n_estimators=4, score=0.745, total=   0.0s\n",
      "[CV] max_depth=4, min_samples_split=8, n_estimators=4 ................\n",
      "[CV]  max_depth=4, min_samples_split=8, n_estimators=4, score=0.660, total=   0.0s\n",
      "[CV] max_depth=4, min_samples_split=8, n_estimators=4 ................\n",
      "[CV]  max_depth=4, min_samples_split=8, n_estimators=4, score=0.804, total=   0.0s\n",
      "[CV] max_depth=4, min_samples_split=8, n_estimators=4 ................\n",
      "[CV]  max_depth=4, min_samples_split=8, n_estimators=4, score=0.804, total=   0.0s\n",
      "[CV] max_depth=4, min_samples_split=8, n_estimators=16 ...............\n",
      "[CV]  max_depth=4, min_samples_split=8, n_estimators=16, score=0.787, total=   0.0s\n",
      "[CV] max_depth=4, min_samples_split=8, n_estimators=16 ...............\n",
      "[CV]  max_depth=4, min_samples_split=8, n_estimators=16, score=0.809, total=   0.0s\n",
      "[CV] max_depth=4, min_samples_split=8, n_estimators=16 ...............\n",
      "[CV]  max_depth=4, min_samples_split=8, n_estimators=16, score=0.804, total=   0.0s\n",
      "[CV] max_depth=4, min_samples_split=8, n_estimators=16 ...............\n",
      "[CV]  max_depth=4, min_samples_split=8, n_estimators=16, score=0.870, total=   0.0s\n",
      "[CV] max_depth=4, min_samples_split=8, n_estimators=64 ...............\n",
      "[CV]  max_depth=4, min_samples_split=8, n_estimators=64, score=0.766, total=   0.1s\n",
      "[CV] max_depth=4, min_samples_split=8, n_estimators=64 ...............\n",
      "[CV]  max_depth=4, min_samples_split=8, n_estimators=64, score=0.851, total=   0.1s\n",
      "[CV] max_depth=4, min_samples_split=8, n_estimators=64 ...............\n",
      "[CV]  max_depth=4, min_samples_split=8, n_estimators=64, score=0.891, total=   0.1s\n",
      "[CV] max_depth=4, min_samples_split=8, n_estimators=64 ...............\n",
      "[CV]  max_depth=4, min_samples_split=8, n_estimators=64, score=0.848, total=   0.2s\n",
      "[CV] max_depth=4, min_samples_split=8, n_estimators=256 ..............\n",
      "[CV]  max_depth=4, min_samples_split=8, n_estimators=256, score=0.745, total=   0.6s\n",
      "[CV] max_depth=4, min_samples_split=8, n_estimators=256 ..............\n",
      "[CV]  max_depth=4, min_samples_split=8, n_estimators=256, score=0.851, total=   0.6s\n",
      "[CV] max_depth=4, min_samples_split=8, n_estimators=256 ..............\n",
      "[CV]  max_depth=4, min_samples_split=8, n_estimators=256, score=0.913, total=   0.6s\n",
      "[CV] max_depth=4, min_samples_split=8, n_estimators=256 ..............\n",
      "[CV]  max_depth=4, min_samples_split=8, n_estimators=256, score=0.913, total=   0.6s\n",
      "[CV] max_depth=4, min_samples_split=16, n_estimators=4 ...............\n",
      "[CV]  max_depth=4, min_samples_split=16, n_estimators=4, score=0.596, total=   0.0s\n",
      "[CV] max_depth=4, min_samples_split=16, n_estimators=4 ...............\n",
      "[CV]  max_depth=4, min_samples_split=16, n_estimators=4, score=0.872, total=   0.0s\n",
      "[CV] max_depth=4, min_samples_split=16, n_estimators=4 ...............\n",
      "[CV]  max_depth=4, min_samples_split=16, n_estimators=4, score=0.891, total=   0.0s\n",
      "[CV] max_depth=4, min_samples_split=16, n_estimators=4 ...............\n",
      "[CV]  max_depth=4, min_samples_split=16, n_estimators=4, score=0.804, total=   0.0s\n",
      "[CV] max_depth=4, min_samples_split=16, n_estimators=16 ..............\n",
      "[CV]  max_depth=4, min_samples_split=16, n_estimators=16, score=0.702, total=   0.0s\n",
      "[CV] max_depth=4, min_samples_split=16, n_estimators=16 ..............\n",
      "[CV]  max_depth=4, min_samples_split=16, n_estimators=16, score=0.830, total=   0.0s\n",
      "[CV] max_depth=4, min_samples_split=16, n_estimators=16 ..............\n",
      "[CV]  max_depth=4, min_samples_split=16, n_estimators=16, score=0.891, total=   0.0s\n",
      "[CV] max_depth=4, min_samples_split=16, n_estimators=16 ..............\n",
      "[CV]  max_depth=4, min_samples_split=16, n_estimators=16, score=0.761, total=   0.0s\n",
      "[CV] max_depth=4, min_samples_split=16, n_estimators=64 ..............\n",
      "[CV]  max_depth=4, min_samples_split=16, n_estimators=64, score=0.681, total=   0.1s\n",
      "[CV] max_depth=4, min_samples_split=16, n_estimators=64 ..............\n",
      "[CV]  max_depth=4, min_samples_split=16, n_estimators=64, score=0.809, total=   0.1s\n",
      "[CV] max_depth=4, min_samples_split=16, n_estimators=64 ..............\n",
      "[CV]  max_depth=4, min_samples_split=16, n_estimators=64, score=0.913, total=   0.1s\n",
      "[CV] max_depth=4, min_samples_split=16, n_estimators=64 ..............\n",
      "[CV]  max_depth=4, min_samples_split=16, n_estimators=64, score=0.848, total=   0.1s\n",
      "[CV] max_depth=4, min_samples_split=16, n_estimators=256 .............\n",
      "[CV]  max_depth=4, min_samples_split=16, n_estimators=256, score=0.723, total=   0.6s\n",
      "[CV] max_depth=4, min_samples_split=16, n_estimators=256 .............\n",
      "[CV]  max_depth=4, min_samples_split=16, n_estimators=256, score=0.872, total=   0.6s\n",
      "[CV] max_depth=4, min_samples_split=16, n_estimators=256 .............\n",
      "[CV]  max_depth=4, min_samples_split=16, n_estimators=256, score=0.935, total=   0.6s\n",
      "[CV] max_depth=4, min_samples_split=16, n_estimators=256 .............\n",
      "[CV]  max_depth=4, min_samples_split=16, n_estimators=256, score=0.891, total=   0.6s\n",
      "[CV] max_depth=4, min_samples_split=32, n_estimators=4 ...............\n",
      "[CV]  max_depth=4, min_samples_split=32, n_estimators=4, score=0.617, total=   0.0s\n",
      "[CV] max_depth=4, min_samples_split=32, n_estimators=4 ...............\n",
      "[CV]  max_depth=4, min_samples_split=32, n_estimators=4, score=0.830, total=   0.0s\n",
      "[CV] max_depth=4, min_samples_split=32, n_estimators=4 ...............\n",
      "[CV]  max_depth=4, min_samples_split=32, n_estimators=4, score=0.783, total=   0.0s\n",
      "[CV] max_depth=4, min_samples_split=32, n_estimators=4 ...............\n",
      "[CV]  max_depth=4, min_samples_split=32, n_estimators=4, score=0.826, total=   0.0s\n",
      "[CV] max_depth=4, min_samples_split=32, n_estimators=16 ..............\n",
      "[CV]  max_depth=4, min_samples_split=32, n_estimators=16, score=0.702, total=   0.0s\n",
      "[CV] max_depth=4, min_samples_split=32, n_estimators=16 ..............\n",
      "[CV]  max_depth=4, min_samples_split=32, n_estimators=16, score=0.809, total=   0.0s\n",
      "[CV] max_depth=4, min_samples_split=32, n_estimators=16 ..............\n",
      "[CV]  max_depth=4, min_samples_split=32, n_estimators=16, score=0.848, total=   0.0s\n",
      "[CV] max_depth=4, min_samples_split=32, n_estimators=16 ..............\n",
      "[CV]  max_depth=4, min_samples_split=32, n_estimators=16, score=0.870, total=   0.0s\n",
      "[CV] max_depth=4, min_samples_split=32, n_estimators=64 ..............\n",
      "[CV]  max_depth=4, min_samples_split=32, n_estimators=64, score=0.745, total=   0.1s\n",
      "[CV] max_depth=4, min_samples_split=32, n_estimators=64 ..............\n",
      "[CV]  max_depth=4, min_samples_split=32, n_estimators=64, score=0.872, total=   0.1s\n",
      "[CV] max_depth=4, min_samples_split=32, n_estimators=64 ..............\n",
      "[CV]  max_depth=4, min_samples_split=32, n_estimators=64, score=0.848, total=   0.1s\n",
      "[CV] max_depth=4, min_samples_split=32, n_estimators=64 ..............\n",
      "[CV]  max_depth=4, min_samples_split=32, n_estimators=64, score=0.913, total=   0.1s\n",
      "[CV] max_depth=4, min_samples_split=32, n_estimators=256 .............\n",
      "[CV]  max_depth=4, min_samples_split=32, n_estimators=256, score=0.702, total=   0.5s\n",
      "[CV] max_depth=4, min_samples_split=32, n_estimators=256 .............\n",
      "[CV]  max_depth=4, min_samples_split=32, n_estimators=256, score=0.851, total=   0.5s\n",
      "[CV] max_depth=4, min_samples_split=32, n_estimators=256 .............\n",
      "[CV]  max_depth=4, min_samples_split=32, n_estimators=256, score=0.913, total=   0.5s\n",
      "[CV] max_depth=4, min_samples_split=32, n_estimators=256 .............\n",
      "[CV]  max_depth=4, min_samples_split=32, n_estimators=256, score=0.891, total=   0.5s\n",
      "[CV] max_depth=8, min_samples_split=2, n_estimators=4 ................\n",
      "[CV]  max_depth=8, min_samples_split=2, n_estimators=4, score=0.574, total=   0.0s\n",
      "[CV] max_depth=8, min_samples_split=2, n_estimators=4 ................\n",
      "[CV]  max_depth=8, min_samples_split=2, n_estimators=4, score=0.723, total=   0.0s\n",
      "[CV] max_depth=8, min_samples_split=2, n_estimators=4 ................\n",
      "[CV]  max_depth=8, min_samples_split=2, n_estimators=4, score=0.848, total=   0.0s\n",
      "[CV] max_depth=8, min_samples_split=2, n_estimators=4 ................\n",
      "[CV]  max_depth=8, min_samples_split=2, n_estimators=4, score=0.739, total=   0.0s\n",
      "[CV] max_depth=8, min_samples_split=2, n_estimators=16 ...............\n",
      "[CV]  max_depth=8, min_samples_split=2, n_estimators=16, score=0.745, total=   0.0s\n",
      "[CV] max_depth=8, min_samples_split=2, n_estimators=16 ...............\n",
      "[CV]  max_depth=8, min_samples_split=2, n_estimators=16, score=0.809, total=   0.0s\n",
      "[CV] max_depth=8, min_samples_split=2, n_estimators=16 ...............\n",
      "[CV]  max_depth=8, min_samples_split=2, n_estimators=16, score=0.826, total=   0.0s\n",
      "[CV] max_depth=8, min_samples_split=2, n_estimators=16 ...............\n",
      "[CV]  max_depth=8, min_samples_split=2, n_estimators=16, score=0.826, total=   0.0s\n",
      "[CV] max_depth=8, min_samples_split=2, n_estimators=64 ...............\n",
      "[CV]  max_depth=8, min_samples_split=2, n_estimators=64, score=0.745, total=   0.2s\n",
      "[CV] max_depth=8, min_samples_split=2, n_estimators=64 ...............\n",
      "[CV]  max_depth=8, min_samples_split=2, n_estimators=64, score=0.851, total=   0.2s\n",
      "[CV] max_depth=8, min_samples_split=2, n_estimators=64 ...............\n",
      "[CV]  max_depth=8, min_samples_split=2, n_estimators=64, score=0.957, total=   0.2s\n",
      "[CV] max_depth=8, min_samples_split=2, n_estimators=64 ...............\n",
      "[CV]  max_depth=8, min_samples_split=2, n_estimators=64, score=0.891, total=   0.2s\n",
      "[CV] max_depth=8, min_samples_split=2, n_estimators=256 ..............\n",
      "[CV]  max_depth=8, min_samples_split=2, n_estimators=256, score=0.702, total=   0.6s\n",
      "[CV] max_depth=8, min_samples_split=2, n_estimators=256 ..............\n",
      "[CV]  max_depth=8, min_samples_split=2, n_estimators=256, score=0.809, total=   0.6s\n",
      "[CV] max_depth=8, min_samples_split=2, n_estimators=256 ..............\n",
      "[CV]  max_depth=8, min_samples_split=2, n_estimators=256, score=0.913, total=   0.6s\n",
      "[CV] max_depth=8, min_samples_split=2, n_estimators=256 ..............\n",
      "[CV]  max_depth=8, min_samples_split=2, n_estimators=256, score=0.891, total=   0.6s\n",
      "[CV] max_depth=8, min_samples_split=4, n_estimators=4 ................\n",
      "[CV]  max_depth=8, min_samples_split=4, n_estimators=4, score=0.681, total=   0.0s\n",
      "[CV] max_depth=8, min_samples_split=4, n_estimators=4 ................\n",
      "[CV]  max_depth=8, min_samples_split=4, n_estimators=4, score=0.766, total=   0.0s\n",
      "[CV] max_depth=8, min_samples_split=4, n_estimators=4 ................\n",
      "[CV]  max_depth=8, min_samples_split=4, n_estimators=4, score=0.870, total=   0.0s\n",
      "[CV] max_depth=8, min_samples_split=4, n_estimators=4 ................\n",
      "[CV]  max_depth=8, min_samples_split=4, n_estimators=4, score=0.717, total=   0.0s\n",
      "[CV] max_depth=8, min_samples_split=4, n_estimators=16 ...............\n",
      "[CV]  max_depth=8, min_samples_split=4, n_estimators=16, score=0.787, total=   0.0s\n",
      "[CV] max_depth=8, min_samples_split=4, n_estimators=16 ...............\n",
      "[CV]  max_depth=8, min_samples_split=4, n_estimators=16, score=0.851, total=   0.0s\n",
      "[CV] max_depth=8, min_samples_split=4, n_estimators=16 ...............\n",
      "[CV]  max_depth=8, min_samples_split=4, n_estimators=16, score=0.848, total=   0.0s\n",
      "[CV] max_depth=8, min_samples_split=4, n_estimators=16 ...............\n",
      "[CV]  max_depth=8, min_samples_split=4, n_estimators=16, score=0.783, total=   0.0s\n",
      "[CV] max_depth=8, min_samples_split=4, n_estimators=64 ...............\n",
      "[CV]  max_depth=8, min_samples_split=4, n_estimators=64, score=0.766, total=   0.2s\n",
      "[CV] max_depth=8, min_samples_split=4, n_estimators=64 ...............\n",
      "[CV]  max_depth=8, min_samples_split=4, n_estimators=64, score=0.809, total=   0.2s\n",
      "[CV] max_depth=8, min_samples_split=4, n_estimators=64 ...............\n",
      "[CV]  max_depth=8, min_samples_split=4, n_estimators=64, score=0.913, total=   0.2s\n",
      "[CV] max_depth=8, min_samples_split=4, n_estimators=64 ...............\n",
      "[CV]  max_depth=8, min_samples_split=4, n_estimators=64, score=0.804, total=   0.2s\n",
      "[CV] max_depth=8, min_samples_split=4, n_estimators=256 ..............\n",
      "[CV]  max_depth=8, min_samples_split=4, n_estimators=256, score=0.745, total=   0.6s\n",
      "[CV] max_depth=8, min_samples_split=4, n_estimators=256 ..............\n",
      "[CV]  max_depth=8, min_samples_split=4, n_estimators=256, score=0.830, total=   0.6s\n",
      "[CV] max_depth=8, min_samples_split=4, n_estimators=256 ..............\n",
      "[CV]  max_depth=8, min_samples_split=4, n_estimators=256, score=0.891, total=   0.6s\n",
      "[CV] max_depth=8, min_samples_split=4, n_estimators=256 ..............\n",
      "[CV]  max_depth=8, min_samples_split=4, n_estimators=256, score=0.913, total=   0.6s\n",
      "[CV] max_depth=8, min_samples_split=8, n_estimators=4 ................\n",
      "[CV]  max_depth=8, min_samples_split=8, n_estimators=4, score=0.617, total=   0.0s\n",
      "[CV] max_depth=8, min_samples_split=8, n_estimators=4 ................\n",
      "[CV]  max_depth=8, min_samples_split=8, n_estimators=4, score=0.681, total=   0.0s\n",
      "[CV] max_depth=8, min_samples_split=8, n_estimators=4 ................\n",
      "[CV]  max_depth=8, min_samples_split=8, n_estimators=4, score=0.783, total=   0.0s\n",
      "[CV] max_depth=8, min_samples_split=8, n_estimators=4 ................\n",
      "[CV]  max_depth=8, min_samples_split=8, n_estimators=4, score=0.739, total=   0.0s\n",
      "[CV] max_depth=8, min_samples_split=8, n_estimators=16 ...............\n",
      "[CV]  max_depth=8, min_samples_split=8, n_estimators=16, score=0.787, total=   0.0s\n",
      "[CV] max_depth=8, min_samples_split=8, n_estimators=16 ...............\n",
      "[CV]  max_depth=8, min_samples_split=8, n_estimators=16, score=0.830, total=   0.0s\n",
      "[CV] max_depth=8, min_samples_split=8, n_estimators=16 ...............\n",
      "[CV]  max_depth=8, min_samples_split=8, n_estimators=16, score=0.870, total=   0.0s\n",
      "[CV] max_depth=8, min_samples_split=8, n_estimators=16 ...............\n",
      "[CV]  max_depth=8, min_samples_split=8, n_estimators=16, score=0.891, total=   0.0s\n",
      "[CV] max_depth=8, min_samples_split=8, n_estimators=64 ...............\n",
      "[CV]  max_depth=8, min_samples_split=8, n_estimators=64, score=0.681, total=   0.2s\n",
      "[CV] max_depth=8, min_samples_split=8, n_estimators=64 ...............\n",
      "[CV]  max_depth=8, min_samples_split=8, n_estimators=64, score=0.894, total=   0.2s\n",
      "[CV] max_depth=8, min_samples_split=8, n_estimators=64 ...............\n",
      "[CV]  max_depth=8, min_samples_split=8, n_estimators=64, score=0.935, total=   0.2s\n",
      "[CV] max_depth=8, min_samples_split=8, n_estimators=64 ...............\n",
      "[CV]  max_depth=8, min_samples_split=8, n_estimators=64, score=0.870, total=   0.2s\n",
      "[CV] max_depth=8, min_samples_split=8, n_estimators=256 ..............\n",
      "[CV]  max_depth=8, min_samples_split=8, n_estimators=256, score=0.766, total=   0.6s\n",
      "[CV] max_depth=8, min_samples_split=8, n_estimators=256 ..............\n",
      "[CV]  max_depth=8, min_samples_split=8, n_estimators=256, score=0.830, total=   0.6s\n",
      "[CV] max_depth=8, min_samples_split=8, n_estimators=256 ..............\n",
      "[CV]  max_depth=8, min_samples_split=8, n_estimators=256, score=0.935, total=   0.6s\n",
      "[CV] max_depth=8, min_samples_split=8, n_estimators=256 ..............\n",
      "[CV]  max_depth=8, min_samples_split=8, n_estimators=256, score=0.891, total=   0.6s\n",
      "[CV] max_depth=8, min_samples_split=16, n_estimators=4 ...............\n",
      "[CV]  max_depth=8, min_samples_split=16, n_estimators=4, score=0.638, total=   0.0s\n",
      "[CV] max_depth=8, min_samples_split=16, n_estimators=4 ...............\n",
      "[CV]  max_depth=8, min_samples_split=16, n_estimators=4, score=0.745, total=   0.0s\n",
      "[CV] max_depth=8, min_samples_split=16, n_estimators=4 ...............\n",
      "[CV]  max_depth=8, min_samples_split=16, n_estimators=4, score=0.739, total=   0.0s\n",
      "[CV] max_depth=8, min_samples_split=16, n_estimators=4 ...............\n",
      "[CV]  max_depth=8, min_samples_split=16, n_estimators=4, score=0.870, total=   0.0s\n",
      "[CV] max_depth=8, min_samples_split=16, n_estimators=16 ..............\n",
      "[CV]  max_depth=8, min_samples_split=16, n_estimators=16, score=0.702, total=   0.0s\n",
      "[CV] max_depth=8, min_samples_split=16, n_estimators=16 ..............\n",
      "[CV]  max_depth=8, min_samples_split=16, n_estimators=16, score=0.830, total=   0.0s\n",
      "[CV] max_depth=8, min_samples_split=16, n_estimators=16 ..............\n",
      "[CV]  max_depth=8, min_samples_split=16, n_estimators=16, score=0.870, total=   0.0s\n",
      "[CV] max_depth=8, min_samples_split=16, n_estimators=16 ..............\n",
      "[CV]  max_depth=8, min_samples_split=16, n_estimators=16, score=0.891, total=   0.0s\n",
      "[CV] max_depth=8, min_samples_split=16, n_estimators=64 ..............\n",
      "[CV]  max_depth=8, min_samples_split=16, n_estimators=64, score=0.745, total=   0.2s\n",
      "[CV] max_depth=8, min_samples_split=16, n_estimators=64 ..............\n",
      "[CV]  max_depth=8, min_samples_split=16, n_estimators=64, score=0.851, total=   0.2s\n",
      "[CV] max_depth=8, min_samples_split=16, n_estimators=64 ..............\n",
      "[CV]  max_depth=8, min_samples_split=16, n_estimators=64, score=0.957, total=   0.1s\n",
      "[CV] max_depth=8, min_samples_split=16, n_estimators=64 ..............\n",
      "[CV]  max_depth=8, min_samples_split=16, n_estimators=64, score=0.891, total=   0.2s\n",
      "[CV] max_depth=8, min_samples_split=16, n_estimators=256 .............\n",
      "[CV]  max_depth=8, min_samples_split=16, n_estimators=256, score=0.766, total=   0.6s\n",
      "[CV] max_depth=8, min_samples_split=16, n_estimators=256 .............\n",
      "[CV]  max_depth=8, min_samples_split=16, n_estimators=256, score=0.851, total=   0.6s\n",
      "[CV] max_depth=8, min_samples_split=16, n_estimators=256 .............\n",
      "[CV]  max_depth=8, min_samples_split=16, n_estimators=256, score=0.935, total=   0.6s\n",
      "[CV] max_depth=8, min_samples_split=16, n_estimators=256 .............\n",
      "[CV]  max_depth=8, min_samples_split=16, n_estimators=256, score=0.913, total=   0.6s\n",
      "[CV] max_depth=8, min_samples_split=32, n_estimators=4 ...............\n",
      "[CV]  max_depth=8, min_samples_split=32, n_estimators=4, score=0.745, total=   0.0s\n",
      "[CV] max_depth=8, min_samples_split=32, n_estimators=4 ...............\n",
      "[CV]  max_depth=8, min_samples_split=32, n_estimators=4, score=0.809, total=   0.0s\n",
      "[CV] max_depth=8, min_samples_split=32, n_estimators=4 ...............\n",
      "[CV]  max_depth=8, min_samples_split=32, n_estimators=4, score=0.978, total=   0.0s\n",
      "[CV] max_depth=8, min_samples_split=32, n_estimators=4 ...............\n",
      "[CV]  max_depth=8, min_samples_split=32, n_estimators=4, score=0.739, total=   0.0s\n",
      "[CV] max_depth=8, min_samples_split=32, n_estimators=16 ..............\n",
      "[CV]  max_depth=8, min_samples_split=32, n_estimators=16, score=0.660, total=   0.0s\n",
      "[CV] max_depth=8, min_samples_split=32, n_estimators=16 ..............\n",
      "[CV]  max_depth=8, min_samples_split=32, n_estimators=16, score=0.766, total=   0.0s\n",
      "[CV] max_depth=8, min_samples_split=32, n_estimators=16 ..............\n",
      "[CV]  max_depth=8, min_samples_split=32, n_estimators=16, score=0.848, total=   0.0s\n",
      "[CV] max_depth=8, min_samples_split=32, n_estimators=16 ..............\n",
      "[CV]  max_depth=8, min_samples_split=32, n_estimators=16, score=0.848, total=   0.0s\n",
      "[CV] max_depth=8, min_samples_split=32, n_estimators=64 ..............\n",
      "[CV]  max_depth=8, min_samples_split=32, n_estimators=64, score=0.702, total=   0.1s\n",
      "[CV] max_depth=8, min_samples_split=32, n_estimators=64 ..............\n",
      "[CV]  max_depth=8, min_samples_split=32, n_estimators=64, score=0.851, total=   0.1s\n",
      "[CV] max_depth=8, min_samples_split=32, n_estimators=64 ..............\n",
      "[CV]  max_depth=8, min_samples_split=32, n_estimators=64, score=0.891, total=   0.1s\n",
      "[CV] max_depth=8, min_samples_split=32, n_estimators=64 ..............\n",
      "[CV]  max_depth=8, min_samples_split=32, n_estimators=64, score=0.891, total=   0.1s\n",
      "[CV] max_depth=8, min_samples_split=32, n_estimators=256 .............\n",
      "[CV]  max_depth=8, min_samples_split=32, n_estimators=256, score=0.702, total=   0.6s\n",
      "[CV] max_depth=8, min_samples_split=32, n_estimators=256 .............\n",
      "[CV]  max_depth=8, min_samples_split=32, n_estimators=256, score=0.872, total=   0.5s\n",
      "[CV] max_depth=8, min_samples_split=32, n_estimators=256 .............\n",
      "[CV]  max_depth=8, min_samples_split=32, n_estimators=256, score=0.935, total=   0.5s\n",
      "[CV] max_depth=8, min_samples_split=32, n_estimators=256 .............\n",
      "[CV]  max_depth=8, min_samples_split=32, n_estimators=256, score=0.891, total=   0.5s\n",
      "[CV] max_depth=16, min_samples_split=2, n_estimators=4 ...............\n",
      "[CV]  max_depth=16, min_samples_split=2, n_estimators=4, score=0.766, total=   0.0s\n",
      "[CV] max_depth=16, min_samples_split=2, n_estimators=4 ...............\n",
      "[CV]  max_depth=16, min_samples_split=2, n_estimators=4, score=0.702, total=   0.0s\n",
      "[CV] max_depth=16, min_samples_split=2, n_estimators=4 ...............\n",
      "[CV]  max_depth=16, min_samples_split=2, n_estimators=4, score=0.804, total=   0.0s\n",
      "[CV] max_depth=16, min_samples_split=2, n_estimators=4 ...............\n",
      "[CV]  max_depth=16, min_samples_split=2, n_estimators=4, score=0.783, total=   0.0s\n",
      "[CV] max_depth=16, min_samples_split=2, n_estimators=16 ..............\n",
      "[CV]  max_depth=16, min_samples_split=2, n_estimators=16, score=0.660, total=   0.0s\n",
      "[CV] max_depth=16, min_samples_split=2, n_estimators=16 ..............\n",
      "[CV]  max_depth=16, min_samples_split=2, n_estimators=16, score=0.809, total=   0.0s\n",
      "[CV] max_depth=16, min_samples_split=2, n_estimators=16 ..............\n",
      "[CV]  max_depth=16, min_samples_split=2, n_estimators=16, score=0.870, total=   0.0s\n",
      "[CV] max_depth=16, min_samples_split=2, n_estimators=16 ..............\n",
      "[CV]  max_depth=16, min_samples_split=2, n_estimators=16, score=0.826, total=   0.0s\n",
      "[CV] max_depth=16, min_samples_split=2, n_estimators=64 ..............\n",
      "[CV]  max_depth=16, min_samples_split=2, n_estimators=64, score=0.787, total=   0.2s\n",
      "[CV] max_depth=16, min_samples_split=2, n_estimators=64 ..............\n",
      "[CV]  max_depth=16, min_samples_split=2, n_estimators=64, score=0.830, total=   0.2s\n",
      "[CV] max_depth=16, min_samples_split=2, n_estimators=64 ..............\n",
      "[CV]  max_depth=16, min_samples_split=2, n_estimators=64, score=0.848, total=   0.2s\n",
      "[CV] max_depth=16, min_samples_split=2, n_estimators=64 ..............\n",
      "[CV]  max_depth=16, min_samples_split=2, n_estimators=64, score=0.891, total=   0.2s\n",
      "[CV] max_depth=16, min_samples_split=2, n_estimators=256 .............\n",
      "[CV]  max_depth=16, min_samples_split=2, n_estimators=256, score=0.787, total=   0.6s\n",
      "[CV] max_depth=16, min_samples_split=2, n_estimators=256 .............\n",
      "[CV]  max_depth=16, min_samples_split=2, n_estimators=256, score=0.851, total=   0.6s\n",
      "[CV] max_depth=16, min_samples_split=2, n_estimators=256 .............\n",
      "[CV]  max_depth=16, min_samples_split=2, n_estimators=256, score=0.957, total=   0.6s\n",
      "[CV] max_depth=16, min_samples_split=2, n_estimators=256 .............\n",
      "[CV]  max_depth=16, min_samples_split=2, n_estimators=256, score=0.870, total=   0.6s\n",
      "[CV] max_depth=16, min_samples_split=4, n_estimators=4 ...............\n",
      "[CV]  max_depth=16, min_samples_split=4, n_estimators=4, score=0.638, total=   0.0s\n",
      "[CV] max_depth=16, min_samples_split=4, n_estimators=4 ...............\n",
      "[CV]  max_depth=16, min_samples_split=4, n_estimators=4, score=0.745, total=   0.0s\n",
      "[CV] max_depth=16, min_samples_split=4, n_estimators=4 ...............\n",
      "[CV]  max_depth=16, min_samples_split=4, n_estimators=4, score=0.848, total=   0.0s\n",
      "[CV] max_depth=16, min_samples_split=4, n_estimators=4 ...............\n",
      "[CV]  max_depth=16, min_samples_split=4, n_estimators=4, score=0.804, total=   0.0s\n",
      "[CV] max_depth=16, min_samples_split=4, n_estimators=16 ..............\n",
      "[CV]  max_depth=16, min_samples_split=4, n_estimators=16, score=0.809, total=   0.0s\n",
      "[CV] max_depth=16, min_samples_split=4, n_estimators=16 ..............\n",
      "[CV]  max_depth=16, min_samples_split=4, n_estimators=16, score=0.851, total=   0.0s\n",
      "[CV] max_depth=16, min_samples_split=4, n_estimators=16 ..............\n",
      "[CV]  max_depth=16, min_samples_split=4, n_estimators=16, score=0.870, total=   0.0s\n",
      "[CV] max_depth=16, min_samples_split=4, n_estimators=16 ..............\n",
      "[CV]  max_depth=16, min_samples_split=4, n_estimators=16, score=0.848, total=   0.0s\n",
      "[CV] max_depth=16, min_samples_split=4, n_estimators=64 ..............\n",
      "[CV]  max_depth=16, min_samples_split=4, n_estimators=64, score=0.766, total=   0.2s\n",
      "[CV] max_depth=16, min_samples_split=4, n_estimators=64 ..............\n",
      "[CV]  max_depth=16, min_samples_split=4, n_estimators=64, score=0.830, total=   0.2s\n",
      "[CV] max_depth=16, min_samples_split=4, n_estimators=64 ..............\n",
      "[CV]  max_depth=16, min_samples_split=4, n_estimators=64, score=0.913, total=   0.2s\n",
      "[CV] max_depth=16, min_samples_split=4, n_estimators=64 ..............\n",
      "[CV]  max_depth=16, min_samples_split=4, n_estimators=64, score=0.913, total=   0.2s\n",
      "[CV] max_depth=16, min_samples_split=4, n_estimators=256 .............\n",
      "[CV]  max_depth=16, min_samples_split=4, n_estimators=256, score=0.702, total=   0.6s\n",
      "[CV] max_depth=16, min_samples_split=4, n_estimators=256 .............\n",
      "[CV]  max_depth=16, min_samples_split=4, n_estimators=256, score=0.872, total=   0.6s\n",
      "[CV] max_depth=16, min_samples_split=4, n_estimators=256 .............\n",
      "[CV]  max_depth=16, min_samples_split=4, n_estimators=256, score=0.935, total=   0.6s\n",
      "[CV] max_depth=16, min_samples_split=4, n_estimators=256 .............\n",
      "[CV]  max_depth=16, min_samples_split=4, n_estimators=256, score=0.848, total=   0.6s\n",
      "[CV] max_depth=16, min_samples_split=8, n_estimators=4 ...............\n",
      "[CV]  max_depth=16, min_samples_split=8, n_estimators=4, score=0.617, total=   0.0s\n",
      "[CV] max_depth=16, min_samples_split=8, n_estimators=4 ...............\n",
      "[CV]  max_depth=16, min_samples_split=8, n_estimators=4, score=0.702, total=   0.0s\n",
      "[CV] max_depth=16, min_samples_split=8, n_estimators=4 ...............\n",
      "[CV]  max_depth=16, min_samples_split=8, n_estimators=4, score=0.804, total=   0.0s\n",
      "[CV] max_depth=16, min_samples_split=8, n_estimators=4 ...............\n",
      "[CV]  max_depth=16, min_samples_split=8, n_estimators=4, score=0.848, total=   0.0s\n",
      "[CV] max_depth=16, min_samples_split=8, n_estimators=16 ..............\n",
      "[CV]  max_depth=16, min_samples_split=8, n_estimators=16, score=0.723, total=   0.0s\n",
      "[CV] max_depth=16, min_samples_split=8, n_estimators=16 ..............\n",
      "[CV]  max_depth=16, min_samples_split=8, n_estimators=16, score=0.830, total=   0.0s\n",
      "[CV] max_depth=16, min_samples_split=8, n_estimators=16 ..............\n",
      "[CV]  max_depth=16, min_samples_split=8, n_estimators=16, score=0.870, total=   0.0s\n",
      "[CV] max_depth=16, min_samples_split=8, n_estimators=16 ..............\n",
      "[CV]  max_depth=16, min_samples_split=8, n_estimators=16, score=0.870, total=   0.0s\n",
      "[CV] max_depth=16, min_samples_split=8, n_estimators=64 ..............\n",
      "[CV]  max_depth=16, min_samples_split=8, n_estimators=64, score=0.745, total=   0.2s\n",
      "[CV] max_depth=16, min_samples_split=8, n_estimators=64 ..............\n",
      "[CV]  max_depth=16, min_samples_split=8, n_estimators=64, score=0.830, total=   0.2s\n",
      "[CV] max_depth=16, min_samples_split=8, n_estimators=64 ..............\n",
      "[CV]  max_depth=16, min_samples_split=8, n_estimators=64, score=0.935, total=   0.2s\n",
      "[CV] max_depth=16, min_samples_split=8, n_estimators=64 ..............\n",
      "[CV]  max_depth=16, min_samples_split=8, n_estimators=64, score=0.826, total=   0.2s\n",
      "[CV] max_depth=16, min_samples_split=8, n_estimators=256 .............\n",
      "[CV]  max_depth=16, min_samples_split=8, n_estimators=256, score=0.723, total=   0.6s\n",
      "[CV] max_depth=16, min_samples_split=8, n_estimators=256 .............\n",
      "[CV]  max_depth=16, min_samples_split=8, n_estimators=256, score=0.830, total=   0.6s\n",
      "[CV] max_depth=16, min_samples_split=8, n_estimators=256 .............\n",
      "[CV]  max_depth=16, min_samples_split=8, n_estimators=256, score=0.913, total=   0.6s\n",
      "[CV] max_depth=16, min_samples_split=8, n_estimators=256 .............\n",
      "[CV]  max_depth=16, min_samples_split=8, n_estimators=256, score=0.891, total=   0.6s\n",
      "[CV] max_depth=16, min_samples_split=16, n_estimators=4 ..............\n",
      "[CV]  max_depth=16, min_samples_split=16, n_estimators=4, score=0.638, total=   0.0s\n",
      "[CV] max_depth=16, min_samples_split=16, n_estimators=4 ..............\n",
      "[CV]  max_depth=16, min_samples_split=16, n_estimators=4, score=0.766, total=   0.0s\n",
      "[CV] max_depth=16, min_samples_split=16, n_estimators=4 ..............\n",
      "[CV]  max_depth=16, min_samples_split=16, n_estimators=4, score=0.761, total=   0.0s\n",
      "[CV] max_depth=16, min_samples_split=16, n_estimators=4 ..............\n",
      "[CV]  max_depth=16, min_samples_split=16, n_estimators=4, score=0.783, total=   0.0s\n",
      "[CV] max_depth=16, min_samples_split=16, n_estimators=16 .............\n",
      "[CV]  max_depth=16, min_samples_split=16, n_estimators=16, score=0.745, total=   0.0s\n",
      "[CV] max_depth=16, min_samples_split=16, n_estimators=16 .............\n",
      "[CV]  max_depth=16, min_samples_split=16, n_estimators=16, score=0.830, total=   0.0s\n",
      "[CV] max_depth=16, min_samples_split=16, n_estimators=16 .............\n",
      "[CV]  max_depth=16, min_samples_split=16, n_estimators=16, score=0.913, total=   0.0s\n",
      "[CV] max_depth=16, min_samples_split=16, n_estimators=16 .............\n",
      "[CV]  max_depth=16, min_samples_split=16, n_estimators=16, score=0.870, total=   0.0s\n",
      "[CV] max_depth=16, min_samples_split=16, n_estimators=64 .............\n",
      "[CV]  max_depth=16, min_samples_split=16, n_estimators=64, score=0.787, total=   0.1s\n",
      "[CV] max_depth=16, min_samples_split=16, n_estimators=64 .............\n",
      "[CV]  max_depth=16, min_samples_split=16, n_estimators=64, score=0.830, total=   0.2s\n",
      "[CV] max_depth=16, min_samples_split=16, n_estimators=64 .............\n",
      "[CV]  max_depth=16, min_samples_split=16, n_estimators=64, score=0.891, total=   0.2s\n",
      "[CV] max_depth=16, min_samples_split=16, n_estimators=64 .............\n",
      "[CV]  max_depth=16, min_samples_split=16, n_estimators=64, score=0.891, total=   0.2s\n",
      "[CV] max_depth=16, min_samples_split=16, n_estimators=256 ............\n",
      "[CV]  max_depth=16, min_samples_split=16, n_estimators=256, score=0.723, total=   0.6s\n",
      "[CV] max_depth=16, min_samples_split=16, n_estimators=256 ............\n",
      "[CV]  max_depth=16, min_samples_split=16, n_estimators=256, score=0.851, total=   0.6s\n",
      "[CV] max_depth=16, min_samples_split=16, n_estimators=256 ............\n",
      "[CV]  max_depth=16, min_samples_split=16, n_estimators=256, score=0.870, total=   0.6s\n",
      "[CV] max_depth=16, min_samples_split=16, n_estimators=256 ............\n",
      "[CV]  max_depth=16, min_samples_split=16, n_estimators=256, score=0.891, total=   0.6s\n",
      "[CV] max_depth=16, min_samples_split=32, n_estimators=4 ..............\n",
      "[CV]  max_depth=16, min_samples_split=32, n_estimators=4, score=0.723, total=   0.0s\n",
      "[CV] max_depth=16, min_samples_split=32, n_estimators=4 ..............\n",
      "[CV]  max_depth=16, min_samples_split=32, n_estimators=4, score=0.723, total=   0.0s\n",
      "[CV] max_depth=16, min_samples_split=32, n_estimators=4 ..............\n",
      "[CV]  max_depth=16, min_samples_split=32, n_estimators=4, score=0.891, total=   0.0s\n",
      "[CV] max_depth=16, min_samples_split=32, n_estimators=4 ..............\n",
      "[CV]  max_depth=16, min_samples_split=32, n_estimators=4, score=0.761, total=   0.0s\n",
      "[CV] max_depth=16, min_samples_split=32, n_estimators=16 .............\n",
      "[CV]  max_depth=16, min_samples_split=32, n_estimators=16, score=0.681, total=   0.0s\n",
      "[CV] max_depth=16, min_samples_split=32, n_estimators=16 .............\n",
      "[CV]  max_depth=16, min_samples_split=32, n_estimators=16, score=0.787, total=   0.0s\n",
      "[CV] max_depth=16, min_samples_split=32, n_estimators=16 .............\n",
      "[CV]  max_depth=16, min_samples_split=32, n_estimators=16, score=0.913, total=   0.0s\n",
      "[CV] max_depth=16, min_samples_split=32, n_estimators=16 .............\n",
      "[CV]  max_depth=16, min_samples_split=32, n_estimators=16, score=0.848, total=   0.0s\n",
      "[CV] max_depth=16, min_samples_split=32, n_estimators=64 .............\n",
      "[CV]  max_depth=16, min_samples_split=32, n_estimators=64, score=0.702, total=   0.1s\n",
      "[CV] max_depth=16, min_samples_split=32, n_estimators=64 .............\n",
      "[CV]  max_depth=16, min_samples_split=32, n_estimators=64, score=0.872, total=   0.1s\n",
      "[CV] max_depth=16, min_samples_split=32, n_estimators=64 .............\n",
      "[CV]  max_depth=16, min_samples_split=32, n_estimators=64, score=0.913, total=   0.1s\n",
      "[CV] max_depth=16, min_samples_split=32, n_estimators=64 .............\n",
      "[CV]  max_depth=16, min_samples_split=32, n_estimators=64, score=0.891, total=   0.1s\n",
      "[CV] max_depth=16, min_samples_split=32, n_estimators=256 ............\n",
      "[CV]  max_depth=16, min_samples_split=32, n_estimators=256, score=0.702, total=   0.6s\n",
      "[CV] max_depth=16, min_samples_split=32, n_estimators=256 ............\n",
      "[CV]  max_depth=16, min_samples_split=32, n_estimators=256, score=0.851, total=   0.6s\n",
      "[CV] max_depth=16, min_samples_split=32, n_estimators=256 ............\n",
      "[CV]  max_depth=16, min_samples_split=32, n_estimators=256, score=0.891, total=   0.6s\n",
      "[CV] max_depth=16, min_samples_split=32, n_estimators=256 ............\n",
      "[CV]  max_depth=16, min_samples_split=32, n_estimators=256, score=0.913, total=   0.5s\n",
      "[CV] max_depth=32, min_samples_split=2, n_estimators=4 ...............\n",
      "[CV]  max_depth=32, min_samples_split=2, n_estimators=4, score=0.702, total=   0.0s\n",
      "[CV] max_depth=32, min_samples_split=2, n_estimators=4 ...............\n",
      "[CV]  max_depth=32, min_samples_split=2, n_estimators=4, score=0.766, total=   0.0s\n",
      "[CV] max_depth=32, min_samples_split=2, n_estimators=4 ...............\n",
      "[CV]  max_depth=32, min_samples_split=2, n_estimators=4, score=0.804, total=   0.0s\n",
      "[CV] max_depth=32, min_samples_split=2, n_estimators=4 ...............\n",
      "[CV]  max_depth=32, min_samples_split=2, n_estimators=4, score=0.826, total=   0.0s\n",
      "[CV] max_depth=32, min_samples_split=2, n_estimators=16 ..............\n",
      "[CV]  max_depth=32, min_samples_split=2, n_estimators=16, score=0.723, total=   0.0s\n",
      "[CV] max_depth=32, min_samples_split=2, n_estimators=16 ..............\n",
      "[CV]  max_depth=32, min_samples_split=2, n_estimators=16, score=0.809, total=   0.0s\n",
      "[CV] max_depth=32, min_samples_split=2, n_estimators=16 ..............\n",
      "[CV]  max_depth=32, min_samples_split=2, n_estimators=16, score=0.783, total=   0.0s\n",
      "[CV] max_depth=32, min_samples_split=2, n_estimators=16 ..............\n",
      "[CV]  max_depth=32, min_samples_split=2, n_estimators=16, score=0.870, total=   0.0s\n",
      "[CV] max_depth=32, min_samples_split=2, n_estimators=64 ..............\n",
      "[CV]  max_depth=32, min_samples_split=2, n_estimators=64, score=0.766, total=   0.2s\n",
      "[CV] max_depth=32, min_samples_split=2, n_estimators=64 ..............\n",
      "[CV]  max_depth=32, min_samples_split=2, n_estimators=64, score=0.872, total=   0.2s\n",
      "[CV] max_depth=32, min_samples_split=2, n_estimators=64 ..............\n",
      "[CV]  max_depth=32, min_samples_split=2, n_estimators=64, score=0.848, total=   0.2s\n",
      "[CV] max_depth=32, min_samples_split=2, n_estimators=64 ..............\n",
      "[CV]  max_depth=32, min_samples_split=2, n_estimators=64, score=0.848, total=   0.2s\n",
      "[CV] max_depth=32, min_samples_split=2, n_estimators=256 .............\n",
      "[CV]  max_depth=32, min_samples_split=2, n_estimators=256, score=0.787, total=   0.6s\n",
      "[CV] max_depth=32, min_samples_split=2, n_estimators=256 .............\n",
      "[CV]  max_depth=32, min_samples_split=2, n_estimators=256, score=0.872, total=   0.6s\n",
      "[CV] max_depth=32, min_samples_split=2, n_estimators=256 .............\n",
      "[CV]  max_depth=32, min_samples_split=2, n_estimators=256, score=0.935, total=   0.6s\n",
      "[CV] max_depth=32, min_samples_split=2, n_estimators=256 .............\n",
      "[CV]  max_depth=32, min_samples_split=2, n_estimators=256, score=0.848, total=   0.6s\n",
      "[CV] max_depth=32, min_samples_split=4, n_estimators=4 ...............\n",
      "[CV]  max_depth=32, min_samples_split=4, n_estimators=4, score=0.617, total=   0.0s\n",
      "[CV] max_depth=32, min_samples_split=4, n_estimators=4 ...............\n",
      "[CV]  max_depth=32, min_samples_split=4, n_estimators=4, score=0.617, total=   0.0s\n",
      "[CV] max_depth=32, min_samples_split=4, n_estimators=4 ...............\n",
      "[CV]  max_depth=32, min_samples_split=4, n_estimators=4, score=0.891, total=   0.0s\n",
      "[CV] max_depth=32, min_samples_split=4, n_estimators=4 ...............\n",
      "[CV]  max_depth=32, min_samples_split=4, n_estimators=4, score=0.804, total=   0.0s\n",
      "[CV] max_depth=32, min_samples_split=4, n_estimators=16 ..............\n",
      "[CV]  max_depth=32, min_samples_split=4, n_estimators=16, score=0.787, total=   0.0s\n",
      "[CV] max_depth=32, min_samples_split=4, n_estimators=16 ..............\n",
      "[CV]  max_depth=32, min_samples_split=4, n_estimators=16, score=0.872, total=   0.0s\n",
      "[CV] max_depth=32, min_samples_split=4, n_estimators=16 ..............\n",
      "[CV]  max_depth=32, min_samples_split=4, n_estimators=16, score=0.848, total=   0.0s\n",
      "[CV] max_depth=32, min_samples_split=4, n_estimators=16 ..............\n",
      "[CV]  max_depth=32, min_samples_split=4, n_estimators=16, score=0.761, total=   0.0s\n",
      "[CV] max_depth=32, min_samples_split=4, n_estimators=64 ..............\n",
      "[CV]  max_depth=32, min_samples_split=4, n_estimators=64, score=0.745, total=   0.2s\n",
      "[CV] max_depth=32, min_samples_split=4, n_estimators=64 ..............\n",
      "[CV]  max_depth=32, min_samples_split=4, n_estimators=64, score=0.830, total=   0.2s\n",
      "[CV] max_depth=32, min_samples_split=4, n_estimators=64 ..............\n",
      "[CV]  max_depth=32, min_samples_split=4, n_estimators=64, score=0.913, total=   0.2s\n",
      "[CV] max_depth=32, min_samples_split=4, n_estimators=64 ..............\n",
      "[CV]  max_depth=32, min_samples_split=4, n_estimators=64, score=0.870, total=   0.2s\n",
      "[CV] max_depth=32, min_samples_split=4, n_estimators=256 .............\n",
      "[CV]  max_depth=32, min_samples_split=4, n_estimators=256, score=0.745, total=   0.6s\n",
      "[CV] max_depth=32, min_samples_split=4, n_estimators=256 .............\n",
      "[CV]  max_depth=32, min_samples_split=4, n_estimators=256, score=0.851, total=   0.6s\n",
      "[CV] max_depth=32, min_samples_split=4, n_estimators=256 .............\n",
      "[CV]  max_depth=32, min_samples_split=4, n_estimators=256, score=0.913, total=   0.6s\n",
      "[CV] max_depth=32, min_samples_split=4, n_estimators=256 .............\n",
      "[CV]  max_depth=32, min_samples_split=4, n_estimators=256, score=0.891, total=   0.6s\n",
      "[CV] max_depth=32, min_samples_split=8, n_estimators=4 ...............\n",
      "[CV]  max_depth=32, min_samples_split=8, n_estimators=4, score=0.660, total=   0.0s\n",
      "[CV] max_depth=32, min_samples_split=8, n_estimators=4 ...............\n",
      "[CV]  max_depth=32, min_samples_split=8, n_estimators=4, score=0.745, total=   0.0s\n",
      "[CV] max_depth=32, min_samples_split=8, n_estimators=4 ...............\n",
      "[CV]  max_depth=32, min_samples_split=8, n_estimators=4, score=0.804, total=   0.0s\n",
      "[CV] max_depth=32, min_samples_split=8, n_estimators=4 ...............\n",
      "[CV]  max_depth=32, min_samples_split=8, n_estimators=4, score=0.783, total=   0.0s\n",
      "[CV] max_depth=32, min_samples_split=8, n_estimators=16 ..............\n",
      "[CV]  max_depth=32, min_samples_split=8, n_estimators=16, score=0.787, total=   0.0s\n",
      "[CV] max_depth=32, min_samples_split=8, n_estimators=16 ..............\n",
      "[CV]  max_depth=32, min_samples_split=8, n_estimators=16, score=0.830, total=   0.0s\n",
      "[CV] max_depth=32, min_samples_split=8, n_estimators=16 ..............\n",
      "[CV]  max_depth=32, min_samples_split=8, n_estimators=16, score=0.826, total=   0.0s\n",
      "[CV] max_depth=32, min_samples_split=8, n_estimators=16 ..............\n",
      "[CV]  max_depth=32, min_samples_split=8, n_estimators=16, score=0.870, total=   0.0s\n",
      "[CV] max_depth=32, min_samples_split=8, n_estimators=64 ..............\n",
      "[CV]  max_depth=32, min_samples_split=8, n_estimators=64, score=0.723, total=   0.2s\n",
      "[CV] max_depth=32, min_samples_split=8, n_estimators=64 ..............\n",
      "[CV]  max_depth=32, min_samples_split=8, n_estimators=64, score=0.851, total=   0.2s\n",
      "[CV] max_depth=32, min_samples_split=8, n_estimators=64 ..............\n",
      "[CV]  max_depth=32, min_samples_split=8, n_estimators=64, score=0.913, total=   0.2s\n",
      "[CV] max_depth=32, min_samples_split=8, n_estimators=64 ..............\n",
      "[CV]  max_depth=32, min_samples_split=8, n_estimators=64, score=0.870, total=   0.2s\n",
      "[CV] max_depth=32, min_samples_split=8, n_estimators=256 .............\n",
      "[CV]  max_depth=32, min_samples_split=8, n_estimators=256, score=0.702, total=   0.6s\n",
      "[CV] max_depth=32, min_samples_split=8, n_estimators=256 .............\n",
      "[CV]  max_depth=32, min_samples_split=8, n_estimators=256, score=0.851, total=   0.6s\n",
      "[CV] max_depth=32, min_samples_split=8, n_estimators=256 .............\n",
      "[CV]  max_depth=32, min_samples_split=8, n_estimators=256, score=0.935, total=   0.6s\n",
      "[CV] max_depth=32, min_samples_split=8, n_estimators=256 .............\n",
      "[CV]  max_depth=32, min_samples_split=8, n_estimators=256, score=0.870, total=   0.6s\n",
      "[CV] max_depth=32, min_samples_split=16, n_estimators=4 ..............\n",
      "[CV]  max_depth=32, min_samples_split=16, n_estimators=4, score=0.681, total=   0.0s\n",
      "[CV] max_depth=32, min_samples_split=16, n_estimators=4 ..............\n",
      "[CV]  max_depth=32, min_samples_split=16, n_estimators=4, score=0.638, total=   0.0s\n",
      "[CV] max_depth=32, min_samples_split=16, n_estimators=4 ..............\n",
      "[CV]  max_depth=32, min_samples_split=16, n_estimators=4, score=0.739, total=   0.0s\n",
      "[CV] max_depth=32, min_samples_split=16, n_estimators=4 ..............\n",
      "[CV]  max_depth=32, min_samples_split=16, n_estimators=4, score=0.848, total=   0.0s\n",
      "[CV] max_depth=32, min_samples_split=16, n_estimators=16 .............\n",
      "[CV]  max_depth=32, min_samples_split=16, n_estimators=16, score=0.617, total=   0.0s\n",
      "[CV] max_depth=32, min_samples_split=16, n_estimators=16 .............\n",
      "[CV]  max_depth=32, min_samples_split=16, n_estimators=16, score=0.830, total=   0.0s\n",
      "[CV] max_depth=32, min_samples_split=16, n_estimators=16 .............\n",
      "[CV]  max_depth=32, min_samples_split=16, n_estimators=16, score=0.826, total=   0.0s\n",
      "[CV] max_depth=32, min_samples_split=16, n_estimators=16 .............\n",
      "[CV]  max_depth=32, min_samples_split=16, n_estimators=16, score=0.870, total=   0.0s\n",
      "[CV] max_depth=32, min_samples_split=16, n_estimators=64 .............\n",
      "[CV]  max_depth=32, min_samples_split=16, n_estimators=64, score=0.702, total=   0.1s\n",
      "[CV] max_depth=32, min_samples_split=16, n_estimators=64 .............\n",
      "[CV]  max_depth=32, min_samples_split=16, n_estimators=64, score=0.830, total=   0.2s\n",
      "[CV] max_depth=32, min_samples_split=16, n_estimators=64 .............\n",
      "[CV]  max_depth=32, min_samples_split=16, n_estimators=64, score=0.870, total=   0.2s\n",
      "[CV] max_depth=32, min_samples_split=16, n_estimators=64 .............\n",
      "[CV]  max_depth=32, min_samples_split=16, n_estimators=64, score=0.913, total=   0.2s\n",
      "[CV] max_depth=32, min_samples_split=16, n_estimators=256 ............\n",
      "[CV]  max_depth=32, min_samples_split=16, n_estimators=256, score=0.723, total=   0.6s\n",
      "[CV] max_depth=32, min_samples_split=16, n_estimators=256 ............\n",
      "[CV]  max_depth=32, min_samples_split=16, n_estimators=256, score=0.851, total=   0.6s\n",
      "[CV] max_depth=32, min_samples_split=16, n_estimators=256 ............\n",
      "[CV]  max_depth=32, min_samples_split=16, n_estimators=256, score=0.935, total=   0.6s\n",
      "[CV] max_depth=32, min_samples_split=16, n_estimators=256 ............\n",
      "[CV]  max_depth=32, min_samples_split=16, n_estimators=256, score=0.891, total=   0.6s\n",
      "[CV] max_depth=32, min_samples_split=32, n_estimators=4 ..............\n",
      "[CV]  max_depth=32, min_samples_split=32, n_estimators=4, score=0.745, total=   0.0s\n",
      "[CV] max_depth=32, min_samples_split=32, n_estimators=4 ..............\n",
      "[CV]  max_depth=32, min_samples_split=32, n_estimators=4, score=0.723, total=   0.0s\n",
      "[CV] max_depth=32, min_samples_split=32, n_estimators=4 ..............\n",
      "[CV]  max_depth=32, min_samples_split=32, n_estimators=4, score=0.783, total=   0.0s\n",
      "[CV] max_depth=32, min_samples_split=32, n_estimators=4 ..............\n",
      "[CV]  max_depth=32, min_samples_split=32, n_estimators=4, score=0.783, total=   0.0s\n",
      "[CV] max_depth=32, min_samples_split=32, n_estimators=16 .............\n",
      "[CV]  max_depth=32, min_samples_split=32, n_estimators=16, score=0.702, total=   0.0s\n",
      "[CV] max_depth=32, min_samples_split=32, n_estimators=16 .............\n",
      "[CV]  max_depth=32, min_samples_split=32, n_estimators=16, score=0.851, total=   0.0s\n",
      "[CV] max_depth=32, min_samples_split=32, n_estimators=16 .............\n",
      "[CV]  max_depth=32, min_samples_split=32, n_estimators=16, score=0.870, total=   0.0s\n",
      "[CV] max_depth=32, min_samples_split=32, n_estimators=16 .............\n",
      "[CV]  max_depth=32, min_samples_split=32, n_estimators=16, score=0.848, total=   0.0s\n",
      "[CV] max_depth=32, min_samples_split=32, n_estimators=64 .............\n",
      "[CV]  max_depth=32, min_samples_split=32, n_estimators=64, score=0.681, total=   0.1s\n",
      "[CV] max_depth=32, min_samples_split=32, n_estimators=64 .............\n",
      "[CV]  max_depth=32, min_samples_split=32, n_estimators=64, score=0.809, total=   0.1s\n",
      "[CV] max_depth=32, min_samples_split=32, n_estimators=64 .............\n",
      "[CV]  max_depth=32, min_samples_split=32, n_estimators=64, score=0.935, total=   0.1s\n",
      "[CV] max_depth=32, min_samples_split=32, n_estimators=64 .............\n",
      "[CV]  max_depth=32, min_samples_split=32, n_estimators=64, score=0.848, total=   0.1s\n",
      "[CV] max_depth=32, min_samples_split=32, n_estimators=256 ............\n",
      "[CV]  max_depth=32, min_samples_split=32, n_estimators=256, score=0.723, total=   0.6s\n",
      "[CV] max_depth=32, min_samples_split=32, n_estimators=256 ............\n",
      "[CV]  max_depth=32, min_samples_split=32, n_estimators=256, score=0.851, total=   0.5s\n",
      "[CV] max_depth=32, min_samples_split=32, n_estimators=256 ............\n",
      "[CV]  max_depth=32, min_samples_split=32, n_estimators=256, score=0.957, total=   0.6s\n",
      "[CV] max_depth=32, min_samples_split=32, n_estimators=256 ............\n",
      "[CV]  max_depth=32, min_samples_split=32, n_estimators=256, score=0.913, total=   0.5s\n"
     ]
    },
    {
     "name": "stderr",
     "output_type": "stream",
     "text": [
      "[Parallel(n_jobs=1)]: Done 400 out of 400 | elapsed:  1.3min finished\n",
      "The default of the `iid` parameter will change from True to False in version 0.22 and will be removed in 0.24. This will change numeric results when test-set sizes are unequal.\n"
     ]
    }
   ],
   "source": [
    "from models import RandomForest\n",
    "rf_model = RandomForest('RF', {})\n",
    "best_params = rf_model.random_search(4, X_train, y_train)\n",
    "rf_model = RandomForest('RF', best_params)"
   ]
  },
  {
   "cell_type": "code",
   "execution_count": 21,
   "metadata": {},
   "outputs": [],
   "source": [
    "rf_model.run_cv(X_train, y_train, 4)"
   ]
  },
  {
   "cell_type": "markdown",
   "metadata": {},
   "source": [
    "# LGBM Hyperparameter Optimization"
   ]
  },
  {
   "cell_type": "code",
   "execution_count": 22,
   "metadata": {
    "collapsed": true,
    "jupyter": {
     "outputs_hidden": true
    }
   },
   "outputs": [
    {
     "name": "stdout",
     "output_type": "stream",
     "text": [
      "Fitting 4 folds for each of 90 candidates, totalling 360 fits\n",
      "[CV] max_depth=2, min_data_in_leaf=2, num_leaves=4 ...................\n"
     ]
    },
    {
     "name": "stderr",
     "output_type": "stream",
     "text": [
      "[Parallel(n_jobs=1)]: Using backend SequentialBackend with 1 concurrent workers.\n"
     ]
    },
    {
     "name": "stdout",
     "output_type": "stream",
     "text": [
      "[CV]  max_depth=2, min_data_in_leaf=2, num_leaves=4, score=0.787, total=   0.3s\n",
      "[CV] max_depth=2, min_data_in_leaf=2, num_leaves=4 ...................\n"
     ]
    },
    {
     "name": "stderr",
     "output_type": "stream",
     "text": [
      "[Parallel(n_jobs=1)]: Done   1 out of   1 | elapsed:    0.3s remaining:    0.0s\n"
     ]
    },
    {
     "name": "stdout",
     "output_type": "stream",
     "text": [
      "[CV]  max_depth=2, min_data_in_leaf=2, num_leaves=4, score=0.894, total=   0.3s\n",
      "[CV] max_depth=2, min_data_in_leaf=2, num_leaves=4 ...................\n"
     ]
    },
    {
     "name": "stderr",
     "output_type": "stream",
     "text": [
      "[Parallel(n_jobs=1)]: Done   2 out of   2 | elapsed:    0.6s remaining:    0.0s\n"
     ]
    },
    {
     "name": "stdout",
     "output_type": "stream",
     "text": [
      "[CV]  max_depth=2, min_data_in_leaf=2, num_leaves=4, score=0.935, total=   0.3s\n",
      "[CV] max_depth=2, min_data_in_leaf=2, num_leaves=4 ...................\n"
     ]
    },
    {
     "name": "stderr",
     "output_type": "stream",
     "text": [
      "[Parallel(n_jobs=1)]: Done   3 out of   3 | elapsed:    0.9s remaining:    0.0s\n"
     ]
    },
    {
     "name": "stdout",
     "output_type": "stream",
     "text": [
      "[CV]  max_depth=2, min_data_in_leaf=2, num_leaves=4, score=0.826, total=   0.3s\n",
      "[CV] max_depth=2, min_data_in_leaf=2, num_leaves=8 ...................\n"
     ]
    },
    {
     "name": "stderr",
     "output_type": "stream",
     "text": [
      "[Parallel(n_jobs=1)]: Done   4 out of   4 | elapsed:    1.2s remaining:    0.0s\n"
     ]
    },
    {
     "name": "stdout",
     "output_type": "stream",
     "text": [
      "[CV]  max_depth=2, min_data_in_leaf=2, num_leaves=8, score=0.787, total=   0.3s\n",
      "[CV] max_depth=2, min_data_in_leaf=2, num_leaves=8 ...................\n"
     ]
    },
    {
     "name": "stderr",
     "output_type": "stream",
     "text": [
      "[Parallel(n_jobs=1)]: Done   5 out of   5 | elapsed:    1.4s remaining:    0.0s\n"
     ]
    },
    {
     "name": "stdout",
     "output_type": "stream",
     "text": [
      "[CV]  max_depth=2, min_data_in_leaf=2, num_leaves=8, score=0.894, total=   0.3s\n",
      "[CV] max_depth=2, min_data_in_leaf=2, num_leaves=8 ...................\n"
     ]
    },
    {
     "name": "stderr",
     "output_type": "stream",
     "text": [
      "[Parallel(n_jobs=1)]: Done   6 out of   6 | elapsed:    1.7s remaining:    0.0s\n"
     ]
    },
    {
     "name": "stdout",
     "output_type": "stream",
     "text": [
      "[CV]  max_depth=2, min_data_in_leaf=2, num_leaves=8, score=0.935, total=   0.3s\n",
      "[CV] max_depth=2, min_data_in_leaf=2, num_leaves=8 ...................\n"
     ]
    },
    {
     "name": "stderr",
     "output_type": "stream",
     "text": [
      "[Parallel(n_jobs=1)]: Done   7 out of   7 | elapsed:    2.0s remaining:    0.0s\n"
     ]
    },
    {
     "name": "stdout",
     "output_type": "stream",
     "text": [
      "[CV]  max_depth=2, min_data_in_leaf=2, num_leaves=8, score=0.826, total=   0.3s\n",
      "[CV] max_depth=2, min_data_in_leaf=2, num_leaves=16 ..................\n"
     ]
    },
    {
     "name": "stderr",
     "output_type": "stream",
     "text": [
      "[Parallel(n_jobs=1)]: Done   8 out of   8 | elapsed:    2.3s remaining:    0.0s\n"
     ]
    },
    {
     "name": "stdout",
     "output_type": "stream",
     "text": [
      "[CV]  max_depth=2, min_data_in_leaf=2, num_leaves=16, score=0.787, total=   0.3s\n",
      "[CV] max_depth=2, min_data_in_leaf=2, num_leaves=16 ..................\n"
     ]
    },
    {
     "name": "stderr",
     "output_type": "stream",
     "text": [
      "[Parallel(n_jobs=1)]: Done   9 out of   9 | elapsed:    2.5s remaining:    0.0s\n"
     ]
    },
    {
     "name": "stdout",
     "output_type": "stream",
     "text": [
      "[CV]  max_depth=2, min_data_in_leaf=2, num_leaves=16, score=0.894, total=   0.3s\n",
      "[CV] max_depth=2, min_data_in_leaf=2, num_leaves=16 ..................\n"
     ]
    },
    {
     "name": "stderr",
     "output_type": "stream",
     "text": [
      "[Parallel(n_jobs=1)]: Done  10 out of  10 | elapsed:    2.8s remaining:    0.0s\n"
     ]
    },
    {
     "name": "stdout",
     "output_type": "stream",
     "text": [
      "[CV]  max_depth=2, min_data_in_leaf=2, num_leaves=16, score=0.935, total=   0.3s\n",
      "[CV] max_depth=2, min_data_in_leaf=2, num_leaves=16 ..................\n"
     ]
    },
    {
     "name": "stderr",
     "output_type": "stream",
     "text": [
      "[Parallel(n_jobs=1)]: Done  11 out of  11 | elapsed:    3.1s remaining:    0.0s\n"
     ]
    },
    {
     "name": "stdout",
     "output_type": "stream",
     "text": [
      "[CV]  max_depth=2, min_data_in_leaf=2, num_leaves=16, score=0.826, total=   0.3s\n",
      "[CV] max_depth=2, min_data_in_leaf=2, num_leaves=32 ..................\n"
     ]
    },
    {
     "name": "stderr",
     "output_type": "stream",
     "text": [
      "[Parallel(n_jobs=1)]: Done  12 out of  12 | elapsed:    3.4s remaining:    0.0s\n"
     ]
    },
    {
     "name": "stdout",
     "output_type": "stream",
     "text": [
      "[CV]  max_depth=2, min_data_in_leaf=2, num_leaves=32, score=0.787, total=   0.3s\n",
      "[CV] max_depth=2, min_data_in_leaf=2, num_leaves=32 ..................\n"
     ]
    },
    {
     "name": "stderr",
     "output_type": "stream",
     "text": [
      "[Parallel(n_jobs=1)]: Done  13 out of  13 | elapsed:    3.7s remaining:    0.0s\n"
     ]
    },
    {
     "name": "stdout",
     "output_type": "stream",
     "text": [
      "[CV]  max_depth=2, min_data_in_leaf=2, num_leaves=32, score=0.894, total=   0.3s\n",
      "[CV] max_depth=2, min_data_in_leaf=2, num_leaves=32 ..................\n"
     ]
    },
    {
     "name": "stderr",
     "output_type": "stream",
     "text": [
      "[Parallel(n_jobs=1)]: Done  14 out of  14 | elapsed:    4.0s remaining:    0.0s\n"
     ]
    },
    {
     "name": "stdout",
     "output_type": "stream",
     "text": [
      "[CV]  max_depth=2, min_data_in_leaf=2, num_leaves=32, score=0.935, total=   0.3s\n",
      "[CV] max_depth=2, min_data_in_leaf=2, num_leaves=32 ..................\n"
     ]
    },
    {
     "name": "stderr",
     "output_type": "stream",
     "text": [
      "[Parallel(n_jobs=1)]: Done  15 out of  15 | elapsed:    4.3s remaining:    0.0s\n"
     ]
    },
    {
     "name": "stdout",
     "output_type": "stream",
     "text": [
      "[CV]  max_depth=2, min_data_in_leaf=2, num_leaves=32, score=0.826, total=   0.3s\n",
      "[CV] max_depth=2, min_data_in_leaf=2, num_leaves=64 ..................\n"
     ]
    },
    {
     "name": "stderr",
     "output_type": "stream",
     "text": [
      "[Parallel(n_jobs=1)]: Done  16 out of  16 | elapsed:    4.6s remaining:    0.0s\n"
     ]
    },
    {
     "name": "stdout",
     "output_type": "stream",
     "text": [
      "[CV]  max_depth=2, min_data_in_leaf=2, num_leaves=64, score=0.787, total=   0.3s\n",
      "[CV] max_depth=2, min_data_in_leaf=2, num_leaves=64 ..................\n"
     ]
    },
    {
     "name": "stderr",
     "output_type": "stream",
     "text": [
      "[Parallel(n_jobs=1)]: Done  17 out of  17 | elapsed:    4.9s remaining:    0.0s\n"
     ]
    },
    {
     "name": "stdout",
     "output_type": "stream",
     "text": [
      "[CV]  max_depth=2, min_data_in_leaf=2, num_leaves=64, score=0.894, total=   0.3s\n",
      "[CV] max_depth=2, min_data_in_leaf=2, num_leaves=64 ..................\n"
     ]
    },
    {
     "name": "stderr",
     "output_type": "stream",
     "text": [
      "[Parallel(n_jobs=1)]: Done  18 out of  18 | elapsed:    5.2s remaining:    0.0s\n"
     ]
    },
    {
     "name": "stdout",
     "output_type": "stream",
     "text": [
      "[CV]  max_depth=2, min_data_in_leaf=2, num_leaves=64, score=0.935, total=   0.3s\n",
      "[CV] max_depth=2, min_data_in_leaf=2, num_leaves=64 ..................\n"
     ]
    },
    {
     "name": "stderr",
     "output_type": "stream",
     "text": [
      "[Parallel(n_jobs=1)]: Done  19 out of  19 | elapsed:    5.4s remaining:    0.0s\n"
     ]
    },
    {
     "name": "stdout",
     "output_type": "stream",
     "text": [
      "[CV]  max_depth=2, min_data_in_leaf=2, num_leaves=64, score=0.826, total=   0.3s\n",
      "[CV] max_depth=2, min_data_in_leaf=2, num_leaves=128 .................\n"
     ]
    },
    {
     "name": "stderr",
     "output_type": "stream",
     "text": [
      "[Parallel(n_jobs=1)]: Done  20 out of  20 | elapsed:    5.7s remaining:    0.0s\n"
     ]
    },
    {
     "name": "stdout",
     "output_type": "stream",
     "text": [
      "[CV]  max_depth=2, min_data_in_leaf=2, num_leaves=128, score=0.787, total=   0.3s\n",
      "[CV] max_depth=2, min_data_in_leaf=2, num_leaves=128 .................\n"
     ]
    },
    {
     "name": "stderr",
     "output_type": "stream",
     "text": [
      "[Parallel(n_jobs=1)]: Done  21 out of  21 | elapsed:    6.0s remaining:    0.0s\n"
     ]
    },
    {
     "name": "stdout",
     "output_type": "stream",
     "text": [
      "[CV]  max_depth=2, min_data_in_leaf=2, num_leaves=128, score=0.894, total=   0.3s\n",
      "[CV] max_depth=2, min_data_in_leaf=2, num_leaves=128 .................\n"
     ]
    },
    {
     "name": "stderr",
     "output_type": "stream",
     "text": [
      "[Parallel(n_jobs=1)]: Done  22 out of  22 | elapsed:    6.3s remaining:    0.0s\n"
     ]
    },
    {
     "name": "stdout",
     "output_type": "stream",
     "text": [
      "[CV]  max_depth=2, min_data_in_leaf=2, num_leaves=128, score=0.935, total=   0.3s\n",
      "[CV] max_depth=2, min_data_in_leaf=2, num_leaves=128 .................\n"
     ]
    },
    {
     "name": "stderr",
     "output_type": "stream",
     "text": [
      "[Parallel(n_jobs=1)]: Done  23 out of  23 | elapsed:    6.5s remaining:    0.0s\n"
     ]
    },
    {
     "name": "stdout",
     "output_type": "stream",
     "text": [
      "[CV]  max_depth=2, min_data_in_leaf=2, num_leaves=128, score=0.826, total=   0.3s\n",
      "[CV] max_depth=2, min_data_in_leaf=4, num_leaves=4 ...................\n"
     ]
    },
    {
     "name": "stderr",
     "output_type": "stream",
     "text": [
      "[Parallel(n_jobs=1)]: Done  24 out of  24 | elapsed:    6.8s remaining:    0.0s\n"
     ]
    },
    {
     "name": "stdout",
     "output_type": "stream",
     "text": [
      "[CV]  max_depth=2, min_data_in_leaf=4, num_leaves=4, score=0.766, total=   0.2s\n",
      "[CV] max_depth=2, min_data_in_leaf=4, num_leaves=4 ...................\n"
     ]
    },
    {
     "name": "stderr",
     "output_type": "stream",
     "text": [
      "[Parallel(n_jobs=1)]: Done  25 out of  25 | elapsed:    7.1s remaining:    0.0s\n"
     ]
    },
    {
     "name": "stdout",
     "output_type": "stream",
     "text": [
      "[CV]  max_depth=2, min_data_in_leaf=4, num_leaves=4, score=0.894, total=   0.3s\n",
      "[CV] max_depth=2, min_data_in_leaf=4, num_leaves=4 ...................\n"
     ]
    },
    {
     "name": "stderr",
     "output_type": "stream",
     "text": [
      "[Parallel(n_jobs=1)]: Done  26 out of  26 | elapsed:    7.3s remaining:    0.0s\n"
     ]
    },
    {
     "name": "stdout",
     "output_type": "stream",
     "text": [
      "[CV]  max_depth=2, min_data_in_leaf=4, num_leaves=4, score=0.957, total=   0.2s\n",
      "[CV] max_depth=2, min_data_in_leaf=4, num_leaves=4 ...................\n"
     ]
    },
    {
     "name": "stderr",
     "output_type": "stream",
     "text": [
      "[Parallel(n_jobs=1)]: Done  27 out of  27 | elapsed:    7.6s remaining:    0.0s\n"
     ]
    },
    {
     "name": "stdout",
     "output_type": "stream",
     "text": [
      "[CV]  max_depth=2, min_data_in_leaf=4, num_leaves=4, score=0.848, total=   0.3s\n",
      "[CV] max_depth=2, min_data_in_leaf=4, num_leaves=8 ...................\n"
     ]
    },
    {
     "name": "stderr",
     "output_type": "stream",
     "text": [
      "[Parallel(n_jobs=1)]: Done  28 out of  28 | elapsed:    7.8s remaining:    0.0s\n"
     ]
    },
    {
     "name": "stdout",
     "output_type": "stream",
     "text": [
      "[CV]  max_depth=2, min_data_in_leaf=4, num_leaves=8, score=0.766, total=   0.2s\n",
      "[CV] max_depth=2, min_data_in_leaf=4, num_leaves=8 ...................\n"
     ]
    },
    {
     "name": "stderr",
     "output_type": "stream",
     "text": [
      "[Parallel(n_jobs=1)]: Done  29 out of  29 | elapsed:    8.1s remaining:    0.0s\n"
     ]
    },
    {
     "name": "stdout",
     "output_type": "stream",
     "text": [
      "[CV]  max_depth=2, min_data_in_leaf=4, num_leaves=8, score=0.894, total=   0.2s\n",
      "[CV] max_depth=2, min_data_in_leaf=4, num_leaves=8 ...................\n"
     ]
    },
    {
     "name": "stderr",
     "output_type": "stream",
     "text": [
      "[Parallel(n_jobs=1)]: Done  30 out of  30 | elapsed:    8.3s remaining:    0.0s\n"
     ]
    },
    {
     "name": "stdout",
     "output_type": "stream",
     "text": [
      "[CV]  max_depth=2, min_data_in_leaf=4, num_leaves=8, score=0.957, total=   0.2s\n",
      "[CV] max_depth=2, min_data_in_leaf=4, num_leaves=8 ...................\n"
     ]
    },
    {
     "name": "stderr",
     "output_type": "stream",
     "text": [
      "[Parallel(n_jobs=1)]: Done  31 out of  31 | elapsed:    8.5s remaining:    0.0s\n"
     ]
    },
    {
     "name": "stdout",
     "output_type": "stream",
     "text": [
      "[CV]  max_depth=2, min_data_in_leaf=4, num_leaves=8, score=0.848, total=   0.3s\n",
      "[CV] max_depth=2, min_data_in_leaf=4, num_leaves=16 ..................\n"
     ]
    },
    {
     "name": "stderr",
     "output_type": "stream",
     "text": [
      "[Parallel(n_jobs=1)]: Done  32 out of  32 | elapsed:    8.8s remaining:    0.0s\n"
     ]
    },
    {
     "name": "stdout",
     "output_type": "stream",
     "text": [
      "[CV]  max_depth=2, min_data_in_leaf=4, num_leaves=16, score=0.766, total=   0.2s\n",
      "[CV] max_depth=2, min_data_in_leaf=4, num_leaves=16 ..................\n"
     ]
    },
    {
     "name": "stderr",
     "output_type": "stream",
     "text": [
      "[Parallel(n_jobs=1)]: Done  33 out of  33 | elapsed:    9.0s remaining:    0.0s\n"
     ]
    },
    {
     "name": "stdout",
     "output_type": "stream",
     "text": [
      "[CV]  max_depth=2, min_data_in_leaf=4, num_leaves=16, score=0.894, total=   0.2s\n",
      "[CV] max_depth=2, min_data_in_leaf=4, num_leaves=16 ..................\n"
     ]
    },
    {
     "name": "stderr",
     "output_type": "stream",
     "text": [
      "[Parallel(n_jobs=1)]: Done  34 out of  34 | elapsed:    9.3s remaining:    0.0s\n"
     ]
    },
    {
     "name": "stdout",
     "output_type": "stream",
     "text": [
      "[CV]  max_depth=2, min_data_in_leaf=4, num_leaves=16, score=0.957, total=   0.2s\n",
      "[CV] max_depth=2, min_data_in_leaf=4, num_leaves=16 ..................\n"
     ]
    },
    {
     "name": "stderr",
     "output_type": "stream",
     "text": [
      "[Parallel(n_jobs=1)]: Done  35 out of  35 | elapsed:    9.5s remaining:    0.0s\n"
     ]
    },
    {
     "name": "stdout",
     "output_type": "stream",
     "text": [
      "[CV]  max_depth=2, min_data_in_leaf=4, num_leaves=16, score=0.848, total=   0.2s\n",
      "[CV] max_depth=2, min_data_in_leaf=4, num_leaves=32 ..................\n"
     ]
    },
    {
     "name": "stderr",
     "output_type": "stream",
     "text": [
      "[Parallel(n_jobs=1)]: Done  36 out of  36 | elapsed:    9.8s remaining:    0.0s\n"
     ]
    },
    {
     "name": "stdout",
     "output_type": "stream",
     "text": [
      "[CV]  max_depth=2, min_data_in_leaf=4, num_leaves=32, score=0.766, total=   0.2s\n",
      "[CV] max_depth=2, min_data_in_leaf=4, num_leaves=32 ..................\n"
     ]
    },
    {
     "name": "stderr",
     "output_type": "stream",
     "text": [
      "[Parallel(n_jobs=1)]: Done  37 out of  37 | elapsed:   10.0s remaining:    0.0s\n"
     ]
    },
    {
     "name": "stdout",
     "output_type": "stream",
     "text": [
      "[CV]  max_depth=2, min_data_in_leaf=4, num_leaves=32, score=0.894, total=   0.3s\n",
      "[CV] max_depth=2, min_data_in_leaf=4, num_leaves=32 ..................\n"
     ]
    },
    {
     "name": "stderr",
     "output_type": "stream",
     "text": [
      "[Parallel(n_jobs=1)]: Done  38 out of  38 | elapsed:   10.3s remaining:    0.0s\n"
     ]
    },
    {
     "name": "stdout",
     "output_type": "stream",
     "text": [
      "[CV]  max_depth=2, min_data_in_leaf=4, num_leaves=32, score=0.957, total=   0.2s\n",
      "[CV] max_depth=2, min_data_in_leaf=4, num_leaves=32 ..................\n"
     ]
    },
    {
     "name": "stderr",
     "output_type": "stream",
     "text": [
      "[Parallel(n_jobs=1)]: Done  39 out of  39 | elapsed:   10.5s remaining:    0.0s\n"
     ]
    },
    {
     "name": "stdout",
     "output_type": "stream",
     "text": [
      "[CV]  max_depth=2, min_data_in_leaf=4, num_leaves=32, score=0.848, total=   0.2s\n",
      "[CV] max_depth=2, min_data_in_leaf=4, num_leaves=64 ..................\n"
     ]
    },
    {
     "name": "stderr",
     "output_type": "stream",
     "text": [
      "[Parallel(n_jobs=1)]: Done  40 out of  40 | elapsed:   10.8s remaining:    0.0s\n"
     ]
    },
    {
     "name": "stdout",
     "output_type": "stream",
     "text": [
      "[CV]  max_depth=2, min_data_in_leaf=4, num_leaves=64, score=0.766, total=   0.3s\n",
      "[CV] max_depth=2, min_data_in_leaf=4, num_leaves=64 ..................\n"
     ]
    },
    {
     "name": "stderr",
     "output_type": "stream",
     "text": [
      "[Parallel(n_jobs=1)]: Done  41 out of  41 | elapsed:   11.0s remaining:    0.0s\n"
     ]
    },
    {
     "name": "stdout",
     "output_type": "stream",
     "text": [
      "[CV]  max_depth=2, min_data_in_leaf=4, num_leaves=64, score=0.894, total=   0.2s\n",
      "[CV] max_depth=2, min_data_in_leaf=4, num_leaves=64 ..................\n",
      "[CV]  max_depth=2, min_data_in_leaf=4, num_leaves=64, score=0.957, total=   0.2s\n",
      "[CV] max_depth=2, min_data_in_leaf=4, num_leaves=64 ..................\n",
      "[CV]  max_depth=2, min_data_in_leaf=4, num_leaves=64, score=0.848, total=   0.3s\n",
      "[CV] max_depth=2, min_data_in_leaf=4, num_leaves=128 .................\n",
      "[CV]  max_depth=2, min_data_in_leaf=4, num_leaves=128, score=0.766, total=   0.2s\n",
      "[CV] max_depth=2, min_data_in_leaf=4, num_leaves=128 .................\n",
      "[CV]  max_depth=2, min_data_in_leaf=4, num_leaves=128, score=0.894, total=   0.3s\n",
      "[CV] max_depth=2, min_data_in_leaf=4, num_leaves=128 .................\n",
      "[CV]  max_depth=2, min_data_in_leaf=4, num_leaves=128, score=0.957, total=   0.3s\n",
      "[CV] max_depth=2, min_data_in_leaf=4, num_leaves=128 .................\n",
      "[CV]  max_depth=2, min_data_in_leaf=4, num_leaves=128, score=0.848, total=   0.3s\n",
      "[CV] max_depth=2, min_data_in_leaf=8, num_leaves=4 ...................\n",
      "[CV]  max_depth=2, min_data_in_leaf=8, num_leaves=4, score=0.809, total=   0.2s\n",
      "[CV] max_depth=2, min_data_in_leaf=8, num_leaves=4 ...................\n",
      "[CV]  max_depth=2, min_data_in_leaf=8, num_leaves=4, score=0.851, total=   0.2s\n",
      "[CV] max_depth=2, min_data_in_leaf=8, num_leaves=4 ...................\n",
      "[CV]  max_depth=2, min_data_in_leaf=8, num_leaves=4, score=0.891, total=   0.2s\n",
      "[CV] max_depth=2, min_data_in_leaf=8, num_leaves=4 ...................\n",
      "[CV]  max_depth=2, min_data_in_leaf=8, num_leaves=4, score=0.870, total=   0.2s\n",
      "[CV] max_depth=2, min_data_in_leaf=8, num_leaves=8 ...................\n",
      "[CV]  max_depth=2, min_data_in_leaf=8, num_leaves=8, score=0.809, total=   0.2s\n",
      "[CV] max_depth=2, min_data_in_leaf=8, num_leaves=8 ...................\n",
      "[CV]  max_depth=2, min_data_in_leaf=8, num_leaves=8, score=0.851, total=   0.2s\n",
      "[CV] max_depth=2, min_data_in_leaf=8, num_leaves=8 ...................\n",
      "[CV]  max_depth=2, min_data_in_leaf=8, num_leaves=8, score=0.891, total=   0.2s\n",
      "[CV] max_depth=2, min_data_in_leaf=8, num_leaves=8 ...................\n",
      "[CV]  max_depth=2, min_data_in_leaf=8, num_leaves=8, score=0.870, total=   0.2s\n",
      "[CV] max_depth=2, min_data_in_leaf=8, num_leaves=16 ..................\n",
      "[CV]  max_depth=2, min_data_in_leaf=8, num_leaves=16, score=0.809, total=   0.2s\n",
      "[CV] max_depth=2, min_data_in_leaf=8, num_leaves=16 ..................\n",
      "[CV]  max_depth=2, min_data_in_leaf=8, num_leaves=16, score=0.851, total=   0.2s\n",
      "[CV] max_depth=2, min_data_in_leaf=8, num_leaves=16 ..................\n",
      "[CV]  max_depth=2, min_data_in_leaf=8, num_leaves=16, score=0.891, total=   0.2s\n",
      "[CV] max_depth=2, min_data_in_leaf=8, num_leaves=16 ..................\n",
      "[CV]  max_depth=2, min_data_in_leaf=8, num_leaves=16, score=0.870, total=   0.2s\n",
      "[CV] max_depth=2, min_data_in_leaf=8, num_leaves=32 ..................\n",
      "[CV]  max_depth=2, min_data_in_leaf=8, num_leaves=32, score=0.809, total=   0.2s\n",
      "[CV] max_depth=2, min_data_in_leaf=8, num_leaves=32 ..................\n",
      "[CV]  max_depth=2, min_data_in_leaf=8, num_leaves=32, score=0.851, total=   0.2s\n",
      "[CV] max_depth=2, min_data_in_leaf=8, num_leaves=32 ..................\n",
      "[CV]  max_depth=2, min_data_in_leaf=8, num_leaves=32, score=0.891, total=   0.2s\n",
      "[CV] max_depth=2, min_data_in_leaf=8, num_leaves=32 ..................\n",
      "[CV]  max_depth=2, min_data_in_leaf=8, num_leaves=32, score=0.870, total=   0.2s\n",
      "[CV] max_depth=2, min_data_in_leaf=8, num_leaves=64 ..................\n",
      "[CV]  max_depth=2, min_data_in_leaf=8, num_leaves=64, score=0.809, total=   0.2s\n",
      "[CV] max_depth=2, min_data_in_leaf=8, num_leaves=64 ..................\n",
      "[CV]  max_depth=2, min_data_in_leaf=8, num_leaves=64, score=0.851, total=   0.2s\n",
      "[CV] max_depth=2, min_data_in_leaf=8, num_leaves=64 ..................\n",
      "[CV]  max_depth=2, min_data_in_leaf=8, num_leaves=64, score=0.891, total=   0.2s\n",
      "[CV] max_depth=2, min_data_in_leaf=8, num_leaves=64 ..................\n",
      "[CV]  max_depth=2, min_data_in_leaf=8, num_leaves=64, score=0.870, total=   0.2s\n",
      "[CV] max_depth=2, min_data_in_leaf=8, num_leaves=128 .................\n",
      "[CV]  max_depth=2, min_data_in_leaf=8, num_leaves=128, score=0.809, total=   0.2s\n",
      "[CV] max_depth=2, min_data_in_leaf=8, num_leaves=128 .................\n",
      "[CV]  max_depth=2, min_data_in_leaf=8, num_leaves=128, score=0.851, total=   0.3s\n",
      "[CV] max_depth=2, min_data_in_leaf=8, num_leaves=128 .................\n",
      "[CV]  max_depth=2, min_data_in_leaf=8, num_leaves=128, score=0.891, total=   0.2s\n",
      "[CV] max_depth=2, min_data_in_leaf=8, num_leaves=128 .................\n",
      "[CV]  max_depth=2, min_data_in_leaf=8, num_leaves=128, score=0.870, total=   0.2s\n",
      "[CV] max_depth=2, min_data_in_leaf=16, num_leaves=4 ..................\n",
      "[CV]  max_depth=2, min_data_in_leaf=16, num_leaves=4, score=0.787, total=   0.2s\n",
      "[CV] max_depth=2, min_data_in_leaf=16, num_leaves=4 ..................\n",
      "[CV]  max_depth=2, min_data_in_leaf=16, num_leaves=4, score=0.851, total=   0.2s\n",
      "[CV] max_depth=2, min_data_in_leaf=16, num_leaves=4 ..................\n",
      "[CV]  max_depth=2, min_data_in_leaf=16, num_leaves=4, score=0.913, total=   0.2s\n",
      "[CV] max_depth=2, min_data_in_leaf=16, num_leaves=4 ..................\n",
      "[CV]  max_depth=2, min_data_in_leaf=16, num_leaves=4, score=0.870, total=   0.2s\n",
      "[CV] max_depth=2, min_data_in_leaf=16, num_leaves=8 ..................\n",
      "[CV]  max_depth=2, min_data_in_leaf=16, num_leaves=8, score=0.787, total=   0.2s\n",
      "[CV] max_depth=2, min_data_in_leaf=16, num_leaves=8 ..................\n",
      "[CV]  max_depth=2, min_data_in_leaf=16, num_leaves=8, score=0.851, total=   0.2s\n",
      "[CV] max_depth=2, min_data_in_leaf=16, num_leaves=8 ..................\n",
      "[CV]  max_depth=2, min_data_in_leaf=16, num_leaves=8, score=0.913, total=   0.2s\n",
      "[CV] max_depth=2, min_data_in_leaf=16, num_leaves=8 ..................\n",
      "[CV]  max_depth=2, min_data_in_leaf=16, num_leaves=8, score=0.870, total=   0.2s\n",
      "[CV] max_depth=2, min_data_in_leaf=16, num_leaves=16 .................\n",
      "[CV]  max_depth=2, min_data_in_leaf=16, num_leaves=16, score=0.787, total=   0.2s\n",
      "[CV] max_depth=2, min_data_in_leaf=16, num_leaves=16 .................\n",
      "[CV]  max_depth=2, min_data_in_leaf=16, num_leaves=16, score=0.851, total=   0.2s\n",
      "[CV] max_depth=2, min_data_in_leaf=16, num_leaves=16 .................\n",
      "[CV]  max_depth=2, min_data_in_leaf=16, num_leaves=16, score=0.913, total=   0.2s\n",
      "[CV] max_depth=2, min_data_in_leaf=16, num_leaves=16 .................\n",
      "[CV]  max_depth=2, min_data_in_leaf=16, num_leaves=16, score=0.870, total=   0.2s\n",
      "[CV] max_depth=2, min_data_in_leaf=16, num_leaves=32 .................\n",
      "[CV]  max_depth=2, min_data_in_leaf=16, num_leaves=32, score=0.787, total=   0.2s\n",
      "[CV] max_depth=2, min_data_in_leaf=16, num_leaves=32 .................\n",
      "[CV]  max_depth=2, min_data_in_leaf=16, num_leaves=32, score=0.851, total=   0.2s\n",
      "[CV] max_depth=2, min_data_in_leaf=16, num_leaves=32 .................\n",
      "[CV]  max_depth=2, min_data_in_leaf=16, num_leaves=32, score=0.913, total=   0.2s\n",
      "[CV] max_depth=2, min_data_in_leaf=16, num_leaves=32 .................\n",
      "[CV]  max_depth=2, min_data_in_leaf=16, num_leaves=32, score=0.870, total=   0.2s\n",
      "[CV] max_depth=2, min_data_in_leaf=16, num_leaves=64 .................\n",
      "[CV]  max_depth=2, min_data_in_leaf=16, num_leaves=64, score=0.787, total=   0.2s\n",
      "[CV] max_depth=2, min_data_in_leaf=16, num_leaves=64 .................\n",
      "[CV]  max_depth=2, min_data_in_leaf=16, num_leaves=64, score=0.851, total=   0.2s\n",
      "[CV] max_depth=2, min_data_in_leaf=16, num_leaves=64 .................\n",
      "[CV]  max_depth=2, min_data_in_leaf=16, num_leaves=64, score=0.913, total=   0.2s\n",
      "[CV] max_depth=2, min_data_in_leaf=16, num_leaves=64 .................\n",
      "[CV]  max_depth=2, min_data_in_leaf=16, num_leaves=64, score=0.870, total=   0.2s\n",
      "[CV] max_depth=2, min_data_in_leaf=16, num_leaves=128 ................\n",
      "[CV]  max_depth=2, min_data_in_leaf=16, num_leaves=128, score=0.787, total=   0.2s\n",
      "[CV] max_depth=2, min_data_in_leaf=16, num_leaves=128 ................\n",
      "[CV]  max_depth=2, min_data_in_leaf=16, num_leaves=128, score=0.851, total=   0.2s\n",
      "[CV] max_depth=2, min_data_in_leaf=16, num_leaves=128 ................\n",
      "[CV]  max_depth=2, min_data_in_leaf=16, num_leaves=128, score=0.913, total=   0.2s\n",
      "[CV] max_depth=2, min_data_in_leaf=16, num_leaves=128 ................\n",
      "[CV]  max_depth=2, min_data_in_leaf=16, num_leaves=128, score=0.870, total=   0.2s\n",
      "[CV] max_depth=2, min_data_in_leaf=32, num_leaves=4 ..................\n",
      "[CV]  max_depth=2, min_data_in_leaf=32, num_leaves=4, score=0.809, total=   0.2s\n",
      "[CV] max_depth=2, min_data_in_leaf=32, num_leaves=4 ..................\n",
      "[CV]  max_depth=2, min_data_in_leaf=32, num_leaves=4, score=0.872, total=   0.2s\n",
      "[CV] max_depth=2, min_data_in_leaf=32, num_leaves=4 ..................\n",
      "[CV]  max_depth=2, min_data_in_leaf=32, num_leaves=4, score=0.913, total=   0.2s\n",
      "[CV] max_depth=2, min_data_in_leaf=32, num_leaves=4 ..................\n",
      "[CV]  max_depth=2, min_data_in_leaf=32, num_leaves=4, score=0.870, total=   0.2s\n",
      "[CV] max_depth=2, min_data_in_leaf=32, num_leaves=8 ..................\n",
      "[CV]  max_depth=2, min_data_in_leaf=32, num_leaves=8, score=0.809, total=   0.2s\n",
      "[CV] max_depth=2, min_data_in_leaf=32, num_leaves=8 ..................\n",
      "[CV]  max_depth=2, min_data_in_leaf=32, num_leaves=8, score=0.872, total=   0.2s\n",
      "[CV] max_depth=2, min_data_in_leaf=32, num_leaves=8 ..................\n",
      "[CV]  max_depth=2, min_data_in_leaf=32, num_leaves=8, score=0.913, total=   0.2s\n",
      "[CV] max_depth=2, min_data_in_leaf=32, num_leaves=8 ..................\n",
      "[CV]  max_depth=2, min_data_in_leaf=32, num_leaves=8, score=0.870, total=   0.2s\n",
      "[CV] max_depth=2, min_data_in_leaf=32, num_leaves=16 .................\n",
      "[CV]  max_depth=2, min_data_in_leaf=32, num_leaves=16, score=0.809, total=   0.2s\n",
      "[CV] max_depth=2, min_data_in_leaf=32, num_leaves=16 .................\n",
      "[CV]  max_depth=2, min_data_in_leaf=32, num_leaves=16, score=0.872, total=   0.2s\n",
      "[CV] max_depth=2, min_data_in_leaf=32, num_leaves=16 .................\n",
      "[CV]  max_depth=2, min_data_in_leaf=32, num_leaves=16, score=0.913, total=   0.2s\n",
      "[CV] max_depth=2, min_data_in_leaf=32, num_leaves=16 .................\n",
      "[CV]  max_depth=2, min_data_in_leaf=32, num_leaves=16, score=0.870, total=   0.2s\n",
      "[CV] max_depth=2, min_data_in_leaf=32, num_leaves=32 .................\n",
      "[CV]  max_depth=2, min_data_in_leaf=32, num_leaves=32, score=0.809, total=   0.2s\n",
      "[CV] max_depth=2, min_data_in_leaf=32, num_leaves=32 .................\n",
      "[CV]  max_depth=2, min_data_in_leaf=32, num_leaves=32, score=0.872, total=   0.2s\n",
      "[CV] max_depth=2, min_data_in_leaf=32, num_leaves=32 .................\n",
      "[CV]  max_depth=2, min_data_in_leaf=32, num_leaves=32, score=0.913, total=   0.2s\n",
      "[CV] max_depth=2, min_data_in_leaf=32, num_leaves=32 .................\n",
      "[CV]  max_depth=2, min_data_in_leaf=32, num_leaves=32, score=0.870, total=   0.2s\n",
      "[CV] max_depth=2, min_data_in_leaf=32, num_leaves=64 .................\n",
      "[CV]  max_depth=2, min_data_in_leaf=32, num_leaves=64, score=0.809, total=   0.2s\n",
      "[CV] max_depth=2, min_data_in_leaf=32, num_leaves=64 .................\n",
      "[CV]  max_depth=2, min_data_in_leaf=32, num_leaves=64, score=0.872, total=   0.2s\n",
      "[CV] max_depth=2, min_data_in_leaf=32, num_leaves=64 .................\n",
      "[CV]  max_depth=2, min_data_in_leaf=32, num_leaves=64, score=0.913, total=   0.2s\n",
      "[CV] max_depth=2, min_data_in_leaf=32, num_leaves=64 .................\n",
      "[CV]  max_depth=2, min_data_in_leaf=32, num_leaves=64, score=0.870, total=   0.2s\n",
      "[CV] max_depth=2, min_data_in_leaf=32, num_leaves=128 ................\n",
      "[CV]  max_depth=2, min_data_in_leaf=32, num_leaves=128, score=0.809, total=   0.2s\n",
      "[CV] max_depth=2, min_data_in_leaf=32, num_leaves=128 ................\n",
      "[CV]  max_depth=2, min_data_in_leaf=32, num_leaves=128, score=0.872, total=   0.2s\n",
      "[CV] max_depth=2, min_data_in_leaf=32, num_leaves=128 ................\n",
      "[CV]  max_depth=2, min_data_in_leaf=32, num_leaves=128, score=0.913, total=   0.2s\n",
      "[CV] max_depth=2, min_data_in_leaf=32, num_leaves=128 ................\n",
      "[CV]  max_depth=2, min_data_in_leaf=32, num_leaves=128, score=0.870, total=   0.2s\n",
      "[CV] max_depth=4, min_data_in_leaf=2, num_leaves=4 ...................\n",
      "[CV]  max_depth=4, min_data_in_leaf=2, num_leaves=4, score=0.809, total=   0.4s\n",
      "[CV] max_depth=4, min_data_in_leaf=2, num_leaves=4 ...................\n",
      "[CV]  max_depth=4, min_data_in_leaf=2, num_leaves=4, score=0.872, total=   0.4s\n",
      "[CV] max_depth=4, min_data_in_leaf=2, num_leaves=4 ...................\n",
      "[CV]  max_depth=4, min_data_in_leaf=2, num_leaves=4, score=0.913, total=   0.4s\n",
      "[CV] max_depth=4, min_data_in_leaf=2, num_leaves=4 ...................\n",
      "[CV]  max_depth=4, min_data_in_leaf=2, num_leaves=4, score=0.870, total=   0.4s\n",
      "[CV] max_depth=4, min_data_in_leaf=2, num_leaves=8 ...................\n",
      "[CV]  max_depth=4, min_data_in_leaf=2, num_leaves=8, score=0.745, total=   0.7s\n",
      "[CV] max_depth=4, min_data_in_leaf=2, num_leaves=8 ...................\n",
      "[CV]  max_depth=4, min_data_in_leaf=2, num_leaves=8, score=0.936, total=   0.7s\n",
      "[CV] max_depth=4, min_data_in_leaf=2, num_leaves=8 ...................\n",
      "[CV]  max_depth=4, min_data_in_leaf=2, num_leaves=8, score=0.935, total=   0.8s\n",
      "[CV] max_depth=4, min_data_in_leaf=2, num_leaves=8 ...................\n",
      "[CV]  max_depth=4, min_data_in_leaf=2, num_leaves=8, score=0.783, total=   0.7s\n",
      "[CV] max_depth=4, min_data_in_leaf=2, num_leaves=16 ..................\n",
      "[CV]  max_depth=4, min_data_in_leaf=2, num_leaves=16, score=0.723, total=   0.7s\n",
      "[CV] max_depth=4, min_data_in_leaf=2, num_leaves=16 ..................\n",
      "[CV]  max_depth=4, min_data_in_leaf=2, num_leaves=16, score=0.915, total=   0.8s\n",
      "[CV] max_depth=4, min_data_in_leaf=2, num_leaves=16 ..................\n",
      "[CV]  max_depth=4, min_data_in_leaf=2, num_leaves=16, score=0.870, total=   0.8s\n",
      "[CV] max_depth=4, min_data_in_leaf=2, num_leaves=16 ..................\n",
      "[CV]  max_depth=4, min_data_in_leaf=2, num_leaves=16, score=0.848, total=   0.8s\n",
      "[CV] max_depth=4, min_data_in_leaf=2, num_leaves=32 ..................\n",
      "[CV]  max_depth=4, min_data_in_leaf=2, num_leaves=32, score=0.723, total=   0.7s\n",
      "[CV] max_depth=4, min_data_in_leaf=2, num_leaves=32 ..................\n",
      "[CV]  max_depth=4, min_data_in_leaf=2, num_leaves=32, score=0.915, total=   0.8s\n",
      "[CV] max_depth=4, min_data_in_leaf=2, num_leaves=32 ..................\n",
      "[CV]  max_depth=4, min_data_in_leaf=2, num_leaves=32, score=0.870, total=   0.9s\n",
      "[CV] max_depth=4, min_data_in_leaf=2, num_leaves=32 ..................\n",
      "[CV]  max_depth=4, min_data_in_leaf=2, num_leaves=32, score=0.848, total=   0.8s\n",
      "[CV] max_depth=4, min_data_in_leaf=2, num_leaves=64 ..................\n",
      "[CV]  max_depth=4, min_data_in_leaf=2, num_leaves=64, score=0.723, total=   0.7s\n",
      "[CV] max_depth=4, min_data_in_leaf=2, num_leaves=64 ..................\n",
      "[CV]  max_depth=4, min_data_in_leaf=2, num_leaves=64, score=0.915, total=   0.8s\n",
      "[CV] max_depth=4, min_data_in_leaf=2, num_leaves=64 ..................\n",
      "[CV]  max_depth=4, min_data_in_leaf=2, num_leaves=64, score=0.870, total=   0.8s\n",
      "[CV] max_depth=4, min_data_in_leaf=2, num_leaves=64 ..................\n",
      "[CV]  max_depth=4, min_data_in_leaf=2, num_leaves=64, score=0.848, total=   0.8s\n",
      "[CV] max_depth=4, min_data_in_leaf=2, num_leaves=128 .................\n",
      "[CV]  max_depth=4, min_data_in_leaf=2, num_leaves=128, score=0.723, total=   0.7s\n",
      "[CV] max_depth=4, min_data_in_leaf=2, num_leaves=128 .................\n",
      "[CV]  max_depth=4, min_data_in_leaf=2, num_leaves=128, score=0.915, total=   0.9s\n",
      "[CV] max_depth=4, min_data_in_leaf=2, num_leaves=128 .................\n",
      "[CV]  max_depth=4, min_data_in_leaf=2, num_leaves=128, score=0.870, total=   0.9s\n",
      "[CV] max_depth=4, min_data_in_leaf=2, num_leaves=128 .................\n",
      "[CV]  max_depth=4, min_data_in_leaf=2, num_leaves=128, score=0.848, total=   0.9s\n",
      "[CV] max_depth=4, min_data_in_leaf=4, num_leaves=4 ...................\n",
      "[CV]  max_depth=4, min_data_in_leaf=4, num_leaves=4, score=0.787, total=   0.4s\n",
      "[CV] max_depth=4, min_data_in_leaf=4, num_leaves=4 ...................\n",
      "[CV]  max_depth=4, min_data_in_leaf=4, num_leaves=4, score=0.872, total=   0.4s\n",
      "[CV] max_depth=4, min_data_in_leaf=4, num_leaves=4 ...................\n",
      "[CV]  max_depth=4, min_data_in_leaf=4, num_leaves=4, score=0.891, total=   0.4s\n",
      "[CV] max_depth=4, min_data_in_leaf=4, num_leaves=4 ...................\n",
      "[CV]  max_depth=4, min_data_in_leaf=4, num_leaves=4, score=0.870, total=   0.4s\n",
      "[CV] max_depth=4, min_data_in_leaf=4, num_leaves=8 ...................\n",
      "[CV]  max_depth=4, min_data_in_leaf=4, num_leaves=8, score=0.787, total=   0.6s\n",
      "[CV] max_depth=4, min_data_in_leaf=4, num_leaves=8 ...................\n",
      "[CV]  max_depth=4, min_data_in_leaf=4, num_leaves=8, score=0.936, total=   0.6s\n",
      "[CV] max_depth=4, min_data_in_leaf=4, num_leaves=8 ...................\n",
      "[CV]  max_depth=4, min_data_in_leaf=4, num_leaves=8, score=0.978, total=   0.6s\n",
      "[CV] max_depth=4, min_data_in_leaf=4, num_leaves=8 ...................\n",
      "[CV]  max_depth=4, min_data_in_leaf=4, num_leaves=8, score=0.826, total=   0.6s\n",
      "[CV] max_depth=4, min_data_in_leaf=4, num_leaves=16 ..................\n",
      "[CV]  max_depth=4, min_data_in_leaf=4, num_leaves=16, score=0.766, total=   0.7s\n",
      "[CV] max_depth=4, min_data_in_leaf=4, num_leaves=16 ..................\n",
      "[CV]  max_depth=4, min_data_in_leaf=4, num_leaves=16, score=0.936, total=   0.7s\n",
      "[CV] max_depth=4, min_data_in_leaf=4, num_leaves=16 ..................\n",
      "[CV]  max_depth=4, min_data_in_leaf=4, num_leaves=16, score=0.978, total=   0.7s\n",
      "[CV] max_depth=4, min_data_in_leaf=4, num_leaves=16 ..................\n",
      "[CV]  max_depth=4, min_data_in_leaf=4, num_leaves=16, score=0.826, total=   0.7s\n",
      "[CV] max_depth=4, min_data_in_leaf=4, num_leaves=32 ..................\n",
      "[CV]  max_depth=4, min_data_in_leaf=4, num_leaves=32, score=0.766, total=   0.7s\n",
      "[CV] max_depth=4, min_data_in_leaf=4, num_leaves=32 ..................\n",
      "[CV]  max_depth=4, min_data_in_leaf=4, num_leaves=32, score=0.936, total=   0.7s\n",
      "[CV] max_depth=4, min_data_in_leaf=4, num_leaves=32 ..................\n",
      "[CV]  max_depth=4, min_data_in_leaf=4, num_leaves=32, score=0.978, total=   0.7s\n",
      "[CV] max_depth=4, min_data_in_leaf=4, num_leaves=32 ..................\n",
      "[CV]  max_depth=4, min_data_in_leaf=4, num_leaves=32, score=0.826, total=   0.7s\n",
      "[CV] max_depth=4, min_data_in_leaf=4, num_leaves=64 ..................\n",
      "[CV]  max_depth=4, min_data_in_leaf=4, num_leaves=64, score=0.766, total=   0.7s\n",
      "[CV] max_depth=4, min_data_in_leaf=4, num_leaves=64 ..................\n",
      "[CV]  max_depth=4, min_data_in_leaf=4, num_leaves=64, score=0.936, total=   0.7s\n",
      "[CV] max_depth=4, min_data_in_leaf=4, num_leaves=64 ..................\n",
      "[CV]  max_depth=4, min_data_in_leaf=4, num_leaves=64, score=0.978, total=   0.7s\n",
      "[CV] max_depth=4, min_data_in_leaf=4, num_leaves=64 ..................\n",
      "[CV]  max_depth=4, min_data_in_leaf=4, num_leaves=64, score=0.826, total=   0.7s\n",
      "[CV] max_depth=4, min_data_in_leaf=4, num_leaves=128 .................\n",
      "[CV]  max_depth=4, min_data_in_leaf=4, num_leaves=128, score=0.766, total=   0.7s\n",
      "[CV] max_depth=4, min_data_in_leaf=4, num_leaves=128 .................\n",
      "[CV]  max_depth=4, min_data_in_leaf=4, num_leaves=128, score=0.936, total=   0.7s\n",
      "[CV] max_depth=4, min_data_in_leaf=4, num_leaves=128 .................\n",
      "[CV]  max_depth=4, min_data_in_leaf=4, num_leaves=128, score=0.978, total=   0.7s\n",
      "[CV] max_depth=4, min_data_in_leaf=4, num_leaves=128 .................\n",
      "[CV]  max_depth=4, min_data_in_leaf=4, num_leaves=128, score=0.826, total=   0.7s\n",
      "[CV] max_depth=4, min_data_in_leaf=8, num_leaves=4 ...................\n",
      "[CV]  max_depth=4, min_data_in_leaf=8, num_leaves=4, score=0.809, total=   0.3s\n",
      "[CV] max_depth=4, min_data_in_leaf=8, num_leaves=4 ...................\n",
      "[CV]  max_depth=4, min_data_in_leaf=8, num_leaves=4, score=0.872, total=   0.4s\n",
      "[CV] max_depth=4, min_data_in_leaf=8, num_leaves=4 ...................\n",
      "[CV]  max_depth=4, min_data_in_leaf=8, num_leaves=4, score=0.891, total=   0.4s\n",
      "[CV] max_depth=4, min_data_in_leaf=8, num_leaves=4 ...................\n",
      "[CV]  max_depth=4, min_data_in_leaf=8, num_leaves=4, score=0.870, total=   0.3s\n",
      "[CV] max_depth=4, min_data_in_leaf=8, num_leaves=8 ...................\n",
      "[CV]  max_depth=4, min_data_in_leaf=8, num_leaves=8, score=0.809, total=   0.5s\n",
      "[CV] max_depth=4, min_data_in_leaf=8, num_leaves=8 ...................\n",
      "[CV]  max_depth=4, min_data_in_leaf=8, num_leaves=8, score=0.894, total=   0.5s\n",
      "[CV] max_depth=4, min_data_in_leaf=8, num_leaves=8 ...................\n",
      "[CV]  max_depth=4, min_data_in_leaf=8, num_leaves=8, score=0.935, total=   0.5s\n",
      "[CV] max_depth=4, min_data_in_leaf=8, num_leaves=8 ...................\n",
      "[CV]  max_depth=4, min_data_in_leaf=8, num_leaves=8, score=0.848, total=   0.5s\n",
      "[CV] max_depth=4, min_data_in_leaf=8, num_leaves=16 ..................\n",
      "[CV]  max_depth=4, min_data_in_leaf=8, num_leaves=16, score=0.809, total=   0.6s\n",
      "[CV] max_depth=4, min_data_in_leaf=8, num_leaves=16 ..................\n",
      "[CV]  max_depth=4, min_data_in_leaf=8, num_leaves=16, score=0.894, total=   0.6s\n",
      "[CV] max_depth=4, min_data_in_leaf=8, num_leaves=16 ..................\n",
      "[CV]  max_depth=4, min_data_in_leaf=8, num_leaves=16, score=0.935, total=   0.6s\n",
      "[CV] max_depth=4, min_data_in_leaf=8, num_leaves=16 ..................\n",
      "[CV]  max_depth=4, min_data_in_leaf=8, num_leaves=16, score=0.848, total=   0.6s\n",
      "[CV] max_depth=4, min_data_in_leaf=8, num_leaves=32 ..................\n",
      "[CV]  max_depth=4, min_data_in_leaf=8, num_leaves=32, score=0.809, total=   0.6s\n",
      "[CV] max_depth=4, min_data_in_leaf=8, num_leaves=32 ..................\n",
      "[CV]  max_depth=4, min_data_in_leaf=8, num_leaves=32, score=0.894, total=   0.6s\n",
      "[CV] max_depth=4, min_data_in_leaf=8, num_leaves=32 ..................\n",
      "[CV]  max_depth=4, min_data_in_leaf=8, num_leaves=32, score=0.935, total=   0.6s\n",
      "[CV] max_depth=4, min_data_in_leaf=8, num_leaves=32 ..................\n",
      "[CV]  max_depth=4, min_data_in_leaf=8, num_leaves=32, score=0.848, total=   0.6s\n",
      "[CV] max_depth=4, min_data_in_leaf=8, num_leaves=64 ..................\n",
      "[CV]  max_depth=4, min_data_in_leaf=8, num_leaves=64, score=0.809, total=   0.6s\n",
      "[CV] max_depth=4, min_data_in_leaf=8, num_leaves=64 ..................\n",
      "[CV]  max_depth=4, min_data_in_leaf=8, num_leaves=64, score=0.894, total=   0.6s\n",
      "[CV] max_depth=4, min_data_in_leaf=8, num_leaves=64 ..................\n",
      "[CV]  max_depth=4, min_data_in_leaf=8, num_leaves=64, score=0.935, total=   0.6s\n",
      "[CV] max_depth=4, min_data_in_leaf=8, num_leaves=64 ..................\n",
      "[CV]  max_depth=4, min_data_in_leaf=8, num_leaves=64, score=0.848, total=   0.6s\n",
      "[CV] max_depth=4, min_data_in_leaf=8, num_leaves=128 .................\n",
      "[CV]  max_depth=4, min_data_in_leaf=8, num_leaves=128, score=0.809, total=   0.6s\n",
      "[CV] max_depth=4, min_data_in_leaf=8, num_leaves=128 .................\n",
      "[CV]  max_depth=4, min_data_in_leaf=8, num_leaves=128, score=0.894, total=   0.6s\n",
      "[CV] max_depth=4, min_data_in_leaf=8, num_leaves=128 .................\n",
      "[CV]  max_depth=4, min_data_in_leaf=8, num_leaves=128, score=0.935, total=   0.6s\n",
      "[CV] max_depth=4, min_data_in_leaf=8, num_leaves=128 .................\n",
      "[CV]  max_depth=4, min_data_in_leaf=8, num_leaves=128, score=0.848, total=   0.6s\n",
      "[CV] max_depth=4, min_data_in_leaf=16, num_leaves=4 ..................\n",
      "[CV]  max_depth=4, min_data_in_leaf=16, num_leaves=4, score=0.809, total=   0.3s\n",
      "[CV] max_depth=4, min_data_in_leaf=16, num_leaves=4 ..................\n",
      "[CV]  max_depth=4, min_data_in_leaf=16, num_leaves=4, score=0.872, total=   0.3s\n",
      "[CV] max_depth=4, min_data_in_leaf=16, num_leaves=4 ..................\n",
      "[CV]  max_depth=4, min_data_in_leaf=16, num_leaves=4, score=0.891, total=   0.3s\n",
      "[CV] max_depth=4, min_data_in_leaf=16, num_leaves=4 ..................\n",
      "[CV]  max_depth=4, min_data_in_leaf=16, num_leaves=4, score=0.891, total=   0.3s\n",
      "[CV] max_depth=4, min_data_in_leaf=16, num_leaves=8 ..................\n",
      "[CV]  max_depth=4, min_data_in_leaf=16, num_leaves=8, score=0.809, total=   0.4s\n",
      "[CV] max_depth=4, min_data_in_leaf=16, num_leaves=8 ..................\n",
      "[CV]  max_depth=4, min_data_in_leaf=16, num_leaves=8, score=0.872, total=   0.4s\n",
      "[CV] max_depth=4, min_data_in_leaf=16, num_leaves=8 ..................\n",
      "[CV]  max_depth=4, min_data_in_leaf=16, num_leaves=8, score=0.935, total=   0.4s\n",
      "[CV] max_depth=4, min_data_in_leaf=16, num_leaves=8 ..................\n",
      "[CV]  max_depth=4, min_data_in_leaf=16, num_leaves=8, score=0.870, total=   0.4s\n",
      "[CV] max_depth=4, min_data_in_leaf=16, num_leaves=16 .................\n",
      "[CV]  max_depth=4, min_data_in_leaf=16, num_leaves=16, score=0.809, total=   0.4s\n",
      "[CV] max_depth=4, min_data_in_leaf=16, num_leaves=16 .................\n",
      "[CV]  max_depth=4, min_data_in_leaf=16, num_leaves=16, score=0.872, total=   0.4s\n",
      "[CV] max_depth=4, min_data_in_leaf=16, num_leaves=16 .................\n",
      "[CV]  max_depth=4, min_data_in_leaf=16, num_leaves=16, score=0.935, total=   0.4s\n",
      "[CV] max_depth=4, min_data_in_leaf=16, num_leaves=16 .................\n",
      "[CV]  max_depth=4, min_data_in_leaf=16, num_leaves=16, score=0.870, total=   0.4s\n",
      "[CV] max_depth=4, min_data_in_leaf=16, num_leaves=32 .................\n",
      "[CV]  max_depth=4, min_data_in_leaf=16, num_leaves=32, score=0.809, total=   0.4s\n",
      "[CV] max_depth=4, min_data_in_leaf=16, num_leaves=32 .................\n",
      "[CV]  max_depth=4, min_data_in_leaf=16, num_leaves=32, score=0.872, total=   0.4s\n",
      "[CV] max_depth=4, min_data_in_leaf=16, num_leaves=32 .................\n",
      "[CV]  max_depth=4, min_data_in_leaf=16, num_leaves=32, score=0.935, total=   0.4s\n",
      "[CV] max_depth=4, min_data_in_leaf=16, num_leaves=32 .................\n",
      "[CV]  max_depth=4, min_data_in_leaf=16, num_leaves=32, score=0.870, total=   0.4s\n",
      "[CV] max_depth=4, min_data_in_leaf=16, num_leaves=64 .................\n",
      "[CV]  max_depth=4, min_data_in_leaf=16, num_leaves=64, score=0.809, total=   0.4s\n",
      "[CV] max_depth=4, min_data_in_leaf=16, num_leaves=64 .................\n",
      "[CV]  max_depth=4, min_data_in_leaf=16, num_leaves=64, score=0.872, total=   0.4s\n",
      "[CV] max_depth=4, min_data_in_leaf=16, num_leaves=64 .................\n",
      "[CV]  max_depth=4, min_data_in_leaf=16, num_leaves=64, score=0.935, total=   0.4s\n",
      "[CV] max_depth=4, min_data_in_leaf=16, num_leaves=64 .................\n",
      "[CV]  max_depth=4, min_data_in_leaf=16, num_leaves=64, score=0.870, total=   0.4s\n",
      "[CV] max_depth=4, min_data_in_leaf=16, num_leaves=128 ................\n",
      "[CV]  max_depth=4, min_data_in_leaf=16, num_leaves=128, score=0.809, total=   0.4s\n",
      "[CV] max_depth=4, min_data_in_leaf=16, num_leaves=128 ................\n",
      "[CV]  max_depth=4, min_data_in_leaf=16, num_leaves=128, score=0.872, total=   0.4s\n",
      "[CV] max_depth=4, min_data_in_leaf=16, num_leaves=128 ................\n",
      "[CV]  max_depth=4, min_data_in_leaf=16, num_leaves=128, score=0.935, total=   0.4s\n",
      "[CV] max_depth=4, min_data_in_leaf=16, num_leaves=128 ................\n",
      "[CV]  max_depth=4, min_data_in_leaf=16, num_leaves=128, score=0.870, total=   0.4s\n",
      "[CV] max_depth=4, min_data_in_leaf=32, num_leaves=4 ..................\n",
      "[CV]  max_depth=4, min_data_in_leaf=32, num_leaves=4, score=0.809, total=   0.2s\n",
      "[CV] max_depth=4, min_data_in_leaf=32, num_leaves=4 ..................\n",
      "[CV]  max_depth=4, min_data_in_leaf=32, num_leaves=4, score=0.872, total=   0.2s\n",
      "[CV] max_depth=4, min_data_in_leaf=32, num_leaves=4 ..................\n",
      "[CV]  max_depth=4, min_data_in_leaf=32, num_leaves=4, score=0.913, total=   0.2s\n",
      "[CV] max_depth=4, min_data_in_leaf=32, num_leaves=4 ..................\n",
      "[CV]  max_depth=4, min_data_in_leaf=32, num_leaves=4, score=0.848, total=   0.2s\n",
      "[CV] max_depth=4, min_data_in_leaf=32, num_leaves=8 ..................\n",
      "[CV]  max_depth=4, min_data_in_leaf=32, num_leaves=8, score=0.809, total=   0.2s\n",
      "[CV] max_depth=4, min_data_in_leaf=32, num_leaves=8 ..................\n",
      "[CV]  max_depth=4, min_data_in_leaf=32, num_leaves=8, score=0.872, total=   0.2s\n",
      "[CV] max_depth=4, min_data_in_leaf=32, num_leaves=8 ..................\n",
      "[CV]  max_depth=4, min_data_in_leaf=32, num_leaves=8, score=0.913, total=   0.2s\n",
      "[CV] max_depth=4, min_data_in_leaf=32, num_leaves=8 ..................\n",
      "[CV]  max_depth=4, min_data_in_leaf=32, num_leaves=8, score=0.848, total=   0.2s\n",
      "[CV] max_depth=4, min_data_in_leaf=32, num_leaves=16 .................\n",
      "[CV]  max_depth=4, min_data_in_leaf=32, num_leaves=16, score=0.809, total=   0.2s\n",
      "[CV] max_depth=4, min_data_in_leaf=32, num_leaves=16 .................\n",
      "[CV]  max_depth=4, min_data_in_leaf=32, num_leaves=16, score=0.872, total=   0.2s\n",
      "[CV] max_depth=4, min_data_in_leaf=32, num_leaves=16 .................\n",
      "[CV]  max_depth=4, min_data_in_leaf=32, num_leaves=16, score=0.913, total=   0.2s\n",
      "[CV] max_depth=4, min_data_in_leaf=32, num_leaves=16 .................\n",
      "[CV]  max_depth=4, min_data_in_leaf=32, num_leaves=16, score=0.848, total=   0.2s\n",
      "[CV] max_depth=4, min_data_in_leaf=32, num_leaves=32 .................\n",
      "[CV]  max_depth=4, min_data_in_leaf=32, num_leaves=32, score=0.809, total=   0.2s\n",
      "[CV] max_depth=4, min_data_in_leaf=32, num_leaves=32 .................\n",
      "[CV]  max_depth=4, min_data_in_leaf=32, num_leaves=32, score=0.872, total=   0.2s\n",
      "[CV] max_depth=4, min_data_in_leaf=32, num_leaves=32 .................\n",
      "[CV]  max_depth=4, min_data_in_leaf=32, num_leaves=32, score=0.913, total=   0.2s\n",
      "[CV] max_depth=4, min_data_in_leaf=32, num_leaves=32 .................\n",
      "[CV]  max_depth=4, min_data_in_leaf=32, num_leaves=32, score=0.848, total=   0.2s\n",
      "[CV] max_depth=4, min_data_in_leaf=32, num_leaves=64 .................\n",
      "[CV]  max_depth=4, min_data_in_leaf=32, num_leaves=64, score=0.809, total=   0.2s\n",
      "[CV] max_depth=4, min_data_in_leaf=32, num_leaves=64 .................\n",
      "[CV]  max_depth=4, min_data_in_leaf=32, num_leaves=64, score=0.872, total=   0.2s\n",
      "[CV] max_depth=4, min_data_in_leaf=32, num_leaves=64 .................\n",
      "[CV]  max_depth=4, min_data_in_leaf=32, num_leaves=64, score=0.913, total=   0.2s\n",
      "[CV] max_depth=4, min_data_in_leaf=32, num_leaves=64 .................\n",
      "[CV]  max_depth=4, min_data_in_leaf=32, num_leaves=64, score=0.848, total=   0.2s\n",
      "[CV] max_depth=4, min_data_in_leaf=32, num_leaves=128 ................\n",
      "[CV]  max_depth=4, min_data_in_leaf=32, num_leaves=128, score=0.809, total=   0.2s\n",
      "[CV] max_depth=4, min_data_in_leaf=32, num_leaves=128 ................\n",
      "[CV]  max_depth=4, min_data_in_leaf=32, num_leaves=128, score=0.872, total=   0.2s\n",
      "[CV] max_depth=4, min_data_in_leaf=32, num_leaves=128 ................\n",
      "[CV]  max_depth=4, min_data_in_leaf=32, num_leaves=128, score=0.913, total=   0.2s\n",
      "[CV] max_depth=4, min_data_in_leaf=32, num_leaves=128 ................\n",
      "[CV]  max_depth=4, min_data_in_leaf=32, num_leaves=128, score=0.848, total=   0.2s\n",
      "[CV] max_depth=8, min_data_in_leaf=2, num_leaves=4 ...................\n",
      "[CV]  max_depth=8, min_data_in_leaf=2, num_leaves=4, score=0.809, total=   0.4s\n",
      "[CV] max_depth=8, min_data_in_leaf=2, num_leaves=4 ...................\n",
      "[CV]  max_depth=8, min_data_in_leaf=2, num_leaves=4, score=0.872, total=   0.4s\n",
      "[CV] max_depth=8, min_data_in_leaf=2, num_leaves=4 ...................\n",
      "[CV]  max_depth=8, min_data_in_leaf=2, num_leaves=4, score=0.913, total=   0.4s\n",
      "[CV] max_depth=8, min_data_in_leaf=2, num_leaves=4 ...................\n",
      "[CV]  max_depth=8, min_data_in_leaf=2, num_leaves=4, score=0.870, total=   0.4s\n",
      "[CV] max_depth=8, min_data_in_leaf=2, num_leaves=8 ...................\n",
      "[CV]  max_depth=8, min_data_in_leaf=2, num_leaves=8, score=0.809, total=   0.7s\n",
      "[CV] max_depth=8, min_data_in_leaf=2, num_leaves=8 ...................\n",
      "[CV]  max_depth=8, min_data_in_leaf=2, num_leaves=8, score=0.894, total=   0.8s\n",
      "[CV] max_depth=8, min_data_in_leaf=2, num_leaves=8 ...................\n",
      "[CV]  max_depth=8, min_data_in_leaf=2, num_leaves=8, score=0.935, total=   0.8s\n",
      "[CV] max_depth=8, min_data_in_leaf=2, num_leaves=8 ...................\n",
      "[CV]  max_depth=8, min_data_in_leaf=2, num_leaves=8, score=0.783, total=   0.8s\n",
      "[CV] max_depth=8, min_data_in_leaf=2, num_leaves=16 ..................\n",
      "[CV]  max_depth=8, min_data_in_leaf=2, num_leaves=16, score=0.723, total=   1.1s\n",
      "[CV] max_depth=8, min_data_in_leaf=2, num_leaves=16 ..................\n",
      "[CV]  max_depth=8, min_data_in_leaf=2, num_leaves=16, score=0.894, total=   1.2s\n",
      "[CV] max_depth=8, min_data_in_leaf=2, num_leaves=16 ..................\n",
      "[CV]  max_depth=8, min_data_in_leaf=2, num_leaves=16, score=0.848, total=   1.2s\n",
      "[CV] max_depth=8, min_data_in_leaf=2, num_leaves=16 ..................\n",
      "[CV]  max_depth=8, min_data_in_leaf=2, num_leaves=16, score=0.848, total=   1.3s\n",
      "[CV] max_depth=8, min_data_in_leaf=2, num_leaves=32 ..................\n",
      "[CV]  max_depth=8, min_data_in_leaf=2, num_leaves=32, score=0.745, total=   1.2s\n",
      "[CV] max_depth=8, min_data_in_leaf=2, num_leaves=32 ..................\n",
      "[CV]  max_depth=8, min_data_in_leaf=2, num_leaves=32, score=0.894, total=   1.8s\n",
      "[CV] max_depth=8, min_data_in_leaf=2, num_leaves=32 ..................\n",
      "[CV]  max_depth=8, min_data_in_leaf=2, num_leaves=32, score=0.848, total=   1.4s\n",
      "[CV] max_depth=8, min_data_in_leaf=2, num_leaves=32 ..................\n",
      "[CV]  max_depth=8, min_data_in_leaf=2, num_leaves=32, score=0.848, total=   1.6s\n",
      "[CV] max_depth=8, min_data_in_leaf=2, num_leaves=64 ..................\n",
      "[CV]  max_depth=8, min_data_in_leaf=2, num_leaves=64, score=0.745, total=   1.3s\n",
      "[CV] max_depth=8, min_data_in_leaf=2, num_leaves=64 ..................\n",
      "[CV]  max_depth=8, min_data_in_leaf=2, num_leaves=64, score=0.894, total=   1.8s\n",
      "[CV] max_depth=8, min_data_in_leaf=2, num_leaves=64 ..................\n",
      "[CV]  max_depth=8, min_data_in_leaf=2, num_leaves=64, score=0.848, total=   1.4s\n",
      "[CV] max_depth=8, min_data_in_leaf=2, num_leaves=64 ..................\n",
      "[CV]  max_depth=8, min_data_in_leaf=2, num_leaves=64, score=0.848, total=   1.6s\n",
      "[CV] max_depth=8, min_data_in_leaf=2, num_leaves=128 .................\n",
      "[CV]  max_depth=8, min_data_in_leaf=2, num_leaves=128, score=0.745, total=   1.3s\n",
      "[CV] max_depth=8, min_data_in_leaf=2, num_leaves=128 .................\n",
      "[CV]  max_depth=8, min_data_in_leaf=2, num_leaves=128, score=0.894, total=   2.0s\n",
      "[CV] max_depth=8, min_data_in_leaf=2, num_leaves=128 .................\n",
      "[CV]  max_depth=8, min_data_in_leaf=2, num_leaves=128, score=0.848, total=   1.5s\n",
      "[CV] max_depth=8, min_data_in_leaf=2, num_leaves=128 .................\n",
      "[CV]  max_depth=8, min_data_in_leaf=2, num_leaves=128, score=0.848, total=   1.6s\n",
      "[CV] max_depth=8, min_data_in_leaf=4, num_leaves=4 ...................\n",
      "[CV]  max_depth=8, min_data_in_leaf=4, num_leaves=4, score=0.787, total=   0.4s\n",
      "[CV] max_depth=8, min_data_in_leaf=4, num_leaves=4 ...................\n",
      "[CV]  max_depth=8, min_data_in_leaf=4, num_leaves=4, score=0.872, total=   0.3s\n",
      "[CV] max_depth=8, min_data_in_leaf=4, num_leaves=4 ...................\n",
      "[CV]  max_depth=8, min_data_in_leaf=4, num_leaves=4, score=0.891, total=   0.4s\n",
      "[CV] max_depth=8, min_data_in_leaf=4, num_leaves=4 ...................\n",
      "[CV]  max_depth=8, min_data_in_leaf=4, num_leaves=4, score=0.870, total=   0.3s\n",
      "[CV] max_depth=8, min_data_in_leaf=4, num_leaves=8 ...................\n",
      "[CV]  max_depth=8, min_data_in_leaf=4, num_leaves=8, score=0.723, total=   0.7s\n",
      "[CV] max_depth=8, min_data_in_leaf=4, num_leaves=8 ...................\n",
      "[CV]  max_depth=8, min_data_in_leaf=4, num_leaves=8, score=0.915, total=   0.7s\n",
      "[CV] max_depth=8, min_data_in_leaf=4, num_leaves=8 ...................\n",
      "[CV]  max_depth=8, min_data_in_leaf=4, num_leaves=8, score=0.957, total=   0.7s\n",
      "[CV] max_depth=8, min_data_in_leaf=4, num_leaves=8 ...................\n",
      "[CV]  max_depth=8, min_data_in_leaf=4, num_leaves=8, score=0.826, total=   0.7s\n",
      "[CV] max_depth=8, min_data_in_leaf=4, num_leaves=16 ..................\n",
      "[CV]  max_depth=8, min_data_in_leaf=4, num_leaves=16, score=0.723, total=   1.1s\n",
      "[CV] max_depth=8, min_data_in_leaf=4, num_leaves=16 ..................\n",
      "[CV]  max_depth=8, min_data_in_leaf=4, num_leaves=16, score=0.915, total=   1.2s\n",
      "[CV] max_depth=8, min_data_in_leaf=4, num_leaves=16 ..................\n",
      "[CV]  max_depth=8, min_data_in_leaf=4, num_leaves=16, score=0.913, total=   1.2s\n",
      "[CV] max_depth=8, min_data_in_leaf=4, num_leaves=16 ..................\n",
      "[CV]  max_depth=8, min_data_in_leaf=4, num_leaves=16, score=0.826, total=   1.1s\n",
      "[CV] max_depth=8, min_data_in_leaf=4, num_leaves=32 ..................\n",
      "[CV]  max_depth=8, min_data_in_leaf=4, num_leaves=32, score=0.723, total=   1.4s\n",
      "[CV] max_depth=8, min_data_in_leaf=4, num_leaves=32 ..................\n",
      "[CV]  max_depth=8, min_data_in_leaf=4, num_leaves=32, score=0.936, total=   1.4s\n",
      "[CV] max_depth=8, min_data_in_leaf=4, num_leaves=32 ..................\n",
      "[CV]  max_depth=8, min_data_in_leaf=4, num_leaves=32, score=0.913, total=   1.4s\n",
      "[CV] max_depth=8, min_data_in_leaf=4, num_leaves=32 ..................\n",
      "[CV]  max_depth=8, min_data_in_leaf=4, num_leaves=32, score=0.826, total=   1.5s\n",
      "[CV] max_depth=8, min_data_in_leaf=4, num_leaves=64 ..................\n",
      "[CV]  max_depth=8, min_data_in_leaf=4, num_leaves=64, score=0.723, total=   1.4s\n",
      "[CV] max_depth=8, min_data_in_leaf=4, num_leaves=64 ..................\n",
      "[CV]  max_depth=8, min_data_in_leaf=4, num_leaves=64, score=0.936, total=   1.4s\n",
      "[CV] max_depth=8, min_data_in_leaf=4, num_leaves=64 ..................\n",
      "[CV]  max_depth=8, min_data_in_leaf=4, num_leaves=64, score=0.913, total=   1.4s\n",
      "[CV] max_depth=8, min_data_in_leaf=4, num_leaves=64 ..................\n",
      "[CV]  max_depth=8, min_data_in_leaf=4, num_leaves=64, score=0.826, total=   1.4s\n",
      "[CV] max_depth=8, min_data_in_leaf=4, num_leaves=128 .................\n",
      "[CV]  max_depth=8, min_data_in_leaf=4, num_leaves=128, score=0.723, total=   1.4s\n",
      "[CV] max_depth=8, min_data_in_leaf=4, num_leaves=128 .................\n",
      "[CV]  max_depth=8, min_data_in_leaf=4, num_leaves=128, score=0.936, total=   2.1s\n",
      "[CV] max_depth=8, min_data_in_leaf=4, num_leaves=128 .................\n",
      "[CV]  max_depth=8, min_data_in_leaf=4, num_leaves=128, score=0.913, total=   2.8s\n",
      "[CV] max_depth=8, min_data_in_leaf=4, num_leaves=128 .................\n",
      "[CV]  max_depth=8, min_data_in_leaf=4, num_leaves=128, score=0.826, total=   2.5s\n",
      "[CV] max_depth=8, min_data_in_leaf=8, num_leaves=4 ...................\n",
      "[CV]  max_depth=8, min_data_in_leaf=8, num_leaves=4, score=0.809, total=   0.6s\n",
      "[CV] max_depth=8, min_data_in_leaf=8, num_leaves=4 ...................\n",
      "[CV]  max_depth=8, min_data_in_leaf=8, num_leaves=4, score=0.872, total=   0.5s\n",
      "[CV] max_depth=8, min_data_in_leaf=8, num_leaves=4 ...................\n",
      "[CV]  max_depth=8, min_data_in_leaf=8, num_leaves=4, score=0.891, total=   0.5s\n",
      "[CV] max_depth=8, min_data_in_leaf=8, num_leaves=4 ...................\n",
      "[CV]  max_depth=8, min_data_in_leaf=8, num_leaves=4, score=0.870, total=   0.5s\n",
      "[CV] max_depth=8, min_data_in_leaf=8, num_leaves=8 ...................\n",
      "[CV]  max_depth=8, min_data_in_leaf=8, num_leaves=8, score=0.809, total=   1.0s\n",
      "[CV] max_depth=8, min_data_in_leaf=8, num_leaves=8 ...................\n",
      "[CV]  max_depth=8, min_data_in_leaf=8, num_leaves=8, score=0.872, total=   1.0s\n",
      "[CV] max_depth=8, min_data_in_leaf=8, num_leaves=8 ...................\n",
      "[CV]  max_depth=8, min_data_in_leaf=8, num_leaves=8, score=0.957, total=   1.1s\n",
      "[CV] max_depth=8, min_data_in_leaf=8, num_leaves=8 ...................\n",
      "[CV]  max_depth=8, min_data_in_leaf=8, num_leaves=8, score=0.870, total=   0.9s\n",
      "[CV] max_depth=8, min_data_in_leaf=8, num_leaves=16 ..................\n",
      "[CV]  max_depth=8, min_data_in_leaf=8, num_leaves=16, score=0.809, total=   1.6s\n",
      "[CV] max_depth=8, min_data_in_leaf=8, num_leaves=16 ..................\n",
      "[CV]  max_depth=8, min_data_in_leaf=8, num_leaves=16, score=0.872, total=   1.5s\n",
      "[CV] max_depth=8, min_data_in_leaf=8, num_leaves=16 ..................\n",
      "[CV]  max_depth=8, min_data_in_leaf=8, num_leaves=16, score=0.935, total=   1.5s\n",
      "[CV] max_depth=8, min_data_in_leaf=8, num_leaves=16 ..................\n",
      "[CV]  max_depth=8, min_data_in_leaf=8, num_leaves=16, score=0.848, total=   2.6s\n",
      "[CV] max_depth=8, min_data_in_leaf=8, num_leaves=32 ..................\n",
      "[CV]  max_depth=8, min_data_in_leaf=8, num_leaves=32, score=0.809, total=   2.1s\n",
      "[CV] max_depth=8, min_data_in_leaf=8, num_leaves=32 ..................\n",
      "[CV]  max_depth=8, min_data_in_leaf=8, num_leaves=32, score=0.872, total=   2.2s\n",
      "[CV] max_depth=8, min_data_in_leaf=8, num_leaves=32 ..................\n",
      "[CV]  max_depth=8, min_data_in_leaf=8, num_leaves=32, score=0.935, total=   2.2s\n",
      "[CV] max_depth=8, min_data_in_leaf=8, num_leaves=32 ..................\n",
      "[CV]  max_depth=8, min_data_in_leaf=8, num_leaves=32, score=0.848, total=   2.2s\n",
      "[CV] max_depth=8, min_data_in_leaf=8, num_leaves=64 ..................\n",
      "[CV]  max_depth=8, min_data_in_leaf=8, num_leaves=64, score=0.809, total=   1.6s\n",
      "[CV] max_depth=8, min_data_in_leaf=8, num_leaves=64 ..................\n",
      "[CV]  max_depth=8, min_data_in_leaf=8, num_leaves=64, score=0.872, total=   1.4s\n",
      "[CV] max_depth=8, min_data_in_leaf=8, num_leaves=64 ..................\n",
      "[CV]  max_depth=8, min_data_in_leaf=8, num_leaves=64, score=0.935, total=   1.4s\n",
      "[CV] max_depth=8, min_data_in_leaf=8, num_leaves=64 ..................\n",
      "[CV]  max_depth=8, min_data_in_leaf=8, num_leaves=64, score=0.848, total=   1.2s\n",
      "[CV] max_depth=8, min_data_in_leaf=8, num_leaves=128 .................\n",
      "[CV]  max_depth=8, min_data_in_leaf=8, num_leaves=128, score=0.809, total=   1.1s\n",
      "[CV] max_depth=8, min_data_in_leaf=8, num_leaves=128 .................\n",
      "[CV]  max_depth=8, min_data_in_leaf=8, num_leaves=128, score=0.872, total=   1.2s\n",
      "[CV] max_depth=8, min_data_in_leaf=8, num_leaves=128 .................\n",
      "[CV]  max_depth=8, min_data_in_leaf=8, num_leaves=128, score=0.935, total=   1.3s\n",
      "[CV] max_depth=8, min_data_in_leaf=8, num_leaves=128 .................\n",
      "[CV]  max_depth=8, min_data_in_leaf=8, num_leaves=128, score=0.848, total=   1.2s\n",
      "[CV] max_depth=8, min_data_in_leaf=16, num_leaves=4 ..................\n",
      "[CV]  max_depth=8, min_data_in_leaf=16, num_leaves=4, score=0.809, total=   0.3s\n",
      "[CV] max_depth=8, min_data_in_leaf=16, num_leaves=4 ..................\n",
      "[CV]  max_depth=8, min_data_in_leaf=16, num_leaves=4, score=0.872, total=   0.4s\n",
      "[CV] max_depth=8, min_data_in_leaf=16, num_leaves=4 ..................\n",
      "[CV]  max_depth=8, min_data_in_leaf=16, num_leaves=4, score=0.891, total=   0.3s\n",
      "[CV] max_depth=8, min_data_in_leaf=16, num_leaves=4 ..................\n",
      "[CV]  max_depth=8, min_data_in_leaf=16, num_leaves=4, score=0.891, total=   0.4s\n",
      "[CV] max_depth=8, min_data_in_leaf=16, num_leaves=8 ..................\n",
      "[CV]  max_depth=8, min_data_in_leaf=16, num_leaves=8, score=0.809, total=   0.6s\n",
      "[CV] max_depth=8, min_data_in_leaf=16, num_leaves=8 ..................\n",
      "[CV]  max_depth=8, min_data_in_leaf=16, num_leaves=8, score=0.894, total=   0.5s\n",
      "[CV] max_depth=8, min_data_in_leaf=16, num_leaves=8 ..................\n",
      "[CV]  max_depth=8, min_data_in_leaf=16, num_leaves=8, score=0.957, total=   0.7s\n",
      "[CV] max_depth=8, min_data_in_leaf=16, num_leaves=8 ..................\n",
      "[CV]  max_depth=8, min_data_in_leaf=16, num_leaves=8, score=0.870, total=   0.6s\n",
      "[CV] max_depth=8, min_data_in_leaf=16, num_leaves=16 .................\n",
      "[CV]  max_depth=8, min_data_in_leaf=16, num_leaves=16, score=0.809, total=   0.8s\n",
      "[CV] max_depth=8, min_data_in_leaf=16, num_leaves=16 .................\n",
      "[CV]  max_depth=8, min_data_in_leaf=16, num_leaves=16, score=0.894, total=   0.5s\n",
      "[CV] max_depth=8, min_data_in_leaf=16, num_leaves=16 .................\n",
      "[CV]  max_depth=8, min_data_in_leaf=16, num_leaves=16, score=0.957, total=   0.6s\n",
      "[CV] max_depth=8, min_data_in_leaf=16, num_leaves=16 .................\n",
      "[CV]  max_depth=8, min_data_in_leaf=16, num_leaves=16, score=0.870, total=   0.5s\n",
      "[CV] max_depth=8, min_data_in_leaf=16, num_leaves=32 .................\n",
      "[CV]  max_depth=8, min_data_in_leaf=16, num_leaves=32, score=0.809, total=   0.5s\n",
      "[CV] max_depth=8, min_data_in_leaf=16, num_leaves=32 .................\n",
      "[CV]  max_depth=8, min_data_in_leaf=16, num_leaves=32, score=0.894, total=   0.5s\n",
      "[CV] max_depth=8, min_data_in_leaf=16, num_leaves=32 .................\n",
      "[CV]  max_depth=8, min_data_in_leaf=16, num_leaves=32, score=0.957, total=   0.4s\n",
      "[CV] max_depth=8, min_data_in_leaf=16, num_leaves=32 .................\n",
      "[CV]  max_depth=8, min_data_in_leaf=16, num_leaves=32, score=0.870, total=   0.5s\n",
      "[CV] max_depth=8, min_data_in_leaf=16, num_leaves=64 .................\n",
      "[CV]  max_depth=8, min_data_in_leaf=16, num_leaves=64, score=0.809, total=   0.5s\n",
      "[CV] max_depth=8, min_data_in_leaf=16, num_leaves=64 .................\n",
      "[CV]  max_depth=8, min_data_in_leaf=16, num_leaves=64, score=0.894, total=   0.5s\n",
      "[CV] max_depth=8, min_data_in_leaf=16, num_leaves=64 .................\n",
      "[CV]  max_depth=8, min_data_in_leaf=16, num_leaves=64, score=0.957, total=   0.5s\n",
      "[CV] max_depth=8, min_data_in_leaf=16, num_leaves=64 .................\n",
      "[CV]  max_depth=8, min_data_in_leaf=16, num_leaves=64, score=0.870, total=   0.5s\n",
      "[CV] max_depth=8, min_data_in_leaf=16, num_leaves=128 ................\n",
      "[CV]  max_depth=8, min_data_in_leaf=16, num_leaves=128, score=0.809, total=   0.5s\n",
      "[CV] max_depth=8, min_data_in_leaf=16, num_leaves=128 ................\n",
      "[CV]  max_depth=8, min_data_in_leaf=16, num_leaves=128, score=0.894, total=   0.8s\n",
      "[CV] max_depth=8, min_data_in_leaf=16, num_leaves=128 ................\n",
      "[CV]  max_depth=8, min_data_in_leaf=16, num_leaves=128, score=0.957, total=   0.7s\n",
      "[CV] max_depth=8, min_data_in_leaf=16, num_leaves=128 ................\n",
      "[CV]  max_depth=8, min_data_in_leaf=16, num_leaves=128, score=0.870, total=   0.7s\n",
      "[CV] max_depth=8, min_data_in_leaf=32, num_leaves=4 ..................\n",
      "[CV]  max_depth=8, min_data_in_leaf=32, num_leaves=4, score=0.809, total=   0.3s\n",
      "[CV] max_depth=8, min_data_in_leaf=32, num_leaves=4 ..................\n",
      "[CV]  max_depth=8, min_data_in_leaf=32, num_leaves=4, score=0.872, total=   0.4s\n",
      "[CV] max_depth=8, min_data_in_leaf=32, num_leaves=4 ..................\n",
      "[CV]  max_depth=8, min_data_in_leaf=32, num_leaves=4, score=0.913, total=   0.3s\n",
      "[CV] max_depth=8, min_data_in_leaf=32, num_leaves=4 ..................\n",
      "[CV]  max_depth=8, min_data_in_leaf=32, num_leaves=4, score=0.848, total=   0.2s\n",
      "[CV] max_depth=8, min_data_in_leaf=32, num_leaves=8 ..................\n",
      "[CV]  max_depth=8, min_data_in_leaf=32, num_leaves=8, score=0.809, total=   0.2s\n",
      "[CV] max_depth=8, min_data_in_leaf=32, num_leaves=8 ..................\n",
      "[CV]  max_depth=8, min_data_in_leaf=32, num_leaves=8, score=0.872, total=   0.2s\n",
      "[CV] max_depth=8, min_data_in_leaf=32, num_leaves=8 ..................\n",
      "[CV]  max_depth=8, min_data_in_leaf=32, num_leaves=8, score=0.913, total=   0.2s\n",
      "[CV] max_depth=8, min_data_in_leaf=32, num_leaves=8 ..................\n",
      "[CV]  max_depth=8, min_data_in_leaf=32, num_leaves=8, score=0.848, total=   0.2s\n",
      "[CV] max_depth=8, min_data_in_leaf=32, num_leaves=16 .................\n",
      "[CV]  max_depth=8, min_data_in_leaf=32, num_leaves=16, score=0.809, total=   0.3s\n",
      "[CV] max_depth=8, min_data_in_leaf=32, num_leaves=16 .................\n",
      "[CV]  max_depth=8, min_data_in_leaf=32, num_leaves=16, score=0.872, total=   0.3s\n",
      "[CV] max_depth=8, min_data_in_leaf=32, num_leaves=16 .................\n",
      "[CV]  max_depth=8, min_data_in_leaf=32, num_leaves=16, score=0.913, total=   0.3s\n",
      "[CV] max_depth=8, min_data_in_leaf=32, num_leaves=16 .................\n",
      "[CV]  max_depth=8, min_data_in_leaf=32, num_leaves=16, score=0.848, total=   0.3s\n",
      "[CV] max_depth=8, min_data_in_leaf=32, num_leaves=32 .................\n",
      "[CV]  max_depth=8, min_data_in_leaf=32, num_leaves=32, score=0.809, total=   0.2s\n",
      "[CV] max_depth=8, min_data_in_leaf=32, num_leaves=32 .................\n",
      "[CV]  max_depth=8, min_data_in_leaf=32, num_leaves=32, score=0.872, total=   0.2s\n",
      "[CV] max_depth=8, min_data_in_leaf=32, num_leaves=32 .................\n",
      "[CV]  max_depth=8, min_data_in_leaf=32, num_leaves=32, score=0.913, total=   0.2s\n",
      "[CV] max_depth=8, min_data_in_leaf=32, num_leaves=32 .................\n",
      "[CV]  max_depth=8, min_data_in_leaf=32, num_leaves=32, score=0.848, total=   0.3s\n",
      "[CV] max_depth=8, min_data_in_leaf=32, num_leaves=64 .................\n",
      "[CV]  max_depth=8, min_data_in_leaf=32, num_leaves=64, score=0.809, total=   0.2s\n",
      "[CV] max_depth=8, min_data_in_leaf=32, num_leaves=64 .................\n",
      "[CV]  max_depth=8, min_data_in_leaf=32, num_leaves=64, score=0.872, total=   0.2s\n",
      "[CV] max_depth=8, min_data_in_leaf=32, num_leaves=64 .................\n",
      "[CV]  max_depth=8, min_data_in_leaf=32, num_leaves=64, score=0.913, total=   0.2s\n",
      "[CV] max_depth=8, min_data_in_leaf=32, num_leaves=64 .................\n",
      "[CV]  max_depth=8, min_data_in_leaf=32, num_leaves=64, score=0.848, total=   0.2s\n",
      "[CV] max_depth=8, min_data_in_leaf=32, num_leaves=128 ................\n",
      "[CV]  max_depth=8, min_data_in_leaf=32, num_leaves=128, score=0.809, total=   0.3s\n",
      "[CV] max_depth=8, min_data_in_leaf=32, num_leaves=128 ................\n",
      "[CV]  max_depth=8, min_data_in_leaf=32, num_leaves=128, score=0.872, total=   0.3s\n",
      "[CV] max_depth=8, min_data_in_leaf=32, num_leaves=128 ................\n",
      "[CV]  max_depth=8, min_data_in_leaf=32, num_leaves=128, score=0.913, total=   0.2s\n",
      "[CV] max_depth=8, min_data_in_leaf=32, num_leaves=128 ................\n",
      "[CV]  max_depth=8, min_data_in_leaf=32, num_leaves=128, score=0.848, total=   0.3s\n"
     ]
    },
    {
     "name": "stderr",
     "output_type": "stream",
     "text": [
      "[Parallel(n_jobs=1)]: Done 360 out of 360 | elapsed:  3.2min finished\n",
      "The default of the `iid` parameter will change from True to False in version 0.22 and will be removed in 0.24. This will change numeric results when test-set sizes are unequal.\n"
     ]
    }
   ],
   "source": [
    "from models import LGBM\n",
    "lgbm_model = LGBM('LGBM', {})\n",
    "best_params = lgbm_model.random_search(4, X_train, y_train)\n",
    "lgbm_model = LGBM('LGBM', best_params)"
   ]
  },
  {
   "cell_type": "code",
   "execution_count": 23,
   "metadata": {},
   "outputs": [],
   "source": [
    "lgbm_model.run_cv(X_train, y_train, 4)"
   ]
  },
  {
   "cell_type": "code",
   "execution_count": 24,
   "metadata": {},
   "outputs": [
    {
     "data": {
      "text/plain": [
       "{'max_depth': 4, 'min_data_in_leaf': 4, 'num_leaves': 8}"
      ]
     },
     "execution_count": 24,
     "metadata": {},
     "output_type": "execute_result"
    }
   ],
   "source": [
    "lgbm_model.params_dict"
   ]
  },
  {
   "cell_type": "markdown",
   "metadata": {},
   "source": [
    "# Linear Models"
   ]
  },
  {
   "cell_type": "code",
   "execution_count": 25,
   "metadata": {},
   "outputs": [
    {
     "name": "stdout",
     "output_type": "stream",
     "text": [
      "logistic\n"
     ]
    },
    {
     "name": "stderr",
     "output_type": "stream",
     "text": [
      "lbfgs failed to converge. Increase the number of iterations.\n",
      "lbfgs failed to converge. Increase the number of iterations.\n",
      "lbfgs failed to converge. Increase the number of iterations.\n",
      "lbfgs failed to converge. Increase the number of iterations.\n",
      "lbfgs failed to converge. Increase the number of iterations.\n",
      "lbfgs failed to converge. Increase the number of iterations.\n",
      "lbfgs failed to converge. Increase the number of iterations.\n",
      "lbfgs failed to converge. Increase the number of iterations.\n",
      "lbfgs failed to converge. Increase the number of iterations.\n",
      "lbfgs failed to converge. Increase the number of iterations.\n",
      "lbfgs failed to converge. Increase the number of iterations.\n",
      "lbfgs failed to converge. Increase the number of iterations.\n",
      "lbfgs failed to converge. Increase the number of iterations.\n",
      "lbfgs failed to converge. Increase the number of iterations.\n",
      "lbfgs failed to converge. Increase the number of iterations.\n",
      "lbfgs failed to converge. Increase the number of iterations.\n",
      "lbfgs failed to converge. Increase the number of iterations.\n",
      "lbfgs failed to converge. Increase the number of iterations.\n",
      "lbfgs failed to converge. Increase the number of iterations.\n",
      "lbfgs failed to converge. Increase the number of iterations.\n",
      "lbfgs failed to converge. Increase the number of iterations.\n",
      "lbfgs failed to converge. Increase the number of iterations.\n",
      "lbfgs failed to converge. Increase the number of iterations.\n",
      "lbfgs failed to converge. Increase the number of iterations.\n",
      "lbfgs failed to converge. Increase the number of iterations.\n",
      "lbfgs failed to converge. Increase the number of iterations.\n",
      "lbfgs failed to converge. Increase the number of iterations.\n",
      "lbfgs failed to converge. Increase the number of iterations.\n",
      "lbfgs failed to converge. Increase the number of iterations.\n",
      "lbfgs failed to converge. Increase the number of iterations.\n",
      "lbfgs failed to converge. Increase the number of iterations.\n",
      "lbfgs failed to converge. Increase the number of iterations.\n",
      "lbfgs failed to converge. Increase the number of iterations.\n",
      "lbfgs failed to converge. Increase the number of iterations.\n",
      "lbfgs failed to converge. Increase the number of iterations.\n",
      "lbfgs failed to converge. Increase the number of iterations.\n",
      "lbfgs failed to converge. Increase the number of iterations.\n",
      "lbfgs failed to converge. Increase the number of iterations.\n",
      "lbfgs failed to converge. Increase the number of iterations.\n",
      "lbfgs failed to converge. Increase the number of iterations.\n",
      "lbfgs failed to converge. Increase the number of iterations.\n",
      "lbfgs failed to converge. Increase the number of iterations.\n",
      "lbfgs failed to converge. Increase the number of iterations.\n",
      "lbfgs failed to converge. Increase the number of iterations.\n",
      "lbfgs failed to converge. Increase the number of iterations.\n",
      "lbfgs failed to converge. Increase the number of iterations.\n",
      "lbfgs failed to converge. Increase the number of iterations.\n",
      "lbfgs failed to converge. Increase the number of iterations.\n",
      "lbfgs failed to converge. Increase the number of iterations.\n",
      "lbfgs failed to converge. Increase the number of iterations.\n",
      "lbfgs failed to converge. Increase the number of iterations.\n",
      "lbfgs failed to converge. Increase the number of iterations.\n",
      "lbfgs failed to converge. Increase the number of iterations.\n",
      "lbfgs failed to converge. Increase the number of iterations.\n",
      "lbfgs failed to converge. Increase the number of iterations.\n",
      "lbfgs failed to converge. Increase the number of iterations.\n",
      "lbfgs failed to converge. Increase the number of iterations.\n",
      "lbfgs failed to converge. Increase the number of iterations.\n",
      "lbfgs failed to converge. Increase the number of iterations.\n",
      "lbfgs failed to converge. Increase the number of iterations.\n",
      "lbfgs failed to converge. Increase the number of iterations.\n",
      "lbfgs failed to converge. Increase the number of iterations.\n",
      "lbfgs failed to converge. Increase the number of iterations.\n",
      "lbfgs failed to converge. Increase the number of iterations.\n",
      "lbfgs failed to converge. Increase the number of iterations.\n",
      "lbfgs failed to converge. Increase the number of iterations.\n",
      "lbfgs failed to converge. Increase the number of iterations.\n",
      "The default of the `iid` parameter will change from True to False in version 0.22 and will be removed in 0.24. This will change numeric results when test-set sizes are unequal.\n",
      "lbfgs failed to converge. Increase the number of iterations.\n"
     ]
    },
    {
     "name": "stdout",
     "output_type": "stream",
     "text": [
      "{'solver': 'lbfgs', 'C': 263.6650898730358}\n"
     ]
    },
    {
     "name": "stderr",
     "output_type": "stream",
     "text": [
      "lbfgs failed to converge. Increase the number of iterations.\n",
      "lbfgs failed to converge. Increase the number of iterations.\n",
      "lbfgs failed to converge. Increase the number of iterations.\n"
     ]
    },
    {
     "name": "stdout",
     "output_type": "stream",
     "text": [
      "lasso\n"
     ]
    },
    {
     "name": "stderr",
     "output_type": "stream",
     "text": [
      "The default of the `iid` parameter will change from True to False in version 0.22 and will be removed in 0.24. This will change numeric results when test-set sizes are unequal.\n"
     ]
    },
    {
     "name": "stdout",
     "output_type": "stream",
     "text": [
      "{'penalty': 'l1', 'solver': 'liblinear', 'C': 10000.0}\n"
     ]
    },
    {
     "data": {
      "image/png": "[encoded data removed]",
      "text/plain": [
       "<Figure size 576x432 with 1 Axes>"
      ]
     },
     "metadata": {
      "needs_background": "light"
     },
     "output_type": "display_data"
    },
    {
     "data": {
      "image/png": "[encoded data removed]",
      "text/plain": [
       "<Figure size 576x432 with 1 Axes>"
      ]
     },
     "metadata": {
      "needs_background": "light"
     },
     "output_type": "display_data"
    }
   ],
   "source": [
    "#model_names = ['logistic', 'ridge', 'lasso', 'svm', 'rbf']\n",
    "#params_grid = [{'solver' : 'lbfgs'}, {'solver' : 'svd'}, {'penalty' : 'l1', 'solver' : 'liblinear'}, {'gamma' : 'auto', 'kernel' : 'linear'}, {'gamma' : 'auto', 'kernel' : 'rbf'}]\n",
    "model_names = ['logistic', 'lasso']\n",
    "params_grid = [{'solver' : 'lbfgs'}, {'penalty' : 'l1', 'solver' : 'liblinear'}]\n",
    "models = []\n",
    "\n",
    "for idx, name in enumerate(model_names):\n",
    "    print(name)\n",
    "    model = LinearModel(name, params_grid[idx])\n",
    "    best_params = model.grid_search(4, norm_X_train, y_train, 0)\n",
    "    best_params = {**params_grid[idx], **best_params}\n",
    "    print(best_params)\n",
    "    model = LinearModel(name, best_params)\n",
    "    model.run_cv(norm_X_train, y_train, 4)\n",
    "    models.append(model)"
   ]
  },
  {
   "cell_type": "markdown",
   "metadata": {},
   "source": [
    "# Test Set Predictions"
   ]
  },
  {
   "cell_type": "code",
   "execution_count": 26,
   "metadata": {},
   "outputs": [],
   "source": [
    "all_models = models + [lgbm_model, rf_model]"
   ]
  },
  {
   "cell_type": "code",
   "execution_count": 27,
   "metadata": {},
   "outputs": [
    {
     "name": "stdout",
     "output_type": "stream",
     "text": [
      "gimus4\n",
      "gimus3\n"
     ]
    },
    {
     "data": {
      "image/png": "[encoded data removed]",
      "text/plain": [
       "<Figure size 576x576 with 1 Axes>"
      ]
     },
     "metadata": {
      "needs_background": "light"
     },
     "output_type": "display_data"
    },
    {
     "name": "stdout",
     "output_type": "stream",
     "text": [
      "Model Name: logistic\n",
      "AUC: 0.9150641025641024\n",
      "AUC COV: 0.0017732273532858815\n",
      "95% AUC CI: [0.8325306  0.99759761]\n",
      "[0.8325306  0.99759761]\n",
      "\n",
      "gimus4\n",
      "gimus3\n"
     ]
    },
    {
     "data": {
      "image/png": "[encoded data removed]",
      "text/plain": [
       "<Figure size 576x576 with 1 Axes>"
      ]
     },
     "metadata": {
      "needs_background": "light"
     },
     "output_type": "display_data"
    },
    {
     "name": "stdout",
     "output_type": "stream",
     "text": [
      "Model Name: lasso\n",
      "AUC: 0.9471153846153846\n",
      "AUC COV: 0.000809348469256496\n",
      "95% AUC CI: [0.89135627 1.        ]\n",
      "[0.89135627 1.        ]\n",
      "\n",
      "gimus4\n"
     ]
    },
    {
     "data": {
      "image/png": "[encoded data removed]",
      "text/plain": [
       "<Figure size 576x576 with 1 Axes>"
      ]
     },
     "metadata": {
      "needs_background": "light"
     },
     "output_type": "display_data"
    },
    {
     "name": "stdout",
     "output_type": "stream",
     "text": [
      "Model Name: LGBM\n",
      "AUC: 0.983974358974359\n",
      "AUC COV: 0.00016597347282966011\n",
      "95% AUC CI: [0.95872401 1.        ]\n",
      "[0.95872401 1.        ]\n",
      "\n",
      "gimus4\n"
     ]
    },
    {
     "data": {
      "image/png": "[encoded data removed]",
      "text/plain": [
       "<Figure size 576x576 with 1 Axes>"
      ]
     },
     "metadata": {
      "needs_background": "light"
     },
     "output_type": "display_data"
    },
    {
     "name": "stdout",
     "output_type": "stream",
     "text": [
      "Model Name: RF\n",
      "AUC: 0.9166666666666667\n",
      "AUC COV: 0.0015508068204556499\n",
      "95% AUC CI: [0.83948273 0.99385061]\n",
      "[0.83948273 0.99385061]\n",
      "\n"
     ]
    }
   ],
   "source": [
    "from operator import attrgetter\n",
    "from models import LinearModel as LM\n",
    "\n",
    "test_fprs = []\n",
    "test_tprs = []\n",
    "test_aucs = []\n",
    "i = 0\n",
    "for model in all_models:\n",
    "    print('gimus4')\n",
    "    if i == 0 or i == 1:\n",
    "        print('gimus3')\n",
    "        y_pred_prob = model.avgd_folds_decision_function(norm_X_test)\n",
    "    else:\n",
    "        y_pred_prob = model.avgd_folds_decision_function(X_test)\n",
    "    fpr, tpr, auc = model.get_prediction_stats(y_test, y_pred_prob)\n",
    "    test_fprs.append(fpr)\n",
    "    test_tprs.append(tpr)\n",
    "    test_aucs.append(auc)\n",
    "    cv_fprs, cv_tprs, cv_auc = attrgetter('fprs', 'tprs', 'auc')(model.cv_storage)\n",
    "    _, _, _, fig = plotting.plot_roc_curve_folds_with_test_roc(cv_fprs, cv_tprs, cv_auc, fpr, tpr, auc, 'Test ROC, {}'.format(model.model_name))\n",
    "    fig.show()\n",
    "    print(\"Model Name: {}\".format(model.model_name))\n",
    "    print(delong.compute_stats(.95, y_pred_prob, y_test))\n",
    "    print()\n",
    "    i += 1"
   ]
  },
  {
   "cell_type": "code",
   "execution_count": 41,
   "metadata": {},
   "outputs": [],
   "source": [
    "cis = {\n",
    "    'logistic': [0.8325306, 0.99759761],\n",
    "    'lasso': [0.89135627, 1.],\n",
    "    'RF': [0.83948273, 0.99385061],\n",
    "    'LGBM': [0.95872401, 1.]\n",
    "}\n",
    "    \n",
    "name_dict = {\n",
    "    \"logistic\": \"Ridge\",\n",
    "    \"lasso\": \"Lasso\",\n",
    "    \"LGBM\": \"LGBM\",\n",
    "    \"RF\": \"RF     \"\n",
    "}"
   ]
  },
  {
   "cell_type": "markdown",
   "metadata": {},
   "source": [
    "# All-in-one ROC Curve"
   ]
  },
  {
   "cell_type": "code",
   "execution_count": 51,
   "metadata": {},
   "outputs": [
    {
     "name": "stdout",
     "output_type": "stream",
     "text": [
      "['logistic', 'lasso', 'LGBM', 'RF']\n"
     ]
    },
    {
     "data": {
      "image/png": "[encoded data removed]",
      "text/plain": [
       "<Figure size 576x576 with 1 Axes>"
      ]
     },
     "metadata": {
      "needs_background": "light"
     },
     "output_type": "display_data"
    }
   ],
   "source": [
    "plt.rc('axes', labelsize=14)    # fontsize of the x and y labels\n",
    "\n",
    "fig = plt.figure(figsize=(8,8))\n",
    "names = model_names + ['LGBM', 'RF']\n",
    "print(names)\n",
    "lw = 2\n",
    "for l in range(len(test_fprs)):\n",
    "    plt.plot(test_fprs[l], test_tprs[l],\n",
    "    lw=lw, label=name_dict[names[l]] + ' (AUC = %0.2f (95%% CI %0.2f - %0.2f))' % (test_aucs[l], cis[names[l]][0], cis[names[l]][1]))\n",
    "plt.plot([0, 1], [0, 1], color='navy', lw=lw, linestyle='--')\n",
    "plt.xlim([0.0, 1.0])\n",
    "plt.ylim([0.0, 1.05])\n",
    "plt.xlabel('1 - Specificity')\n",
    "plt.ylabel('Sensitivity')\n",
    "plt.title('ROC - VTM Subtraction')\n",
    "plt.legend(loc=\"lower right\")\n",
    "plt.show()\n",
    "fig.savefig(\"vtm_subtraction.png\")"
   ]
  },
  {
   "cell_type": "markdown",
   "metadata": {},
   "source": [
    "# Feature Importance - SHAP "
   ]
  },
  {
   "cell_type": "code",
   "execution_count": null,
   "metadata": {},
   "outputs": [],
   "source": [
    "import shap\n",
    "\n",
    "target_models = ['lasso', 'LGBM', 'RF']\n",
    "for i in range(len(all_models)):\n",
    "    if names[i] not in target_models:\n",
    "        continue\n",
    "        \n",
    "    aggregated_shap_values = all_models[i].cv_shap_values(X_test, y_test)\n",
    "    print(aggregated_shap_values.shape)\n",
    "    print(names[i])\n",
    "    if names[i] == 'lasso':\n",
    "        shap.summary_plot(aggregated_shap_values, X_test, feature_names=col_names)\n",
    "    else:\n",
    "        shap.summary_plot(aggregated_shap_values, test.iloc[:, :-2])"
   ]
  }
 ],
 "metadata": {
  "kernelspec": {
   "display_name": "Python 3",
   "language": "python",
   "name": "python3"
  },
  "language_info": {
   "codemirror_mode": {
    "name": "ipython",
    "version": 3
   },
   "file_extension": ".py",
   "mimetype": "text/x-python",
   "name": "python",
   "nbconvert_exporter": "python",
   "pygments_lexer": "ipython3",
   "version": "3.7.6"
  }
 },
 "nbformat": 4,
 "nbformat_minor": 4
}
